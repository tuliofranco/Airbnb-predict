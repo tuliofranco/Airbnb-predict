{
 "cells": [
  {
   "cell_type": "markdown",
   "id": "21fa6a28",
   "metadata": {},
   "source": [
    "# <font color='blue'> Ciclo-1 end to end </font>"
   ]
  },
  {
   "cell_type": "markdown",
   "id": "32d80aab",
   "metadata": {},
   "source": [
    "## 1.0 Data Informations"
   ]
  },
  {
   "cell_type": "markdown",
   "id": "74942135",
   "metadata": {},
   "source": [
    "### 1.1 IMPORTS"
   ]
  },
  {
   "cell_type": "code",
   "execution_count": 1,
   "id": "d4263eb4",
   "metadata": {
    "ExecuteTime": {
     "end_time": "2021-04-13T22:50:20.076864Z",
     "start_time": "2021-04-13T22:50:18.104516Z"
    }
   },
   "outputs": [],
   "source": [
    "import random\n",
    "\n",
    "\n",
    "import numpy            as np\n",
    "import pandas           as pd\n",
    "import matplotlib       as plt\n",
    "\n",
    "\n",
    "\n",
    "\n",
    "from      scikitplot   import              metrics                  as     mt\n",
    "from      sklearn      import              metrics                  as     m\n",
    "from      sklearn      import              preprocessing            as     pp\n",
    "from      keras        import              layers                   as     l\n",
    "from      keras        import              models                   as     ml\n",
    "from      sklearn      import              model_selection          as     ms"
   ]
  },
  {
   "cell_type": "markdown",
   "id": "b68939fe",
   "metadata": {},
   "source": [
    "### 1.2 Helper functions"
   ]
  },
  {
   "cell_type": "markdown",
   "id": "512f788b",
   "metadata": {
    "heading_collapsed": true
   },
   "source": [
    "### 1.3 Loading data"
   ]
  },
  {
   "cell_type": "code",
   "execution_count": 2,
   "id": "766a5caa",
   "metadata": {
    "ExecuteTime": {
     "end_time": "2021-04-13T22:50:20.522828Z",
     "start_time": "2021-04-13T22:50:20.078987Z"
    },
    "hidden": true
   },
   "outputs": [],
   "source": [
    "data_raw    = pd.read_csv('dataset/training_users.csv', low_memory=True)"
   ]
  },
  {
   "cell_type": "markdown",
   "id": "c569a19a",
   "metadata": {
    "heading_collapsed": true
   },
   "source": [
    "## 2.0 Data Description "
   ]
  },
  {
   "cell_type": "code",
   "execution_count": 3,
   "id": "498ac781",
   "metadata": {
    "ExecuteTime": {
     "end_time": "2021-04-13T22:50:20.545440Z",
     "start_time": "2021-04-13T22:50:20.524232Z"
    },
    "hidden": true
   },
   "outputs": [],
   "source": [
    "df1 = data_raw.copy()"
   ]
  },
  {
   "cell_type": "code",
   "execution_count": 4,
   "id": "05a01b4f",
   "metadata": {
    "ExecuteTime": {
     "end_time": "2021-04-13T22:50:20.659371Z",
     "start_time": "2021-04-13T22:50:20.546786Z"
    },
    "hidden": true
   },
   "outputs": [
    {
     "name": "stdout",
     "output_type": "stream",
     "text": [
      "Number of rows: 213451\n",
      "Number of columns: 16\n"
     ]
    }
   ],
   "source": [
    "print( 'Number of rows: {}'.format( df1.shape[0] ) )\n",
    "print( 'Number of columns: {}'.format( df1.shape[1] ) )"
   ]
  },
  {
   "cell_type": "markdown",
   "id": "ef55bfa1",
   "metadata": {
    "hidden": true
   },
   "source": [
    "### 2.1 Data Type"
   ]
  },
  {
   "cell_type": "code",
   "execution_count": 5,
   "id": "4931c789",
   "metadata": {
    "ExecuteTime": {
     "end_time": "2021-04-13T22:50:20.791125Z",
     "start_time": "2021-04-13T22:50:20.663972Z"
    },
    "hidden": true
   },
   "outputs": [
    {
     "data": {
      "text/plain": [
       "id                          object\n",
       "date_account_created        object\n",
       "timestamp_first_active       int64\n",
       "date_first_booking          object\n",
       "gender                      object\n",
       "age                        float64\n",
       "signup_method               object\n",
       "signup_flow                  int64\n",
       "language                    object\n",
       "affiliate_channel           object\n",
       "affiliate_provider          object\n",
       "first_affiliate_tracked     object\n",
       "signup_app                  object\n",
       "first_device_type           object\n",
       "first_browser               object\n",
       "country_destination         object\n",
       "dtype: object"
      ]
     },
     "execution_count": 5,
     "metadata": {},
     "output_type": "execute_result"
    }
   ],
   "source": [
    "df1.dtypes"
   ]
  },
  {
   "cell_type": "markdown",
   "id": "7cfd3aa9",
   "metadata": {
    "hidden": true
   },
   "source": [
    "### 2.2 NA Check"
   ]
  },
  {
   "cell_type": "code",
   "execution_count": 6,
   "id": "59c8a2b2",
   "metadata": {
    "ExecuteTime": {
     "end_time": "2021-04-13T22:50:21.065431Z",
     "start_time": "2021-04-13T22:50:20.797576Z"
    },
    "hidden": true
   },
   "outputs": [
    {
     "data": {
      "text/plain": [
       "id                              0\n",
       "date_account_created            0\n",
       "timestamp_first_active          0\n",
       "date_first_booking         124543\n",
       "gender                          0\n",
       "age                         87990\n",
       "signup_method                   0\n",
       "signup_flow                     0\n",
       "language                        0\n",
       "affiliate_channel               0\n",
       "affiliate_provider              0\n",
       "first_affiliate_tracked      6065\n",
       "signup_app                      0\n",
       "first_device_type               0\n",
       "first_browser                   0\n",
       "country_destination             0\n",
       "dtype: int64"
      ]
     },
     "execution_count": 6,
     "metadata": {},
     "output_type": "execute_result"
    }
   ],
   "source": [
    "df1.isna().sum()"
   ]
  },
  {
   "cell_type": "code",
   "execution_count": 7,
   "id": "78f36692",
   "metadata": {
    "ExecuteTime": {
     "end_time": "2021-04-13T22:50:21.195108Z",
     "start_time": "2021-04-13T22:50:21.069184Z"
    },
    "hidden": true
   },
   "outputs": [],
   "source": [
    "df1 = df1.dropna()"
   ]
  },
  {
   "cell_type": "markdown",
   "id": "822ec918",
   "metadata": {
    "hidden": true
   },
   "source": [
    "### 2.3 Change data types"
   ]
  },
  {
   "cell_type": "code",
   "execution_count": 8,
   "id": "7755ac59",
   "metadata": {
    "ExecuteTime": {
     "end_time": "2021-04-13T22:50:21.363312Z",
     "start_time": "2021-04-13T22:50:21.196671Z"
    },
    "hidden": true
   },
   "outputs": [],
   "source": [
    "#date_account_created\n",
    "df1['date_account_created'] = pd.to_datetime( df1['date_account_created'] )\n",
    "\n",
    "#timestamp_first_active\n",
    "df1['timestamp_first_active'] = pd.to_datetime( df1['timestamp_first_active'] )\n",
    "\n",
    "#date_first_booking\n",
    "df1['date_first_booking'] = pd.to_datetime( df1['date_first_booking'] )\n",
    "\n",
    "#age\n",
    "df1['age'] = df1['age'].astype( int )"
   ]
  },
  {
   "cell_type": "markdown",
   "id": "b04dbb81",
   "metadata": {
    "heading_collapsed": true,
    "hidden": true
   },
   "source": [
    "### 2.4 Check balanced data"
   ]
  },
  {
   "cell_type": "code",
   "execution_count": 9,
   "id": "98fdac03",
   "metadata": {
    "ExecuteTime": {
     "end_time": "2021-04-13T22:50:21.430728Z",
     "start_time": "2021-04-13T22:50:21.364763Z"
    },
    "hidden": true
   },
   "outputs": [
    {
     "data": {
      "text/plain": [
       "US       0.708864\n",
       "other    0.110854\n",
       "FR       0.054085\n",
       "IT       0.029763\n",
       "GB       0.025935\n",
       "ES       0.024864\n",
       "CA       0.015696\n",
       "DE       0.012454\n",
       "NL       0.008801\n",
       "AU       0.006366\n",
       "PT       0.002318\n",
       "Name: country_destination, dtype: float64"
      ]
     },
     "execution_count": 9,
     "metadata": {},
     "output_type": "execute_result"
    }
   ],
   "source": [
    "df1['country_destination'].value_counts( normalize=True )"
   ]
  },
  {
   "cell_type": "markdown",
   "id": "2bd7931e",
   "metadata": {
    "heading_collapsed": true
   },
   "source": [
    "## 3.0 Data filtering"
   ]
  },
  {
   "cell_type": "code",
   "execution_count": 10,
   "id": "594ab891",
   "metadata": {
    "ExecuteTime": {
     "end_time": "2021-04-13T22:50:21.548494Z",
     "start_time": "2021-04-13T22:50:21.432687Z"
    },
    "hidden": true
   },
   "outputs": [],
   "source": [
    "df2 = df1.copy()"
   ]
  },
  {
   "cell_type": "markdown",
   "id": "0682ffa6",
   "metadata": {
    "heading_collapsed": true,
    "hidden": true
   },
   "source": [
    "### 3.1 Filtering rows"
   ]
  },
  {
   "cell_type": "markdown",
   "id": "63f3c1e5",
   "metadata": {
    "hidden": true
   },
   "source": [
    "### 3.2 Columns selection"
   ]
  },
  {
   "cell_type": "markdown",
   "id": "387c60c0",
   "metadata": {
    "heading_collapsed": true
   },
   "source": [
    "## 4.0 Data Preparation "
   ]
  },
  {
   "cell_type": "code",
   "execution_count": 11,
   "id": "99376def",
   "metadata": {
    "ExecuteTime": {
     "end_time": "2021-04-13T22:50:21.660974Z",
     "start_time": "2021-04-13T22:50:21.553257Z"
    },
    "hidden": true
   },
   "outputs": [],
   "source": [
    "df3 = df2.copy()"
   ]
  },
  {
   "cell_type": "code",
   "execution_count": 12,
   "id": "4d47f231",
   "metadata": {
    "ExecuteTime": {
     "end_time": "2021-04-13T22:50:21.860672Z",
     "start_time": "2021-04-13T22:50:21.666461Z"
    },
    "hidden": true
   },
   "outputs": [],
   "source": [
    "#dummy variable\n",
    "df3_dummy =   pd.get_dummies( df3.drop ( ['id','country_destination'] , axis=1 ) ) \n",
    "\n",
    "#join id and country destination\n",
    "df3 = pd.concat( [df3 [['id','country_destination']] ,df3_dummy], axis=1 )"
   ]
  },
  {
   "cell_type": "markdown",
   "id": "d4726c82",
   "metadata": {
    "heading_collapsed": true
   },
   "source": [
    "## 5.0 Feature Selection"
   ]
  },
  {
   "cell_type": "code",
   "execution_count": 13,
   "id": "96f041e3",
   "metadata": {
    "ExecuteTime": {
     "end_time": "2021-04-13T22:50:21.889890Z",
     "start_time": "2021-04-13T22:50:21.862046Z"
    },
    "hidden": true
   },
   "outputs": [],
   "source": [
    "cols_drop = ['date_account_created','timestamp_first_active','date_first_booking']\n",
    "df4 = df3.drop( cols_drop, axis=1 )"
   ]
  },
  {
   "cell_type": "code",
   "execution_count": 14,
   "id": "47b76144",
   "metadata": {
    "ExecuteTime": {
     "end_time": "2021-04-13T22:50:22.032775Z",
     "start_time": "2021-04-13T22:50:21.891287Z"
    },
    "hidden": true
   },
   "outputs": [],
   "source": [
    "X = df4.drop( 'country_destination', axis=1 )\n",
    "y = df4['country_destination'].copy()"
   ]
  },
  {
   "cell_type": "code",
   "execution_count": 15,
   "id": "90e3b2b6",
   "metadata": {
    "ExecuteTime": {
     "end_time": "2021-04-13T22:50:22.222202Z",
     "start_time": "2021-04-13T22:50:22.037332Z"
    },
    "hidden": true
   },
   "outputs": [],
   "source": [
    "# split dataset into training and test\n",
    "X_train, X_test,y_train, y_test =  ms.train_test_split( X , y, test_size=0.2, random_state=32 )"
   ]
  },
  {
   "cell_type": "markdown",
   "id": "b8e0a658",
   "metadata": {},
   "source": [
    "## 6.0 Machine Learning Model"
   ]
  },
  {
   "cell_type": "code",
   "execution_count": 16,
   "id": "fab78d9c",
   "metadata": {
    "ExecuteTime": {
     "end_time": "2021-04-13T22:50:22.297532Z",
     "start_time": "2021-04-13T22:50:22.223573Z"
    }
   },
   "outputs": [],
   "source": [
    "x_train = X_train.drop('id', axis=1)\n",
    "x_test = X_test.drop('id', axis=1)"
   ]
  },
  {
   "cell_type": "markdown",
   "id": "c6a8ffb7",
   "metadata": {},
   "source": [
    "### 6.1 Baseline Model"
   ]
  },
  {
   "cell_type": "code",
   "execution_count": 17,
   "id": "a4d3d748",
   "metadata": {
    "ExecuteTime": {
     "end_time": "2021-04-13T22:50:22.453019Z",
     "start_time": "2021-04-13T22:50:22.302128Z"
    }
   },
   "outputs": [
    {
     "data": {
      "text/plain": [
       "13635"
      ]
     },
     "execution_count": 17,
     "metadata": {},
     "output_type": "execute_result"
    }
   ],
   "source": [
    "country_destination_list = df1['country_destination'].drop_duplicates().sort_values().tolist()\n",
    "k_num = y_test.shape[0]\n",
    "country_destination_weights = df1['country_destination'].value_counts(normalize=True).sort_index().tolist()\n",
    "#Model\n",
    "y_hat_random = random.choices( population=country_destination_list,\n",
    "                              weights = country_destination_weights,\n",
    "                              k=k_num)\n",
    "len(y_hat_random)"
   ]
  },
  {
   "cell_type": "code",
   "execution_count": 18,
   "id": "184caad0",
   "metadata": {
    "ExecuteTime": {
     "end_time": "2021-04-13T22:50:23.567984Z",
     "start_time": "2021-04-13T22:50:22.456928Z"
    }
   },
   "outputs": [
    {
     "name": "stdout",
     "output_type": "stream",
     "text": [
      "Accuracy :0.5204253758709204\n",
      "Balanced accuracy : 0.09282595140143729\n",
      "kappa score : 0.0020007162685130586\n",
      "              precision    recall  f1-score   support\n",
      "\n",
      "          AU       0.00      0.00      0.00       101\n",
      "          CA       0.02      0.02      0.02       214\n",
      "          DE       0.02      0.02      0.02       170\n",
      "          ES       0.03      0.03      0.03       345\n",
      "          FR       0.05      0.05      0.05       710\n",
      "          GB       0.04      0.03      0.04       344\n",
      "          IT       0.03      0.03      0.03       423\n",
      "          NL       0.01      0.01      0.01       128\n",
      "          PT       0.00      0.00      0.00        36\n",
      "          US       0.71      0.71      0.71      9624\n",
      "       other       0.11      0.12      0.12      1540\n",
      "\n",
      "    accuracy                           0.52     13635\n",
      "   macro avg       0.09      0.09      0.09     13635\n",
      "weighted avg       0.52      0.52      0.52     13635\n",
      "\n"
     ]
    },
    {
     "data": {
      "text/plain": [
       "<AxesSubplot:title={'center':'Confusion Matrix'}, xlabel='Predicted label', ylabel='True label'>"
      ]
     },
     "execution_count": 18,
     "metadata": {},
     "output_type": "execute_result"
    },
    {
     "data": {
      "image/png": "[encoded data removed]",
      "text/plain": [
       "<Figure size 864x864 with 2 Axes>"
      ]
     },
     "metadata": {
      "needs_background": "light"
     },
     "output_type": "display_data"
    }
   ],
   "source": [
    "acc_random = m.accuracy_score( y_test, y_hat_random )\n",
    "print('Accuracy :{}'.format(acc_random ) )\n",
    "\n",
    "# Balanced accuracy\n",
    "balanced_accuracy_random = m.balanced_accuracy_score(y_test, y_hat_random)\n",
    "print('Balanced accuracy : {}'.format( balanced_accuracy_random ))\n",
    "\n",
    "\n",
    "# Kappa Metrics\n",
    "kappa_random = m.cohen_kappa_score(y_test, y_hat_random)\n",
    "print('kappa score : {}'.format( kappa_random ))\n",
    "\n",
    "# classification report\n",
    "print(m.classification_report( y_test, y_hat_random ))\n",
    "\n",
    "#Confusion Matrix \n",
    "mt.plot_confusion_matrix( y_test, y_hat_random, normalize=False , figsize=(12,12) )\n"
   ]
  },
  {
   "cell_type": "markdown",
   "id": "e0c58483",
   "metadata": {},
   "source": [
    "### 6.1 Neural Network -MLP"
   ]
  },
  {
   "cell_type": "code",
   "execution_count": 19,
   "id": "a03f1546",
   "metadata": {
    "ExecuteTime": {
     "end_time": "2021-04-13T22:50:23.605755Z",
     "start_time": "2021-04-13T22:50:23.570261Z"
    }
   },
   "outputs": [],
   "source": [
    "ohe = pp.OneHotEncoder()\n",
    "y_train_nn = ohe.fit_transform(y_train.values.reshape(-1,1)).toarray()"
   ]
  },
  {
   "cell_type": "code",
   "execution_count": 20,
   "id": "0f439281",
   "metadata": {
    "ExecuteTime": {
     "end_time": "2021-04-13T22:52:32.044170Z",
     "start_time": "2021-04-13T22:50:23.608559Z"
    },
    "scrolled": true
   },
   "outputs": [
    {
     "name": "stdout",
     "output_type": "stream",
     "text": [
      "Epoch 1/100\n",
      "1705/1705 [==============================] - 2s 707us/step - loss: 1.3590 - accuracy: 0.7054\n",
      "Epoch 2/100\n",
      "1705/1705 [==============================] - 1s 782us/step - loss: 1.2270 - accuracy: 0.7086\n",
      "Epoch 3/100\n",
      "1705/1705 [==============================] - 1s 672us/step - loss: 1.2130 - accuracy: 0.7108\n",
      "Epoch 4/100\n",
      "1705/1705 [==============================] - 1s 665us/step - loss: 1.1823 - accuracy: 0.7146\n",
      "Epoch 5/100\n",
      "1705/1705 [==============================] - 1s 769us/step - loss: 1.1875 - accuracy: 0.7073\n",
      "Epoch 6/100\n",
      "1705/1705 [==============================] - 1s 686us/step - loss: 1.1822 - accuracy: 0.7075\n",
      "Epoch 7/100\n",
      "1705/1705 [==============================] - 1s 704us/step - loss: 1.1639 - accuracy: 0.7082\n",
      "Epoch 8/100\n",
      "1705/1705 [==============================] - 1s 794us/step - loss: 1.1564 - accuracy: 0.7101\n",
      "Epoch 9/100\n",
      "1705/1705 [==============================] - 2s 905us/step - loss: 1.1463 - accuracy: 0.7083\n",
      "Epoch 10/100\n",
      "1705/1705 [==============================] - 1s 786us/step - loss: 1.1422 - accuracy: 0.7073\n",
      "Epoch 11/100\n",
      "1705/1705 [==============================] - 1s 817us/step - loss: 1.1410 - accuracy: 0.7083\n",
      "Epoch 12/100\n",
      "1705/1705 [==============================] - 1s 748us/step - loss: 1.1261 - accuracy: 0.7108\n",
      "Epoch 13/100\n",
      "1705/1705 [==============================] - 1s 751us/step - loss: 1.1279 - accuracy: 0.7116\n",
      "Epoch 14/100\n",
      "1705/1705 [==============================] - 1s 746us/step - loss: 1.1228 - accuracy: 0.7113\n",
      "Epoch 15/100\n",
      "1705/1705 [==============================] - 1s 767us/step - loss: 1.1278 - accuracy: 0.7097\n",
      "Epoch 16/100\n",
      "1705/1705 [==============================] - 1s 746us/step - loss: 1.1285 - accuracy: 0.7100\n",
      "Epoch 17/100\n",
      "1705/1705 [==============================] - 1s 756us/step - loss: 1.1257 - accuracy: 0.7099\n",
      "Epoch 18/100\n",
      "1705/1705 [==============================] - 1s 739us/step - loss: 1.1243 - accuracy: 0.7092\n",
      "Epoch 19/100\n",
      "1705/1705 [==============================] - 1s 764us/step - loss: 1.1232 - accuracy: 0.7100\n",
      "Epoch 20/100\n",
      "1705/1705 [==============================] - 1s 755us/step - loss: 1.1274 - accuracy: 0.7096\n",
      "Epoch 21/100\n",
      "1705/1705 [==============================] - 1s 742us/step - loss: 1.1225 - accuracy: 0.7102\n",
      "Epoch 22/100\n",
      "1705/1705 [==============================] - 1s 751us/step - loss: 1.1235 - accuracy: 0.7102\n",
      "Epoch 23/100\n",
      "1705/1705 [==============================] - 1s 747us/step - loss: 1.1180 - accuracy: 0.7104\n",
      "Epoch 24/100\n",
      "1705/1705 [==============================] - 1s 772us/step - loss: 1.1221 - accuracy: 0.7096\n",
      "Epoch 25/100\n",
      "1705/1705 [==============================] - 1s 750us/step - loss: 1.1220 - accuracy: 0.7088\n",
      "Epoch 26/100\n",
      "1705/1705 [==============================] - 1s 751us/step - loss: 1.1276 - accuracy: 0.7077\n",
      "Epoch 27/100\n",
      "1705/1705 [==============================] - 1s 748us/step - loss: 1.1185 - accuracy: 0.7085\n",
      "Epoch 28/100\n",
      "1705/1705 [==============================] - 1s 746us/step - loss: 1.1125 - accuracy: 0.7118\n",
      "Epoch 29/100\n",
      "1705/1705 [==============================] - 1s 767us/step - loss: 1.1187 - accuracy: 0.7099\n",
      "Epoch 30/100\n",
      "1705/1705 [==============================] - 1s 756us/step - loss: 1.1219 - accuracy: 0.7079\n",
      "Epoch 31/100\n",
      "1705/1705 [==============================] - 1s 744us/step - loss: 1.1169 - accuracy: 0.7090\n",
      "Epoch 32/100\n",
      "1705/1705 [==============================] - 1s 751us/step - loss: 1.1219 - accuracy: 0.7085\n",
      "Epoch 33/100\n",
      "1705/1705 [==============================] - 1s 765us/step - loss: 1.1221 - accuracy: 0.7064\n",
      "Epoch 34/100\n",
      "1705/1705 [==============================] - 1s 757us/step - loss: 1.1144 - accuracy: 0.7092\n",
      "Epoch 35/100\n",
      "1705/1705 [==============================] - 1s 748us/step - loss: 1.1142 - accuracy: 0.7100\n",
      "Epoch 36/100\n",
      "1705/1705 [==============================] - 1s 751us/step - loss: 1.1148 - accuracy: 0.7098\n",
      "Epoch 37/100\n",
      "1705/1705 [==============================] - 1s 753us/step - loss: 1.1053 - accuracy: 0.7116\n",
      "Epoch 38/100\n",
      "1705/1705 [==============================] - 1s 764us/step - loss: 1.1118 - accuracy: 0.7085\n",
      "Epoch 39/100\n",
      "1705/1705 [==============================] - 1s 744us/step - loss: 1.1111 - accuracy: 0.7099\n",
      "Epoch 40/100\n",
      "1705/1705 [==============================] - 1s 754us/step - loss: 1.1126 - accuracy: 0.7085\n",
      "Epoch 41/100\n",
      "1705/1705 [==============================] - 1s 748us/step - loss: 1.1249 - accuracy: 0.7056\n",
      "Epoch 42/100\n",
      "1705/1705 [==============================] - 1s 778us/step - loss: 1.1071 - accuracy: 0.7112\n",
      "Epoch 43/100\n",
      "1705/1705 [==============================] - 1s 759us/step - loss: 1.1112 - accuracy: 0.7120\n",
      "Epoch 44/100\n",
      "1705/1705 [==============================] - 1s 753us/step - loss: 1.1033 - accuracy: 0.7124\n",
      "Epoch 45/100\n",
      "1705/1705 [==============================] - 1s 750us/step - loss: 1.1086 - accuracy: 0.7118\n",
      "Epoch 46/100\n",
      "1705/1705 [==============================] - 1s 743us/step - loss: 1.1017 - accuracy: 0.7117\n",
      "Epoch 47/100\n",
      "1705/1705 [==============================] - 1s 786us/step - loss: 1.1181 - accuracy: 0.7062\n",
      "Epoch 48/100\n",
      "1705/1705 [==============================] - 1s 748us/step - loss: 1.1031 - accuracy: 0.7115\n",
      "Epoch 49/100\n",
      "1705/1705 [==============================] - 1s 750us/step - loss: 1.1048 - accuracy: 0.7107\n",
      "Epoch 50/100\n",
      "1705/1705 [==============================] - 1s 744us/step - loss: 1.1104 - accuracy: 0.7108\n",
      "Epoch 51/100\n",
      "1705/1705 [==============================] - 1s 757us/step - loss: 1.0989 - accuracy: 0.7131\n",
      "Epoch 52/100\n",
      "1705/1705 [==============================] - 1s 760us/step - loss: 1.1056 - accuracy: 0.7104\n",
      "Epoch 53/100\n",
      "1705/1705 [==============================] - 1s 749us/step - loss: 1.0962 - accuracy: 0.7145\n",
      "Epoch 54/100\n",
      "1705/1705 [==============================] - 1s 744us/step - loss: 1.1106 - accuracy: 0.7091\n",
      "Epoch 55/100\n",
      "1705/1705 [==============================] - 1s 749us/step - loss: 1.1106 - accuracy: 0.7088\n",
      "Epoch 56/100\n",
      "1705/1705 [==============================] - 1s 763us/step - loss: 1.0982 - accuracy: 0.7119\n",
      "Epoch 57/100\n",
      "1705/1705 [==============================] - 1s 758us/step - loss: 1.1152 - accuracy: 0.7063\n",
      "Epoch 58/100\n",
      "1705/1705 [==============================] - 1s 752us/step - loss: 1.1004 - accuracy: 0.7145\n",
      "Epoch 59/100\n",
      "1705/1705 [==============================] - 1s 752us/step - loss: 1.1033 - accuracy: 0.7086\n",
      "Epoch 60/100\n",
      "1705/1705 [==============================] - 1s 743us/step - loss: 1.0966 - accuracy: 0.7140\n",
      "Epoch 61/100\n",
      "1705/1705 [==============================] - 1s 768us/step - loss: 1.1026 - accuracy: 0.7105\n",
      "Epoch 62/100\n",
      "1705/1705 [==============================] - 1s 757us/step - loss: 1.1076 - accuracy: 0.7101\n",
      "Epoch 63/100\n",
      "1705/1705 [==============================] - 1s 755us/step - loss: 1.1024 - accuracy: 0.7120\n",
      "Epoch 64/100\n",
      "1705/1705 [==============================] - 1s 745us/step - loss: 1.0882 - accuracy: 0.7156\n",
      "Epoch 65/100\n",
      "1705/1705 [==============================] - 1s 757us/step - loss: 1.1008 - accuracy: 0.7099\n",
      "Epoch 66/100\n",
      "1705/1705 [==============================] - 1s 767us/step - loss: 1.0980 - accuracy: 0.7120\n",
      "Epoch 67/100\n",
      "1705/1705 [==============================] - 1s 764us/step - loss: 1.1014 - accuracy: 0.7102\n",
      "Epoch 68/100\n",
      "1705/1705 [==============================] - 1s 753us/step - loss: 1.0993 - accuracy: 0.7119\n",
      "Epoch 69/100\n",
      "1705/1705 [==============================] - 1s 748us/step - loss: 1.0970 - accuracy: 0.7124\n",
      "Epoch 70/100\n",
      "1705/1705 [==============================] - 1s 773us/step - loss: 1.0988 - accuracy: 0.7128\n",
      "Epoch 71/100\n",
      "1705/1705 [==============================] - 1s 754us/step - loss: 1.1000 - accuracy: 0.7108\n",
      "Epoch 72/100\n",
      "1705/1705 [==============================] - 1s 747us/step - loss: 1.0954 - accuracy: 0.7123\n",
      "Epoch 73/100\n",
      "1705/1705 [==============================] - 1s 750us/step - loss: 1.0892 - accuracy: 0.7151\n",
      "Epoch 74/100\n",
      "1705/1705 [==============================] - 1s 750us/step - loss: 1.1024 - accuracy: 0.7106\n",
      "Epoch 75/100\n",
      "1705/1705 [==============================] - 1s 769us/step - loss: 1.0965 - accuracy: 0.7122\n",
      "Epoch 76/100\n",
      "1705/1705 [==============================] - 1s 743us/step - loss: 1.1026 - accuracy: 0.7103\n",
      "Epoch 77/100\n",
      "1705/1705 [==============================] - 1s 754us/step - loss: 1.0956 - accuracy: 0.7129\n",
      "Epoch 78/100\n"
     ]
    },
    {
     "name": "stdout",
     "output_type": "stream",
     "text": [
      "1705/1705 [==============================] - 1s 718us/step - loss: 1.1044 - accuracy: 0.7108\n",
      "Epoch 79/100\n",
      "1705/1705 [==============================] - 1s 731us/step - loss: 1.1039 - accuracy: 0.7096\n",
      "Epoch 80/100\n",
      "1705/1705 [==============================] - 1s 726us/step - loss: 1.0940 - accuracy: 0.7119\n",
      "Epoch 81/100\n",
      "1705/1705 [==============================] - 1s 715us/step - loss: 1.1027 - accuracy: 0.7108\n",
      "Epoch 82/100\n",
      "1705/1705 [==============================] - 1s 722us/step - loss: 1.1027 - accuracy: 0.7103\n",
      "Epoch 83/100\n",
      "1705/1705 [==============================] - 1s 720us/step - loss: 1.0905 - accuracy: 0.7150\n",
      "Epoch 84/100\n",
      "1705/1705 [==============================] - 1s 743us/step - loss: 1.1000 - accuracy: 0.7109\n",
      "Epoch 85/100\n",
      "1705/1705 [==============================] - 1s 726us/step - loss: 1.0996 - accuracy: 0.7108\n",
      "Epoch 86/100\n",
      "1705/1705 [==============================] - 1s 727us/step - loss: 1.0959 - accuracy: 0.7129\n",
      "Epoch 87/100\n",
      "1705/1705 [==============================] - 1s 724us/step - loss: 1.0989 - accuracy: 0.7104\n",
      "Epoch 88/100\n",
      "1705/1705 [==============================] - 1s 712us/step - loss: 1.0914 - accuracy: 0.7138\n",
      "Epoch 89/100\n",
      "1705/1705 [==============================] - 1s 738us/step - loss: 1.0979 - accuracy: 0.7113\n",
      "Epoch 90/100\n",
      "1705/1705 [==============================] - 1s 724us/step - loss: 1.0991 - accuracy: 0.7106\n",
      "Epoch 91/100\n",
      "1705/1705 [==============================] - 1s 722us/step - loss: 1.0905 - accuracy: 0.7143\n",
      "Epoch 92/100\n",
      "1705/1705 [==============================] - 1s 726us/step - loss: 1.0829 - accuracy: 0.7168\n",
      "Epoch 93/100\n",
      "1705/1705 [==============================] - 1s 716us/step - loss: 1.1047 - accuracy: 0.7085\n",
      "Epoch 94/100\n",
      "1705/1705 [==============================] - 1s 732us/step - loss: 1.0934 - accuracy: 0.7118\n",
      "Epoch 95/100\n",
      "1705/1705 [==============================] - 1s 753us/step - loss: 1.0937 - accuracy: 0.7127\n",
      "Epoch 96/100\n",
      "1705/1705 [==============================] - 1s 748us/step - loss: 1.0910 - accuracy: 0.7141\n",
      "Epoch 97/100\n",
      "1705/1705 [==============================] - 1s 719us/step - loss: 1.0999 - accuracy: 0.7111\n",
      "Epoch 98/100\n",
      "1705/1705 [==============================] - 1s 723us/step - loss: 1.0887 - accuracy: 0.7151\n",
      "Epoch 99/100\n",
      "1705/1705 [==============================] - 1s 741us/step - loss: 1.1001 - accuracy: 0.7106\n",
      "Epoch 100/100\n",
      "1705/1705 [==============================] - 1s 723us/step - loss: 1.0953 - accuracy: 0.7116\n"
     ]
    },
    {
     "data": {
      "text/plain": [
       "<tensorflow.python.keras.callbacks.History at 0x7fb5ff6ef1c0>"
      ]
     },
     "execution_count": 20,
     "metadata": {},
     "output_type": "execute_result"
    }
   ],
   "source": [
    "#model definition\n",
    "model = ml.Sequential()\n",
    "model.add( l.Dense( 128, input_dim= x_train.shape[1], activation='relu' ) )\n",
    "model.add( l.Dense( 11, activation='softmax' ) )\n",
    "\n",
    "#model compile\n",
    "model.compile(loss='categorical_crossentropy', optimizer='adam', metrics=['accuracy'] )\n",
    "\n",
    "#train model\n",
    "model.fit( x_train, y_train_nn, epochs=100 )"
   ]
  },
  {
   "cell_type": "markdown",
   "id": "b375a70f",
   "metadata": {},
   "source": [
    "### 6.1.2 NN Performance"
   ]
  },
  {
   "cell_type": "code",
   "execution_count": 21,
   "id": "d9b9525b",
   "metadata": {
    "ExecuteTime": {
     "end_time": "2021-04-13T22:52:32.341221Z",
     "start_time": "2021-04-13T22:52:32.045344Z"
    }
   },
   "outputs": [],
   "source": [
    "#prediction\n",
    "pred_nn = model.predict( x_test )\n",
    "\n",
    "#invert prediction\n",
    "y_hat_nn = ohe.inverse_transform( pred_nn )\n",
    "\n",
    "#prediction prepare\n",
    "y_test_nn = y_test.to_numpy()\n",
    "y_hat_nn = y_hat_nn.reshape( 1 , -1)[0] "
   ]
  },
  {
   "cell_type": "code",
   "execution_count": 22,
   "id": "3b8799ac",
   "metadata": {
    "ExecuteTime": {
     "end_time": "2021-04-13T22:52:33.394842Z",
     "start_time": "2021-04-13T22:52:32.342457Z"
    },
    "scrolled": false
   },
   "outputs": [
    {
     "name": "stdout",
     "output_type": "stream",
     "text": [
      "Accuracy :0.7031903190319032\n",
      "Balanced accuracy : 0.0915973290415215\n",
      "kappa score : 0.0015937345194440011\n"
     ]
    },
    {
     "name": "stderr",
     "output_type": "stream",
     "text": [
      "/home/tulio/.pyenv/versions/3.8.0/envs/projetosportfolio/lib/python3.8/site-packages/sklearn/metrics/_classification.py:1245: UndefinedMetricWarning: Precision and F-score are ill-defined and being set to 0.0 in labels with no predicted samples. Use `zero_division` parameter to control this behavior.\n",
      "  _warn_prf(average, modifier, msg_start, len(result))\n",
      "/home/tulio/.pyenv/versions/3.8.0/envs/projetosportfolio/lib/python3.8/site-packages/sklearn/metrics/_classification.py:1245: UndefinedMetricWarning: Precision and F-score are ill-defined and being set to 0.0 in labels with no predicted samples. Use `zero_division` parameter to control this behavior.\n",
      "  _warn_prf(average, modifier, msg_start, len(result))\n"
     ]
    },
    {
     "name": "stdout",
     "output_type": "stream",
     "text": [
      "              precision    recall  f1-score   support\n",
      "\n",
      "          AU       0.00      0.00      0.00       101\n",
      "          CA       0.00      0.00      0.00       214\n",
      "          DE       1.00      0.01      0.01       170\n",
      "          ES       0.00      0.00      0.00       345\n",
      "          FR       0.00      0.00      0.00       710\n",
      "          GB       0.00      0.00      0.00       344\n",
      "          IT       0.25      0.00      0.00       423\n",
      "          NL       0.00      0.00      0.00       128\n",
      "          PT       0.00      0.00      0.00        36\n",
      "          US       0.71      1.00      0.83      9624\n",
      "       other       0.17      0.00      0.01      1540\n",
      "\n",
      "    accuracy                           0.70     13635\n",
      "   macro avg       0.19      0.09      0.08     13635\n",
      "weighted avg       0.54      0.70      0.58     13635\n",
      "\n"
     ]
    },
    {
     "name": "stderr",
     "output_type": "stream",
     "text": [
      "/home/tulio/.pyenv/versions/3.8.0/envs/projetosportfolio/lib/python3.8/site-packages/sklearn/metrics/_classification.py:1245: UndefinedMetricWarning: Precision and F-score are ill-defined and being set to 0.0 in labels with no predicted samples. Use `zero_division` parameter to control this behavior.\n",
      "  _warn_prf(average, modifier, msg_start, len(result))\n"
     ]
    },
    {
     "data": {
      "text/plain": [
       "<AxesSubplot:title={'center':'Confusion Matrix'}, xlabel='Predicted label', ylabel='True label'>"
      ]
     },
     "execution_count": 22,
     "metadata": {},
     "output_type": "execute_result"
    },
    {
     "data": {
      "image/png": "[encoded data removed]",
      "text/plain": [
       "<Figure size 864x864 with 2 Axes>"
      ]
     },
     "metadata": {
      "needs_background": "light"
     },
     "output_type": "display_data"
    }
   ],
   "source": [
    "#Accuracy\n",
    "acc_nn = m.accuracy_score( y_test_nn, y_hat_nn )\n",
    "print('Accuracy :{}'.format(acc_nn))\n",
    "\n",
    "# Balanced accuracy\n",
    "balanced_accuracy_nn = m.balanced_accuracy_score(y_test_nn, y_hat_nn)\n",
    "print('Balanced accuracy : {}'.format( balanced_accuracy_nn ))\n",
    "\n",
    "\n",
    "# Kappa Metrics\n",
    "kappa_nn = m.cohen_kappa_score(y_test_nn, y_hat_nn)\n",
    "print('kappa score : {}'.format( kappa_nn ))\n",
    "\n",
    "# classification report\n",
    "print(m.classification_report( y_test_nn, y_hat_nn ))\n",
    "\n",
    "#Confusion Matrix \n",
    "mt.plot_confusion_matrix( y_test_nn, y_hat_nn, normalize=False , figsize=(12,12) )\n"
   ]
  },
  {
   "cell_type": "markdown",
   "id": "64eb78fb",
   "metadata": {},
   "source": [
    "### 6.1.3 NN Performance - Cross Validation"
   ]
  },
  {
   "cell_type": "code",
   "execution_count": 26,
   "id": "606e00d4",
   "metadata": {
    "ExecuteTime": {
     "end_time": "2021-04-13T23:08:42.228608Z",
     "start_time": "2021-04-13T23:01:57.175892Z"
    },
    "code_folding": []
   },
   "outputs": [
    {
     "name": "stdout",
     "output_type": "stream",
     "text": [
      "Fold Number : 1/5\n",
      "Fold Number : 2/5\n",
      "Fold Number : 3/5\n",
      "Fold Number : 4/5\n",
      "Fold Number : 5/5\n"
     ]
    }
   ],
   "source": [
    "# Generate k-fold\n",
    "num_folds = 5 \n",
    "kfold = ms.StratifiedKFold(n_splits=num_folds, shuffle=True ,random_state=32)\n",
    "kfold.split( x_train, y_train )\n",
    "\n",
    "\n",
    "balanced_acc_list = [] \n",
    "kappa_acc_list    = []\n",
    "\n",
    "i = 1\n",
    "for train_ix, val_ix in kfold.split(x_train,y_train):\n",
    "    print('Fold Number : {}/{}'.format( i , num_folds ))\n",
    "    # get fold\n",
    "    x_train_fold  = x_train.iloc[train_ix]\n",
    "    y_train_fold  = y_train.iloc[train_ix]\n",
    "    \n",
    "    x_val_fold    = x_train.iloc[val_ix]\n",
    "    y_val_fold    = y_train.iloc[val_ix]\n",
    "    \n",
    "    # Target Definition\n",
    "    \n",
    "    ohe = pp.OneHotEncoder()\n",
    "    y_train_fold_nn = ohe.fit_transform( y_train_fold.values.reshape( -1,1 ) ).toarray()\n",
    "\n",
    "    \n",
    "    # Model definition\n",
    "    model = ml.Sequential()\n",
    "    model.add( l.Dense( 256, input_dim=x_train.shape[1], activation='relu' ) )\n",
    "    model.add( l.Dense( 11,  activation='softmax') )\n",
    "    \n",
    "    # Compile Model\n",
    "    model.compile( loss='categorical_crossentropy' , optimizer='adam', metrics=['accuracy'])    \n",
    "    \n",
    "    \n",
    "    # Trainig model \n",
    "    model.fit( x_train_fold, y_train_fold_nn, epochs=100, batch_size=32,verbose=0 )\n",
    "    \n",
    "    \n",
    "    # Prediction\n",
    "    pred_nn  = model.predict(x_val_fold)\n",
    "    y_hat_nn = ohe.inverse_transform(pred_nn)\n",
    "    \n",
    "    \n",
    "    #prepare data\n",
    "    y_test_nn  = y_val_fold.to_numpy()\n",
    "    y_hat_nn  = y_hat_nn.reshape( 1 , -1 )[0]\n",
    "    \n",
    "    # Metrics\n",
    "    ## Balanced Accuracy\n",
    "    balanced_acc_nn   =  m.balanced_accuracy_score( y_test_nn, y_hat_nn)\n",
    "    balanced_acc_list.append(balanced_acc_nn) \n",
    "    ## Kappa Metrics\n",
    "    kappa_acc_nn    =  m.cohen_kappa_score( y_test_nn, y_hat_nn)\n",
    "    kappa_acc_list.append( kappa_acc_nn )\n",
    "    \n",
    "    \n",
    "    i+=1"
   ]
  },
  {
   "cell_type": "code",
   "execution_count": 64,
   "id": "558c58bd",
   "metadata": {
    "ExecuteTime": {
     "end_time": "2021-04-13T23:27:06.111151Z",
     "start_time": "2021-04-13T23:27:06.107345Z"
    }
   },
   "outputs": [
    {
     "name": "stdout",
     "output_type": "stream",
     "text": [
      "Avg Balanced accuracy: 0.092  +/- 0.0005\n",
      "Avg Kappa:             0.004  +/- 0.002\n"
     ]
    }
   ],
   "source": [
    "print('Avg Balanced accuracy: {}  +/- {}'.format(np.round( np.mean( balanced_acc_list ),3),\n",
    "                                                 np.round(np.std  ( balanced_acc_list ),4)))\n",
    "print('Avg Kappa:             {}  +/- {}'.format( np.round ( np.mean ( kappa_acc_list ),3 ),\n",
    "                                                  np.round ( np.std  ( kappa_acc_list ),3 ) ))"
   ]
  }
 ],
 "metadata": {
  "kernelspec": {
   "display_name": "Python 3",
   "language": "python",
   "name": "python3"
  },
  "language_info": {
   "codemirror_mode": {
    "name": "ipython",
    "version": 3
   },
   "file_extension": ".py",
   "mimetype": "text/x-python",
   "name": "python",
   "nbconvert_exporter": "python",
   "pygments_lexer": "ipython3",
   "version": "3.8.0"
  }
 },
 "nbformat": 4,
 "nbformat_minor": 5
}
