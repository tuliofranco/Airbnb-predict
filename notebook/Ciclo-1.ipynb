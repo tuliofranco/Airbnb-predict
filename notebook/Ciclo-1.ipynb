{
 "cells": [
  {
   "cell_type": "markdown",
   "id": "21fa6a28",
   "metadata": {},
   "source": [
    "# <font color='blue'> Ciclo-1 end to end </font>"
   ]
  },
  {
   "cell_type": "markdown",
   "id": "32d80aab",
   "metadata": {},
   "source": [
    "## 1.0 Data Informations"
   ]
  },
  {
   "cell_type": "markdown",
   "id": "74942135",
   "metadata": {},
   "source": [
    "### 1.1 IMPORTS"
   ]
  },
  {
   "cell_type": "code",
   "execution_count": 1,
   "id": "d4263eb4",
   "metadata": {
    "ExecuteTime": {
     "end_time": "2021-04-13T13:06:44.148161Z",
     "start_time": "2021-04-13T13:06:42.163960Z"
    }
   },
   "outputs": [],
   "source": [
    "import pandas           as pd\n",
    "import matplotlib       as plt\n",
    "\n",
    "\n",
    "\n",
    "\n",
    "from      scikitplot   import              metrics                  as     mt\n",
    "from      sklearn      import              metrics                  as     m\n",
    "from      sklearn      import              preprocessing            as     pp\n",
    "from      keras        import              layers                   as     l\n",
    "from      keras        import              models                   as     ml\n",
    "from      sklearn      import              model_selection          as     ms"
   ]
  },
  {
   "cell_type": "markdown",
   "id": "b68939fe",
   "metadata": {},
   "source": [
    "### 1.2 Helper functions"
   ]
  },
  {
   "cell_type": "markdown",
   "id": "512f788b",
   "metadata": {},
   "source": [
    "### 1.3 Loading data"
   ]
  },
  {
   "cell_type": "code",
   "execution_count": 2,
   "id": "766a5caa",
   "metadata": {
    "ExecuteTime": {
     "end_time": "2021-04-13T13:06:44.580373Z",
     "start_time": "2021-04-13T13:06:44.149971Z"
    }
   },
   "outputs": [],
   "source": [
    "data_raw    = pd.read_csv('dataset/training_users.csv', low_memory=True)"
   ]
  },
  {
   "cell_type": "markdown",
   "id": "c569a19a",
   "metadata": {},
   "source": [
    "## 2.0 Data Description "
   ]
  },
  {
   "cell_type": "code",
   "execution_count": 3,
   "id": "498ac781",
   "metadata": {
    "ExecuteTime": {
     "end_time": "2021-04-13T13:06:44.608054Z",
     "start_time": "2021-04-13T13:06:44.581997Z"
    }
   },
   "outputs": [],
   "source": [
    "df1 = data_raw.copy()"
   ]
  },
  {
   "cell_type": "code",
   "execution_count": 4,
   "id": "05a01b4f",
   "metadata": {
    "ExecuteTime": {
     "end_time": "2021-04-13T13:06:44.694743Z",
     "start_time": "2021-04-13T13:06:44.609890Z"
    }
   },
   "outputs": [
    {
     "name": "stdout",
     "output_type": "stream",
     "text": [
      "Number of rows: 213451\n",
      "Number of columns: 16\n"
     ]
    }
   ],
   "source": [
    "print( 'Number of rows: {}'.format( df1.shape[0] ) )\n",
    "print( 'Number of columns: {}'.format( df1.shape[1] ) )"
   ]
  },
  {
   "cell_type": "markdown",
   "id": "ef55bfa1",
   "metadata": {},
   "source": [
    "### 2.1 Data Type"
   ]
  },
  {
   "cell_type": "code",
   "execution_count": 5,
   "id": "4931c789",
   "metadata": {
    "ExecuteTime": {
     "end_time": "2021-04-13T13:06:44.832473Z",
     "start_time": "2021-04-13T13:06:44.698948Z"
    }
   },
   "outputs": [
    {
     "data": {
      "text/plain": [
       "id                          object\n",
       "date_account_created        object\n",
       "timestamp_first_active       int64\n",
       "date_first_booking          object\n",
       "gender                      object\n",
       "age                        float64\n",
       "signup_method               object\n",
       "signup_flow                  int64\n",
       "language                    object\n",
       "affiliate_channel           object\n",
       "affiliate_provider          object\n",
       "first_affiliate_tracked     object\n",
       "signup_app                  object\n",
       "first_device_type           object\n",
       "first_browser               object\n",
       "country_destination         object\n",
       "dtype: object"
      ]
     },
     "execution_count": 5,
     "metadata": {},
     "output_type": "execute_result"
    }
   ],
   "source": [
    "df1.dtypes"
   ]
  },
  {
   "cell_type": "markdown",
   "id": "7cfd3aa9",
   "metadata": {},
   "source": [
    "### 2.2 NA Check"
   ]
  },
  {
   "cell_type": "code",
   "execution_count": 6,
   "id": "59c8a2b2",
   "metadata": {
    "ExecuteTime": {
     "end_time": "2021-04-13T13:06:45.076407Z",
     "start_time": "2021-04-13T13:06:44.839570Z"
    }
   },
   "outputs": [
    {
     "data": {
      "text/plain": [
       "id                              0\n",
       "date_account_created            0\n",
       "timestamp_first_active          0\n",
       "date_first_booking         124543\n",
       "gender                          0\n",
       "age                         87990\n",
       "signup_method                   0\n",
       "signup_flow                     0\n",
       "language                        0\n",
       "affiliate_channel               0\n",
       "affiliate_provider              0\n",
       "first_affiliate_tracked      6065\n",
       "signup_app                      0\n",
       "first_device_type               0\n",
       "first_browser                   0\n",
       "country_destination             0\n",
       "dtype: int64"
      ]
     },
     "execution_count": 6,
     "metadata": {},
     "output_type": "execute_result"
    }
   ],
   "source": [
    "df1.isna().sum()"
   ]
  },
  {
   "cell_type": "code",
   "execution_count": 7,
   "id": "78f36692",
   "metadata": {
    "ExecuteTime": {
     "end_time": "2021-04-13T13:06:45.231932Z",
     "start_time": "2021-04-13T13:06:45.079507Z"
    }
   },
   "outputs": [],
   "source": [
    "df1 = df1.dropna()"
   ]
  },
  {
   "cell_type": "markdown",
   "id": "822ec918",
   "metadata": {},
   "source": [
    "### 2.3 Change data types"
   ]
  },
  {
   "cell_type": "code",
   "execution_count": 8,
   "id": "7755ac59",
   "metadata": {
    "ExecuteTime": {
     "end_time": "2021-04-13T13:06:45.400826Z",
     "start_time": "2021-04-13T13:06:45.236443Z"
    }
   },
   "outputs": [],
   "source": [
    "#date_account_created\n",
    "df1['date_account_created'] = pd.to_datetime( df1['date_account_created'] )\n",
    "\n",
    "#timestamp_first_active\n",
    "df1['timestamp_first_active'] = pd.to_datetime( df1['timestamp_first_active'] )\n",
    "\n",
    "#date_first_booking\n",
    "df1['date_first_booking'] = pd.to_datetime( df1['date_first_booking'] )\n",
    "\n",
    "#age\n",
    "df1['age'] = df1['age'].astype( int )"
   ]
  },
  {
   "cell_type": "markdown",
   "id": "b04dbb81",
   "metadata": {
    "heading_collapsed": true
   },
   "source": [
    "### 2.4 Check balanced data"
   ]
  },
  {
   "cell_type": "code",
   "execution_count": 9,
   "id": "98fdac03",
   "metadata": {
    "ExecuteTime": {
     "end_time": "2021-04-13T13:06:45.463357Z",
     "start_time": "2021-04-13T13:06:45.402168Z"
    },
    "hidden": true
   },
   "outputs": [
    {
     "data": {
      "text/plain": [
       "US       0.708864\n",
       "other    0.110854\n",
       "FR       0.054085\n",
       "IT       0.029763\n",
       "GB       0.025935\n",
       "ES       0.024864\n",
       "CA       0.015696\n",
       "DE       0.012454\n",
       "NL       0.008801\n",
       "AU       0.006366\n",
       "PT       0.002318\n",
       "Name: country_destination, dtype: float64"
      ]
     },
     "execution_count": 9,
     "metadata": {},
     "output_type": "execute_result"
    }
   ],
   "source": [
    "df1['country_destination'].value_counts( normalize=True )"
   ]
  },
  {
   "cell_type": "markdown",
   "id": "2bd7931e",
   "metadata": {
    "heading_collapsed": true
   },
   "source": [
    "## 3.0 Data filtering"
   ]
  },
  {
   "cell_type": "code",
   "execution_count": 10,
   "id": "594ab891",
   "metadata": {
    "ExecuteTime": {
     "end_time": "2021-04-13T13:06:45.581288Z",
     "start_time": "2021-04-13T13:06:45.464589Z"
    },
    "hidden": true
   },
   "outputs": [],
   "source": [
    "df2 = df1.copy()"
   ]
  },
  {
   "cell_type": "markdown",
   "id": "0682ffa6",
   "metadata": {
    "heading_collapsed": true,
    "hidden": true
   },
   "source": [
    "### 3.1 Filtering rows"
   ]
  },
  {
   "cell_type": "markdown",
   "id": "63f3c1e5",
   "metadata": {
    "hidden": true
   },
   "source": [
    "### 3.2 Columns selection"
   ]
  },
  {
   "cell_type": "markdown",
   "id": "387c60c0",
   "metadata": {
    "heading_collapsed": true
   },
   "source": [
    "## 4.0 Data Preparation "
   ]
  },
  {
   "cell_type": "code",
   "execution_count": 11,
   "id": "99376def",
   "metadata": {
    "ExecuteTime": {
     "end_time": "2021-04-13T13:06:45.708997Z",
     "start_time": "2021-04-13T13:06:45.583409Z"
    },
    "hidden": true
   },
   "outputs": [],
   "source": [
    "df3 = df2.copy()"
   ]
  },
  {
   "cell_type": "code",
   "execution_count": 12,
   "id": "4d47f231",
   "metadata": {
    "ExecuteTime": {
     "end_time": "2021-04-13T13:06:45.982861Z",
     "start_time": "2021-04-13T13:06:45.714981Z"
    },
    "hidden": true
   },
   "outputs": [],
   "source": [
    "#dummy variable\n",
    "df3_dummy =   pd.get_dummies( df3.drop ( ['id','country_destination'] , axis=1 ) ) \n",
    "\n",
    "#join id and country destination\n",
    "df3 = pd.concat( [df3 [['id','country_destination']] ,df3_dummy], axis=1 )"
   ]
  },
  {
   "cell_type": "markdown",
   "id": "d4726c82",
   "metadata": {
    "heading_collapsed": true
   },
   "source": [
    "## 5.0 Feature Selection"
   ]
  },
  {
   "cell_type": "code",
   "execution_count": 13,
   "id": "96f041e3",
   "metadata": {
    "ExecuteTime": {
     "end_time": "2021-04-13T13:06:46.036381Z",
     "start_time": "2021-04-13T13:06:45.984159Z"
    },
    "hidden": true
   },
   "outputs": [],
   "source": [
    "cols_drop = ['date_account_created','timestamp_first_active','date_first_booking']\n",
    "df4 = df3.drop( cols_drop, axis=1 )"
   ]
  },
  {
   "cell_type": "markdown",
   "id": "b8e0a658",
   "metadata": {
    "heading_collapsed": true
   },
   "source": [
    "## 6.0 Neural Network MLP"
   ]
  },
  {
   "cell_type": "code",
   "execution_count": 14,
   "id": "47b76144",
   "metadata": {
    "ExecuteTime": {
     "end_time": "2021-04-13T13:06:46.160803Z",
     "start_time": "2021-04-13T13:06:46.038770Z"
    },
    "hidden": true
   },
   "outputs": [],
   "source": [
    "X = df4.drop( 'country_destination', axis=1 )\n",
    "y = df4['country_destination'].copy()"
   ]
  },
  {
   "cell_type": "code",
   "execution_count": 15,
   "id": "90e3b2b6",
   "metadata": {
    "ExecuteTime": {
     "end_time": "2021-04-13T13:06:46.312562Z",
     "start_time": "2021-04-13T13:06:46.162761Z"
    },
    "hidden": true
   },
   "outputs": [],
   "source": [
    "X_train, X_test,y_train, y_test =  ms.train_test_split( X , y, test_size=0.2, random_state=32 )"
   ]
  },
  {
   "cell_type": "code",
   "execution_count": 16,
   "id": "fab78d9c",
   "metadata": {
    "ExecuteTime": {
     "end_time": "2021-04-13T13:06:46.390587Z",
     "start_time": "2021-04-13T13:06:46.313990Z"
    },
    "hidden": true
   },
   "outputs": [],
   "source": [
    "x_train = X_train.drop('id', axis=1)\n",
    "x_test = X_test.drop('id', axis=1)"
   ]
  },
  {
   "cell_type": "code",
   "execution_count": 17,
   "id": "a03f1546",
   "metadata": {
    "ExecuteTime": {
     "end_time": "2021-04-13T13:06:46.522256Z",
     "start_time": "2021-04-13T13:06:46.395213Z"
    },
    "hidden": true
   },
   "outputs": [],
   "source": [
    "ohe = pp.OneHotEncoder()\n",
    "y_train_nn = ohe.fit_transform(y_train.values.reshape(-1,1)).toarray()"
   ]
  },
  {
   "cell_type": "code",
   "execution_count": 18,
   "id": "0f439281",
   "metadata": {
    "ExecuteTime": {
     "end_time": "2021-04-13T13:08:44.029328Z",
     "start_time": "2021-04-13T13:06:46.524101Z"
    },
    "hidden": true,
    "scrolled": true
   },
   "outputs": [
    {
     "name": "stdout",
     "output_type": "stream",
     "text": [
      "Epoch 1/100\n",
      "1705/1705 [==============================] - 2s 752us/step - loss: 1.5749 - accuracy: 0.6815\n",
      "Epoch 2/100\n",
      "1705/1705 [==============================] - 1s 718us/step - loss: 1.3109 - accuracy: 0.7064\n",
      "Epoch 3/100\n",
      "1705/1705 [==============================] - 1s 718us/step - loss: 1.2260 - accuracy: 0.7093\n",
      "Epoch 4/100\n",
      "1705/1705 [==============================] - 1s 836us/step - loss: 1.1923 - accuracy: 0.7088\n",
      "Epoch 5/100\n",
      "1705/1705 [==============================] - 1s 749us/step - loss: 1.1980 - accuracy: 0.7095\n",
      "Epoch 6/100\n",
      "1705/1705 [==============================] - 1s 769us/step - loss: 1.1749 - accuracy: 0.7097\n",
      "Epoch 7/100\n",
      "1705/1705 [==============================] - 1s 790us/step - loss: 1.1691 - accuracy: 0.7059\n",
      "Epoch 8/100\n",
      "1705/1705 [==============================] - 1s 754us/step - loss: 1.1487 - accuracy: 0.7096\n",
      "Epoch 9/100\n",
      "1705/1705 [==============================] - 1s 797us/step - loss: 1.1420 - accuracy: 0.7094\n",
      "Epoch 10/100\n",
      "1705/1705 [==============================] - 1s 765us/step - loss: 1.1485 - accuracy: 0.7059\n",
      "Epoch 11/100\n",
      "1705/1705 [==============================] - 1s 672us/step - loss: 1.1355 - accuracy: 0.7082\n",
      "Epoch 12/100\n",
      "1705/1705 [==============================] - 1s 792us/step - loss: 1.1317 - accuracy: 0.7099\n",
      "Epoch 13/100\n",
      "1705/1705 [==============================] - 1s 642us/step - loss: 1.1277 - accuracy: 0.7100\n",
      "Epoch 14/100\n",
      "1705/1705 [==============================] - 1s 684us/step - loss: 1.1404 - accuracy: 0.7061\n",
      "Epoch 15/100\n",
      "1705/1705 [==============================] - 1s 723us/step - loss: 1.1339 - accuracy: 0.7073\n",
      "Epoch 16/100\n",
      "1705/1705 [==============================] - 1s 749us/step - loss: 1.1391 - accuracy: 0.7043\n",
      "Epoch 17/100\n",
      "1705/1705 [==============================] - 1s 683us/step - loss: 1.1266 - accuracy: 0.7105\n",
      "Epoch 18/100\n",
      "1705/1705 [==============================] - 1s 715us/step - loss: 1.1276 - accuracy: 0.7096\n",
      "Epoch 19/100\n",
      "1705/1705 [==============================] - 1s 861us/step - loss: 1.1259 - accuracy: 0.7092\n",
      "Epoch 20/100\n",
      "1705/1705 [==============================] - 1s 657us/step - loss: 1.1287 - accuracy: 0.7081\n",
      "Epoch 21/100\n",
      "1705/1705 [==============================] - 1s 764us/step - loss: 1.1260 - accuracy: 0.7089\n",
      "Epoch 22/100\n",
      "1705/1705 [==============================] - 1s 660us/step - loss: 1.1223 - accuracy: 0.7096\n",
      "Epoch 23/100\n",
      "1705/1705 [==============================] - 1s 696us/step - loss: 1.1237 - accuracy: 0.7099\n",
      "Epoch 24/100\n",
      "1705/1705 [==============================] - 1s 673us/step - loss: 1.1121 - accuracy: 0.7129\n",
      "Epoch 25/100\n",
      "1705/1705 [==============================] - 1s 743us/step - loss: 1.1246 - accuracy: 0.7084\n",
      "Epoch 26/100\n",
      "1705/1705 [==============================] - 1s 768us/step - loss: 1.1255 - accuracy: 0.7085\n",
      "Epoch 27/100\n",
      "1705/1705 [==============================] - 1s 688us/step - loss: 1.1181 - accuracy: 0.7100\n",
      "Epoch 28/100\n",
      "1705/1705 [==============================] - 1s 833us/step - loss: 1.1070 - accuracy: 0.7132\n",
      "Epoch 29/100\n",
      "1705/1705 [==============================] - 1s 671us/step - loss: 1.1141 - accuracy: 0.7102\n",
      "Epoch 30/100\n",
      "1705/1705 [==============================] - 1s 736us/step - loss: 1.1184 - accuracy: 0.7091\n",
      "Epoch 31/100\n",
      "1705/1705 [==============================] - 1s 847us/step - loss: 1.1186 - accuracy: 0.7103\n",
      "Epoch 32/100\n",
      "1705/1705 [==============================] - 1s 802us/step - loss: 1.1174 - accuracy: 0.7103\n",
      "Epoch 33/100\n",
      "1705/1705 [==============================] - 1s 762us/step - loss: 1.1173 - accuracy: 0.7093\n",
      "Epoch 34/100\n",
      "1705/1705 [==============================] - 1s 784us/step - loss: 1.1080 - accuracy: 0.7100\n",
      "Epoch 35/100\n",
      "1705/1705 [==============================] - 1s 797us/step - loss: 1.1113 - accuracy: 0.7111\n",
      "Epoch 36/100\n",
      "1705/1705 [==============================] - 1s 734us/step - loss: 1.1090 - accuracy: 0.7103\n",
      "Epoch 37/100\n",
      "1705/1705 [==============================] - 1s 854us/step - loss: 1.1177 - accuracy: 0.7089\n",
      "Epoch 38/100\n",
      "1705/1705 [==============================] - 1s 713us/step - loss: 1.1111 - accuracy: 0.7093\n",
      "Epoch 39/100\n",
      "1705/1705 [==============================] - 1s 645us/step - loss: 1.1037 - accuracy: 0.7132\n",
      "Epoch 40/100\n",
      "1705/1705 [==============================] - 1s 625us/step - loss: 1.1103 - accuracy: 0.7098\n",
      "Epoch 41/100\n",
      "1705/1705 [==============================] - 1s 631us/step - loss: 1.1139 - accuracy: 0.7092\n",
      "Epoch 42/100\n",
      "1705/1705 [==============================] - 1s 621us/step - loss: 1.1105 - accuracy: 0.7105\n",
      "Epoch 43/100\n",
      "1705/1705 [==============================] - 1s 630us/step - loss: 1.1060 - accuracy: 0.7111\n",
      "Epoch 44/100\n",
      "1705/1705 [==============================] - 1s 615us/step - loss: 1.1115 - accuracy: 0.7104\n",
      "Epoch 45/100\n",
      "1705/1705 [==============================] - 1s 597us/step - loss: 1.1050 - accuracy: 0.7110\n",
      "Epoch 46/100\n",
      "1705/1705 [==============================] - 1s 620us/step - loss: 1.1098 - accuracy: 0.7107\n",
      "Epoch 47/100\n",
      "1705/1705 [==============================] - 1s 615us/step - loss: 1.1092 - accuracy: 0.7095\n",
      "Epoch 48/100\n",
      "1705/1705 [==============================] - 1s 632us/step - loss: 1.1035 - accuracy: 0.7123\n",
      "Epoch 49/100\n",
      "1705/1705 [==============================] - 1s 616us/step - loss: 1.1015 - accuracy: 0.7124\n",
      "Epoch 50/100\n",
      "1705/1705 [==============================] - 1s 567us/step - loss: 1.1029 - accuracy: 0.7110\n",
      "Epoch 51/100\n",
      "1705/1705 [==============================] - 1s 569us/step - loss: 1.1003 - accuracy: 0.7113\n",
      "Epoch 52/100\n",
      "1705/1705 [==============================] - 1s 621us/step - loss: 1.1089 - accuracy: 0.7083\n",
      "Epoch 53/100\n",
      "1705/1705 [==============================] - 1s 628us/step - loss: 1.0949 - accuracy: 0.7146\n",
      "Epoch 54/100\n",
      "1705/1705 [==============================] - 1s 596us/step - loss: 1.0996 - accuracy: 0.7114\n",
      "Epoch 55/100\n",
      "1705/1705 [==============================] - 1s 617us/step - loss: 1.1048 - accuracy: 0.7105\n",
      "Epoch 56/100\n",
      "1705/1705 [==============================] - 1s 618us/step - loss: 1.1135 - accuracy: 0.7066\n",
      "Epoch 57/100\n",
      "1705/1705 [==============================] - 1s 636us/step - loss: 1.1039 - accuracy: 0.7117\n",
      "Epoch 58/100\n",
      "1705/1705 [==============================] - 1s 616us/step - loss: 1.1091 - accuracy: 0.7091\n",
      "Epoch 59/100\n",
      "1705/1705 [==============================] - 1s 627us/step - loss: 1.0904 - accuracy: 0.7153\n",
      "Epoch 60/100\n",
      "1705/1705 [==============================] - 1s 600us/step - loss: 1.1018 - accuracy: 0.7121\n",
      "Epoch 61/100\n",
      "1705/1705 [==============================] - 1s 628us/step - loss: 1.1001 - accuracy: 0.7112\n",
      "Epoch 62/100\n",
      "1705/1705 [==============================] - 1s 618us/step - loss: 1.0894 - accuracy: 0.7155\n",
      "Epoch 63/100\n",
      "1705/1705 [==============================] - 1s 615us/step - loss: 1.0958 - accuracy: 0.7125\n",
      "Epoch 64/100\n",
      "1705/1705 [==============================] - 1s 606us/step - loss: 1.1064 - accuracy: 0.7104\n",
      "Epoch 65/100\n",
      "1705/1705 [==============================] - 1s 600us/step - loss: 1.1035 - accuracy: 0.7102\n",
      "Epoch 66/100\n",
      "1705/1705 [==============================] - 1s 606us/step - loss: 1.0961 - accuracy: 0.7119\n",
      "Epoch 67/100\n",
      "1705/1705 [==============================] - 1s 611us/step - loss: 1.0949 - accuracy: 0.7135\n",
      "Epoch 68/100\n",
      "1705/1705 [==============================] - 1s 629us/step - loss: 1.1009 - accuracy: 0.7114\n",
      "Epoch 69/100\n",
      "1705/1705 [==============================] - 1s 603us/step - loss: 1.0868 - accuracy: 0.7160\n",
      "Epoch 70/100\n",
      "1705/1705 [==============================] - 1s 612us/step - loss: 1.1090 - accuracy: 0.7073\n",
      "Epoch 71/100\n",
      "1705/1705 [==============================] - 1s 618us/step - loss: 1.1066 - accuracy: 0.7091\n",
      "Epoch 72/100\n",
      "1705/1705 [==============================] - 1s 630us/step - loss: 1.0995 - accuracy: 0.7116\n",
      "Epoch 73/100\n",
      "1705/1705 [==============================] - 1s 622us/step - loss: 1.0943 - accuracy: 0.7132\n",
      "Epoch 74/100\n",
      "1705/1705 [==============================] - 1s 598us/step - loss: 1.1016 - accuracy: 0.7096\n",
      "Epoch 75/100\n",
      "1705/1705 [==============================] - 1s 585us/step - loss: 1.0998 - accuracy: 0.7113\n",
      "Epoch 76/100\n",
      "1705/1705 [==============================] - 1s 643us/step - loss: 1.0945 - accuracy: 0.7131\n",
      "Epoch 77/100\n",
      "1705/1705 [==============================] - 1s 621us/step - loss: 1.0887 - accuracy: 0.7145\n",
      "Epoch 78/100\n"
     ]
    },
    {
     "name": "stdout",
     "output_type": "stream",
     "text": [
      "1705/1705 [==============================] - 1s 618us/step - loss: 1.0929 - accuracy: 0.7142\n",
      "Epoch 79/100\n",
      "1705/1705 [==============================] - 1s 603us/step - loss: 1.0987 - accuracy: 0.7114\n",
      "Epoch 80/100\n",
      "1705/1705 [==============================] - 1s 614us/step - loss: 1.0939 - accuracy: 0.7115\n",
      "Epoch 81/100\n",
      "1705/1705 [==============================] - 1s 627us/step - loss: 1.0966 - accuracy: 0.7125\n",
      "Epoch 82/100\n",
      "1705/1705 [==============================] - 1s 623us/step - loss: 1.0998 - accuracy: 0.7106\n",
      "Epoch 83/100\n",
      "1705/1705 [==============================] - 1s 611us/step - loss: 1.0977 - accuracy: 0.7118\n",
      "Epoch 84/100\n",
      "1705/1705 [==============================] - 1s 636us/step - loss: 1.0969 - accuracy: 0.7114\n",
      "Epoch 85/100\n",
      "1705/1705 [==============================] - 1s 624us/step - loss: 1.1052 - accuracy: 0.7091\n",
      "Epoch 86/100\n",
      "1705/1705 [==============================] - 1s 687us/step - loss: 1.1011 - accuracy: 0.7104\n",
      "Epoch 87/100\n",
      "1705/1705 [==============================] - 1s 795us/step - loss: 1.0976 - accuracy: 0.7113\n",
      "Epoch 88/100\n",
      "1705/1705 [==============================] - 1s 730us/step - loss: 1.0902 - accuracy: 0.7132\n",
      "Epoch 89/100\n",
      "1705/1705 [==============================] - 1s 774us/step - loss: 1.0965 - accuracy: 0.7121\n",
      "Epoch 90/100\n",
      "1705/1705 [==============================] - 1s 784us/step - loss: 1.0899 - accuracy: 0.7132\n",
      "Epoch 91/100\n",
      "1705/1705 [==============================] - 1s 803us/step - loss: 1.0927 - accuracy: 0.7114\n",
      "Epoch 92/100\n",
      "1705/1705 [==============================] - 1s 778us/step - loss: 1.0942 - accuracy: 0.7128\n",
      "Epoch 93/100\n",
      "1705/1705 [==============================] - 1s 803us/step - loss: 1.0845 - accuracy: 0.7144\n",
      "Epoch 94/100\n",
      "1705/1705 [==============================] - 1s 779us/step - loss: 1.0866 - accuracy: 0.71600s\n",
      "Epoch 95/100\n",
      "1705/1705 [==============================] - 1s 747us/step - loss: 1.0933 - accuracy: 0.7115\n",
      "Epoch 96/100\n",
      "1705/1705 [==============================] - 1s 638us/step - loss: 1.0974 - accuracy: 0.7111\n",
      "Epoch 97/100\n",
      "1705/1705 [==============================] - 1s 657us/step - loss: 1.0880 - accuracy: 0.7152\n",
      "Epoch 98/100\n",
      "1705/1705 [==============================] - 1s 729us/step - loss: 1.1006 - accuracy: 0.7094\n",
      "Epoch 99/100\n",
      "1705/1705 [==============================] - 1s 752us/step - loss: 1.1039 - accuracy: 0.7079\n",
      "Epoch 100/100\n",
      "1705/1705 [==============================] - 1s 748us/step - loss: 1.0891 - accuracy: 0.7139\n"
     ]
    },
    {
     "data": {
      "text/plain": [
       "<tensorflow.python.keras.callbacks.History at 0x7f7758dd2970>"
      ]
     },
     "execution_count": 18,
     "metadata": {},
     "output_type": "execute_result"
    }
   ],
   "source": [
    "#model definition\n",
    "model = ml.Sequential()\n",
    "model.add( l.Dense( 128, input_dim= x_train.shape[1], activation='relu' ) )\n",
    "model.add( l.Dense( 11, activation='softmax' ) )\n",
    "\n",
    "#model compile\n",
    "model.compile(loss='categorical_crossentropy', optimizer='adam', metrics=['accuracy'] )\n",
    "\n",
    "#train model\n",
    "model.fit( x_train, y_train_nn, epochs=100 )"
   ]
  },
  {
   "cell_type": "markdown",
   "id": "b375a70f",
   "metadata": {},
   "source": [
    "## 7.0 MM Performance"
   ]
  },
  {
   "cell_type": "code",
   "execution_count": 19,
   "id": "d9b9525b",
   "metadata": {
    "ExecuteTime": {
     "end_time": "2021-04-13T13:08:44.290970Z",
     "start_time": "2021-04-13T13:08:44.030598Z"
    }
   },
   "outputs": [],
   "source": [
    "#prediction\n",
    "pred_nn = model.predict( x_test )\n",
    "\n",
    "#invert prediction\n",
    "y_hat_nn = ohe.inverse_transform( pred_nn )\n",
    "\n",
    "#prediction prepare\n",
    "y_test_nn = y_test.to_numpy()\n",
    "y_hat_nn = y_hat_nn.reshape( 1 , -1)[0] "
   ]
  },
  {
   "cell_type": "code",
   "execution_count": 27,
   "id": "3b8799ac",
   "metadata": {
    "ExecuteTime": {
     "end_time": "2021-04-13T13:12:52.686512Z",
     "start_time": "2021-04-13T13:12:51.794768Z"
    }
   },
   "outputs": [
    {
     "name": "stdout",
     "output_type": "stream",
     "text": [
      "Accuracy :0.7018701870187019\n",
      "Balanced accuracy : 0.09184496749470922\n",
      "kappa score : 0.001990157805629389\n",
      "              precision    recall  f1-score   support\n",
      "\n",
      "          AU       0.00      0.00      0.00       101\n",
      "          CA       0.00      0.00      0.00       214\n",
      "          DE       1.00      0.01      0.01       170\n",
      "          ES       0.00      0.00      0.00       345\n",
      "          FR       0.15      0.01      0.01       710\n",
      "          GB       0.00      0.00      0.00       344\n",
      "          IT       0.00      0.00      0.00       423\n",
      "          NL       0.00      0.00      0.00       128\n",
      "          PT       0.00      0.00      0.00        36\n",
      "          US       0.71      0.99      0.83      9624\n",
      "       other       0.20      0.01      0.01      1540\n",
      "\n",
      "    accuracy                           0.70     13635\n",
      "   macro avg       0.19      0.09      0.08     13635\n",
      "weighted avg       0.54      0.70      0.58     13635\n",
      "\n"
     ]
    },
    {
     "data": {
      "text/plain": [
       "<AxesSubplot:title={'center':'Confusion Matrix'}, xlabel='Predicted label', ylabel='True label'>"
      ]
     },
     "execution_count": 27,
     "metadata": {},
     "output_type": "execute_result"
    },
    {
     "data": {
      "image/png": "[encoded data removed]",
      "text/plain": [
       "<Figure size 864x864 with 2 Axes>"
      ]
     },
     "metadata": {
      "needs_background": "light"
     },
     "output_type": "display_data"
    }
   ],
   "source": [
    "#Accuracy\n",
    "acc_nn = m.accuracy_score( y_test_nn, y_hat_nn )\n",
    "print('Accuracy :{}'.format(acc_nn))\n",
    "\n",
    "# Balanced accuracy\n",
    "balanced_accuracy_nn = m.balanced_accuracy_score(y_test_nn, y_hat_nn)\n",
    "print('Balanced accuracy : {}'.format( balanced_accuracy_nn ))\n",
    "\n",
    "\n",
    "# Kappa Metrics\n",
    "kappa_nn = m.cohen_kappa_score(y_test_nn, y_hat_nn)\n",
    "print('kappa score : {}'.format( kappa_nn ))\n",
    "\n",
    "# classification report\n",
    "print(m.classification_report( y_test_nn, y_hat_nn ))\n",
    "\n",
    "#Confusion Matrix \n",
    "mt.plot_confusion_matrix( y_test_nn, y_hat_nn, normalize=False , figsize=(12,12) )\n"
   ]
  }
 ],
 "metadata": {
  "kernelspec": {
   "display_name": "Python 3",
   "language": "python",
   "name": "python3"
  },
  "language_info": {
   "codemirror_mode": {
    "name": "ipython",
    "version": 3
   },
   "file_extension": ".py",
   "mimetype": "text/x-python",
   "name": "python",
   "nbconvert_exporter": "python",
   "pygments_lexer": "ipython3",
   "version": "3.8.0"
  }
 },
 "nbformat": 4,
 "nbformat_minor": 5
}
