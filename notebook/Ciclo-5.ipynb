{
 "cells": [
  {
   "cell_type": "markdown",
   "id": "21fa6a28",
   "metadata": {},
   "source": [
    "# <font color='blue'> Ciclo-1 end to end </font>"
   ]
  },
  {
   "cell_type": "markdown",
   "id": "32d80aab",
   "metadata": {},
   "source": [
    "## 1.0 Data Informations"
   ]
  },
  {
   "cell_type": "markdown",
   "id": "74942135",
   "metadata": {},
   "source": [
    "### 1.1 IMPORTS"
   ]
  },
  {
   "cell_type": "code",
   "execution_count": 1,
   "id": "d4263eb4",
   "metadata": {
    "ExecuteTime": {
     "end_time": "2021-04-20T13:31:51.238405Z",
     "start_time": "2021-04-20T13:31:49.184224Z"
    }
   },
   "outputs": [],
   "source": [
    "import random\n",
    "\n",
    "\n",
    "import numpy            as np\n",
    "import pandas           as pd\n",
    "import matplotlib       as plt\n",
    "import seaborn          as sns \n",
    "\n",
    "\n",
    "from      scipy        import              stats                    as     ss\n",
    "from      scikitplot   import              metrics                  as     mt\n",
    "from      sklearn      import              metrics                  as     m\n",
    "from      sklearn      import              preprocessing            as     pp\n",
    "from      keras        import              layers                   as     l\n",
    "from      keras        import              models                   as     ml\n",
    "from      sklearn      import              model_selection          as     ms"
   ]
  },
  {
   "cell_type": "markdown",
   "id": "b68939fe",
   "metadata": {},
   "source": [
    "### 1.2 Helper functions"
   ]
  },
  {
   "cell_type": "code",
   "execution_count": 2,
   "id": "a2cfa5cf",
   "metadata": {
    "ExecuteTime": {
     "end_time": "2021-04-20T13:31:51.246704Z",
     "start_time": "2021-04-20T13:31:51.240489Z"
    }
   },
   "outputs": [],
   "source": [
    "def cramer_v( x, y ):\n",
    "    cm  = pd.crosstab(x,y).values\n",
    "    n  = cm.sum()\n",
    "    r,k = cm.shape\n",
    "    \n",
    "    chi2      = ss.chi2_contingency(cm)[0]\n",
    "    chi2corr  = max( 0, chi2 -  (k-1)*(r-1)/(n-1) )\n",
    "    \n",
    "    kcorr   =  k  - (k-1)**2/(n-1) \n",
    "    rcorr   =  r  - (r-1)**2/(n-1)\n",
    "    \n",
    "    return np.sqrt( ( chi2corr/n) / (min( kcorr-1 , rcorr-1 ) ) )"
   ]
  },
  {
   "cell_type": "markdown",
   "id": "512f788b",
   "metadata": {},
   "source": [
    "### 1.3 Loading data"
   ]
  },
  {
   "cell_type": "code",
   "execution_count": 3,
   "id": "766a5caa",
   "metadata": {
    "ExecuteTime": {
     "end_time": "2021-04-20T13:31:51.889882Z",
     "start_time": "2021-04-20T13:31:51.248864Z"
    }
   },
   "outputs": [],
   "source": [
    "# Users data\n",
    "data_raw    = pd.read_csv('../dataset/training_users.csv', low_memory=True)"
   ]
  },
  {
   "cell_type": "code",
   "execution_count": 4,
   "id": "4b17bf8d",
   "metadata": {
    "ExecuteTime": {
     "end_time": "2021-04-20T13:31:58.649318Z",
     "start_time": "2021-04-20T13:31:51.891312Z"
    }
   },
   "outputs": [],
   "source": [
    "# Sessions data\n",
    "df_sessions = pd.read_csv('../dataset/sessions.csv',low_memory=True)"
   ]
  },
  {
   "cell_type": "markdown",
   "id": "c569a19a",
   "metadata": {},
   "source": [
    "## 2.0 Data Description "
   ]
  },
  {
   "cell_type": "markdown",
   "id": "e4b0b995",
   "metadata": {},
   "source": [
    "### 2.1 Data Dimentions"
   ]
  },
  {
   "cell_type": "code",
   "execution_count": 5,
   "id": "498ac781",
   "metadata": {
    "ExecuteTime": {
     "end_time": "2021-04-20T13:31:58.676210Z",
     "start_time": "2021-04-20T13:31:58.650739Z"
    }
   },
   "outputs": [],
   "source": [
    "#=================== Data Users ===================#\n",
    "df1 = data_raw.copy()"
   ]
  },
  {
   "cell_type": "code",
   "execution_count": 6,
   "id": "05a01b4f",
   "metadata": {
    "ExecuteTime": {
     "end_time": "2021-04-20T13:31:58.820016Z",
     "start_time": "2021-04-20T13:31:58.678815Z"
    }
   },
   "outputs": [
    {
     "name": "stdout",
     "output_type": "stream",
     "text": [
      "Number of rows: 213451\n",
      "Number of columns: 16\n"
     ]
    }
   ],
   "source": [
    "print( 'Number of rows: {}'.format( df1.shape[0] ) )\n",
    "print( 'Number of columns: {}'.format( df1.shape[1] ) )"
   ]
  },
  {
   "cell_type": "code",
   "execution_count": 7,
   "id": "78a62f27",
   "metadata": {
    "ExecuteTime": {
     "end_time": "2021-04-20T13:31:59.321759Z",
     "start_time": "2021-04-20T13:31:58.823994Z"
    }
   },
   "outputs": [],
   "source": [
    "    #=================== Data Sessions ===================#\n",
    "dfs_1 = df_sessions.copy()"
   ]
  },
  {
   "cell_type": "code",
   "execution_count": 8,
   "id": "ad688375",
   "metadata": {
    "ExecuteTime": {
     "end_time": "2021-04-20T13:31:59.326296Z",
     "start_time": "2021-04-20T13:31:59.322990Z"
    }
   },
   "outputs": [
    {
     "name": "stdout",
     "output_type": "stream",
     "text": [
      "Number of rows: 10567737\n",
      "Number of columns: 6\n"
     ]
    }
   ],
   "source": [
    "print( 'Number of rows: {}'.format( dfs_1.shape[0] ) )\n",
    "print( 'Number of columns: {}'.format( dfs_1.shape[1] ) )"
   ]
  },
  {
   "cell_type": "markdown",
   "id": "ef55bfa1",
   "metadata": {},
   "source": [
    "### 2.2 Data Type"
   ]
  },
  {
   "cell_type": "code",
   "execution_count": 9,
   "id": "4931c789",
   "metadata": {
    "ExecuteTime": {
     "end_time": "2021-04-20T13:31:59.461574Z",
     "start_time": "2021-04-20T13:31:59.327581Z"
    }
   },
   "outputs": [
    {
     "data": {
      "text/plain": [
       "id                          object\n",
       "date_account_created        object\n",
       "timestamp_first_active       int64\n",
       "date_first_booking          object\n",
       "gender                      object\n",
       "age                        float64\n",
       "signup_method               object\n",
       "signup_flow                  int64\n",
       "language                    object\n",
       "affiliate_channel           object\n",
       "affiliate_provider          object\n",
       "first_affiliate_tracked     object\n",
       "signup_app                  object\n",
       "first_device_type           object\n",
       "first_browser               object\n",
       "country_destination         object\n",
       "dtype: object"
      ]
     },
     "execution_count": 9,
     "metadata": {},
     "output_type": "execute_result"
    }
   ],
   "source": [
    "# ================ Data Users================= # \n",
    "df1.dtypes"
   ]
  },
  {
   "cell_type": "code",
   "execution_count": 10,
   "id": "168b5ce1",
   "metadata": {
    "ExecuteTime": {
     "end_time": "2021-04-20T13:31:59.585030Z",
     "start_time": "2021-04-20T13:31:59.466030Z"
    }
   },
   "outputs": [
    {
     "data": {
      "text/plain": [
       "user_id           object\n",
       "action            object\n",
       "action_type       object\n",
       "action_detail     object\n",
       "device_type       object\n",
       "secs_elapsed     float64\n",
       "dtype: object"
      ]
     },
     "execution_count": 10,
     "metadata": {},
     "output_type": "execute_result"
    }
   ],
   "source": [
    "# ================ Data Sessions ================= #\n",
    "dfs_1.dtypes"
   ]
  },
  {
   "cell_type": "markdown",
   "id": "7cfd3aa9",
   "metadata": {},
   "source": [
    "### 2.3 NA Check"
   ]
  },
  {
   "cell_type": "code",
   "execution_count": 11,
   "id": "59c8a2b2",
   "metadata": {
    "ExecuteTime": {
     "end_time": "2021-04-20T13:31:59.822517Z",
     "start_time": "2021-04-20T13:31:59.587359Z"
    }
   },
   "outputs": [
    {
     "data": {
      "text/plain": [
       "id                              0\n",
       "date_account_created            0\n",
       "timestamp_first_active          0\n",
       "date_first_booking         124543\n",
       "gender                          0\n",
       "age                         87990\n",
       "signup_method                   0\n",
       "signup_flow                     0\n",
       "language                        0\n",
       "affiliate_channel               0\n",
       "affiliate_provider              0\n",
       "first_affiliate_tracked      6065\n",
       "signup_app                      0\n",
       "first_device_type               0\n",
       "first_browser                   0\n",
       "country_destination             0\n",
       "dtype: int64"
      ]
     },
     "execution_count": 11,
     "metadata": {},
     "output_type": "execute_result"
    }
   ],
   "source": [
    "        # ================Data Users================= #\n",
    "df1.isna().sum()"
   ]
  },
  {
   "cell_type": "code",
   "execution_count": 12,
   "id": "df983188",
   "metadata": {
    "ExecuteTime": {
     "end_time": "2021-04-20T13:32:01.950366Z",
     "start_time": "2021-04-20T13:31:59.824277Z"
    }
   },
   "outputs": [
    {
     "data": {
      "text/plain": [
       "user_id            34496\n",
       "action             79626\n",
       "action_type      1126204\n",
       "action_detail    1126204\n",
       "device_type            0\n",
       "secs_elapsed      136031\n",
       "dtype: int64"
      ]
     },
     "execution_count": 12,
     "metadata": {},
     "output_type": "execute_result"
    }
   ],
   "source": [
    "# ================Data Sessions ================= #\n",
    "dfs_1.isna().sum()"
   ]
  },
  {
   "cell_type": "code",
   "execution_count": 13,
   "id": "7c1db8a4",
   "metadata": {
    "ExecuteTime": {
     "end_time": "2021-04-20T13:32:01.983664Z",
     "start_time": "2021-04-20T13:32:01.952283Z"
    }
   },
   "outputs": [
    {
     "data": {
      "text/html": [
       "<div>\n",
       "<style scoped>\n",
       "    .dataframe tbody tr th:only-of-type {\n",
       "        vertical-align: middle;\n",
       "    }\n",
       "\n",
       "    .dataframe tbody tr th {\n",
       "        vertical-align: top;\n",
       "    }\n",
       "\n",
       "    .dataframe thead th {\n",
       "        text-align: right;\n",
       "    }\n",
       "</style>\n",
       "<table border=\"1\" class=\"dataframe\">\n",
       "  <thead>\n",
       "    <tr style=\"text-align: right;\">\n",
       "      <th></th>\n",
       "      <th>id</th>\n",
       "      <th>date_account_created</th>\n",
       "      <th>timestamp_first_active</th>\n",
       "      <th>date_first_booking</th>\n",
       "      <th>gender</th>\n",
       "      <th>age</th>\n",
       "      <th>signup_method</th>\n",
       "      <th>signup_flow</th>\n",
       "      <th>language</th>\n",
       "      <th>affiliate_channel</th>\n",
       "      <th>affiliate_provider</th>\n",
       "      <th>first_affiliate_tracked</th>\n",
       "      <th>signup_app</th>\n",
       "      <th>first_device_type</th>\n",
       "      <th>first_browser</th>\n",
       "      <th>country_destination</th>\n",
       "    </tr>\n",
       "  </thead>\n",
       "  <tbody>\n",
       "    <tr>\n",
       "      <th>0</th>\n",
       "      <td>gxn3p5htnn</td>\n",
       "      <td>2010-06-28</td>\n",
       "      <td>20090319043255</td>\n",
       "      <td>NaN</td>\n",
       "      <td>-unknown-</td>\n",
       "      <td>NaN</td>\n",
       "      <td>facebook</td>\n",
       "      <td>0</td>\n",
       "      <td>en</td>\n",
       "      <td>direct</td>\n",
       "      <td>direct</td>\n",
       "      <td>untracked</td>\n",
       "      <td>Web</td>\n",
       "      <td>Mac Desktop</td>\n",
       "      <td>Chrome</td>\n",
       "      <td>NDF</td>\n",
       "    </tr>\n",
       "    <tr>\n",
       "      <th>1</th>\n",
       "      <td>820tgsjxq7</td>\n",
       "      <td>2011-05-25</td>\n",
       "      <td>20090523174809</td>\n",
       "      <td>NaN</td>\n",
       "      <td>MALE</td>\n",
       "      <td>38.0</td>\n",
       "      <td>facebook</td>\n",
       "      <td>0</td>\n",
       "      <td>en</td>\n",
       "      <td>seo</td>\n",
       "      <td>google</td>\n",
       "      <td>untracked</td>\n",
       "      <td>Web</td>\n",
       "      <td>Mac Desktop</td>\n",
       "      <td>Chrome</td>\n",
       "      <td>NDF</td>\n",
       "    </tr>\n",
       "    <tr>\n",
       "      <th>2</th>\n",
       "      <td>4ft3gnwmtx</td>\n",
       "      <td>2010-09-28</td>\n",
       "      <td>20090609231247</td>\n",
       "      <td>2010-08-02</td>\n",
       "      <td>FEMALE</td>\n",
       "      <td>56.0</td>\n",
       "      <td>basic</td>\n",
       "      <td>3</td>\n",
       "      <td>en</td>\n",
       "      <td>direct</td>\n",
       "      <td>direct</td>\n",
       "      <td>untracked</td>\n",
       "      <td>Web</td>\n",
       "      <td>Windows Desktop</td>\n",
       "      <td>IE</td>\n",
       "      <td>US</td>\n",
       "    </tr>\n",
       "    <tr>\n",
       "      <th>3</th>\n",
       "      <td>bjjt8pjhuk</td>\n",
       "      <td>2011-12-05</td>\n",
       "      <td>20091031060129</td>\n",
       "      <td>2012-09-08</td>\n",
       "      <td>FEMALE</td>\n",
       "      <td>42.0</td>\n",
       "      <td>facebook</td>\n",
       "      <td>0</td>\n",
       "      <td>en</td>\n",
       "      <td>direct</td>\n",
       "      <td>direct</td>\n",
       "      <td>untracked</td>\n",
       "      <td>Web</td>\n",
       "      <td>Mac Desktop</td>\n",
       "      <td>Firefox</td>\n",
       "      <td>other</td>\n",
       "    </tr>\n",
       "    <tr>\n",
       "      <th>4</th>\n",
       "      <td>87mebub9p4</td>\n",
       "      <td>2010-09-14</td>\n",
       "      <td>20091208061105</td>\n",
       "      <td>2010-02-18</td>\n",
       "      <td>-unknown-</td>\n",
       "      <td>41.0</td>\n",
       "      <td>basic</td>\n",
       "      <td>0</td>\n",
       "      <td>en</td>\n",
       "      <td>direct</td>\n",
       "      <td>direct</td>\n",
       "      <td>untracked</td>\n",
       "      <td>Web</td>\n",
       "      <td>Mac Desktop</td>\n",
       "      <td>Chrome</td>\n",
       "      <td>US</td>\n",
       "    </tr>\n",
       "  </tbody>\n",
       "</table>\n",
       "</div>"
      ],
      "text/plain": [
       "           id date_account_created  timestamp_first_active date_first_booking  \\\n",
       "0  gxn3p5htnn           2010-06-28          20090319043255                NaN   \n",
       "1  820tgsjxq7           2011-05-25          20090523174809                NaN   \n",
       "2  4ft3gnwmtx           2010-09-28          20090609231247         2010-08-02   \n",
       "3  bjjt8pjhuk           2011-12-05          20091031060129         2012-09-08   \n",
       "4  87mebub9p4           2010-09-14          20091208061105         2010-02-18   \n",
       "\n",
       "      gender   age signup_method  signup_flow language affiliate_channel  \\\n",
       "0  -unknown-   NaN      facebook            0       en            direct   \n",
       "1       MALE  38.0      facebook            0       en               seo   \n",
       "2     FEMALE  56.0         basic            3       en            direct   \n",
       "3     FEMALE  42.0      facebook            0       en            direct   \n",
       "4  -unknown-  41.0         basic            0       en            direct   \n",
       "\n",
       "  affiliate_provider first_affiliate_tracked signup_app first_device_type  \\\n",
       "0             direct               untracked        Web       Mac Desktop   \n",
       "1             google               untracked        Web       Mac Desktop   \n",
       "2             direct               untracked        Web   Windows Desktop   \n",
       "3             direct               untracked        Web       Mac Desktop   \n",
       "4             direct               untracked        Web       Mac Desktop   \n",
       "\n",
       "  first_browser country_destination  \n",
       "0        Chrome                 NDF  \n",
       "1        Chrome                 NDF  \n",
       "2            IE                  US  \n",
       "3       Firefox               other  \n",
       "4        Chrome                  US  "
      ]
     },
     "execution_count": 13,
     "metadata": {},
     "output_type": "execute_result"
    }
   ],
   "source": [
    "df1.head()"
   ]
  },
  {
   "cell_type": "code",
   "execution_count": 14,
   "id": "78f36692",
   "metadata": {
    "ExecuteTime": {
     "end_time": "2021-04-20T13:32:07.301005Z",
     "start_time": "2021-04-20T13:32:01.986521Z"
    }
   },
   "outputs": [],
   "source": [
    "# Fill NA\n",
    "\n",
    "##==================================      Users       ==================================##\n",
    "# remove missing value completly\n",
    "#df1 = df1.dropna()\n",
    "\n",
    "# date_first_booking\n",
    "date_first_booking_max = pd.to_datetime( df1['date_first_booking'] ).max().strftime( '%y-%m-%d' )\n",
    "df1['date_first_booking'] = df1['date_first_booking'].fillna( date_first_booking_max )\n",
    "# age\n",
    "avg_age = df1['age'].mean().astype(int)\n",
    "df1['age'] = df1['age'].fillna(avg_age)\n",
    "\n",
    "# Tratando a Age \n",
    "df1 = df1[(df1['age']<120.0) & (df1['age']>15.0)]\n",
    "\n",
    "# first_affiliate_tracked\n",
    "df1 = df1[~df1['first_affiliate_tracked'].isna()]\n",
    "\n",
    "##==================================      Sessions       ==================================##\n",
    "# user_id\n",
    "dfs_1 = dfs_1[~dfs_1['user_id'].isna()]\n",
    "# action\n",
    "dfs_1 = dfs_1[~dfs_1['action'].isna()]\n",
    "# action_type\n",
    "dfs_1 = dfs_1[~dfs_1['action_type'].isna()]\n",
    "# action_detail\n",
    "dfs_1 = dfs_1[~dfs_1['action_detail'].isna()]\n",
    "\n",
    "# secs_elapsed\n",
    "dfs_1 = dfs_1[~dfs_1['secs_elapsed'].isna()]\n",
    "# Tratando a secs_elapsed\n",
    "dfs_1 = dfs_1[dfs_1['secs_elapsed']>0]"
   ]
  },
  {
   "cell_type": "code",
   "execution_count": 15,
   "id": "0df4feec",
   "metadata": {
    "ExecuteTime": {
     "end_time": "2021-04-20T13:32:07.324892Z",
     "start_time": "2021-04-20T13:32:07.302306Z"
    }
   },
   "outputs": [
    {
     "data": {
      "text/html": [
       "<div>\n",
       "<style scoped>\n",
       "    .dataframe tbody tr th:only-of-type {\n",
       "        vertical-align: middle;\n",
       "    }\n",
       "\n",
       "    .dataframe tbody tr th {\n",
       "        vertical-align: top;\n",
       "    }\n",
       "\n",
       "    .dataframe thead th {\n",
       "        text-align: right;\n",
       "    }\n",
       "</style>\n",
       "<table border=\"1\" class=\"dataframe\">\n",
       "  <thead>\n",
       "    <tr style=\"text-align: right;\">\n",
       "      <th></th>\n",
       "      <th>id</th>\n",
       "      <th>date_account_created</th>\n",
       "      <th>timestamp_first_active</th>\n",
       "      <th>date_first_booking</th>\n",
       "      <th>gender</th>\n",
       "      <th>age</th>\n",
       "      <th>signup_method</th>\n",
       "      <th>signup_flow</th>\n",
       "      <th>language</th>\n",
       "      <th>affiliate_channel</th>\n",
       "      <th>affiliate_provider</th>\n",
       "      <th>first_affiliate_tracked</th>\n",
       "      <th>signup_app</th>\n",
       "      <th>first_device_type</th>\n",
       "      <th>first_browser</th>\n",
       "      <th>country_destination</th>\n",
       "    </tr>\n",
       "  </thead>\n",
       "  <tbody>\n",
       "    <tr>\n",
       "      <th>0</th>\n",
       "      <td>gxn3p5htnn</td>\n",
       "      <td>2010-06-28</td>\n",
       "      <td>20090319043255</td>\n",
       "      <td>15-06-29</td>\n",
       "      <td>-unknown-</td>\n",
       "      <td>49.0</td>\n",
       "      <td>facebook</td>\n",
       "      <td>0</td>\n",
       "      <td>en</td>\n",
       "      <td>direct</td>\n",
       "      <td>direct</td>\n",
       "      <td>untracked</td>\n",
       "      <td>Web</td>\n",
       "      <td>Mac Desktop</td>\n",
       "      <td>Chrome</td>\n",
       "      <td>NDF</td>\n",
       "    </tr>\n",
       "    <tr>\n",
       "      <th>1</th>\n",
       "      <td>820tgsjxq7</td>\n",
       "      <td>2011-05-25</td>\n",
       "      <td>20090523174809</td>\n",
       "      <td>15-06-29</td>\n",
       "      <td>MALE</td>\n",
       "      <td>38.0</td>\n",
       "      <td>facebook</td>\n",
       "      <td>0</td>\n",
       "      <td>en</td>\n",
       "      <td>seo</td>\n",
       "      <td>google</td>\n",
       "      <td>untracked</td>\n",
       "      <td>Web</td>\n",
       "      <td>Mac Desktop</td>\n",
       "      <td>Chrome</td>\n",
       "      <td>NDF</td>\n",
       "    </tr>\n",
       "    <tr>\n",
       "      <th>2</th>\n",
       "      <td>4ft3gnwmtx</td>\n",
       "      <td>2010-09-28</td>\n",
       "      <td>20090609231247</td>\n",
       "      <td>2010-08-02</td>\n",
       "      <td>FEMALE</td>\n",
       "      <td>56.0</td>\n",
       "      <td>basic</td>\n",
       "      <td>3</td>\n",
       "      <td>en</td>\n",
       "      <td>direct</td>\n",
       "      <td>direct</td>\n",
       "      <td>untracked</td>\n",
       "      <td>Web</td>\n",
       "      <td>Windows Desktop</td>\n",
       "      <td>IE</td>\n",
       "      <td>US</td>\n",
       "    </tr>\n",
       "    <tr>\n",
       "      <th>3</th>\n",
       "      <td>bjjt8pjhuk</td>\n",
       "      <td>2011-12-05</td>\n",
       "      <td>20091031060129</td>\n",
       "      <td>2012-09-08</td>\n",
       "      <td>FEMALE</td>\n",
       "      <td>42.0</td>\n",
       "      <td>facebook</td>\n",
       "      <td>0</td>\n",
       "      <td>en</td>\n",
       "      <td>direct</td>\n",
       "      <td>direct</td>\n",
       "      <td>untracked</td>\n",
       "      <td>Web</td>\n",
       "      <td>Mac Desktop</td>\n",
       "      <td>Firefox</td>\n",
       "      <td>other</td>\n",
       "    </tr>\n",
       "    <tr>\n",
       "      <th>4</th>\n",
       "      <td>87mebub9p4</td>\n",
       "      <td>2010-09-14</td>\n",
       "      <td>20091208061105</td>\n",
       "      <td>2010-02-18</td>\n",
       "      <td>-unknown-</td>\n",
       "      <td>41.0</td>\n",
       "      <td>basic</td>\n",
       "      <td>0</td>\n",
       "      <td>en</td>\n",
       "      <td>direct</td>\n",
       "      <td>direct</td>\n",
       "      <td>untracked</td>\n",
       "      <td>Web</td>\n",
       "      <td>Mac Desktop</td>\n",
       "      <td>Chrome</td>\n",
       "      <td>US</td>\n",
       "    </tr>\n",
       "  </tbody>\n",
       "</table>\n",
       "</div>"
      ],
      "text/plain": [
       "           id date_account_created  timestamp_first_active date_first_booking  \\\n",
       "0  gxn3p5htnn           2010-06-28          20090319043255           15-06-29   \n",
       "1  820tgsjxq7           2011-05-25          20090523174809           15-06-29   \n",
       "2  4ft3gnwmtx           2010-09-28          20090609231247         2010-08-02   \n",
       "3  bjjt8pjhuk           2011-12-05          20091031060129         2012-09-08   \n",
       "4  87mebub9p4           2010-09-14          20091208061105         2010-02-18   \n",
       "\n",
       "      gender   age signup_method  signup_flow language affiliate_channel  \\\n",
       "0  -unknown-  49.0      facebook            0       en            direct   \n",
       "1       MALE  38.0      facebook            0       en               seo   \n",
       "2     FEMALE  56.0         basic            3       en            direct   \n",
       "3     FEMALE  42.0      facebook            0       en            direct   \n",
       "4  -unknown-  41.0         basic            0       en            direct   \n",
       "\n",
       "  affiliate_provider first_affiliate_tracked signup_app first_device_type  \\\n",
       "0             direct               untracked        Web       Mac Desktop   \n",
       "1             google               untracked        Web       Mac Desktop   \n",
       "2             direct               untracked        Web   Windows Desktop   \n",
       "3             direct               untracked        Web       Mac Desktop   \n",
       "4             direct               untracked        Web       Mac Desktop   \n",
       "\n",
       "  first_browser country_destination  \n",
       "0        Chrome                 NDF  \n",
       "1        Chrome                 NDF  \n",
       "2            IE                  US  \n",
       "3       Firefox               other  \n",
       "4        Chrome                  US  "
      ]
     },
     "execution_count": 15,
     "metadata": {},
     "output_type": "execute_result"
    }
   ],
   "source": [
    "df1.head()"
   ]
  },
  {
   "cell_type": "code",
   "execution_count": 16,
   "id": "76e0d0ba",
   "metadata": {
    "ExecuteTime": {
     "end_time": "2021-04-20T13:32:07.638159Z",
     "start_time": "2021-04-20T13:32:07.326801Z"
    }
   },
   "outputs": [
    {
     "data": {
      "text/plain": [
       "id                         0\n",
       "date_account_created       0\n",
       "timestamp_first_active     0\n",
       "date_first_booking         0\n",
       "gender                     0\n",
       "age                        0\n",
       "signup_method              0\n",
       "signup_flow                0\n",
       "language                   0\n",
       "affiliate_channel          0\n",
       "affiliate_provider         0\n",
       "first_affiliate_tracked    0\n",
       "signup_app                 0\n",
       "first_device_type          0\n",
       "first_browser              0\n",
       "country_destination        0\n",
       "dtype: int64"
      ]
     },
     "execution_count": 16,
     "metadata": {},
     "output_type": "execute_result"
    }
   ],
   "source": [
    "##==================================    Training     ==================================##\n",
    "df1.isna().sum()"
   ]
  },
  {
   "cell_type": "code",
   "execution_count": 17,
   "id": "7ef32702",
   "metadata": {
    "ExecuteTime": {
     "end_time": "2021-04-20T13:32:09.433283Z",
     "start_time": "2021-04-20T13:32:07.640305Z"
    }
   },
   "outputs": [
    {
     "data": {
      "text/plain": [
       "user_id          0.0\n",
       "action           0.0\n",
       "action_type      0.0\n",
       "action_detail    0.0\n",
       "device_type      0.0\n",
       "secs_elapsed     0.0\n",
       "dtype: float64"
      ]
     },
     "execution_count": 17,
     "metadata": {},
     "output_type": "execute_result"
    }
   ],
   "source": [
    "##==================================      Sessions       ==================================##\n",
    "dfs_1.isna().sum()/len(dfs_1)"
   ]
  },
  {
   "cell_type": "markdown",
   "id": "822ec918",
   "metadata": {},
   "source": [
    "### 2.4 Change data types"
   ]
  },
  {
   "cell_type": "code",
   "execution_count": 18,
   "id": "7755ac59",
   "metadata": {
    "ExecuteTime": {
     "end_time": "2021-04-20T13:32:10.126846Z",
     "start_time": "2021-04-20T13:32:09.437602Z"
    }
   },
   "outputs": [],
   "source": [
    "# date_account_created\n",
    "df1['date_account_created'] = pd.to_datetime( df1['date_account_created'] )\n",
    "\n",
    "# timestamp_first_active\n",
    "df1['timestamp_first_active'] = pd.to_datetime( df1['timestamp_first_active'], format='%Y%m%d%H%M%S' )\n",
    "\n",
    "# date_first_booking\n",
    "df1['date_first_booking'] = pd.to_datetime( df1['date_first_booking'] )\n",
    "\n",
    "# age\n",
    "df1['age'] = df1['age'].astype( int )"
   ]
  },
  {
   "cell_type": "markdown",
   "id": "b04dbb81",
   "metadata": {},
   "source": [
    "### 2.5 Check balanced data"
   ]
  },
  {
   "cell_type": "markdown",
   "id": "4519a6df",
   "metadata": {},
   "source": [
    "### 2.6 Descriptive Analysis"
   ]
  },
  {
   "cell_type": "code",
   "execution_count": 19,
   "id": "a023fcb5",
   "metadata": {
    "ExecuteTime": {
     "end_time": "2021-04-20T13:32:10.486853Z",
     "start_time": "2021-04-20T13:32:10.128773Z"
    }
   },
   "outputs": [],
   "source": [
    "#================= Data division =================#\n",
    "# df1\n",
    "num_attributes = df1.select_dtypes( include=['int64','float64'])\n",
    "cat_attributes = df1.select_dtypes( exclude=['int64','float64','datetime64[ns]'])\n",
    "\n",
    "# dfs_1\n",
    "num_s_attributes = dfs_1.select_dtypes( include=['int64','float64'])\n",
    "cat_s_attributes = dfs_1.select_dtypes( exclude=['int64','float64','datetime64[ns]'])\n"
   ]
  },
  {
   "cell_type": "markdown",
   "id": "4ae8adac",
   "metadata": {},
   "source": [
    "#### 2.6.1 Numerical - Users"
   ]
  },
  {
   "cell_type": "code",
   "execution_count": 20,
   "id": "a7ce3850",
   "metadata": {
    "ExecuteTime": {
     "end_time": "2021-04-20T13:32:10.529960Z",
     "start_time": "2021-04-20T13:32:10.488215Z"
    }
   },
   "outputs": [
    {
     "data": {
      "text/html": [
       "<div>\n",
       "<style scoped>\n",
       "    .dataframe tbody tr th:only-of-type {\n",
       "        vertical-align: middle;\n",
       "    }\n",
       "\n",
       "    .dataframe tbody tr th {\n",
       "        vertical-align: top;\n",
       "    }\n",
       "\n",
       "    .dataframe thead th {\n",
       "        text-align: right;\n",
       "    }\n",
       "</style>\n",
       "<table border=\"1\" class=\"dataframe\">\n",
       "  <thead>\n",
       "    <tr style=\"text-align: right;\">\n",
       "      <th></th>\n",
       "      <th>Atributos</th>\n",
       "      <th>Min</th>\n",
       "      <th>Max</th>\n",
       "      <th>Range</th>\n",
       "      <th>Mean</th>\n",
       "      <th>Median</th>\n",
       "      <th>Std</th>\n",
       "      <th>Skew</th>\n",
       "      <th>Kurtosis</th>\n",
       "    </tr>\n",
       "  </thead>\n",
       "  <tbody>\n",
       "    <tr>\n",
       "      <th>0</th>\n",
       "      <td>age</td>\n",
       "      <td>16.0</td>\n",
       "      <td>115.0</td>\n",
       "      <td>99.0</td>\n",
       "      <td>42.117424</td>\n",
       "      <td>49.0</td>\n",
       "      <td>12.156468</td>\n",
       "      <td>1.001974</td>\n",
       "      <td>4.626117</td>\n",
       "    </tr>\n",
       "    <tr>\n",
       "      <th>1</th>\n",
       "      <td>signup_flow</td>\n",
       "      <td>0.0</td>\n",
       "      <td>25.0</td>\n",
       "      <td>25.0</td>\n",
       "      <td>3.156946</td>\n",
       "      <td>0.0</td>\n",
       "      <td>7.550665</td>\n",
       "      <td>2.283784</td>\n",
       "      <td>3.551616</td>\n",
       "    </tr>\n",
       "  </tbody>\n",
       "</table>\n",
       "</div>"
      ],
      "text/plain": [
       "     Atributos   Min    Max  Range       Mean  Median        Std      Skew  \\\n",
       "0          age  16.0  115.0   99.0  42.117424    49.0  12.156468  1.001974   \n",
       "1  signup_flow   0.0   25.0   25.0   3.156946     0.0   7.550665  2.283784   \n",
       "\n",
       "   Kurtosis  \n",
       "0  4.626117  \n",
       "1  3.551616  "
      ]
     },
     "execution_count": 20,
     "metadata": {},
     "output_type": "execute_result"
    }
   ],
   "source": [
    "# Central tendency- Mean, Median\n",
    "ct1   =   pd.DataFrame( num_attributes.apply( np.mean  ) ).T\n",
    "ct2   =   pd.DataFrame( num_attributes.apply( np.median  ) ).T\n",
    "\n",
    "# Dispersion- Std, min, max, range, skew, kurtosis.\n",
    "d1    =   pd.DataFrame( num_attributes.apply( np.std ) ).T\n",
    "d2    =   pd.DataFrame( num_attributes.apply( lambda x: x.min( ) ) ).T\n",
    "d3    =   pd.DataFrame( num_attributes.apply( lambda x: x.max( ) ) ).T\n",
    "d4    =   pd.DataFrame(num_attributes.apply(lambda x: x.max() - x.min() ) ).T\n",
    "d5    =   pd.DataFrame(num_attributes.apply(lambda x: x.skew() ) ).T\n",
    "d6    =   pd.DataFrame(num_attributes.apply(lambda x: x.kurtosis() ) ).T\n",
    "\n",
    "# Concatenar\n",
    "users_num = pd.concat( [d2,d3,d4,ct1,ct2,d1,d5,d6] ).T.reset_index()\n",
    "users_num.columns = ['Atributos','Min','Max','Range','Mean','Median','Std','Skew','Kurtosis']\n",
    "users_num"
   ]
  },
  {
   "cell_type": "markdown",
   "id": "b0eea62e",
   "metadata": {},
   "source": [
    "#### 2.6.2 Numerical - Sessions"
   ]
  },
  {
   "cell_type": "code",
   "execution_count": 21,
   "id": "a860d9bd",
   "metadata": {
    "ExecuteTime": {
     "end_time": "2021-04-20T13:32:11.032911Z",
     "start_time": "2021-04-20T13:32:10.531759Z"
    }
   },
   "outputs": [
    {
     "data": {
      "text/html": [
       "<div>\n",
       "<style scoped>\n",
       "    .dataframe tbody tr th:only-of-type {\n",
       "        vertical-align: middle;\n",
       "    }\n",
       "\n",
       "    .dataframe tbody tr th {\n",
       "        vertical-align: top;\n",
       "    }\n",
       "\n",
       "    .dataframe thead th {\n",
       "        text-align: right;\n",
       "    }\n",
       "</style>\n",
       "<table border=\"1\" class=\"dataframe\">\n",
       "  <thead>\n",
       "    <tr style=\"text-align: right;\">\n",
       "      <th></th>\n",
       "      <th>Atributos</th>\n",
       "      <th>Min</th>\n",
       "      <th>Max</th>\n",
       "      <th>Range</th>\n",
       "      <th>Mean</th>\n",
       "      <th>Median</th>\n",
       "      <th>Std</th>\n",
       "      <th>Skew</th>\n",
       "      <th>Kurtosis</th>\n",
       "    </tr>\n",
       "  </thead>\n",
       "  <tbody>\n",
       "    <tr>\n",
       "      <th>0</th>\n",
       "      <td>secs_elapsed</td>\n",
       "      <td>1.0</td>\n",
       "      <td>1799977.0</td>\n",
       "      <td>1799976.0</td>\n",
       "      <td>20159.474341</td>\n",
       "      <td>1409.0</td>\n",
       "      <td>89265.854534</td>\n",
       "      <td>11.08481</td>\n",
       "      <td>153.3537</td>\n",
       "    </tr>\n",
       "  </tbody>\n",
       "</table>\n",
       "</div>"
      ],
      "text/plain": [
       "      Atributos  Min        Max      Range          Mean  Median  \\\n",
       "0  secs_elapsed  1.0  1799977.0  1799976.0  20159.474341  1409.0   \n",
       "\n",
       "            Std      Skew  Kurtosis  \n",
       "0  89265.854534  11.08481  153.3537  "
      ]
     },
     "execution_count": 21,
     "metadata": {},
     "output_type": "execute_result"
    }
   ],
   "source": [
    "# Central tendency- Mean, Median\n",
    "cts1    =     pd.DataFrame( num_s_attributes.apply( np.mean ) ).T\n",
    "cts2    =     pd.DataFrame( num_s_attributes.apply( np.median ) ).T\n",
    "\n",
    "# Dispersion- Std, min, max, range, skew, kurtosis.\n",
    "ds1     =   pd.DataFrame( num_s_attributes.apply( np.std ) ).T\n",
    "ds2     =   pd.DataFrame( num_s_attributes.apply(lambda x: x.min() ) ).T\n",
    "ds3     =   pd.DataFrame( num_s_attributes.apply( lambda x: x.max() ) ).T\n",
    "ds4     =   pd.DataFrame( num_s_attributes.apply( lambda x: x.max() - x.min() ) ).T\n",
    "ds5     =   pd.DataFrame( num_s_attributes.apply( lambda x: x.skew() ) ).T\n",
    "ds6     =   pd.DataFrame( num_s_attributes.apply( lambda x: x.kurtosis() ) ).T\n",
    "\n",
    "# Concatenar\n",
    "sessions_num = pd.concat( [ds2,ds3,ds4,cts1,cts2,ds1,ds5,ds6]).T.reset_index()\n",
    "sessions_num.columns = ['Atributos','Min','Max','Range','Mean','Median','Std','Skew','Kurtosis']\n",
    "sessions_num"
   ]
  },
  {
   "cell_type": "markdown",
   "id": "f65e3562",
   "metadata": {},
   "source": [
    "#### 2.6.3 Categorical-Users"
   ]
  },
  {
   "cell_type": "code",
   "execution_count": 22,
   "id": "5ba179be",
   "metadata": {
    "ExecuteTime": {
     "end_time": "2021-04-20T13:32:11.328812Z",
     "start_time": "2021-04-20T13:32:11.034312Z"
    }
   },
   "outputs": [
    {
     "data": {
      "text/html": [
       "<div>\n",
       "<style scoped>\n",
       "    .dataframe tbody tr th:only-of-type {\n",
       "        vertical-align: middle;\n",
       "    }\n",
       "\n",
       "    .dataframe tbody tr th {\n",
       "        vertical-align: top;\n",
       "    }\n",
       "\n",
       "    .dataframe thead th {\n",
       "        text-align: right;\n",
       "    }\n",
       "</style>\n",
       "<table border=\"1\" class=\"dataframe\">\n",
       "  <thead>\n",
       "    <tr style=\"text-align: right;\">\n",
       "      <th></th>\n",
       "      <th>gender</th>\n",
       "      <th>signup_method</th>\n",
       "      <th>language</th>\n",
       "      <th>affiliate_channel</th>\n",
       "      <th>affiliate_provider</th>\n",
       "      <th>first_affiliate_tracked</th>\n",
       "      <th>signup_app</th>\n",
       "      <th>first_device_type</th>\n",
       "      <th>first_browser</th>\n",
       "      <th>country_destination</th>\n",
       "    </tr>\n",
       "  </thead>\n",
       "  <tbody>\n",
       "    <tr>\n",
       "      <th>count</th>\n",
       "      <td>206593</td>\n",
       "      <td>206593</td>\n",
       "      <td>206593</td>\n",
       "      <td>206593</td>\n",
       "      <td>206593</td>\n",
       "      <td>206593</td>\n",
       "      <td>206593</td>\n",
       "      <td>206593</td>\n",
       "      <td>206593</td>\n",
       "      <td>206593</td>\n",
       "    </tr>\n",
       "    <tr>\n",
       "      <th>unique</th>\n",
       "      <td>4</td>\n",
       "      <td>3</td>\n",
       "      <td>25</td>\n",
       "      <td>8</td>\n",
       "      <td>18</td>\n",
       "      <td>7</td>\n",
       "      <td>4</td>\n",
       "      <td>9</td>\n",
       "      <td>52</td>\n",
       "      <td>12</td>\n",
       "    </tr>\n",
       "    <tr>\n",
       "      <th>top</th>\n",
       "      <td>-unknown-</td>\n",
       "      <td>basic</td>\n",
       "      <td>en</td>\n",
       "      <td>direct</td>\n",
       "      <td>direct</td>\n",
       "      <td>untracked</td>\n",
       "      <td>Web</td>\n",
       "      <td>Mac Desktop</td>\n",
       "      <td>Chrome</td>\n",
       "      <td>NDF</td>\n",
       "    </tr>\n",
       "    <tr>\n",
       "      <th>freq</th>\n",
       "      <td>91706</td>\n",
       "      <td>147635</td>\n",
       "      <td>199636</td>\n",
       "      <td>133678</td>\n",
       "      <td>133438</td>\n",
       "      <td>108838</td>\n",
       "      <td>177591</td>\n",
       "      <td>89255</td>\n",
       "      <td>63620</td>\n",
       "      <td>119810</td>\n",
       "    </tr>\n",
       "  </tbody>\n",
       "</table>\n",
       "</div>"
      ],
      "text/plain": [
       "           gender signup_method language affiliate_channel affiliate_provider  \\\n",
       "count      206593        206593   206593            206593             206593   \n",
       "unique          4             3       25                 8                 18   \n",
       "top     -unknown-         basic       en            direct             direct   \n",
       "freq        91706        147635   199636            133678             133438   \n",
       "\n",
       "       first_affiliate_tracked signup_app first_device_type first_browser  \\\n",
       "count                   206593     206593            206593        206593   \n",
       "unique                       7          4                 9            52   \n",
       "top                  untracked        Web       Mac Desktop        Chrome   \n",
       "freq                    108838     177591             89255         63620   \n",
       "\n",
       "       country_destination  \n",
       "count               206593  \n",
       "unique                  12  \n",
       "top                    NDF  \n",
       "freq                119810  "
      ]
     },
     "execution_count": 22,
     "metadata": {},
     "output_type": "execute_result"
    }
   ],
   "source": [
    "cat_attributes.drop('id',axis=1).describe()"
   ]
  },
  {
   "cell_type": "markdown",
   "id": "5e25cd3e",
   "metadata": {},
   "source": [
    "#### 2.6.4 Categorical-Sessions"
   ]
  },
  {
   "cell_type": "code",
   "execution_count": 23,
   "id": "cf7a9546",
   "metadata": {
    "ExecuteTime": {
     "end_time": "2021-04-20T13:32:16.197856Z",
     "start_time": "2021-04-20T13:32:11.330460Z"
    }
   },
   "outputs": [
    {
     "data": {
      "text/html": [
       "<div>\n",
       "<style scoped>\n",
       "    .dataframe tbody tr th:only-of-type {\n",
       "        vertical-align: middle;\n",
       "    }\n",
       "\n",
       "    .dataframe tbody tr th {\n",
       "        vertical-align: top;\n",
       "    }\n",
       "\n",
       "    .dataframe thead th {\n",
       "        text-align: right;\n",
       "    }\n",
       "</style>\n",
       "<table border=\"1\" class=\"dataframe\">\n",
       "  <thead>\n",
       "    <tr style=\"text-align: right;\">\n",
       "      <th></th>\n",
       "      <th>action</th>\n",
       "      <th>action_type</th>\n",
       "      <th>action_detail</th>\n",
       "      <th>device_type</th>\n",
       "    </tr>\n",
       "  </thead>\n",
       "  <tbody>\n",
       "    <tr>\n",
       "      <th>count</th>\n",
       "      <td>9123594</td>\n",
       "      <td>9123594</td>\n",
       "      <td>9123594</td>\n",
       "      <td>9123594</td>\n",
       "    </tr>\n",
       "    <tr>\n",
       "      <th>unique</th>\n",
       "      <td>347</td>\n",
       "      <td>10</td>\n",
       "      <td>155</td>\n",
       "      <td>14</td>\n",
       "    </tr>\n",
       "    <tr>\n",
       "      <th>top</th>\n",
       "      <td>show</td>\n",
       "      <td>view</td>\n",
       "      <td>view_search_results</td>\n",
       "      <td>Mac Desktop</td>\n",
       "    </tr>\n",
       "    <tr>\n",
       "      <th>freq</th>\n",
       "      <td>2161240</td>\n",
       "      <td>3518629</td>\n",
       "      <td>1754981</td>\n",
       "      <td>2989495</td>\n",
       "    </tr>\n",
       "  </tbody>\n",
       "</table>\n",
       "</div>"
      ],
      "text/plain": [
       "         action action_type        action_detail  device_type\n",
       "count   9123594     9123594              9123594      9123594\n",
       "unique      347          10                  155           14\n",
       "top        show        view  view_search_results  Mac Desktop\n",
       "freq    2161240     3518629              1754981      2989495"
      ]
     },
     "execution_count": 23,
     "metadata": {},
     "output_type": "execute_result"
    }
   ],
   "source": [
    "cat_s_attributes.drop('user_id',axis=1).describe()"
   ]
  },
  {
   "cell_type": "code",
   "execution_count": 24,
   "id": "1f12cde9",
   "metadata": {
    "ExecuteTime": {
     "end_time": "2021-04-20T13:32:16.509566Z",
     "start_time": "2021-04-20T13:32:16.199640Z"
    }
   },
   "outputs": [],
   "source": [
    "cat_attributes_list = cat_s_attributes.drop( 'user_id',axis=1).columns.tolist()"
   ]
  },
  {
   "cell_type": "code",
   "execution_count": 25,
   "id": "93a7fc48",
   "metadata": {
    "ExecuteTime": {
     "end_time": "2021-04-20T13:32:41.293275Z",
     "start_time": "2021-04-20T13:32:16.510990Z"
    }
   },
   "outputs": [],
   "source": [
    "# Lista de attributos para o Cramer's V correlation\n",
    "corr_dict = {}\n",
    "for i in range (len( cat_attributes_list ) ):\n",
    "    corr_list = []\n",
    "    for j in range(len( cat_attributes_list ) ):\n",
    "        ref  =  cat_attributes_list[i]\n",
    "        feat =  cat_attributes_list[j]\n",
    "        \n",
    "        # Correlation\n",
    "        corr = cramer_v( cat_s_attributes[ref], cat_s_attributes[feat])\n",
    "        \n",
    "        # Append da lista \n",
    "        corr_list.append( corr )\n",
    "    \n",
    "    # Append a correlation list for each ref attributes\n",
    "    corr_dict[ ref ] = corr_list   \n",
    "    "
   ]
  },
  {
   "cell_type": "code",
   "execution_count": 26,
   "id": "8da6cc50",
   "metadata": {
    "ExecuteTime": {
     "end_time": "2021-04-20T13:32:41.303613Z",
     "start_time": "2021-04-20T13:32:41.294549Z"
    }
   },
   "outputs": [
    {
     "data": {
      "text/html": [
       "<div>\n",
       "<style scoped>\n",
       "    .dataframe tbody tr th:only-of-type {\n",
       "        vertical-align: middle;\n",
       "    }\n",
       "\n",
       "    .dataframe tbody tr th {\n",
       "        vertical-align: top;\n",
       "    }\n",
       "\n",
       "    .dataframe thead th {\n",
       "        text-align: right;\n",
       "    }\n",
       "</style>\n",
       "<table border=\"1\" class=\"dataframe\">\n",
       "  <thead>\n",
       "    <tr style=\"text-align: right;\">\n",
       "      <th></th>\n",
       "      <th>action</th>\n",
       "      <th>action_type</th>\n",
       "      <th>action_detail</th>\n",
       "      <th>device_type</th>\n",
       "    </tr>\n",
       "  </thead>\n",
       "  <tbody>\n",
       "    <tr>\n",
       "      <th>action</th>\n",
       "      <td>1.000019</td>\n",
       "      <td>0.951695</td>\n",
       "      <td>0.794873</td>\n",
       "      <td>0.259607</td>\n",
       "    </tr>\n",
       "    <tr>\n",
       "      <th>action_type</th>\n",
       "      <td>0.951695</td>\n",
       "      <td>1.000000</td>\n",
       "      <td>0.980597</td>\n",
       "      <td>0.082050</td>\n",
       "    </tr>\n",
       "    <tr>\n",
       "      <th>action_detail</th>\n",
       "      <td>0.794873</td>\n",
       "      <td>0.980597</td>\n",
       "      <td>1.000008</td>\n",
       "      <td>0.219253</td>\n",
       "    </tr>\n",
       "    <tr>\n",
       "      <th>device_type</th>\n",
       "      <td>0.259607</td>\n",
       "      <td>0.082050</td>\n",
       "      <td>0.219253</td>\n",
       "      <td>1.000001</td>\n",
       "    </tr>\n",
       "  </tbody>\n",
       "</table>\n",
       "</div>"
      ],
      "text/plain": [
       "                 action  action_type  action_detail  device_type\n",
       "action         1.000019     0.951695       0.794873     0.259607\n",
       "action_type    0.951695     1.000000       0.980597     0.082050\n",
       "action_detail  0.794873     0.980597       1.000008     0.219253\n",
       "device_type    0.259607     0.082050       0.219253     1.000001"
      ]
     },
     "execution_count": 26,
     "metadata": {},
     "output_type": "execute_result"
    }
   ],
   "source": [
    "d = pd.DataFrame( corr_dict)\n",
    "d = d.set_index( d.columns )\n",
    "d"
   ]
  },
  {
   "cell_type": "code",
   "execution_count": 27,
   "id": "a3290cd7",
   "metadata": {
    "ExecuteTime": {
     "end_time": "2021-04-20T13:32:41.593304Z",
     "start_time": "2021-04-20T13:32:41.305707Z"
    }
   },
   "outputs": [
    {
     "data": {
      "text/plain": [
       "<AxesSubplot:>"
      ]
     },
     "execution_count": 27,
     "metadata": {},
     "output_type": "execute_result"
    },
    {
     "data": {
      "image/png": "[encoded data removed]",
      "text/plain": [
       "<Figure size 432x288 with 2 Axes>"
      ]
     },
     "metadata": {
      "needs_background": "light"
     },
     "output_type": "display_data"
    }
   ],
   "source": [
    "sns.heatmap( d ,annot=True )"
   ]
  },
  {
   "cell_type": "markdown",
   "id": "2bd7931e",
   "metadata": {},
   "source": [
    "## 3.0 Feature Engineering "
   ]
  },
  {
   "cell_type": "code",
   "execution_count": 28,
   "id": "594ab891",
   "metadata": {
    "ExecuteTime": {
     "end_time": "2021-04-20T13:32:41.872314Z",
     "start_time": "2021-04-20T13:32:41.594806Z"
    }
   },
   "outputs": [],
   "source": [
    "df2 = df1.copy()\n",
    "dfs_2 = dfs_1.copy()"
   ]
  },
  {
   "cell_type": "code",
   "execution_count": 29,
   "id": "ddef7759",
   "metadata": {
    "ExecuteTime": {
     "end_time": "2021-04-20T13:32:41.878486Z",
     "start_time": "2021-04-20T13:32:41.873650Z"
    }
   },
   "outputs": [
    {
     "data": {
      "text/plain": [
       "id                                 object\n",
       "date_account_created       datetime64[ns]\n",
       "timestamp_first_active     datetime64[ns]\n",
       "date_first_booking         datetime64[ns]\n",
       "gender                             object\n",
       "age                                 int64\n",
       "signup_method                      object\n",
       "signup_flow                         int64\n",
       "language                           object\n",
       "affiliate_channel                  object\n",
       "affiliate_provider                 object\n",
       "first_affiliate_tracked            object\n",
       "signup_app                         object\n",
       "first_device_type                  object\n",
       "first_browser                      object\n",
       "country_destination                object\n",
       "dtype: object"
      ]
     },
     "execution_count": 29,
     "metadata": {},
     "output_type": "execute_result"
    }
   ],
   "source": [
    "df2.dtypes"
   ]
  },
  {
   "cell_type": "markdown",
   "id": "ab96ba7c",
   "metadata": {},
   "source": [
    "### 3.1 Create New Features"
   ]
  },
  {
   "cell_type": "code",
   "execution_count": 30,
   "id": "0b5e6bb1",
   "metadata": {
    "ExecuteTime": {
     "end_time": "2021-04-20T13:32:47.445213Z",
     "start_time": "2021-04-20T13:32:41.879775Z"
    }
   },
   "outputs": [
    {
     "name": "stderr",
     "output_type": "stream",
     "text": [
      "<ipython-input-30-984f50c693cd>:23: FutureWarning: Series.dt.weekofyear and Series.dt.week have been deprecated.  Please use Series.dt.isocalendar().week instead.\n",
      "  df2['weekodyear_first_active'] = df2['first_active'].dt.weekofyear\n",
      "<ipython-input-30-984f50c693cd>:40: FutureWarning: Series.dt.weekofyear and Series.dt.week have been deprecated.  Please use Series.dt.isocalendar().week instead.\n",
      "  df2['weekofyear_first_booking'] = df2['date_first_booking'].dt.weekofyear\n",
      "<ipython-input-30-984f50c693cd>:57: FutureWarning: Series.dt.weekofyear and Series.dt.week have been deprecated.  Please use Series.dt.isocalendar().week instead.\n",
      "  df2['weekofyear_first_created_account'] = df2['date_account_created'].dt.weekofyear\n"
     ]
    }
   ],
   "source": [
    "# Days from first active up to first booking\n",
    "df2['first_active'] = pd.to_datetime( df2['timestamp_first_active'].dt.strftime( '%Y-%m-%d' ) )\n",
    "df2['days_from_first_active_until_booking'] = (df2['date_first_booking'] - df2['first_active']).apply(lambda x: x.days)\n",
    "# Days from first active up to account created \n",
    "df2['days_from_first_active_until_account_created'] = (df2['date_account_created'] - df2['first_active']).apply(lambda x: x.days)\n",
    "# Days from account created up to first booking \n",
    "df2['days_from_account_created_until_first_booking'] = (df2['date_first_booking'] - df2['date_account_created'] ).apply(lambda x: x.days)\n",
    "\n",
    "#======================== First active ========================#\n",
    "# year first active\n",
    "df2['year_first_active'] = df2['first_active'].dt.year\n",
    "\n",
    "# month first active\n",
    "df2['month_first_active'] = df2['first_active'].dt.month\n",
    "\n",
    "# day first active\n",
    "df2['day_first_active'] = df2['first_active'].dt.day\n",
    "\n",
    "# day of week first active\n",
    "df2['dayofweek_first_active'] = df2['first_active'].dt.dayofweek\n",
    "\n",
    "# week of year first active\n",
    "df2['weekodyear_first_active'] = df2['first_active'].dt.weekofyear\n",
    "\n",
    "#======================== First booking ========================#\n",
    "\n",
    "# year first booking \n",
    "df2['year_first_booking'] = df2['date_first_booking'].dt.year\n",
    "\n",
    "# month first booking\n",
    "df2['month_first_booking'] = df2['date_first_booking'].dt.month\n",
    "\n",
    "# day first booking\n",
    "df2['day_first_booking'] = df2['date_first_booking'].dt.day\n",
    "\n",
    "# day of week first active\n",
    "df2['dayofweek_first_booking'] = df2['date_first_booking'].dt.dayofweek\n",
    "\n",
    "# week of year first booking\n",
    "df2['weekofyear_first_booking'] = df2['date_first_booking'].dt.weekofyear\n",
    "\n",
    "#======================== First Account Created ========================#\n",
    "\n",
    "# year First Account Created\n",
    "df2['year_first_created_account'] = df2['date_account_created'].dt.year\n",
    "\n",
    "# month First Account Created\n",
    "df2['month_first_created_account'] = df2['date_account_created'].dt.month\n",
    "\n",
    "# day First Account Created\n",
    "df2['day_first_created_account'] = df2['date_account_created'].dt.day\n",
    "\n",
    "# day of week First Account Created\n",
    "df2['dayofweek_first_created_account'] = df2['date_account_created'].dt.dayofweek\n",
    "\n",
    "# week of year First Account Created\n",
    "df2['weekofyear_first_created_account'] = df2['date_account_created'].dt.weekofyear\n",
    "\n"
   ]
  },
  {
   "cell_type": "markdown",
   "id": "e13f74cd",
   "metadata": {},
   "source": [
    "## 4.0 Data Filtering"
   ]
  },
  {
   "cell_type": "code",
   "execution_count": 31,
   "id": "65bd559e",
   "metadata": {
    "ExecuteTime": {
     "end_time": "2021-04-20T13:32:47.484007Z",
     "start_time": "2021-04-20T13:32:47.446608Z"
    }
   },
   "outputs": [],
   "source": [
    "df3 = df2.copy()"
   ]
  },
  {
   "cell_type": "markdown",
   "id": "0682ffa6",
   "metadata": {},
   "source": [
    "### 4.1 Filtering rows"
   ]
  },
  {
   "cell_type": "code",
   "execution_count": 32,
   "id": "89874e26",
   "metadata": {
    "ExecuteTime": {
     "end_time": "2021-04-20T13:32:47.595613Z",
     "start_time": "2021-04-20T13:32:47.486261Z"
    }
   },
   "outputs": [],
   "source": [
    "# Limpando as linhas"
   ]
  },
  {
   "cell_type": "markdown",
   "id": "63f3c1e5",
   "metadata": {
    "heading_collapsed": true
   },
   "source": [
    "### 4.2 Columns selection"
   ]
  },
  {
   "cell_type": "markdown",
   "id": "387c60c0",
   "metadata": {},
   "source": [
    "## 5.0 Data Preparation "
   ]
  },
  {
   "cell_type": "code",
   "execution_count": 33,
   "id": "99376def",
   "metadata": {
    "ExecuteTime": {
     "end_time": "2021-04-20T13:32:47.817401Z",
     "start_time": "2021-04-20T13:32:47.598513Z"
    }
   },
   "outputs": [],
   "source": [
    "df4 = df3.copy()"
   ]
  },
  {
   "cell_type": "code",
   "execution_count": 34,
   "id": "4d47f231",
   "metadata": {
    "ExecuteTime": {
     "end_time": "2021-04-20T13:32:48.101741Z",
     "start_time": "2021-04-20T13:32:47.818659Z"
    }
   },
   "outputs": [],
   "source": [
    "#dummy variable\n",
    "df4_dummy =   pd.get_dummies( df3.drop ( ['id','country_destination'] , axis=1 ) ) \n",
    "\n",
    "#join id and country destination\n",
    "df4 = pd.concat( [df3 [['id','country_destination']] ,df4_dummy], axis=1 )"
   ]
  },
  {
   "cell_type": "code",
   "execution_count": 35,
   "id": "1c373c9f",
   "metadata": {
    "ExecuteTime": {
     "end_time": "2021-04-20T13:32:48.106705Z",
     "start_time": "2021-04-20T13:32:48.102991Z"
    }
   },
   "outputs": [
    {
     "data": {
      "text/plain": [
       "(206593, 156)"
      ]
     },
     "execution_count": 35,
     "metadata": {},
     "output_type": "execute_result"
    }
   ],
   "source": [
    "df4.shape"
   ]
  },
  {
   "cell_type": "markdown",
   "id": "d4726c82",
   "metadata": {},
   "source": [
    "## 6.0 Feature Selection"
   ]
  },
  {
   "cell_type": "code",
   "execution_count": 36,
   "id": "96f041e3",
   "metadata": {
    "ExecuteTime": {
     "end_time": "2021-04-20T13:32:48.241048Z",
     "start_time": "2021-04-20T13:32:48.108475Z"
    }
   },
   "outputs": [],
   "source": [
    "cols_drop = ['date_account_created','timestamp_first_active','date_first_booking','first_active']\n",
    "df5 = df4.drop( cols_drop, axis=1 )"
   ]
  },
  {
   "cell_type": "code",
   "execution_count": 37,
   "id": "cd67011d",
   "metadata": {
    "ExecuteTime": {
     "end_time": "2021-04-20T13:32:48.341605Z",
     "start_time": "2021-04-20T13:32:48.242258Z"
    }
   },
   "outputs": [
    {
     "data": {
      "text/html": [
       "<div>\n",
       "<style scoped>\n",
       "    .dataframe tbody tr th:only-of-type {\n",
       "        vertical-align: middle;\n",
       "    }\n",
       "\n",
       "    .dataframe tbody tr th {\n",
       "        vertical-align: top;\n",
       "    }\n",
       "\n",
       "    .dataframe thead th {\n",
       "        text-align: right;\n",
       "    }\n",
       "</style>\n",
       "<table border=\"1\" class=\"dataframe\">\n",
       "  <thead>\n",
       "    <tr style=\"text-align: right;\">\n",
       "      <th></th>\n",
       "      <th>id</th>\n",
       "      <th>country_destination</th>\n",
       "      <th>age</th>\n",
       "      <th>signup_flow</th>\n",
       "      <th>days_from_first_active_until_booking</th>\n",
       "      <th>days_from_first_active_until_account_created</th>\n",
       "      <th>days_from_account_created_until_first_booking</th>\n",
       "      <th>year_first_active</th>\n",
       "      <th>month_first_active</th>\n",
       "      <th>day_first_active</th>\n",
       "      <th>...</th>\n",
       "      <th>first_browser_SeaMonkey</th>\n",
       "      <th>first_browser_Silk</th>\n",
       "      <th>first_browser_SiteKiosk</th>\n",
       "      <th>first_browser_SlimBrowser</th>\n",
       "      <th>first_browser_Sogou Explorer</th>\n",
       "      <th>first_browser_Stainless</th>\n",
       "      <th>first_browser_TenFourFox</th>\n",
       "      <th>first_browser_TheWorld Browser</th>\n",
       "      <th>first_browser_Yandex.Browser</th>\n",
       "      <th>first_browser_wOSBrowser</th>\n",
       "    </tr>\n",
       "  </thead>\n",
       "  <tbody>\n",
       "    <tr>\n",
       "      <th>0</th>\n",
       "      <td>gxn3p5htnn</td>\n",
       "      <td>NDF</td>\n",
       "      <td>49</td>\n",
       "      <td>0</td>\n",
       "      <td>7393</td>\n",
       "      <td>466</td>\n",
       "      <td>6927</td>\n",
       "      <td>2009</td>\n",
       "      <td>3</td>\n",
       "      <td>19</td>\n",
       "      <td>...</td>\n",
       "      <td>0</td>\n",
       "      <td>0</td>\n",
       "      <td>0</td>\n",
       "      <td>0</td>\n",
       "      <td>0</td>\n",
       "      <td>0</td>\n",
       "      <td>0</td>\n",
       "      <td>0</td>\n",
       "      <td>0</td>\n",
       "      <td>0</td>\n",
       "    </tr>\n",
       "    <tr>\n",
       "      <th>1</th>\n",
       "      <td>820tgsjxq7</td>\n",
       "      <td>NDF</td>\n",
       "      <td>38</td>\n",
       "      <td>0</td>\n",
       "      <td>7328</td>\n",
       "      <td>732</td>\n",
       "      <td>6596</td>\n",
       "      <td>2009</td>\n",
       "      <td>5</td>\n",
       "      <td>23</td>\n",
       "      <td>...</td>\n",
       "      <td>0</td>\n",
       "      <td>0</td>\n",
       "      <td>0</td>\n",
       "      <td>0</td>\n",
       "      <td>0</td>\n",
       "      <td>0</td>\n",
       "      <td>0</td>\n",
       "      <td>0</td>\n",
       "      <td>0</td>\n",
       "      <td>0</td>\n",
       "    </tr>\n",
       "    <tr>\n",
       "      <th>2</th>\n",
       "      <td>4ft3gnwmtx</td>\n",
       "      <td>US</td>\n",
       "      <td>56</td>\n",
       "      <td>3</td>\n",
       "      <td>419</td>\n",
       "      <td>476</td>\n",
       "      <td>-57</td>\n",
       "      <td>2009</td>\n",
       "      <td>6</td>\n",
       "      <td>9</td>\n",
       "      <td>...</td>\n",
       "      <td>0</td>\n",
       "      <td>0</td>\n",
       "      <td>0</td>\n",
       "      <td>0</td>\n",
       "      <td>0</td>\n",
       "      <td>0</td>\n",
       "      <td>0</td>\n",
       "      <td>0</td>\n",
       "      <td>0</td>\n",
       "      <td>0</td>\n",
       "    </tr>\n",
       "    <tr>\n",
       "      <th>3</th>\n",
       "      <td>bjjt8pjhuk</td>\n",
       "      <td>other</td>\n",
       "      <td>42</td>\n",
       "      <td>0</td>\n",
       "      <td>1043</td>\n",
       "      <td>765</td>\n",
       "      <td>278</td>\n",
       "      <td>2009</td>\n",
       "      <td>10</td>\n",
       "      <td>31</td>\n",
       "      <td>...</td>\n",
       "      <td>0</td>\n",
       "      <td>0</td>\n",
       "      <td>0</td>\n",
       "      <td>0</td>\n",
       "      <td>0</td>\n",
       "      <td>0</td>\n",
       "      <td>0</td>\n",
       "      <td>0</td>\n",
       "      <td>0</td>\n",
       "      <td>0</td>\n",
       "    </tr>\n",
       "    <tr>\n",
       "      <th>4</th>\n",
       "      <td>87mebub9p4</td>\n",
       "      <td>US</td>\n",
       "      <td>41</td>\n",
       "      <td>0</td>\n",
       "      <td>72</td>\n",
       "      <td>280</td>\n",
       "      <td>-208</td>\n",
       "      <td>2009</td>\n",
       "      <td>12</td>\n",
       "      <td>8</td>\n",
       "      <td>...</td>\n",
       "      <td>0</td>\n",
       "      <td>0</td>\n",
       "      <td>0</td>\n",
       "      <td>0</td>\n",
       "      <td>0</td>\n",
       "      <td>0</td>\n",
       "      <td>0</td>\n",
       "      <td>0</td>\n",
       "      <td>0</td>\n",
       "      <td>0</td>\n",
       "    </tr>\n",
       "  </tbody>\n",
       "</table>\n",
       "<p>5 rows × 152 columns</p>\n",
       "</div>"
      ],
      "text/plain": [
       "           id country_destination  age  signup_flow  \\\n",
       "0  gxn3p5htnn                 NDF   49            0   \n",
       "1  820tgsjxq7                 NDF   38            0   \n",
       "2  4ft3gnwmtx                  US   56            3   \n",
       "3  bjjt8pjhuk               other   42            0   \n",
       "4  87mebub9p4                  US   41            0   \n",
       "\n",
       "   days_from_first_active_until_booking  \\\n",
       "0                                  7393   \n",
       "1                                  7328   \n",
       "2                                   419   \n",
       "3                                  1043   \n",
       "4                                    72   \n",
       "\n",
       "   days_from_first_active_until_account_created  \\\n",
       "0                                           466   \n",
       "1                                           732   \n",
       "2                                           476   \n",
       "3                                           765   \n",
       "4                                           280   \n",
       "\n",
       "   days_from_account_created_until_first_booking  year_first_active  \\\n",
       "0                                           6927               2009   \n",
       "1                                           6596               2009   \n",
       "2                                            -57               2009   \n",
       "3                                            278               2009   \n",
       "4                                           -208               2009   \n",
       "\n",
       "   month_first_active  day_first_active  ...  first_browser_SeaMonkey  \\\n",
       "0                   3                19  ...                        0   \n",
       "1                   5                23  ...                        0   \n",
       "2                   6                 9  ...                        0   \n",
       "3                  10                31  ...                        0   \n",
       "4                  12                 8  ...                        0   \n",
       "\n",
       "   first_browser_Silk  first_browser_SiteKiosk  first_browser_SlimBrowser  \\\n",
       "0                   0                        0                          0   \n",
       "1                   0                        0                          0   \n",
       "2                   0                        0                          0   \n",
       "3                   0                        0                          0   \n",
       "4                   0                        0                          0   \n",
       "\n",
       "   first_browser_Sogou Explorer  first_browser_Stainless  \\\n",
       "0                             0                        0   \n",
       "1                             0                        0   \n",
       "2                             0                        0   \n",
       "3                             0                        0   \n",
       "4                             0                        0   \n",
       "\n",
       "   first_browser_TenFourFox  first_browser_TheWorld Browser  \\\n",
       "0                         0                               0   \n",
       "1                         0                               0   \n",
       "2                         0                               0   \n",
       "3                         0                               0   \n",
       "4                         0                               0   \n",
       "\n",
       "   first_browser_Yandex.Browser  first_browser_wOSBrowser  \n",
       "0                             0                         0  \n",
       "1                             0                         0  \n",
       "2                             0                         0  \n",
       "3                             0                         0  \n",
       "4                             0                         0  \n",
       "\n",
       "[5 rows x 152 columns]"
      ]
     },
     "execution_count": 37,
     "metadata": {},
     "output_type": "execute_result"
    }
   ],
   "source": [
    "df5.head()"
   ]
  },
  {
   "cell_type": "code",
   "execution_count": 38,
   "id": "47b76144",
   "metadata": {
    "ExecuteTime": {
     "end_time": "2021-04-20T13:32:48.475717Z",
     "start_time": "2021-04-20T13:32:48.343078Z"
    }
   },
   "outputs": [],
   "source": [
    "X = df5.drop( 'country_destination', axis=1 )\n",
    "y = df5['country_destination'].copy()"
   ]
  },
  {
   "cell_type": "code",
   "execution_count": 39,
   "id": "90e3b2b6",
   "metadata": {
    "ExecuteTime": {
     "end_time": "2021-04-20T13:32:48.733461Z",
     "start_time": "2021-04-20T13:32:48.477008Z"
    }
   },
   "outputs": [],
   "source": [
    "# split dataset into training and test\n",
    "X_train, X_test,y_train, y_test =  ms.train_test_split( X , y, test_size=0.2, random_state=32 )"
   ]
  },
  {
   "cell_type": "markdown",
   "id": "b8e0a658",
   "metadata": {},
   "source": [
    "## 7.0 Machine Learning Model"
   ]
  },
  {
   "cell_type": "code",
   "execution_count": 40,
   "id": "fab78d9c",
   "metadata": {
    "ExecuteTime": {
     "end_time": "2021-04-20T13:32:48.764456Z",
     "start_time": "2021-04-20T13:32:48.734739Z"
    }
   },
   "outputs": [],
   "source": [
    "x_train = X_train.drop('id', axis=1)\n",
    "x_test = X_test.drop('id', axis=1)"
   ]
  },
  {
   "cell_type": "markdown",
   "id": "c6a8ffb7",
   "metadata": {},
   "source": [
    "### 7.1 Baseline Model"
   ]
  },
  {
   "cell_type": "code",
   "execution_count": 41,
   "id": "a4d3d748",
   "metadata": {
    "ExecuteTime": {
     "end_time": "2021-04-20T13:32:48.937843Z",
     "start_time": "2021-04-20T13:32:48.766046Z"
    }
   },
   "outputs": [],
   "source": [
    "country_destination_list = df1['country_destination'].drop_duplicates().sort_values().tolist()\n",
    "k_num = y_test.shape[0]\n",
    "country_destination_weights = df1['country_destination'].value_counts(normalize=True).sort_index().tolist()\n",
    "#Model\n",
    "y_hat_random = random.choices( population=country_destination_list,\n",
    "                              weights = country_destination_weights,\n",
    "                              k=k_num)"
   ]
  },
  {
   "cell_type": "code",
   "execution_count": 42,
   "id": "184caad0",
   "metadata": {
    "ExecuteTime": {
     "end_time": "2021-04-20T13:32:50.792772Z",
     "start_time": "2021-04-20T13:32:48.939131Z"
    }
   },
   "outputs": [
    {
     "name": "stdout",
     "output_type": "stream",
     "text": [
      "Accuracy :0.42592995958275853\n",
      "Balanced accuracy : 0.08238862624628979\n",
      "kappa score : 0.0007636600056274423\n",
      "              precision    recall  f1-score   support\n",
      "\n",
      "          AU       0.00      0.00      0.00       101\n",
      "          CA       0.01      0.02      0.01       265\n",
      "          DE       0.00      0.00      0.00       234\n",
      "          ES       0.01      0.01      0.01       385\n",
      "          FR       0.02      0.02      0.02       971\n",
      "          GB       0.01      0.01      0.01       457\n",
      "          IT       0.01      0.01      0.01       553\n",
      "         NDF       0.58      0.58      0.58     23927\n",
      "          NL       0.01      0.01      0.01       143\n",
      "          PT       0.00      0.00      0.00        54\n",
      "          US       0.30      0.30      0.30     12249\n",
      "       other       0.04      0.04      0.04      1980\n",
      "\n",
      "    accuracy                           0.43     41319\n",
      "   macro avg       0.08      0.08      0.08     41319\n",
      "weighted avg       0.43      0.43      0.43     41319\n",
      "\n"
     ]
    },
    {
     "data": {
      "text/plain": [
       "<AxesSubplot:title={'center':'Confusion Matrix'}, xlabel='Predicted label', ylabel='True label'>"
      ]
     },
     "execution_count": 42,
     "metadata": {},
     "output_type": "execute_result"
    },
    {
     "data": {
      "image/png": "[encoded data removed]",
      "text/plain": [
       "<Figure size 864x864 with 2 Axes>"
      ]
     },
     "metadata": {
      "needs_background": "light"
     },
     "output_type": "display_data"
    }
   ],
   "source": [
    "acc_random = m.accuracy_score( y_test, y_hat_random )\n",
    "print('Accuracy :{}'.format(acc_random ) )\n",
    "\n",
    "# Balanced accuracy\n",
    "balanced_accuracy_random = m.balanced_accuracy_score(y_test, y_hat_random)\n",
    "print('Balanced accuracy : {}'.format( balanced_accuracy_random ))\n",
    "\n",
    "\n",
    "# Kappa Metrics\n",
    "kappa_random = m.cohen_kappa_score(y_test, y_hat_random)\n",
    "print('kappa score : {}'.format( kappa_random ))\n",
    "\n",
    "# classification report\n",
    "print(m.classification_report( y_test, y_hat_random ))\n",
    "\n",
    "#Confusion Matrix \n",
    "mt.plot_confusion_matrix( y_test, y_hat_random, normalize=False , figsize=(12,12) )\n"
   ]
  },
  {
   "cell_type": "markdown",
   "id": "e0c58483",
   "metadata": {},
   "source": [
    "### 7.1 Neural Network -MLP"
   ]
  },
  {
   "cell_type": "code",
   "execution_count": 43,
   "id": "a03f1546",
   "metadata": {
    "ExecuteTime": {
     "end_time": "2021-04-20T13:32:50.844563Z",
     "start_time": "2021-04-20T13:32:50.794352Z"
    }
   },
   "outputs": [],
   "source": [
    "ohe = pp.OneHotEncoder()\n",
    "y_train_nn = ohe.fit_transform(y_train.values.reshape(-1,1)).toarray()"
   ]
  },
  {
   "cell_type": "code",
   "execution_count": 44,
   "id": "0f439281",
   "metadata": {
    "ExecuteTime": {
     "end_time": "2021-04-20T13:40:25.257079Z",
     "start_time": "2021-04-20T13:32:50.846519Z"
    },
    "scrolled": true
   },
   "outputs": [
    {
     "name": "stdout",
     "output_type": "stream",
     "text": [
      "Epoch 1/100\n",
      "5165/5165 [==============================] - 4s 765us/step - loss: 8.9766 - accuracy: 0.7919\n",
      "Epoch 2/100\n",
      "5165/5165 [==============================] - 4s 768us/step - loss: 1.4607 - accuracy: 0.8156\n",
      "Epoch 3/100\n",
      "5165/5165 [==============================] - 4s 764us/step - loss: 0.6583 - accuracy: 0.8566\n",
      "Epoch 4/100\n",
      "5165/5165 [==============================] - 4s 771us/step - loss: 0.5059 - accuracy: 0.8741\n",
      "Epoch 5/100\n",
      "5165/5165 [==============================] - 4s 766us/step - loss: 0.4992 - accuracy: 0.8734\n",
      "Epoch 6/100\n",
      "5165/5165 [==============================] - 4s 760us/step - loss: 0.4962 - accuracy: 0.8738\n",
      "Epoch 7/100\n",
      "5165/5165 [==============================] - 4s 770us/step - loss: 0.4945 - accuracy: 0.8739\n",
      "Epoch 8/100\n",
      "5165/5165 [==============================] - 4s 766us/step - loss: 0.4949 - accuracy: 0.8737\n",
      "Epoch 9/100\n",
      "5165/5165 [==============================] - 4s 769us/step - loss: 0.4925 - accuracy: 0.8740\n",
      "Epoch 10/100\n",
      "5165/5165 [==============================] - 4s 774us/step - loss: 0.4906 - accuracy: 0.8747\n",
      "Epoch 11/100\n",
      "5165/5165 [==============================] - 4s 773us/step - loss: 0.4938 - accuracy: 0.8732\n",
      "Epoch 12/100\n",
      "5165/5165 [==============================] - 4s 772us/step - loss: 0.4936 - accuracy: 0.8734\n",
      "Epoch 13/100\n",
      "5165/5165 [==============================] - 4s 770us/step - loss: 0.4950 - accuracy: 0.8733\n",
      "Epoch 14/100\n",
      "5165/5165 [==============================] - 4s 772us/step - loss: 0.4931 - accuracy: 0.8736\n",
      "Epoch 15/100\n",
      "5165/5165 [==============================] - 4s 774us/step - loss: 0.4929 - accuracy: 0.8741\n",
      "Epoch 16/100\n",
      "5165/5165 [==============================] - 4s 767us/step - loss: 0.4851 - accuracy: 0.8756\n",
      "Epoch 17/100\n",
      "5165/5165 [==============================] - 4s 767us/step - loss: 0.4924 - accuracy: 0.8732\n",
      "Epoch 18/100\n",
      "5165/5165 [==============================] - 4s 780us/step - loss: 0.4945 - accuracy: 0.8720\n",
      "Epoch 19/100\n",
      "5165/5165 [==============================] - 4s 772us/step - loss: 0.4867 - accuracy: 0.8746\n",
      "Epoch 20/100\n",
      "5165/5165 [==============================] - 4s 768us/step - loss: 0.4939 - accuracy: 0.8728\n",
      "Epoch 21/100\n",
      "5165/5165 [==============================] - 4s 771us/step - loss: 0.4919 - accuracy: 0.8727\n",
      "Epoch 22/100\n",
      "5165/5165 [==============================] - 4s 765us/step - loss: 0.4897 - accuracy: 0.8737\n",
      "Epoch 23/100\n",
      "5165/5165 [==============================] - 4s 769us/step - loss: 0.4909 - accuracy: 0.8732\n",
      "Epoch 24/100\n",
      "5165/5165 [==============================] - 4s 770us/step - loss: 0.4909 - accuracy: 0.8734\n",
      "Epoch 25/100\n",
      "5165/5165 [==============================] - 4s 776us/step - loss: 0.4919 - accuracy: 0.8731\n",
      "Epoch 26/100\n",
      "5165/5165 [==============================] - 4s 771us/step - loss: 0.4847 - accuracy: 0.8752\n",
      "Epoch 27/100\n",
      "5165/5165 [==============================] - 4s 770us/step - loss: 0.4912 - accuracy: 0.8735\n",
      "Epoch 28/100\n",
      "5165/5165 [==============================] - 5s 883us/step - loss: 0.4916 - accuracy: 0.8731\n",
      "Epoch 29/100\n",
      "5165/5165 [==============================] - 4s 833us/step - loss: 0.4908 - accuracy: 0.8737\n",
      "Epoch 30/100\n",
      "5165/5165 [==============================] - 4s 854us/step - loss: 0.4876 - accuracy: 0.8745\n",
      "Epoch 31/100\n",
      "5165/5165 [==============================] - 4s 828us/step - loss: 0.4866 - accuracy: 0.8751\n",
      "Epoch 32/100\n",
      "5165/5165 [==============================] - 4s 784us/step - loss: 0.4919 - accuracy: 0.8733\n",
      "Epoch 33/100\n",
      "5165/5165 [==============================] - 4s 770us/step - loss: 0.4907 - accuracy: 0.8735\n",
      "Epoch 34/100\n",
      "5165/5165 [==============================] - 4s 772us/step - loss: 0.4931 - accuracy: 0.8729\n",
      "Epoch 35/100\n",
      "5165/5165 [==============================] - 4s 772us/step - loss: 0.4928 - accuracy: 0.8723\n",
      "Epoch 36/100\n",
      "5165/5165 [==============================] - 4s 768us/step - loss: 0.4886 - accuracy: 0.8744\n",
      "Epoch 37/100\n",
      "5165/5165 [==============================] - 4s 778us/step - loss: 0.4897 - accuracy: 0.8741\n",
      "Epoch 38/100\n",
      "5165/5165 [==============================] - 4s 766us/step - loss: 0.4886 - accuracy: 0.8738\n",
      "Epoch 39/100\n",
      "5165/5165 [==============================] - 4s 773us/step - loss: 0.4880 - accuracy: 0.8745\n",
      "Epoch 40/100\n",
      "5165/5165 [==============================] - 4s 766us/step - loss: 0.4896 - accuracy: 0.8740\n",
      "Epoch 41/100\n",
      "5165/5165 [==============================] - 4s 772us/step - loss: 0.4916 - accuracy: 0.8739\n",
      "Epoch 42/100\n",
      "5165/5165 [==============================] - 4s 769us/step - loss: 0.4875 - accuracy: 0.8747\n",
      "Epoch 43/100\n",
      "5165/5165 [==============================] - 4s 767us/step - loss: 0.4904 - accuracy: 0.8733\n",
      "Epoch 44/100\n",
      "5165/5165 [==============================] - 4s 766us/step - loss: 0.4880 - accuracy: 0.8747\n",
      "Epoch 45/100\n",
      "5165/5165 [==============================] - 4s 768us/step - loss: 0.4882 - accuracy: 0.8746\n",
      "Epoch 46/100\n",
      "5165/5165 [==============================] - 4s 767us/step - loss: 0.4913 - accuracy: 0.8730\n",
      "Epoch 47/100\n",
      "5165/5165 [==============================] - 4s 768us/step - loss: 0.4872 - accuracy: 0.8745\n",
      "Epoch 48/100\n",
      "5165/5165 [==============================] - 4s 762us/step - loss: 0.4925 - accuracy: 0.8729\n",
      "Epoch 49/100\n",
      "5165/5165 [==============================] - 4s 799us/step - loss: 0.4918 - accuracy: 0.8736\n",
      "Epoch 50/100\n",
      "5165/5165 [==============================] - 4s 836us/step - loss: 0.4879 - accuracy: 0.8746\n",
      "Epoch 51/100\n",
      "5165/5165 [==============================] - 5s 899us/step - loss: 0.4914 - accuracy: 0.8733\n",
      "Epoch 52/100\n",
      "5165/5165 [==============================] - 5s 909us/step - loss: 0.4893 - accuracy: 0.8737\n",
      "Epoch 53/100\n",
      "5165/5165 [==============================] - 4s 804us/step - loss: 0.4888 - accuracy: 0.8746\n",
      "Epoch 54/100\n",
      "5165/5165 [==============================] - 4s 783us/step - loss: 0.4881 - accuracy: 0.8746\n",
      "Epoch 55/100\n",
      "5165/5165 [==============================] - 4s 849us/step - loss: 0.4904 - accuracy: 0.8740\n",
      "Epoch 56/100\n",
      "5165/5165 [==============================] - 4s 850us/step - loss: 0.4870 - accuracy: 0.8742\n",
      "Epoch 57/100\n",
      "5165/5165 [==============================] - 5s 968us/step - loss: 0.4947 - accuracy: 0.8722\n",
      "Epoch 58/100\n",
      "5165/5165 [==============================] - 5s 889us/step - loss: 0.4931 - accuracy: 0.8725\n",
      "Epoch 59/100\n",
      "5165/5165 [==============================] - 4s 858us/step - loss: 0.4868 - accuracy: 0.8749\n",
      "Epoch 60/100\n",
      "5165/5165 [==============================] - 4s 811us/step - loss: 0.4921 - accuracy: 0.8728\n",
      "Epoch 61/100\n",
      "5165/5165 [==============================] - 4s 776us/step - loss: 0.4912 - accuracy: 0.8734\n",
      "Epoch 62/100\n",
      "5165/5165 [==============================] - 4s 820us/step - loss: 0.4909 - accuracy: 0.8733\n",
      "Epoch 63/100\n",
      "5165/5165 [==============================] - 4s 756us/step - loss: 0.4923 - accuracy: 0.8730\n",
      "Epoch 64/100\n",
      "5165/5165 [==============================] - 5s 907us/step - loss: 0.4901 - accuracy: 0.8737\n",
      "Epoch 65/100\n",
      "5165/5165 [==============================] - 5s 1ms/step - loss: 0.4898 - accuracy: 0.8744\n",
      "Epoch 66/100\n",
      "5165/5165 [==============================] - 5s 983us/step - loss: 0.4897 - accuracy: 0.8738\n",
      "Epoch 67/100\n",
      "5165/5165 [==============================] - 6s 1ms/step - loss: 0.4871 - accuracy: 0.8746\n",
      "Epoch 68/100\n",
      "5165/5165 [==============================] - 6s 1ms/step - loss: 0.4908 - accuracy: 0.8733\n",
      "Epoch 69/100\n",
      "5165/5165 [==============================] - 5s 1ms/step - loss: 0.4881 - accuracy: 0.8747\n",
      "Epoch 70/100\n",
      "5165/5165 [==============================] - 5s 1ms/step - loss: 0.4856 - accuracy: 0.8753\n",
      "Epoch 71/100\n",
      "5165/5165 [==============================] - 5s 1ms/step - loss: 0.4935 - accuracy: 0.8724\n",
      "Epoch 72/100\n",
      "5165/5165 [==============================] - 5s 988us/step - loss: 0.4912 - accuracy: 0.8734\n",
      "Epoch 73/100\n",
      "5165/5165 [==============================] - 5s 995us/step - loss: 0.4866 - accuracy: 0.8749\n",
      "Epoch 74/100\n",
      "5165/5165 [==============================] - 5s 1ms/step - loss: 0.4930 - accuracy: 0.8729\n",
      "Epoch 75/100\n",
      "5165/5165 [==============================] - 6s 1ms/step - loss: 0.4893 - accuracy: 0.8741\n",
      "Epoch 76/100\n",
      "5165/5165 [==============================] - 5s 1ms/step - loss: 0.4910 - accuracy: 0.8734\n",
      "Epoch 77/100\n",
      "5165/5165 [==============================] - 5s 979us/step - loss: 0.4862 - accuracy: 0.8748\n",
      "Epoch 78/100\n"
     ]
    },
    {
     "name": "stdout",
     "output_type": "stream",
     "text": [
      "5165/5165 [==============================] - 5s 977us/step - loss: 0.4939 - accuracy: 0.8724\n",
      "Epoch 79/100\n",
      "5165/5165 [==============================] - 5s 996us/step - loss: 0.4859 - accuracy: 0.8749\n",
      "Epoch 80/100\n",
      "5165/5165 [==============================] - 5s 983us/step - loss: 0.4942 - accuracy: 0.8722\n",
      "Epoch 81/100\n",
      "5165/5165 [==============================] - 5s 970us/step - loss: 0.4871 - accuracy: 0.8742\n",
      "Epoch 82/100\n",
      "5165/5165 [==============================] - 5s 980us/step - loss: 0.4900 - accuracy: 0.8738\n",
      "Epoch 83/100\n",
      "5165/5165 [==============================] - 5s 973us/step - loss: 0.4910 - accuracy: 0.8734\n",
      "Epoch 84/100\n",
      "5165/5165 [==============================] - 5s 981us/step - loss: 0.4936 - accuracy: 0.8726\n",
      "Epoch 85/100\n",
      "5165/5165 [==============================] - 5s 973us/step - loss: 0.4910 - accuracy: 0.8730\n",
      "Epoch 86/100\n",
      "5165/5165 [==============================] - 6s 1ms/step - loss: 0.4896 - accuracy: 0.8739\n",
      "Epoch 87/100\n",
      "5165/5165 [==============================] - 6s 1ms/step - loss: 0.4881 - accuracy: 0.8743\n",
      "Epoch 88/100\n",
      "5165/5165 [==============================] - 6s 1ms/step - loss: 0.4901 - accuracy: 0.8738\n",
      "Epoch 89/100\n",
      "5165/5165 [==============================] - 6s 1ms/step - loss: 0.4937 - accuracy: 0.8726\n",
      "Epoch 90/100\n",
      "5165/5165 [==============================] - 6s 1ms/step - loss: 0.4878 - accuracy: 0.8747\n",
      "Epoch 91/100\n",
      "5165/5165 [==============================] - 6s 1ms/step - loss: 0.4916 - accuracy: 0.8735\n",
      "Epoch 92/100\n",
      "5165/5165 [==============================] - 5s 1ms/step - loss: 0.4902 - accuracy: 0.8738\n",
      "Epoch 93/100\n",
      "5165/5165 [==============================] - 5s 986us/step - loss: 0.4884 - accuracy: 0.8742\n",
      "Epoch 94/100\n",
      "5165/5165 [==============================] - 5s 994us/step - loss: 0.4894 - accuracy: 0.8741\n",
      "Epoch 95/100\n",
      "5165/5165 [==============================] - 5s 1ms/step - loss: 0.4883 - accuracy: 0.8745\n",
      "Epoch 96/100\n",
      "5165/5165 [==============================] - 5s 1ms/step - loss: 0.4893 - accuracy: 0.8742\n",
      "Epoch 97/100\n",
      "5165/5165 [==============================] - 5s 1ms/step - loss: 0.4895 - accuracy: 0.8735\n",
      "Epoch 98/100\n",
      "5165/5165 [==============================] - 5s 983us/step - loss: 0.4885 - accuracy: 0.8741\n",
      "Epoch 99/100\n",
      "5165/5165 [==============================] - 6s 1ms/step - loss: 0.4886 - accuracy: 0.8740\n",
      "Epoch 100/100\n",
      "5165/5165 [==============================] - 6s 1ms/step - loss: 0.4902 - accuracy: 0.8742\n"
     ]
    },
    {
     "data": {
      "text/plain": [
       "<tensorflow.python.keras.callbacks.History at 0x7f798102fd90>"
      ]
     },
     "execution_count": 44,
     "metadata": {},
     "output_type": "execute_result"
    }
   ],
   "source": [
    "#model definition\n",
    "model = ml.Sequential()\n",
    "model.add( l.Dense( 256, input_dim= x_train.shape[1], activation='relu' ) )\n",
    "model.add( l.Dense( 12, activation='softmax' ) )\n",
    "\n",
    "#model compile\n",
    "model.compile(loss='categorical_crossentropy', optimizer='adam', metrics=['accuracy'] )\n",
    "\n",
    "#train model\n",
    "model.fit( x_train, y_train_nn, epochs=100 )"
   ]
  },
  {
   "cell_type": "markdown",
   "id": "b375a70f",
   "metadata": {},
   "source": [
    "### 7.1.2 NN Performance"
   ]
  },
  {
   "cell_type": "code",
   "execution_count": 45,
   "id": "d9b9525b",
   "metadata": {
    "ExecuteTime": {
     "end_time": "2021-04-20T13:40:26.090851Z",
     "start_time": "2021-04-20T13:40:25.259899Z"
    }
   },
   "outputs": [],
   "source": [
    "#prediction\n",
    "pred_nn = model.predict( x_test )\n",
    "\n",
    "#invert prediction\n",
    "y_hat_nn = ohe.inverse_transform( pred_nn )\n",
    "\n",
    "#prediction prepare\n",
    "y_test_nn = y_test.to_numpy()\n",
    "y_hat_nn = y_hat_nn.reshape( 1 , -1)[0] "
   ]
  },
  {
   "cell_type": "code",
   "execution_count": 46,
   "id": "3b8799ac",
   "metadata": {
    "ExecuteTime": {
     "end_time": "2021-04-20T13:40:28.620507Z",
     "start_time": "2021-04-20T13:40:26.092975Z"
    },
    "scrolled": false
   },
   "outputs": [
    {
     "name": "stdout",
     "output_type": "stream",
     "text": [
      "Accuracy :0.8755294174592803\n",
      "Balanced accuracy : 0.16666666666666666\n",
      "kappa score : 0.7694497945406258\n"
     ]
    },
    {
     "name": "stderr",
     "output_type": "stream",
     "text": [
      "/home/tulio/.pyenv/versions/3.8.0/envs/projetosportfolio/lib/python3.8/site-packages/sklearn/metrics/_classification.py:1245: UndefinedMetricWarning: Precision and F-score are ill-defined and being set to 0.0 in labels with no predicted samples. Use `zero_division` parameter to control this behavior.\n",
      "  _warn_prf(average, modifier, msg_start, len(result))\n",
      "/home/tulio/.pyenv/versions/3.8.0/envs/projetosportfolio/lib/python3.8/site-packages/sklearn/metrics/_classification.py:1245: UndefinedMetricWarning: Precision and F-score are ill-defined and being set to 0.0 in labels with no predicted samples. Use `zero_division` parameter to control this behavior.\n",
      "  _warn_prf(average, modifier, msg_start, len(result))\n",
      "/home/tulio/.pyenv/versions/3.8.0/envs/projetosportfolio/lib/python3.8/site-packages/sklearn/metrics/_classification.py:1245: UndefinedMetricWarning: Precision and F-score are ill-defined and being set to 0.0 in labels with no predicted samples. Use `zero_division` parameter to control this behavior.\n",
      "  _warn_prf(average, modifier, msg_start, len(result))\n"
     ]
    },
    {
     "name": "stdout",
     "output_type": "stream",
     "text": [
      "              precision    recall  f1-score   support\n",
      "\n",
      "          AU       0.00      0.00      0.00       101\n",
      "          CA       0.00      0.00      0.00       265\n",
      "          DE       0.00      0.00      0.00       234\n",
      "          ES       0.00      0.00      0.00       385\n",
      "          FR       0.00      0.00      0.00       971\n",
      "          GB       0.00      0.00      0.00       457\n",
      "          IT       0.00      0.00      0.00       553\n",
      "         NDF       1.00      1.00      1.00     23927\n",
      "          NL       0.00      0.00      0.00       143\n",
      "          PT       0.00      0.00      0.00        54\n",
      "          US       0.70      1.00      0.83     12249\n",
      "       other       0.00      0.00      0.00      1980\n",
      "\n",
      "    accuracy                           0.88     41319\n",
      "   macro avg       0.14      0.17      0.15     41319\n",
      "weighted avg       0.79      0.88      0.82     41319\n",
      "\n"
     ]
    },
    {
     "data": {
      "text/plain": [
       "<AxesSubplot:title={'center':'Confusion Matrix'}, xlabel='Predicted label', ylabel='True label'>"
      ]
     },
     "execution_count": 46,
     "metadata": {},
     "output_type": "execute_result"
    },
    {
     "data": {
      "image/png": "[encoded data removed]",
      "text/plain": [
       "<Figure size 864x864 with 2 Axes>"
      ]
     },
     "metadata": {
      "needs_background": "light"
     },
     "output_type": "display_data"
    }
   ],
   "source": [
    "#Accuracy\n",
    "acc_nn = m.accuracy_score( y_test_nn, y_hat_nn )\n",
    "print('Accuracy :{}'.format(acc_nn))\n",
    "\n",
    "# Balanced accuracy\n",
    "balanced_accuracy_nn = m.balanced_accuracy_score(y_test_nn, y_hat_nn)\n",
    "print('Balanced accuracy : {}'.format( balanced_accuracy_nn ))\n",
    "\n",
    "\n",
    "# Kappa Metrics\n",
    "kappa_nn = m.cohen_kappa_score(y_test_nn, y_hat_nn)\n",
    "print('kappa score : {}'.format( kappa_nn ))\n",
    "\n",
    "# classification report\n",
    "print(m.classification_report( y_test_nn, y_hat_nn ))\n",
    "\n",
    "#Confusion Matrix \n",
    "mt.plot_confusion_matrix( y_test_nn, y_hat_nn, normalize=False , figsize=(12,12) )\n"
   ]
  },
  {
   "cell_type": "markdown",
   "id": "64eb78fb",
   "metadata": {},
   "source": [
    "### 7.1.3 NN Performance - Cross Validation"
   ]
  },
  {
   "cell_type": "code",
   "execution_count": 47,
   "id": "606e00d4",
   "metadata": {
    "ExecuteTime": {
     "end_time": "2021-04-20T14:04:16.450983Z",
     "start_time": "2021-04-20T13:40:28.622406Z"
    },
    "code_folding": []
   },
   "outputs": [
    {
     "name": "stdout",
     "output_type": "stream",
     "text": [
      "Fold Number : 1/5\n",
      "Fold Number : 2/5\n",
      "Fold Number : 3/5\n",
      "Fold Number : 4/5\n",
      "Fold Number : 5/5\n"
     ]
    }
   ],
   "source": [
    "# Generate k-fold\n",
    "num_folds = 5 \n",
    "kfold = ms.StratifiedKFold(n_splits=num_folds, shuffle=True ,random_state=32)\n",
    "kfold.split( x_train, y_train )\n",
    "\n",
    "\n",
    "balanced_acc_list = [] \n",
    "kappa_acc_list    = []\n",
    "\n",
    "i = 1\n",
    "for train_ix, val_ix in kfold.split(x_train,y_train):\n",
    "    print('Fold Number : {}/{}'.format( i , num_folds ))\n",
    "    # get fold\n",
    "    x_train_fold  = x_train.iloc[train_ix]\n",
    "    y_train_fold  = y_train.iloc[train_ix]\n",
    "    \n",
    "    x_val_fold    = x_train.iloc[val_ix]\n",
    "    y_val_fold    = y_train.iloc[val_ix]\n",
    "    \n",
    "    # Target Definition\n",
    "    \n",
    "    ohe = pp.OneHotEncoder()\n",
    "    y_train_fold_nn = ohe.fit_transform( y_train_fold.values.reshape( -1,1 ) ).toarray()\n",
    "\n",
    "    \n",
    "    # Model definition\n",
    "    model = ml.Sequential()\n",
    "    model.add( l.Dense( 256, input_dim=x_train.shape[1], activation='relu' ) )\n",
    "    model.add( l.Dense( 12,  activation='softmax') )\n",
    "    \n",
    "    # Compile Model\n",
    "    model.compile( loss='categorical_crossentropy' , optimizer='adam', metrics=['accuracy'])    \n",
    "    \n",
    "    \n",
    "    # Trainig model \n",
    "    model.fit( x_train_fold, y_train_fold_nn, epochs=100, batch_size=32,verbose=0 )\n",
    "    \n",
    "    \n",
    "    # Prediction\n",
    "    pred_nn  = model.predict(x_val_fold)\n",
    "    y_hat_nn = ohe.inverse_transform(pred_nn)\n",
    "    \n",
    "    \n",
    "    #prepare data\n",
    "    y_test_nn  = y_val_fold.to_numpy()\n",
    "    y_hat_nn  = y_hat_nn.reshape( 1 , -1 )[0]\n",
    "    \n",
    "    # Metrics\n",
    "    ## Balanced Accuracy\n",
    "    balanced_acc_nn   =  m.balanced_accuracy_score( y_test_nn, y_hat_nn)\n",
    "    balanced_acc_list.append(balanced_acc_nn) \n",
    "    ## Kappa Metrics\n",
    "    kappa_acc_nn    =  m.cohen_kappa_score( y_test_nn, y_hat_nn)\n",
    "    kappa_acc_list.append( kappa_acc_nn )\n",
    "    \n",
    "    \n",
    "    i+=1"
   ]
  },
  {
   "cell_type": "code",
   "execution_count": 48,
   "id": "558c58bd",
   "metadata": {
    "ExecuteTime": {
     "end_time": "2021-04-20T14:04:16.456581Z",
     "start_time": "2021-04-20T14:04:16.452314Z"
    }
   },
   "outputs": [
    {
     "name": "stdout",
     "output_type": "stream",
     "text": [
      "Avg Balanced accuracy: 0.167  +/- 0.0\n",
      "Avg Kappa:             0.767  +/- 0.0\n"
     ]
    }
   ],
   "source": [
    "print('Avg Balanced accuracy: {}  +/- {}'.format(np.round( np.mean( balanced_acc_list ),3),\n",
    "                                                 np.round(np.std  ( balanced_acc_list ),4)))\n",
    "print('Avg Kappa:             {}  +/- {}'.format( np.round ( np.mean ( kappa_acc_list ),3 ),\n",
    "                                                  np.round ( np.std  ( kappa_acc_list ),3 ) ))"
   ]
  }
 ],
 "metadata": {
  "kernelspec": {
   "display_name": "Python 3",
   "language": "python",
   "name": "python3"
  },
  "language_info": {
   "codemirror_mode": {
    "name": "ipython",
    "version": 3
   },
   "file_extension": ".py",
   "mimetype": "text/x-python",
   "name": "python",
   "nbconvert_exporter": "python",
   "pygments_lexer": "ipython3",
   "version": "3.8.0"
  }
 },
 "nbformat": 4,
 "nbformat_minor": 5
}
