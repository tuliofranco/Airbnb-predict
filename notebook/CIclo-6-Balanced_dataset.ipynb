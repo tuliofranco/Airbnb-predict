{
 "cells": [
  {
   "cell_type": "markdown",
   "id": "21fa6a28",
   "metadata": {},
   "source": [
    "# <font color='blue'> Ciclo-1 end to end </font>"
   ]
  },
  {
   "cell_type": "markdown",
   "id": "32d80aab",
   "metadata": {},
   "source": [
    "## 1.0 Data Informations"
   ]
  },
  {
   "cell_type": "markdown",
   "id": "74942135",
   "metadata": {},
   "source": [
    "### 1.1 IMPORTS"
   ]
  },
  {
   "cell_type": "code",
   "execution_count": 142,
   "id": "d4263eb4",
   "metadata": {
    "ExecuteTime": {
     "end_time": "2021-04-28T10:48:08.282634Z",
     "start_time": "2021-04-28T10:48:08.276380Z"
    }
   },
   "outputs": [],
   "source": [
    "import random\n",
    "\n",
    "\n",
    "import numpy            as np\n",
    "import pandas           as pd\n",
    "import matplotlib       as plt\n",
    "import seaborn          as sns \n",
    "\n",
    "\n",
    "\n",
    "from      imblearn     import              combine                  as     c\n",
    "from      imblearn     import              over_sampling            as     oversamp\n",
    "from      imblearn     import              under_sampling           as     us\n",
    "from      scipy        import              stats                    as     ss\n",
    "from      scikitplot   import              metrics                  as     mt\n",
    "from      sklearn      import              metrics                  as     m\n",
    "from      sklearn      import              preprocessing            as     pp\n",
    "from      keras        import              layers                   as     l\n",
    "from      keras        import              models                   as     ml\n",
    "from      sklearn      import              model_selection          as     ms"
   ]
  },
  {
   "cell_type": "markdown",
   "id": "b68939fe",
   "metadata": {},
   "source": [
    "### 1.2 Helper functions"
   ]
  },
  {
   "cell_type": "code",
   "execution_count": 2,
   "id": "a2cfa5cf",
   "metadata": {
    "ExecuteTime": {
     "end_time": "2021-04-28T09:46:00.664617Z",
     "start_time": "2021-04-28T09:46:00.660297Z"
    }
   },
   "outputs": [],
   "source": [
    "def cramer_v( x, y ):\n",
    "    cm  = pd.crosstab(x,y).values\n",
    "    n  = cm.sum()\n",
    "    r,k = cm.shape\n",
    "    \n",
    "    chi2      = ss.chi2_contingency(cm)[0]\n",
    "    chi2corr  = max( 0, chi2 -  (k-1)*(r-1)/(n-1) )\n",
    "    \n",
    "    kcorr   =  k  - (k-1)**2/(n-1) \n",
    "    rcorr   =  r  - (r-1)**2/(n-1)\n",
    "    \n",
    "    return np.sqrt( ( chi2corr/n) / (min( kcorr-1 , rcorr-1 ) ) )"
   ]
  },
  {
   "cell_type": "markdown",
   "id": "512f788b",
   "metadata": {},
   "source": [
    "### 1.3 Loading data"
   ]
  },
  {
   "cell_type": "code",
   "execution_count": 3,
   "id": "766a5caa",
   "metadata": {
    "ExecuteTime": {
     "end_time": "2021-04-28T09:46:01.535115Z",
     "start_time": "2021-04-28T09:46:00.666237Z"
    }
   },
   "outputs": [],
   "source": [
    "# Users data\n",
    "data_raw    = pd.read_csv('../dataset/training_users.csv', low_memory=True)"
   ]
  },
  {
   "cell_type": "code",
   "execution_count": 4,
   "id": "4b17bf8d",
   "metadata": {
    "ExecuteTime": {
     "end_time": "2021-04-28T09:46:16.257880Z",
     "start_time": "2021-04-28T09:46:01.536811Z"
    }
   },
   "outputs": [],
   "source": [
    "# Sessions data\n",
    "df_sessions = pd.read_csv('../dataset/sessions.csv',low_memory=True)"
   ]
  },
  {
   "cell_type": "markdown",
   "id": "c569a19a",
   "metadata": {},
   "source": [
    "## 2.0 Data Description "
   ]
  },
  {
   "cell_type": "markdown",
   "id": "e4b0b995",
   "metadata": {},
   "source": [
    "### 2.1 Data Dimentions"
   ]
  },
  {
   "cell_type": "code",
   "execution_count": 5,
   "id": "498ac781",
   "metadata": {
    "ExecuteTime": {
     "end_time": "2021-04-28T09:46:16.283277Z",
     "start_time": "2021-04-28T09:46:16.259153Z"
    }
   },
   "outputs": [],
   "source": [
    "#=================== Data Users ===================#\n",
    "df1 = data_raw.copy()"
   ]
  },
  {
   "cell_type": "code",
   "execution_count": 6,
   "id": "05a01b4f",
   "metadata": {
    "ExecuteTime": {
     "end_time": "2021-04-28T09:46:16.473944Z",
     "start_time": "2021-04-28T09:46:16.286605Z"
    }
   },
   "outputs": [
    {
     "name": "stdout",
     "output_type": "stream",
     "text": [
      "Number of rows: 213451\n",
      "Number of columns: 16\n"
     ]
    }
   ],
   "source": [
    "print( 'Number of rows: {}'.format( df1.shape[0] ) )\n",
    "print( 'Number of columns: {}'.format( df1.shape[1] ) )"
   ]
  },
  {
   "cell_type": "code",
   "execution_count": 7,
   "id": "78a62f27",
   "metadata": {
    "ExecuteTime": {
     "end_time": "2021-04-28T09:46:17.070994Z",
     "start_time": "2021-04-28T09:46:16.476171Z"
    }
   },
   "outputs": [],
   "source": [
    "    #=================== Data Sessions ===================#\n",
    "dfs_1 = df_sessions.copy()"
   ]
  },
  {
   "cell_type": "code",
   "execution_count": 8,
   "id": "ad688375",
   "metadata": {
    "ExecuteTime": {
     "end_time": "2021-04-28T09:46:17.076571Z",
     "start_time": "2021-04-28T09:46:17.073251Z"
    }
   },
   "outputs": [
    {
     "name": "stdout",
     "output_type": "stream",
     "text": [
      "Number of rows: 10567737\n",
      "Number of columns: 6\n"
     ]
    }
   ],
   "source": [
    "print( 'Number of rows: {}'.format( dfs_1.shape[0] ) )\n",
    "print( 'Number of columns: {}'.format( dfs_1.shape[1] ) )"
   ]
  },
  {
   "cell_type": "markdown",
   "id": "ef55bfa1",
   "metadata": {},
   "source": [
    "### 2.2 Data Type"
   ]
  },
  {
   "cell_type": "code",
   "execution_count": 9,
   "id": "4931c789",
   "metadata": {
    "ExecuteTime": {
     "end_time": "2021-04-28T09:46:17.348936Z",
     "start_time": "2021-04-28T09:46:17.078237Z"
    }
   },
   "outputs": [
    {
     "data": {
      "text/plain": [
       "id                          object\n",
       "date_account_created        object\n",
       "timestamp_first_active       int64\n",
       "date_first_booking          object\n",
       "gender                      object\n",
       "age                        float64\n",
       "signup_method               object\n",
       "signup_flow                  int64\n",
       "language                    object\n",
       "affiliate_channel           object\n",
       "affiliate_provider          object\n",
       "first_affiliate_tracked     object\n",
       "signup_app                  object\n",
       "first_device_type           object\n",
       "first_browser               object\n",
       "country_destination         object\n",
       "dtype: object"
      ]
     },
     "execution_count": 9,
     "metadata": {},
     "output_type": "execute_result"
    }
   ],
   "source": [
    "# ================ Data Users================= # \n",
    "df1.dtypes"
   ]
  },
  {
   "cell_type": "code",
   "execution_count": 10,
   "id": "168b5ce1",
   "metadata": {
    "ExecuteTime": {
     "end_time": "2021-04-28T09:46:17.416016Z",
     "start_time": "2021-04-28T09:46:17.356245Z"
    }
   },
   "outputs": [
    {
     "data": {
      "text/plain": [
       "user_id           object\n",
       "action            object\n",
       "action_type       object\n",
       "action_detail     object\n",
       "device_type       object\n",
       "secs_elapsed     float64\n",
       "dtype: object"
      ]
     },
     "execution_count": 10,
     "metadata": {},
     "output_type": "execute_result"
    }
   ],
   "source": [
    "# ================ Data Sessions ================= #\n",
    "dfs_1.dtypes"
   ]
  },
  {
   "cell_type": "markdown",
   "id": "7cfd3aa9",
   "metadata": {},
   "source": [
    "### 2.3 NA Check"
   ]
  },
  {
   "cell_type": "code",
   "execution_count": 11,
   "id": "59c8a2b2",
   "metadata": {
    "ExecuteTime": {
     "end_time": "2021-04-28T09:46:17.758968Z",
     "start_time": "2021-04-28T09:46:17.418806Z"
    }
   },
   "outputs": [
    {
     "data": {
      "text/plain": [
       "id                              0\n",
       "date_account_created            0\n",
       "timestamp_first_active          0\n",
       "date_first_booking         124543\n",
       "gender                          0\n",
       "age                         87990\n",
       "signup_method                   0\n",
       "signup_flow                     0\n",
       "language                        0\n",
       "affiliate_channel               0\n",
       "affiliate_provider              0\n",
       "first_affiliate_tracked      6065\n",
       "signup_app                      0\n",
       "first_device_type               0\n",
       "first_browser                   0\n",
       "country_destination             0\n",
       "dtype: int64"
      ]
     },
     "execution_count": 11,
     "metadata": {},
     "output_type": "execute_result"
    }
   ],
   "source": [
    "        # ================Data Users================= #\n",
    "df1.isna().sum()"
   ]
  },
  {
   "cell_type": "code",
   "execution_count": 12,
   "id": "df983188",
   "metadata": {
    "ExecuteTime": {
     "end_time": "2021-04-28T09:46:20.056596Z",
     "start_time": "2021-04-28T09:46:17.761157Z"
    }
   },
   "outputs": [
    {
     "data": {
      "text/plain": [
       "user_id            34496\n",
       "action             79626\n",
       "action_type      1126204\n",
       "action_detail    1126204\n",
       "device_type            0\n",
       "secs_elapsed      136031\n",
       "dtype: int64"
      ]
     },
     "execution_count": 12,
     "metadata": {},
     "output_type": "execute_result"
    }
   ],
   "source": [
    "# ================Data Sessions ================= #\n",
    "dfs_1.isna().sum()"
   ]
  },
  {
   "cell_type": "code",
   "execution_count": 13,
   "id": "7c1db8a4",
   "metadata": {
    "ExecuteTime": {
     "end_time": "2021-04-28T09:46:20.132720Z",
     "start_time": "2021-04-28T09:46:20.057926Z"
    }
   },
   "outputs": [
    {
     "data": {
      "text/html": [
       "<div>\n",
       "<style scoped>\n",
       "    .dataframe tbody tr th:only-of-type {\n",
       "        vertical-align: middle;\n",
       "    }\n",
       "\n",
       "    .dataframe tbody tr th {\n",
       "        vertical-align: top;\n",
       "    }\n",
       "\n",
       "    .dataframe thead th {\n",
       "        text-align: right;\n",
       "    }\n",
       "</style>\n",
       "<table border=\"1\" class=\"dataframe\">\n",
       "  <thead>\n",
       "    <tr style=\"text-align: right;\">\n",
       "      <th></th>\n",
       "      <th>id</th>\n",
       "      <th>date_account_created</th>\n",
       "      <th>timestamp_first_active</th>\n",
       "      <th>date_first_booking</th>\n",
       "      <th>gender</th>\n",
       "      <th>age</th>\n",
       "      <th>signup_method</th>\n",
       "      <th>signup_flow</th>\n",
       "      <th>language</th>\n",
       "      <th>affiliate_channel</th>\n",
       "      <th>affiliate_provider</th>\n",
       "      <th>first_affiliate_tracked</th>\n",
       "      <th>signup_app</th>\n",
       "      <th>first_device_type</th>\n",
       "      <th>first_browser</th>\n",
       "      <th>country_destination</th>\n",
       "    </tr>\n",
       "  </thead>\n",
       "  <tbody>\n",
       "    <tr>\n",
       "      <th>0</th>\n",
       "      <td>gxn3p5htnn</td>\n",
       "      <td>2010-06-28</td>\n",
       "      <td>20090319043255</td>\n",
       "      <td>NaN</td>\n",
       "      <td>-unknown-</td>\n",
       "      <td>NaN</td>\n",
       "      <td>facebook</td>\n",
       "      <td>0</td>\n",
       "      <td>en</td>\n",
       "      <td>direct</td>\n",
       "      <td>direct</td>\n",
       "      <td>untracked</td>\n",
       "      <td>Web</td>\n",
       "      <td>Mac Desktop</td>\n",
       "      <td>Chrome</td>\n",
       "      <td>NDF</td>\n",
       "    </tr>\n",
       "    <tr>\n",
       "      <th>1</th>\n",
       "      <td>820tgsjxq7</td>\n",
       "      <td>2011-05-25</td>\n",
       "      <td>20090523174809</td>\n",
       "      <td>NaN</td>\n",
       "      <td>MALE</td>\n",
       "      <td>38.0</td>\n",
       "      <td>facebook</td>\n",
       "      <td>0</td>\n",
       "      <td>en</td>\n",
       "      <td>seo</td>\n",
       "      <td>google</td>\n",
       "      <td>untracked</td>\n",
       "      <td>Web</td>\n",
       "      <td>Mac Desktop</td>\n",
       "      <td>Chrome</td>\n",
       "      <td>NDF</td>\n",
       "    </tr>\n",
       "    <tr>\n",
       "      <th>2</th>\n",
       "      <td>4ft3gnwmtx</td>\n",
       "      <td>2010-09-28</td>\n",
       "      <td>20090609231247</td>\n",
       "      <td>2010-08-02</td>\n",
       "      <td>FEMALE</td>\n",
       "      <td>56.0</td>\n",
       "      <td>basic</td>\n",
       "      <td>3</td>\n",
       "      <td>en</td>\n",
       "      <td>direct</td>\n",
       "      <td>direct</td>\n",
       "      <td>untracked</td>\n",
       "      <td>Web</td>\n",
       "      <td>Windows Desktop</td>\n",
       "      <td>IE</td>\n",
       "      <td>US</td>\n",
       "    </tr>\n",
       "    <tr>\n",
       "      <th>3</th>\n",
       "      <td>bjjt8pjhuk</td>\n",
       "      <td>2011-12-05</td>\n",
       "      <td>20091031060129</td>\n",
       "      <td>2012-09-08</td>\n",
       "      <td>FEMALE</td>\n",
       "      <td>42.0</td>\n",
       "      <td>facebook</td>\n",
       "      <td>0</td>\n",
       "      <td>en</td>\n",
       "      <td>direct</td>\n",
       "      <td>direct</td>\n",
       "      <td>untracked</td>\n",
       "      <td>Web</td>\n",
       "      <td>Mac Desktop</td>\n",
       "      <td>Firefox</td>\n",
       "      <td>other</td>\n",
       "    </tr>\n",
       "    <tr>\n",
       "      <th>4</th>\n",
       "      <td>87mebub9p4</td>\n",
       "      <td>2010-09-14</td>\n",
       "      <td>20091208061105</td>\n",
       "      <td>2010-02-18</td>\n",
       "      <td>-unknown-</td>\n",
       "      <td>41.0</td>\n",
       "      <td>basic</td>\n",
       "      <td>0</td>\n",
       "      <td>en</td>\n",
       "      <td>direct</td>\n",
       "      <td>direct</td>\n",
       "      <td>untracked</td>\n",
       "      <td>Web</td>\n",
       "      <td>Mac Desktop</td>\n",
       "      <td>Chrome</td>\n",
       "      <td>US</td>\n",
       "    </tr>\n",
       "  </tbody>\n",
       "</table>\n",
       "</div>"
      ],
      "text/plain": [
       "           id date_account_created  timestamp_first_active date_first_booking  \\\n",
       "0  gxn3p5htnn           2010-06-28          20090319043255                NaN   \n",
       "1  820tgsjxq7           2011-05-25          20090523174809                NaN   \n",
       "2  4ft3gnwmtx           2010-09-28          20090609231247         2010-08-02   \n",
       "3  bjjt8pjhuk           2011-12-05          20091031060129         2012-09-08   \n",
       "4  87mebub9p4           2010-09-14          20091208061105         2010-02-18   \n",
       "\n",
       "      gender   age signup_method  signup_flow language affiliate_channel  \\\n",
       "0  -unknown-   NaN      facebook            0       en            direct   \n",
       "1       MALE  38.0      facebook            0       en               seo   \n",
       "2     FEMALE  56.0         basic            3       en            direct   \n",
       "3     FEMALE  42.0      facebook            0       en            direct   \n",
       "4  -unknown-  41.0         basic            0       en            direct   \n",
       "\n",
       "  affiliate_provider first_affiliate_tracked signup_app first_device_type  \\\n",
       "0             direct               untracked        Web       Mac Desktop   \n",
       "1             google               untracked        Web       Mac Desktop   \n",
       "2             direct               untracked        Web   Windows Desktop   \n",
       "3             direct               untracked        Web       Mac Desktop   \n",
       "4             direct               untracked        Web       Mac Desktop   \n",
       "\n",
       "  first_browser country_destination  \n",
       "0        Chrome                 NDF  \n",
       "1        Chrome                 NDF  \n",
       "2            IE                  US  \n",
       "3       Firefox               other  \n",
       "4        Chrome                  US  "
      ]
     },
     "execution_count": 13,
     "metadata": {},
     "output_type": "execute_result"
    }
   ],
   "source": [
    "df1.head()"
   ]
  },
  {
   "cell_type": "code",
   "execution_count": 14,
   "id": "78f36692",
   "metadata": {
    "ExecuteTime": {
     "end_time": "2021-04-28T09:46:26.259925Z",
     "start_time": "2021-04-28T09:46:20.134796Z"
    }
   },
   "outputs": [],
   "source": [
    "# Fill NA\n",
    "\n",
    "##==================================      Users       ==================================##\n",
    "# remove missing value completly\n",
    "#df1 = df1.dropna()\n",
    "\n",
    "# date_first_booking\n",
    "date_first_booking_max = pd.to_datetime( df1['date_first_booking'] ).max().strftime( '%y-%m-%d' )\n",
    "df1['date_first_booking'] = df1['date_first_booking'].fillna( date_first_booking_max )\n",
    "# age\n",
    "avg_age = df1['age'].mean().astype(int)\n",
    "df1['age'] = df1['age'].fillna(avg_age)\n",
    "\n",
    "# Tratando a Age \n",
    "df1 = df1[(df1['age']<120.0) & (df1['age']>15.0)]\n",
    "\n",
    "# first_affiliate_tracked\n",
    "df1 = df1[~df1['first_affiliate_tracked'].isna()]\n",
    "\n",
    "##==================================      Sessions       ==================================##\n",
    "# user_id\n",
    "dfs_1 = dfs_1[~dfs_1['user_id'].isna()]\n",
    "# action\n",
    "dfs_1 = dfs_1[~dfs_1['action'].isna()]\n",
    "# action_type\n",
    "dfs_1 = dfs_1[~dfs_1['action_type'].isna()]\n",
    "# action_detail\n",
    "dfs_1 = dfs_1[~dfs_1['action_detail'].isna()]\n",
    "\n",
    "# secs_elapsed\n",
    "dfs_1 = dfs_1[~dfs_1['secs_elapsed'].isna()]\n",
    "# Tratando a secs_elapsed\n",
    "dfs_1 = dfs_1[dfs_1['secs_elapsed']>0]"
   ]
  },
  {
   "cell_type": "code",
   "execution_count": 15,
   "id": "0df4feec",
   "metadata": {
    "ExecuteTime": {
     "end_time": "2021-04-28T09:46:26.288915Z",
     "start_time": "2021-04-28T09:46:26.261621Z"
    }
   },
   "outputs": [
    {
     "data": {
      "text/html": [
       "<div>\n",
       "<style scoped>\n",
       "    .dataframe tbody tr th:only-of-type {\n",
       "        vertical-align: middle;\n",
       "    }\n",
       "\n",
       "    .dataframe tbody tr th {\n",
       "        vertical-align: top;\n",
       "    }\n",
       "\n",
       "    .dataframe thead th {\n",
       "        text-align: right;\n",
       "    }\n",
       "</style>\n",
       "<table border=\"1\" class=\"dataframe\">\n",
       "  <thead>\n",
       "    <tr style=\"text-align: right;\">\n",
       "      <th></th>\n",
       "      <th>id</th>\n",
       "      <th>date_account_created</th>\n",
       "      <th>timestamp_first_active</th>\n",
       "      <th>date_first_booking</th>\n",
       "      <th>gender</th>\n",
       "      <th>age</th>\n",
       "      <th>signup_method</th>\n",
       "      <th>signup_flow</th>\n",
       "      <th>language</th>\n",
       "      <th>affiliate_channel</th>\n",
       "      <th>affiliate_provider</th>\n",
       "      <th>first_affiliate_tracked</th>\n",
       "      <th>signup_app</th>\n",
       "      <th>first_device_type</th>\n",
       "      <th>first_browser</th>\n",
       "      <th>country_destination</th>\n",
       "    </tr>\n",
       "  </thead>\n",
       "  <tbody>\n",
       "    <tr>\n",
       "      <th>0</th>\n",
       "      <td>gxn3p5htnn</td>\n",
       "      <td>2010-06-28</td>\n",
       "      <td>20090319043255</td>\n",
       "      <td>15-06-29</td>\n",
       "      <td>-unknown-</td>\n",
       "      <td>49.0</td>\n",
       "      <td>facebook</td>\n",
       "      <td>0</td>\n",
       "      <td>en</td>\n",
       "      <td>direct</td>\n",
       "      <td>direct</td>\n",
       "      <td>untracked</td>\n",
       "      <td>Web</td>\n",
       "      <td>Mac Desktop</td>\n",
       "      <td>Chrome</td>\n",
       "      <td>NDF</td>\n",
       "    </tr>\n",
       "    <tr>\n",
       "      <th>1</th>\n",
       "      <td>820tgsjxq7</td>\n",
       "      <td>2011-05-25</td>\n",
       "      <td>20090523174809</td>\n",
       "      <td>15-06-29</td>\n",
       "      <td>MALE</td>\n",
       "      <td>38.0</td>\n",
       "      <td>facebook</td>\n",
       "      <td>0</td>\n",
       "      <td>en</td>\n",
       "      <td>seo</td>\n",
       "      <td>google</td>\n",
       "      <td>untracked</td>\n",
       "      <td>Web</td>\n",
       "      <td>Mac Desktop</td>\n",
       "      <td>Chrome</td>\n",
       "      <td>NDF</td>\n",
       "    </tr>\n",
       "    <tr>\n",
       "      <th>2</th>\n",
       "      <td>4ft3gnwmtx</td>\n",
       "      <td>2010-09-28</td>\n",
       "      <td>20090609231247</td>\n",
       "      <td>2010-08-02</td>\n",
       "      <td>FEMALE</td>\n",
       "      <td>56.0</td>\n",
       "      <td>basic</td>\n",
       "      <td>3</td>\n",
       "      <td>en</td>\n",
       "      <td>direct</td>\n",
       "      <td>direct</td>\n",
       "      <td>untracked</td>\n",
       "      <td>Web</td>\n",
       "      <td>Windows Desktop</td>\n",
       "      <td>IE</td>\n",
       "      <td>US</td>\n",
       "    </tr>\n",
       "    <tr>\n",
       "      <th>3</th>\n",
       "      <td>bjjt8pjhuk</td>\n",
       "      <td>2011-12-05</td>\n",
       "      <td>20091031060129</td>\n",
       "      <td>2012-09-08</td>\n",
       "      <td>FEMALE</td>\n",
       "      <td>42.0</td>\n",
       "      <td>facebook</td>\n",
       "      <td>0</td>\n",
       "      <td>en</td>\n",
       "      <td>direct</td>\n",
       "      <td>direct</td>\n",
       "      <td>untracked</td>\n",
       "      <td>Web</td>\n",
       "      <td>Mac Desktop</td>\n",
       "      <td>Firefox</td>\n",
       "      <td>other</td>\n",
       "    </tr>\n",
       "    <tr>\n",
       "      <th>4</th>\n",
       "      <td>87mebub9p4</td>\n",
       "      <td>2010-09-14</td>\n",
       "      <td>20091208061105</td>\n",
       "      <td>2010-02-18</td>\n",
       "      <td>-unknown-</td>\n",
       "      <td>41.0</td>\n",
       "      <td>basic</td>\n",
       "      <td>0</td>\n",
       "      <td>en</td>\n",
       "      <td>direct</td>\n",
       "      <td>direct</td>\n",
       "      <td>untracked</td>\n",
       "      <td>Web</td>\n",
       "      <td>Mac Desktop</td>\n",
       "      <td>Chrome</td>\n",
       "      <td>US</td>\n",
       "    </tr>\n",
       "  </tbody>\n",
       "</table>\n",
       "</div>"
      ],
      "text/plain": [
       "           id date_account_created  timestamp_first_active date_first_booking  \\\n",
       "0  gxn3p5htnn           2010-06-28          20090319043255           15-06-29   \n",
       "1  820tgsjxq7           2011-05-25          20090523174809           15-06-29   \n",
       "2  4ft3gnwmtx           2010-09-28          20090609231247         2010-08-02   \n",
       "3  bjjt8pjhuk           2011-12-05          20091031060129         2012-09-08   \n",
       "4  87mebub9p4           2010-09-14          20091208061105         2010-02-18   \n",
       "\n",
       "      gender   age signup_method  signup_flow language affiliate_channel  \\\n",
       "0  -unknown-  49.0      facebook            0       en            direct   \n",
       "1       MALE  38.0      facebook            0       en               seo   \n",
       "2     FEMALE  56.0         basic            3       en            direct   \n",
       "3     FEMALE  42.0      facebook            0       en            direct   \n",
       "4  -unknown-  41.0         basic            0       en            direct   \n",
       "\n",
       "  affiliate_provider first_affiliate_tracked signup_app first_device_type  \\\n",
       "0             direct               untracked        Web       Mac Desktop   \n",
       "1             google               untracked        Web       Mac Desktop   \n",
       "2             direct               untracked        Web   Windows Desktop   \n",
       "3             direct               untracked        Web       Mac Desktop   \n",
       "4             direct               untracked        Web       Mac Desktop   \n",
       "\n",
       "  first_browser country_destination  \n",
       "0        Chrome                 NDF  \n",
       "1        Chrome                 NDF  \n",
       "2            IE                  US  \n",
       "3       Firefox               other  \n",
       "4        Chrome                  US  "
      ]
     },
     "execution_count": 15,
     "metadata": {},
     "output_type": "execute_result"
    }
   ],
   "source": [
    "df1.head()"
   ]
  },
  {
   "cell_type": "code",
   "execution_count": 16,
   "id": "76e0d0ba",
   "metadata": {
    "ExecuteTime": {
     "end_time": "2021-04-28T09:46:26.709434Z",
     "start_time": "2021-04-28T09:46:26.290282Z"
    }
   },
   "outputs": [
    {
     "data": {
      "text/plain": [
       "id                         0\n",
       "date_account_created       0\n",
       "timestamp_first_active     0\n",
       "date_first_booking         0\n",
       "gender                     0\n",
       "age                        0\n",
       "signup_method              0\n",
       "signup_flow                0\n",
       "language                   0\n",
       "affiliate_channel          0\n",
       "affiliate_provider         0\n",
       "first_affiliate_tracked    0\n",
       "signup_app                 0\n",
       "first_device_type          0\n",
       "first_browser              0\n",
       "country_destination        0\n",
       "dtype: int64"
      ]
     },
     "execution_count": 16,
     "metadata": {},
     "output_type": "execute_result"
    }
   ],
   "source": [
    "##==================================    Training     ==================================##\n",
    "df1.isna().sum()"
   ]
  },
  {
   "cell_type": "code",
   "execution_count": 17,
   "id": "7ef32702",
   "metadata": {
    "ExecuteTime": {
     "end_time": "2021-04-28T09:46:28.733891Z",
     "start_time": "2021-04-28T09:46:26.711665Z"
    }
   },
   "outputs": [
    {
     "data": {
      "text/plain": [
       "user_id          0.0\n",
       "action           0.0\n",
       "action_type      0.0\n",
       "action_detail    0.0\n",
       "device_type      0.0\n",
       "secs_elapsed     0.0\n",
       "dtype: float64"
      ]
     },
     "execution_count": 17,
     "metadata": {},
     "output_type": "execute_result"
    }
   ],
   "source": [
    "##==================================      Sessions       ==================================##\n",
    "dfs_1.isna().sum()/len(dfs_1)"
   ]
  },
  {
   "cell_type": "markdown",
   "id": "822ec918",
   "metadata": {},
   "source": [
    "### 2.4 Change data types"
   ]
  },
  {
   "cell_type": "code",
   "execution_count": 18,
   "id": "7755ac59",
   "metadata": {
    "ExecuteTime": {
     "end_time": "2021-04-28T09:46:29.660368Z",
     "start_time": "2021-04-28T09:46:28.735821Z"
    }
   },
   "outputs": [],
   "source": [
    "# date_account_created\n",
    "df1['date_account_created'] = pd.to_datetime( df1['date_account_created'] )\n",
    "\n",
    "# timestamp_first_active\n",
    "df1['timestamp_first_active'] = pd.to_datetime( df1['timestamp_first_active'], format='%Y%m%d%H%M%S' )\n",
    "\n",
    "# date_first_booking\n",
    "df1['date_first_booking'] = pd.to_datetime( df1['date_first_booking'] )\n",
    "\n",
    "# age\n",
    "df1['age'] = df1['age'].astype( int )"
   ]
  },
  {
   "cell_type": "code",
   "execution_count": 19,
   "id": "b93cef95",
   "metadata": {
    "ExecuteTime": {
     "end_time": "2021-04-28T09:46:29.695444Z",
     "start_time": "2021-04-28T09:46:29.662560Z"
    }
   },
   "outputs": [
    {
     "data": {
      "text/plain": [
       "PT       0.001031\n",
       "AU       0.002546\n",
       "NL       0.003611\n",
       "DE       0.005000\n",
       "CA       0.006704\n",
       "ES       0.010663\n",
       "GB       0.011060\n",
       "IT       0.013437\n",
       "FR       0.023626\n",
       "other    0.048090\n",
       "US       0.294298\n",
       "NDF      0.579933\n",
       "Name: country_destination, dtype: float64"
      ]
     },
     "execution_count": 19,
     "metadata": {},
     "output_type": "execute_result"
    }
   ],
   "source": [
    "df1['country_destination'].value_counts( normalize=True,ascending=True )"
   ]
  },
  {
   "cell_type": "markdown",
   "id": "b04dbb81",
   "metadata": {},
   "source": [
    "### 2.5 Check balanced data"
   ]
  },
  {
   "cell_type": "markdown",
   "id": "4519a6df",
   "metadata": {},
   "source": [
    "### 2.6 Descriptive Analysis"
   ]
  },
  {
   "cell_type": "code",
   "execution_count": 20,
   "id": "a023fcb5",
   "metadata": {
    "ExecuteTime": {
     "end_time": "2021-04-28T09:46:30.187335Z",
     "start_time": "2021-04-28T09:46:29.697455Z"
    }
   },
   "outputs": [],
   "source": [
    "#================= Data division =================#\n",
    "# df1\n",
    "num_attributes = df1.select_dtypes( include=['int64','float64'])\n",
    "cat_attributes = df1.select_dtypes( exclude=['int64','float64','datetime64[ns]'])\n",
    "\n",
    "# dfs_1\n",
    "num_s_attributes = dfs_1.select_dtypes( include=['int64','float64'])\n",
    "cat_s_attributes = dfs_1.select_dtypes( exclude=['int64','float64','datetime64[ns]'])\n"
   ]
  },
  {
   "cell_type": "markdown",
   "id": "4ae8adac",
   "metadata": {},
   "source": [
    "#### 2.6.1 Numerical - Users"
   ]
  },
  {
   "cell_type": "code",
   "execution_count": 21,
   "id": "a7ce3850",
   "metadata": {
    "ExecuteTime": {
     "end_time": "2021-04-28T09:46:30.323834Z",
     "start_time": "2021-04-28T09:46:30.188752Z"
    },
    "scrolled": true
   },
   "outputs": [
    {
     "data": {
      "text/html": [
       "<div>\n",
       "<style scoped>\n",
       "    .dataframe tbody tr th:only-of-type {\n",
       "        vertical-align: middle;\n",
       "    }\n",
       "\n",
       "    .dataframe tbody tr th {\n",
       "        vertical-align: top;\n",
       "    }\n",
       "\n",
       "    .dataframe thead th {\n",
       "        text-align: right;\n",
       "    }\n",
       "</style>\n",
       "<table border=\"1\" class=\"dataframe\">\n",
       "  <thead>\n",
       "    <tr style=\"text-align: right;\">\n",
       "      <th></th>\n",
       "      <th>Atributos</th>\n",
       "      <th>Min</th>\n",
       "      <th>Max</th>\n",
       "      <th>Range</th>\n",
       "      <th>Mean</th>\n",
       "      <th>Median</th>\n",
       "      <th>Std</th>\n",
       "      <th>Skew</th>\n",
       "      <th>Kurtosis</th>\n",
       "    </tr>\n",
       "  </thead>\n",
       "  <tbody>\n",
       "    <tr>\n",
       "      <th>0</th>\n",
       "      <td>age</td>\n",
       "      <td>16.0</td>\n",
       "      <td>115.0</td>\n",
       "      <td>99.0</td>\n",
       "      <td>42.117424</td>\n",
       "      <td>49.0</td>\n",
       "      <td>12.156468</td>\n",
       "      <td>1.001974</td>\n",
       "      <td>4.626117</td>\n",
       "    </tr>\n",
       "    <tr>\n",
       "      <th>1</th>\n",
       "      <td>signup_flow</td>\n",
       "      <td>0.0</td>\n",
       "      <td>25.0</td>\n",
       "      <td>25.0</td>\n",
       "      <td>3.156946</td>\n",
       "      <td>0.0</td>\n",
       "      <td>7.550665</td>\n",
       "      <td>2.283784</td>\n",
       "      <td>3.551616</td>\n",
       "    </tr>\n",
       "  </tbody>\n",
       "</table>\n",
       "</div>"
      ],
      "text/plain": [
       "     Atributos   Min    Max  Range       Mean  Median        Std      Skew  \\\n",
       "0          age  16.0  115.0   99.0  42.117424    49.0  12.156468  1.001974   \n",
       "1  signup_flow   0.0   25.0   25.0   3.156946     0.0   7.550665  2.283784   \n",
       "\n",
       "   Kurtosis  \n",
       "0  4.626117  \n",
       "1  3.551616  "
      ]
     },
     "execution_count": 21,
     "metadata": {},
     "output_type": "execute_result"
    }
   ],
   "source": [
    "# Central tendency- Mean, Median\n",
    "ct1   =   pd.DataFrame( num_attributes.apply( np.mean  ) ).T\n",
    "ct2   =   pd.DataFrame( num_attributes.apply( np.median  ) ).T\n",
    "\n",
    "# Dispersion- Std, min, max, range, skew, kurtosis.\n",
    "d1    =   pd.DataFrame( num_attributes.apply( np.std ) ).T\n",
    "d2    =   pd.DataFrame( num_attributes.apply( lambda x: x.min( ) ) ).T\n",
    "d3    =   pd.DataFrame( num_attributes.apply( lambda x: x.max( ) ) ).T\n",
    "d4    =   pd.DataFrame(num_attributes.apply(lambda x: x.max() - x.min() ) ).T\n",
    "d5    =   pd.DataFrame(num_attributes.apply(lambda x: x.skew() ) ).T\n",
    "d6    =   pd.DataFrame(num_attributes.apply(lambda x: x.kurtosis() ) ).T\n",
    "\n",
    "# Concatenar\n",
    "users_num = pd.concat( [d2,d3,d4,ct1,ct2,d1,d5,d6] ).T.reset_index()\n",
    "users_num.columns = ['Atributos','Min','Max','Range','Mean','Median','Std','Skew','Kurtosis']\n",
    "users_num"
   ]
  },
  {
   "cell_type": "markdown",
   "id": "b0eea62e",
   "metadata": {},
   "source": [
    "#### 2.6.2 Numerical - Sessions"
   ]
  },
  {
   "cell_type": "code",
   "execution_count": 22,
   "id": "a860d9bd",
   "metadata": {
    "ExecuteTime": {
     "end_time": "2021-04-28T09:46:30.856464Z",
     "start_time": "2021-04-28T09:46:30.326029Z"
    }
   },
   "outputs": [
    {
     "data": {
      "text/html": [
       "<div>\n",
       "<style scoped>\n",
       "    .dataframe tbody tr th:only-of-type {\n",
       "        vertical-align: middle;\n",
       "    }\n",
       "\n",
       "    .dataframe tbody tr th {\n",
       "        vertical-align: top;\n",
       "    }\n",
       "\n",
       "    .dataframe thead th {\n",
       "        text-align: right;\n",
       "    }\n",
       "</style>\n",
       "<table border=\"1\" class=\"dataframe\">\n",
       "  <thead>\n",
       "    <tr style=\"text-align: right;\">\n",
       "      <th></th>\n",
       "      <th>Atributos</th>\n",
       "      <th>Min</th>\n",
       "      <th>Max</th>\n",
       "      <th>Range</th>\n",
       "      <th>Mean</th>\n",
       "      <th>Median</th>\n",
       "      <th>Std</th>\n",
       "      <th>Skew</th>\n",
       "      <th>Kurtosis</th>\n",
       "    </tr>\n",
       "  </thead>\n",
       "  <tbody>\n",
       "    <tr>\n",
       "      <th>0</th>\n",
       "      <td>secs_elapsed</td>\n",
       "      <td>1.0</td>\n",
       "      <td>1799977.0</td>\n",
       "      <td>1799976.0</td>\n",
       "      <td>20159.474341</td>\n",
       "      <td>1409.0</td>\n",
       "      <td>89265.854534</td>\n",
       "      <td>11.08481</td>\n",
       "      <td>153.3537</td>\n",
       "    </tr>\n",
       "  </tbody>\n",
       "</table>\n",
       "</div>"
      ],
      "text/plain": [
       "      Atributos  Min        Max      Range          Mean  Median  \\\n",
       "0  secs_elapsed  1.0  1799977.0  1799976.0  20159.474341  1409.0   \n",
       "\n",
       "            Std      Skew  Kurtosis  \n",
       "0  89265.854534  11.08481  153.3537  "
      ]
     },
     "execution_count": 22,
     "metadata": {},
     "output_type": "execute_result"
    }
   ],
   "source": [
    "# Central tendency- Mean, Median\n",
    "cts1    =     pd.DataFrame( num_s_attributes.apply( np.mean ) ).T\n",
    "cts2    =     pd.DataFrame( num_s_attributes.apply( np.median ) ).T\n",
    "\n",
    "# Dispersion- Std, min, max, range, skew, kurtosis.\n",
    "ds1     =   pd.DataFrame( num_s_attributes.apply( np.std ) ).T\n",
    "ds2     =   pd.DataFrame( num_s_attributes.apply(lambda x: x.min() ) ).T\n",
    "ds3     =   pd.DataFrame( num_s_attributes.apply( lambda x: x.max() ) ).T\n",
    "ds4     =   pd.DataFrame( num_s_attributes.apply( lambda x: x.max() - x.min() ) ).T\n",
    "ds5     =   pd.DataFrame( num_s_attributes.apply( lambda x: x.skew() ) ).T\n",
    "ds6     =   pd.DataFrame( num_s_attributes.apply( lambda x: x.kurtosis() ) ).T\n",
    "\n",
    "# Concatenar\n",
    "sessions_num = pd.concat( [ds2,ds3,ds4,cts1,cts2,ds1,ds5,ds6]).T.reset_index()\n",
    "sessions_num.columns = ['Atributos','Min','Max','Range','Mean','Median','Std','Skew','Kurtosis']\n",
    "sessions_num"
   ]
  },
  {
   "cell_type": "markdown",
   "id": "f65e3562",
   "metadata": {},
   "source": [
    "#### 2.6.3 Categorical-Users"
   ]
  },
  {
   "cell_type": "code",
   "execution_count": 23,
   "id": "5ba179be",
   "metadata": {
    "ExecuteTime": {
     "end_time": "2021-04-28T09:46:31.214113Z",
     "start_time": "2021-04-28T09:46:30.863258Z"
    }
   },
   "outputs": [
    {
     "data": {
      "text/html": [
       "<div>\n",
       "<style scoped>\n",
       "    .dataframe tbody tr th:only-of-type {\n",
       "        vertical-align: middle;\n",
       "    }\n",
       "\n",
       "    .dataframe tbody tr th {\n",
       "        vertical-align: top;\n",
       "    }\n",
       "\n",
       "    .dataframe thead th {\n",
       "        text-align: right;\n",
       "    }\n",
       "</style>\n",
       "<table border=\"1\" class=\"dataframe\">\n",
       "  <thead>\n",
       "    <tr style=\"text-align: right;\">\n",
       "      <th></th>\n",
       "      <th>gender</th>\n",
       "      <th>signup_method</th>\n",
       "      <th>language</th>\n",
       "      <th>affiliate_channel</th>\n",
       "      <th>affiliate_provider</th>\n",
       "      <th>first_affiliate_tracked</th>\n",
       "      <th>signup_app</th>\n",
       "      <th>first_device_type</th>\n",
       "      <th>first_browser</th>\n",
       "      <th>country_destination</th>\n",
       "    </tr>\n",
       "  </thead>\n",
       "  <tbody>\n",
       "    <tr>\n",
       "      <th>count</th>\n",
       "      <td>206593</td>\n",
       "      <td>206593</td>\n",
       "      <td>206593</td>\n",
       "      <td>206593</td>\n",
       "      <td>206593</td>\n",
       "      <td>206593</td>\n",
       "      <td>206593</td>\n",
       "      <td>206593</td>\n",
       "      <td>206593</td>\n",
       "      <td>206593</td>\n",
       "    </tr>\n",
       "    <tr>\n",
       "      <th>unique</th>\n",
       "      <td>4</td>\n",
       "      <td>3</td>\n",
       "      <td>25</td>\n",
       "      <td>8</td>\n",
       "      <td>18</td>\n",
       "      <td>7</td>\n",
       "      <td>4</td>\n",
       "      <td>9</td>\n",
       "      <td>52</td>\n",
       "      <td>12</td>\n",
       "    </tr>\n",
       "    <tr>\n",
       "      <th>top</th>\n",
       "      <td>-unknown-</td>\n",
       "      <td>basic</td>\n",
       "      <td>en</td>\n",
       "      <td>direct</td>\n",
       "      <td>direct</td>\n",
       "      <td>untracked</td>\n",
       "      <td>Web</td>\n",
       "      <td>Mac Desktop</td>\n",
       "      <td>Chrome</td>\n",
       "      <td>NDF</td>\n",
       "    </tr>\n",
       "    <tr>\n",
       "      <th>freq</th>\n",
       "      <td>91706</td>\n",
       "      <td>147635</td>\n",
       "      <td>199636</td>\n",
       "      <td>133678</td>\n",
       "      <td>133438</td>\n",
       "      <td>108838</td>\n",
       "      <td>177591</td>\n",
       "      <td>89255</td>\n",
       "      <td>63620</td>\n",
       "      <td>119810</td>\n",
       "    </tr>\n",
       "  </tbody>\n",
       "</table>\n",
       "</div>"
      ],
      "text/plain": [
       "           gender signup_method language affiliate_channel affiliate_provider  \\\n",
       "count      206593        206593   206593            206593             206593   \n",
       "unique          4             3       25                 8                 18   \n",
       "top     -unknown-         basic       en            direct             direct   \n",
       "freq        91706        147635   199636            133678             133438   \n",
       "\n",
       "       first_affiliate_tracked signup_app first_device_type first_browser  \\\n",
       "count                   206593     206593            206593        206593   \n",
       "unique                       7          4                 9            52   \n",
       "top                  untracked        Web       Mac Desktop        Chrome   \n",
       "freq                    108838     177591             89255         63620   \n",
       "\n",
       "       country_destination  \n",
       "count               206593  \n",
       "unique                  12  \n",
       "top                    NDF  \n",
       "freq                119810  "
      ]
     },
     "execution_count": 23,
     "metadata": {},
     "output_type": "execute_result"
    }
   ],
   "source": [
    "cat_attributes.drop('id',axis=1).describe()"
   ]
  },
  {
   "cell_type": "markdown",
   "id": "5e25cd3e",
   "metadata": {},
   "source": [
    "#### 2.6.4 Categorical-Sessions"
   ]
  },
  {
   "cell_type": "code",
   "execution_count": 24,
   "id": "cf7a9546",
   "metadata": {
    "ExecuteTime": {
     "end_time": "2021-04-28T09:46:36.687808Z",
     "start_time": "2021-04-28T09:46:31.215846Z"
    }
   },
   "outputs": [
    {
     "data": {
      "text/html": [
       "<div>\n",
       "<style scoped>\n",
       "    .dataframe tbody tr th:only-of-type {\n",
       "        vertical-align: middle;\n",
       "    }\n",
       "\n",
       "    .dataframe tbody tr th {\n",
       "        vertical-align: top;\n",
       "    }\n",
       "\n",
       "    .dataframe thead th {\n",
       "        text-align: right;\n",
       "    }\n",
       "</style>\n",
       "<table border=\"1\" class=\"dataframe\">\n",
       "  <thead>\n",
       "    <tr style=\"text-align: right;\">\n",
       "      <th></th>\n",
       "      <th>action</th>\n",
       "      <th>action_type</th>\n",
       "      <th>action_detail</th>\n",
       "      <th>device_type</th>\n",
       "    </tr>\n",
       "  </thead>\n",
       "  <tbody>\n",
       "    <tr>\n",
       "      <th>count</th>\n",
       "      <td>9123594</td>\n",
       "      <td>9123594</td>\n",
       "      <td>9123594</td>\n",
       "      <td>9123594</td>\n",
       "    </tr>\n",
       "    <tr>\n",
       "      <th>unique</th>\n",
       "      <td>347</td>\n",
       "      <td>10</td>\n",
       "      <td>155</td>\n",
       "      <td>14</td>\n",
       "    </tr>\n",
       "    <tr>\n",
       "      <th>top</th>\n",
       "      <td>show</td>\n",
       "      <td>view</td>\n",
       "      <td>view_search_results</td>\n",
       "      <td>Mac Desktop</td>\n",
       "    </tr>\n",
       "    <tr>\n",
       "      <th>freq</th>\n",
       "      <td>2161240</td>\n",
       "      <td>3518629</td>\n",
       "      <td>1754981</td>\n",
       "      <td>2989495</td>\n",
       "    </tr>\n",
       "  </tbody>\n",
       "</table>\n",
       "</div>"
      ],
      "text/plain": [
       "         action action_type        action_detail  device_type\n",
       "count   9123594     9123594              9123594      9123594\n",
       "unique      347          10                  155           14\n",
       "top        show        view  view_search_results  Mac Desktop\n",
       "freq    2161240     3518629              1754981      2989495"
      ]
     },
     "execution_count": 24,
     "metadata": {},
     "output_type": "execute_result"
    }
   ],
   "source": [
    "cat_s_attributes.drop('user_id',axis=1).describe()"
   ]
  },
  {
   "cell_type": "code",
   "execution_count": 25,
   "id": "1f12cde9",
   "metadata": {
    "ExecuteTime": {
     "end_time": "2021-04-28T09:46:37.035985Z",
     "start_time": "2021-04-28T09:46:36.689834Z"
    }
   },
   "outputs": [],
   "source": [
    "cat_attributes_list = cat_s_attributes.drop( 'user_id',axis=1).columns.tolist()"
   ]
  },
  {
   "cell_type": "code",
   "execution_count": 26,
   "id": "93a7fc48",
   "metadata": {
    "ExecuteTime": {
     "end_time": "2021-04-28T09:47:06.279316Z",
     "start_time": "2021-04-28T09:46:37.038512Z"
    }
   },
   "outputs": [],
   "source": [
    "# Lista de attributos para o Cramer's V correlation\n",
    "corr_dict = {}\n",
    "for i in range (len( cat_attributes_list ) ):\n",
    "    corr_list = []\n",
    "    for j in range(len( cat_attributes_list ) ):\n",
    "        ref  =  cat_attributes_list[i]\n",
    "        feat =  cat_attributes_list[j]\n",
    "        \n",
    "        # Correlation\n",
    "        corr = cramer_v( cat_s_attributes[ref], cat_s_attributes[feat])\n",
    "        \n",
    "        # Append da lista \n",
    "        corr_list.append( corr )\n",
    "    \n",
    "    # Append a correlation list for each ref attributes\n",
    "    corr_dict[ ref ] = corr_list   \n",
    "    "
   ]
  },
  {
   "cell_type": "code",
   "execution_count": 27,
   "id": "8da6cc50",
   "metadata": {
    "ExecuteTime": {
     "end_time": "2021-04-28T09:47:06.299637Z",
     "start_time": "2021-04-28T09:47:06.281095Z"
    }
   },
   "outputs": [
    {
     "data": {
      "text/html": [
       "<div>\n",
       "<style scoped>\n",
       "    .dataframe tbody tr th:only-of-type {\n",
       "        vertical-align: middle;\n",
       "    }\n",
       "\n",
       "    .dataframe tbody tr th {\n",
       "        vertical-align: top;\n",
       "    }\n",
       "\n",
       "    .dataframe thead th {\n",
       "        text-align: right;\n",
       "    }\n",
       "</style>\n",
       "<table border=\"1\" class=\"dataframe\">\n",
       "  <thead>\n",
       "    <tr style=\"text-align: right;\">\n",
       "      <th></th>\n",
       "      <th>action</th>\n",
       "      <th>action_type</th>\n",
       "      <th>action_detail</th>\n",
       "      <th>device_type</th>\n",
       "    </tr>\n",
       "  </thead>\n",
       "  <tbody>\n",
       "    <tr>\n",
       "      <th>action</th>\n",
       "      <td>1.000019</td>\n",
       "      <td>0.951695</td>\n",
       "      <td>0.794873</td>\n",
       "      <td>0.259607</td>\n",
       "    </tr>\n",
       "    <tr>\n",
       "      <th>action_type</th>\n",
       "      <td>0.951695</td>\n",
       "      <td>1.000000</td>\n",
       "      <td>0.980597</td>\n",
       "      <td>0.082050</td>\n",
       "    </tr>\n",
       "    <tr>\n",
       "      <th>action_detail</th>\n",
       "      <td>0.794873</td>\n",
       "      <td>0.980597</td>\n",
       "      <td>1.000008</td>\n",
       "      <td>0.219253</td>\n",
       "    </tr>\n",
       "    <tr>\n",
       "      <th>device_type</th>\n",
       "      <td>0.259607</td>\n",
       "      <td>0.082050</td>\n",
       "      <td>0.219253</td>\n",
       "      <td>1.000001</td>\n",
       "    </tr>\n",
       "  </tbody>\n",
       "</table>\n",
       "</div>"
      ],
      "text/plain": [
       "                 action  action_type  action_detail  device_type\n",
       "action         1.000019     0.951695       0.794873     0.259607\n",
       "action_type    0.951695     1.000000       0.980597     0.082050\n",
       "action_detail  0.794873     0.980597       1.000008     0.219253\n",
       "device_type    0.259607     0.082050       0.219253     1.000001"
      ]
     },
     "execution_count": 27,
     "metadata": {},
     "output_type": "execute_result"
    }
   ],
   "source": [
    "d = pd.DataFrame( corr_dict)\n",
    "d = d.set_index( d.columns )\n",
    "d"
   ]
  },
  {
   "cell_type": "code",
   "execution_count": 28,
   "id": "a3290cd7",
   "metadata": {
    "ExecuteTime": {
     "end_time": "2021-04-28T09:47:06.921411Z",
     "start_time": "2021-04-28T09:47:06.302168Z"
    }
   },
   "outputs": [
    {
     "data": {
      "text/plain": [
       "<AxesSubplot:>"
      ]
     },
     "execution_count": 28,
     "metadata": {},
     "output_type": "execute_result"
    },
    {
     "data": {
      "image/png": "[encoded data removed]",
      "text/plain": [
       "<Figure size 432x288 with 2 Axes>"
      ]
     },
     "metadata": {
      "needs_background": "light"
     },
     "output_type": "display_data"
    }
   ],
   "source": [
    "sns.heatmap( d ,annot=True )"
   ]
  },
  {
   "cell_type": "markdown",
   "id": "2bd7931e",
   "metadata": {},
   "source": [
    "## 3.0 Feature Engineering "
   ]
  },
  {
   "cell_type": "code",
   "execution_count": 29,
   "id": "594ab891",
   "metadata": {
    "ExecuteTime": {
     "end_time": "2021-04-28T09:47:07.244896Z",
     "start_time": "2021-04-28T09:47:06.923254Z"
    }
   },
   "outputs": [],
   "source": [
    "df2 = df1.copy()\n",
    "dfs_2 = dfs_1.copy()"
   ]
  },
  {
   "cell_type": "code",
   "execution_count": 30,
   "id": "ddef7759",
   "metadata": {
    "ExecuteTime": {
     "end_time": "2021-04-28T09:47:07.254438Z",
     "start_time": "2021-04-28T09:47:07.246196Z"
    }
   },
   "outputs": [
    {
     "data": {
      "text/plain": [
       "id                                 object\n",
       "date_account_created       datetime64[ns]\n",
       "timestamp_first_active     datetime64[ns]\n",
       "date_first_booking         datetime64[ns]\n",
       "gender                             object\n",
       "age                                 int64\n",
       "signup_method                      object\n",
       "signup_flow                         int64\n",
       "language                           object\n",
       "affiliate_channel                  object\n",
       "affiliate_provider                 object\n",
       "first_affiliate_tracked            object\n",
       "signup_app                         object\n",
       "first_device_type                  object\n",
       "first_browser                      object\n",
       "country_destination                object\n",
       "dtype: object"
      ]
     },
     "execution_count": 30,
     "metadata": {},
     "output_type": "execute_result"
    }
   ],
   "source": [
    "df2.dtypes"
   ]
  },
  {
   "cell_type": "markdown",
   "id": "ab96ba7c",
   "metadata": {},
   "source": [
    "### 3.1 Create New Features"
   ]
  },
  {
   "cell_type": "code",
   "execution_count": 31,
   "id": "0b5e6bb1",
   "metadata": {
    "ExecuteTime": {
     "end_time": "2021-04-28T09:47:13.959809Z",
     "start_time": "2021-04-28T09:47:07.256688Z"
    }
   },
   "outputs": [
    {
     "name": "stderr",
     "output_type": "stream",
     "text": [
      "<ipython-input-31-984f50c693cd>:23: FutureWarning: Series.dt.weekofyear and Series.dt.week have been deprecated.  Please use Series.dt.isocalendar().week instead.\n",
      "  df2['weekodyear_first_active'] = df2['first_active'].dt.weekofyear\n",
      "<ipython-input-31-984f50c693cd>:40: FutureWarning: Series.dt.weekofyear and Series.dt.week have been deprecated.  Please use Series.dt.isocalendar().week instead.\n",
      "  df2['weekofyear_first_booking'] = df2['date_first_booking'].dt.weekofyear\n",
      "<ipython-input-31-984f50c693cd>:57: FutureWarning: Series.dt.weekofyear and Series.dt.week have been deprecated.  Please use Series.dt.isocalendar().week instead.\n",
      "  df2['weekofyear_first_created_account'] = df2['date_account_created'].dt.weekofyear\n"
     ]
    }
   ],
   "source": [
    "# Days from first active up to first booking\n",
    "df2['first_active'] = pd.to_datetime( df2['timestamp_first_active'].dt.strftime( '%Y-%m-%d' ) )\n",
    "df2['days_from_first_active_until_booking'] = (df2['date_first_booking'] - df2['first_active']).apply(lambda x: x.days)\n",
    "# Days from first active up to account created \n",
    "df2['days_from_first_active_until_account_created'] = (df2['date_account_created'] - df2['first_active']).apply(lambda x: x.days)\n",
    "# Days from account created up to first booking \n",
    "df2['days_from_account_created_until_first_booking'] = (df2['date_first_booking'] - df2['date_account_created'] ).apply(lambda x: x.days)\n",
    "\n",
    "#======================== First active ========================#\n",
    "# year first active\n",
    "df2['year_first_active'] = df2['first_active'].dt.year\n",
    "\n",
    "# month first active\n",
    "df2['month_first_active'] = df2['first_active'].dt.month\n",
    "\n",
    "# day first active\n",
    "df2['day_first_active'] = df2['first_active'].dt.day\n",
    "\n",
    "# day of week first active\n",
    "df2['dayofweek_first_active'] = df2['first_active'].dt.dayofweek\n",
    "\n",
    "# week of year first active\n",
    "df2['weekodyear_first_active'] = df2['first_active'].dt.weekofyear\n",
    "\n",
    "#======================== First booking ========================#\n",
    "\n",
    "# year first booking \n",
    "df2['year_first_booking'] = df2['date_first_booking'].dt.year\n",
    "\n",
    "# month first booking\n",
    "df2['month_first_booking'] = df2['date_first_booking'].dt.month\n",
    "\n",
    "# day first booking\n",
    "df2['day_first_booking'] = df2['date_first_booking'].dt.day\n",
    "\n",
    "# day of week first active\n",
    "df2['dayofweek_first_booking'] = df2['date_first_booking'].dt.dayofweek\n",
    "\n",
    "# week of year first booking\n",
    "df2['weekofyear_first_booking'] = df2['date_first_booking'].dt.weekofyear\n",
    "\n",
    "#======================== First Account Created ========================#\n",
    "\n",
    "# year First Account Created\n",
    "df2['year_first_created_account'] = df2['date_account_created'].dt.year\n",
    "\n",
    "# month First Account Created\n",
    "df2['month_first_created_account'] = df2['date_account_created'].dt.month\n",
    "\n",
    "# day First Account Created\n",
    "df2['day_first_created_account'] = df2['date_account_created'].dt.day\n",
    "\n",
    "# day of week First Account Created\n",
    "df2['dayofweek_first_created_account'] = df2['date_account_created'].dt.dayofweek\n",
    "\n",
    "# week of year First Account Created\n",
    "df2['weekofyear_first_created_account'] = df2['date_account_created'].dt.weekofyear\n",
    "\n"
   ]
  },
  {
   "cell_type": "markdown",
   "id": "e13f74cd",
   "metadata": {},
   "source": [
    "## 4.0 Data Filtering"
   ]
  },
  {
   "cell_type": "code",
   "execution_count": 164,
   "id": "65bd559e",
   "metadata": {
    "ExecuteTime": {
     "end_time": "2021-04-28T11:08:04.785205Z",
     "start_time": "2021-04-28T11:08:04.766545Z"
    }
   },
   "outputs": [],
   "source": [
    "df3 = df2.copy()"
   ]
  },
  {
   "cell_type": "markdown",
   "id": "0682ffa6",
   "metadata": {},
   "source": [
    "### 4.1 Filtering rows"
   ]
  },
  {
   "cell_type": "code",
   "execution_count": 165,
   "id": "89874e26",
   "metadata": {
    "ExecuteTime": {
     "end_time": "2021-04-28T11:08:06.097443Z",
     "start_time": "2021-04-28T11:08:06.095497Z"
    }
   },
   "outputs": [],
   "source": [
    "# Limpando as linhas"
   ]
  },
  {
   "cell_type": "markdown",
   "id": "63f3c1e5",
   "metadata": {},
   "source": [
    "### 4.2 Columns selection"
   ]
  },
  {
   "cell_type": "code",
   "execution_count": 166,
   "id": "b498b1c4",
   "metadata": {
    "ExecuteTime": {
     "end_time": "2021-04-28T11:08:06.903650Z",
     "start_time": "2021-04-28T11:08:06.868812Z"
    }
   },
   "outputs": [],
   "source": [
    "cols = ['date_account_created','timestamp_first_active','date_first_booking','first_active'] # Original Datetime\n",
    "df3  = df3.drop(cols,axis=1)"
   ]
  },
  {
   "cell_type": "markdown",
   "id": "90fbb5f7",
   "metadata": {},
   "source": [
    "## 5.0 Balanced dataset"
   ]
  },
  {
   "cell_type": "code",
   "execution_count": 264,
   "id": "6427d34d",
   "metadata": {
    "ExecuteTime": {
     "end_time": "2021-04-28T12:51:52.845206Z",
     "start_time": "2021-04-28T12:51:52.833507Z"
    }
   },
   "outputs": [],
   "source": [
    "df4 = df3.copy()"
   ]
  },
  {
   "cell_type": "code",
   "execution_count": 265,
   "id": "b8bf0fc8",
   "metadata": {
    "ExecuteTime": {
     "end_time": "2021-04-28T12:51:57.416176Z",
     "start_time": "2021-04-28T12:51:56.610671Z"
    }
   },
   "outputs": [],
   "source": [
    "# Encoder Categorical Variebles\n",
    "ohe = pp.OneHotEncoder()\n",
    "\n",
    "# Numerical\n",
    "cols_num = df4.select_dtypes(include=['int64','float64']).columns.tolist()\n",
    "\n",
    "# Categorical\n",
    "cols_cat = df4.select_dtypes(exclude=['int64','float64','datetime64[ns]']).drop(['id','country_destination'],axis=1).columns.tolist()\n",
    "\n",
    "## encoding\n",
    "df4_dummy = pd.DataFrame(ohe.fit_transform(df4[cols_cat]).toarray(),index=df4.index)\n",
    "\n",
    "# Join numerical and categorical\n",
    "df42 = pd.concat([df4[cols_num],df4_dummy],axis=1)\n"
   ]
  },
  {
   "cell_type": "markdown",
   "id": "b419e755",
   "metadata": {},
   "source": [
    "### 5.1 Random Undersampling"
   ]
  },
  {
   "cell_type": "code",
   "execution_count": 243,
   "id": "1db03db9",
   "metadata": {
    "ExecuteTime": {
     "end_time": "2021-04-28T12:47:37.833553Z",
     "start_time": "2021-04-28T12:47:37.828327Z"
    }
   },
   "outputs": [
    {
     "data": {
      "text/plain": [
       "36480.0"
      ]
     },
     "execution_count": 243,
     "metadata": {},
     "output_type": "execute_result"
    }
   ],
   "source": [
    "60800*0.6"
   ]
  },
  {
   "cell_type": "code",
   "execution_count": 266,
   "id": "87a1778a",
   "metadata": {
    "ExecuteTime": {
     "end_time": "2021-04-28T12:52:03.361704Z",
     "start_time": "2021-04-28T12:52:02.065992Z"
    }
   },
   "outputs": [],
   "source": [
    "# Ratio Balanced\n",
    "ratio_balanced = {'NDF': 40000,\n",
    "                   'US': 36480,}\n",
    "\n",
    "# Definir o sampler\n",
    "undersampling  = us.RandomUnderSampler( sampling_strategy=ratio_balanced, random_state=32 )\n",
    "\n",
    "\n",
    "# Aplicar o sampler\n",
    "x_under,y_under = undersampling.fit_resample( df42,df4['country_destination'] )\n",
    "\n",
    "\n"
   ]
  },
  {
   "cell_type": "code",
   "execution_count": 267,
   "id": "918174e3",
   "metadata": {
    "ExecuteTime": {
     "end_time": "2021-04-28T12:52:04.015640Z",
     "start_time": "2021-04-28T12:52:03.979216Z"
    }
   },
   "outputs": [
    {
     "data": {
      "text/plain": [
       "NDF      40000\n",
       "US       36480\n",
       "other     9935\n",
       "FR        4881\n",
       "IT        2776\n",
       "GB        2285\n",
       "ES        2203\n",
       "CA        1385\n",
       "DE        1033\n",
       "NL         746\n",
       "AU         526\n",
       "PT         213\n",
       "Name: country_destination, dtype: int64"
      ]
     },
     "execution_count": 267,
     "metadata": {},
     "output_type": "execute_result"
    }
   ],
   "source": [
    "y_under.value_counts()"
   ]
  },
  {
   "cell_type": "code",
   "execution_count": 254,
   "id": "f86eecaa",
   "metadata": {
    "ExecuteTime": {
     "end_time": "2021-04-28T12:50:24.907317Z",
     "start_time": "2021-04-28T12:50:24.895096Z"
    }
   },
   "outputs": [],
   "source": [
    "df4['country_destination']"
   ]
  },
  {
   "cell_type": "code",
   "execution_count": 268,
   "id": "694cef68",
   "metadata": {
    "ExecuteTime": {
     "end_time": "2021-04-28T12:52:08.873447Z",
     "start_time": "2021-04-28T12:52:08.825980Z"
    }
   },
   "outputs": [
    {
     "data": {
      "text/plain": [
       "NDF      119810\n",
       "US        60800\n",
       "other      9935\n",
       "FR         4881\n",
       "IT         2776\n",
       "GB         2285\n",
       "ES         2203\n",
       "CA         1385\n",
       "DE         1033\n",
       "NL          746\n",
       "AU          526\n",
       "PT          213\n",
       "Name: country_destination, dtype: int64"
      ]
     },
     "execution_count": 268,
     "metadata": {},
     "output_type": "execute_result"
    }
   ],
   "source": [
    "df4['country_destination'].value_counts()"
   ]
  },
  {
   "cell_type": "markdown",
   "id": "65798246",
   "metadata": {},
   "source": [
    "### 5.2 Random Oversampling"
   ]
  },
  {
   "cell_type": "code",
   "execution_count": 270,
   "id": "0a900044",
   "metadata": {
    "ExecuteTime": {
     "end_time": "2021-04-28T12:52:30.792011Z",
     "start_time": "2021-04-28T12:52:29.564172Z"
    }
   },
   "outputs": [],
   "source": [
    "# Ratio Balanced\n",
    "ratio_balanced = {'IT':4500,'GB':4000,'ES':4000,'CA':3000,'DE':3000,'NL':3000,'AU':2500,'PT':2000}\n",
    "\n",
    "# Definir o sampler\n",
    "oversamplig = oversamp.RandomOverSampler(sampling_strategy=ratio_balanced,random_state=32)\n",
    "\n",
    "# Aplicar o sampler\n",
    "x_over,y_over = oversamplig.fit_resample(df4,df4['country_destination'] )\n"
   ]
  },
  {
   "cell_type": "code",
   "execution_count": 271,
   "id": "c01edfec",
   "metadata": {
    "ExecuteTime": {
     "end_time": "2021-04-28T12:52:32.830046Z",
     "start_time": "2021-04-28T12:52:32.805193Z"
    }
   },
   "outputs": [
    {
     "data": {
      "text/plain": [
       "NDF      119810\n",
       "US        60800\n",
       "other      9935\n",
       "FR         4881\n",
       "IT         2776\n",
       "GB         2285\n",
       "ES         2203\n",
       "CA         1385\n",
       "DE         1033\n",
       "NL          746\n",
       "AU          526\n",
       "PT          213\n",
       "Name: country_destination, dtype: int64"
      ]
     },
     "execution_count": 271,
     "metadata": {},
     "output_type": "execute_result"
    }
   ],
   "source": [
    "df4['country_destination'].value_counts()"
   ]
  },
  {
   "cell_type": "code",
   "execution_count": 272,
   "id": "d00c95be",
   "metadata": {
    "ExecuteTime": {
     "end_time": "2021-04-28T12:52:34.060174Z",
     "start_time": "2021-04-28T12:52:34.035643Z"
    }
   },
   "outputs": [
    {
     "data": {
      "text/plain": [
       "NDF      119810\n",
       "US        60800\n",
       "other      9935\n",
       "FR         4881\n",
       "IT         2776\n",
       "GB         2285\n",
       "ES         2203\n",
       "CA         1385\n",
       "DE         1033\n",
       "NL          746\n",
       "AU          526\n",
       "PT          213\n",
       "Name: country_destination, dtype: int64"
      ]
     },
     "execution_count": 272,
     "metadata": {},
     "output_type": "execute_result"
    }
   ],
   "source": [
    "df4['country_destination'].value_counts()"
   ]
  },
  {
   "cell_type": "code",
   "execution_count": 273,
   "id": "a175dde3",
   "metadata": {
    "ExecuteTime": {
     "end_time": "2021-04-28T12:52:36.287473Z",
     "start_time": "2021-04-28T12:52:36.261258Z"
    }
   },
   "outputs": [
    {
     "data": {
      "text/plain": [
       "NDF      119810\n",
       "US        60800\n",
       "other      9935\n",
       "FR         4881\n",
       "IT         4500\n",
       "GB         4000\n",
       "ES         4000\n",
       "NL         3000\n",
       "CA         3000\n",
       "DE         3000\n",
       "AU         2500\n",
       "PT         2000\n",
       "Name: country_destination, dtype: int64"
      ]
     },
     "execution_count": 273,
     "metadata": {},
     "output_type": "execute_result"
    }
   ],
   "source": [
    "y_over.value_counts()"
   ]
  },
  {
   "cell_type": "markdown",
   "id": "62badd9c",
   "metadata": {},
   "source": [
    "### 5.3 SMOTE + TomekLink"
   ]
  },
  {
   "cell_type": "code",
   "execution_count": 311,
   "id": "9e207e00",
   "metadata": {
    "ExecuteTime": {
     "end_time": "2021-04-28T13:04:48.046736Z",
     "start_time": "2021-04-28T13:04:48.043217Z"
    }
   },
   "outputs": [
    {
     "data": {
      "text/plain": [
       "{'other': 30000,\n",
       " 'FR': 30000,\n",
       " 'IT': 28999,\n",
       " 'GB': 29000,\n",
       " 'ES': 28000,\n",
       " 'CA': 28000,\n",
       " 'DE': 27000,\n",
       " 'NL': 25000,\n",
       " 'AU': 24000,\n",
       " 'PT': 22000}"
      ]
     },
     "execution_count": 311,
     "metadata": {},
     "output_type": "execute_result"
    }
   ],
   "source": [
    "ratio_balanced"
   ]
  },
  {
   "cell_type": "code",
   "execution_count": 310,
   "id": "acacd1c4",
   "metadata": {
    "ExecuteTime": {
     "end_time": "2021-04-28T13:04:46.709549Z",
     "start_time": "2021-04-28T13:04:46.704203Z"
    }
   },
   "outputs": [],
   "source": [
    "#df4['country_destination'].value_counts().to_dict()\n",
    "ratio_balanced = {'other': int(3.019627579265224*9935),\n",
    "                   'FR': int(6.146281499692686*4881),\n",
    "                   'IT': int(10.446685878962535*2776),\n",
    "                   'GB': int(12.691466083150985*2285),\n",
    "                   'ES': int(12.70994098955969*2203),\n",
    "                   'CA': int(20.216606498194945*1385),\n",
    "                   'DE': int(26.137463697967085*1033),\n",
    "                   'NL': int(33.51206434316354*746),\n",
    "                   'AU': int(45.627376425855516*526),\n",
    "                   'PT': int(103.28638497652582*213)}"
   ]
  },
  {
   "cell_type": "code",
   "execution_count": 312,
   "id": "616abbb8",
   "metadata": {
    "ExecuteTime": {
     "end_time": "2021-04-28T14:22:48.822534Z",
     "start_time": "2021-04-28T13:04:50.207398Z"
    }
   },
   "outputs": [],
   "source": [
    "# Ratio Balanced\n",
    "\n",
    "# Definir o sampler\n",
    "smt           = c.SMOTETomek(sampling_strategy=ratio_balanced,random_state=32,n_jobs=-1)\n",
    "\n",
    "\n",
    "# Aplicar o sampler\n",
    "x_smt,y_smt   = smt.fit_resample(df42,df4['country_destination'])\n",
    "\n"
   ]
  },
  {
   "cell_type": "code",
   "execution_count": 313,
   "id": "443ceec4",
   "metadata": {
    "ExecuteTime": {
     "end_time": "2021-04-28T14:23:13.015841Z",
     "start_time": "2021-04-28T14:23:09.183495Z"
    }
   },
   "outputs": [],
   "source": [
    "# Numerical data\n",
    "df43 = x_smt[cols_num]\n",
    "\n",
    "\n",
    "# Categorical data\n",
    "df44 = x_smt.drop(cols_num,axis=1)\n",
    "df45 = pd.DataFrame(ohe.inverse_transform(df44), columns=cols_cat,index=df44.index)\n",
    "\n",
    "\n",
    "# Join numerical categorical\n",
    "df46 = pd.concat([df43,df45],axis=1)\n",
    "df46['country_destination']=y_smt\n",
    "\n"
   ]
  },
  {
   "cell_type": "markdown",
   "id": "387c60c0",
   "metadata": {},
   "source": [
    "## 6.0 Data Preparation "
   ]
  },
  {
   "cell_type": "code",
   "execution_count": 325,
   "id": "99376def",
   "metadata": {
    "ExecuteTime": {
     "end_time": "2021-04-28T14:27:36.027729Z",
     "start_time": "2021-04-28T14:27:36.015827Z"
    }
   },
   "outputs": [],
   "source": [
    "df5 = df4.copy()"
   ]
  },
  {
   "cell_type": "code",
   "execution_count": 326,
   "id": "4d47f231",
   "metadata": {
    "ExecuteTime": {
     "end_time": "2021-04-28T14:27:36.814722Z",
     "start_time": "2021-04-28T14:27:36.619217Z"
    }
   },
   "outputs": [],
   "source": [
    "#dummy variable\n",
    "df5_dummy =   pd.get_dummies( df4.drop ( ['id','country_destination'] , axis=1 ) ) \n",
    "\n",
    "#join id and country destination\n",
    "df5 = pd.concat( [df4 [['id','country_destination']] ,df5_dummy], axis=1 )"
   ]
  },
  {
   "cell_type": "markdown",
   "id": "d4726c82",
   "metadata": {},
   "source": [
    "## 7.0 Feature Selection"
   ]
  },
  {
   "cell_type": "code",
   "execution_count": 330,
   "id": "96f041e3",
   "metadata": {
    "ExecuteTime": {
     "end_time": "2021-04-28T14:29:13.345284Z",
     "start_time": "2021-04-28T14:29:13.332900Z"
    }
   },
   "outputs": [],
   "source": [
    "df6 = df5.copy()"
   ]
  },
  {
   "cell_type": "code",
   "execution_count": 331,
   "id": "47b76144",
   "metadata": {
    "ExecuteTime": {
     "end_time": "2021-04-28T14:29:17.387392Z",
     "start_time": "2021-04-28T14:29:17.223737Z"
    }
   },
   "outputs": [],
   "source": [
    "X = df6.drop( 'country_destination', axis=1 )\n",
    "y = df6['country_destination'].copy()"
   ]
  },
  {
   "cell_type": "code",
   "execution_count": 332,
   "id": "90e3b2b6",
   "metadata": {
    "ExecuteTime": {
     "end_time": "2021-04-28T14:29:19.111146Z",
     "start_time": "2021-04-28T14:29:18.394239Z"
    }
   },
   "outputs": [],
   "source": [
    "# split dataset into training and test\n",
    "X_train, X_test,y_train, y_test =  ms.train_test_split( X , y, test_size=0.2, random_state=32 )"
   ]
  },
  {
   "cell_type": "markdown",
   "id": "b8e0a658",
   "metadata": {},
   "source": [
    "## 8.0 Machine Learning Model"
   ]
  },
  {
   "cell_type": "code",
   "execution_count": 333,
   "id": "fab78d9c",
   "metadata": {
    "ExecuteTime": {
     "end_time": "2021-04-28T14:29:20.337427Z",
     "start_time": "2021-04-28T14:29:20.091146Z"
    }
   },
   "outputs": [],
   "source": [
    "x_train = X_train.drop('id', axis=1)\n",
    "x_test = X_test.drop('id', axis=1)"
   ]
  },
  {
   "cell_type": "markdown",
   "id": "c6a8ffb7",
   "metadata": {},
   "source": [
    "### 8.1 Baseline Model"
   ]
  },
  {
   "cell_type": "code",
   "execution_count": 334,
   "id": "a4d3d748",
   "metadata": {
    "ExecuteTime": {
     "end_time": "2021-04-28T14:29:22.202192Z",
     "start_time": "2021-04-28T14:29:21.472003Z"
    }
   },
   "outputs": [],
   "source": [
    "country_destination_list = df1['country_destination'].drop_duplicates().sort_values().tolist()\n",
    "k_num = y_test.shape[0]\n",
    "country_destination_weights = df1['country_destination'].value_counts(normalize=True).sort_index().tolist()\n",
    "#Model\n",
    "y_hat_random = random.choices( population=country_destination_list,\n",
    "                              weights = country_destination_weights,\n",
    "                              k=k_num)"
   ]
  },
  {
   "cell_type": "code",
   "execution_count": 335,
   "id": "184caad0",
   "metadata": {
    "ExecuteTime": {
     "end_time": "2021-04-28T14:29:55.032660Z",
     "start_time": "2021-04-28T14:29:22.872456Z"
    }
   },
   "outputs": [
    {
     "name": "stdout",
     "output_type": "stream",
     "text": [
      "Accuracy :0.4259541615237542\n",
      "Balanced accuracy : 0.08303746821828265\n",
      "kappa score : -0.005381066422721403\n",
      "              precision    recall  f1-score   support\n",
      "\n",
      "          AU       0.00      0.00      0.00       101\n",
      "          CA       0.01      0.01      0.01       265\n",
      "          DE       0.02      0.02      0.02       234\n",
      "          ES       0.00      0.01      0.00       385\n",
      "          FR       0.02      0.02      0.02       971\n",
      "          GB       0.01      0.01      0.01       457\n",
      "          IT       0.01      0.01      0.01       553\n",
      "         NDF       0.58      0.58      0.58     23927\n",
      "          NL       0.00      0.00      0.00       143\n",
      "          PT       0.00      0.00      0.00        54\n",
      "          US       0.29      0.29      0.29     12249\n",
      "       other       0.05      0.05      0.05      1980\n",
      "\n",
      "    accuracy                           0.43     41319\n",
      "   macro avg       0.08      0.08      0.08     41319\n",
      "weighted avg       0.42      0.43      0.42     41319\n",
      "\n"
     ]
    },
    {
     "data": {
      "text/plain": [
       "<AxesSubplot:title={'center':'Confusion Matrix'}, xlabel='Predicted label', ylabel='True label'>"
      ]
     },
     "execution_count": 335,
     "metadata": {},
     "output_type": "execute_result"
    },
    {
     "data": {
      "image/png": "[encoded data removed]",
      "text/plain": [
       "<Figure size 864x864 with 2 Axes>"
      ]
     },
     "metadata": {
      "needs_background": "light"
     },
     "output_type": "display_data"
    }
   ],
   "source": [
    "acc_random = m.accuracy_score( y_test, y_hat_random )\n",
    "print('Accuracy :{}'.format(acc_random ) )\n",
    "\n",
    "# Balanced accuracy\n",
    "balanced_accuracy_random = m.balanced_accuracy_score(y_test, y_hat_random)\n",
    "print('Balanced accuracy : {}'.format( balanced_accuracy_random ))\n",
    "\n",
    "\n",
    "# Kappa Metrics\n",
    "kappa_random = m.cohen_kappa_score(y_test, y_hat_random)\n",
    "print('kappa score : {}'.format( kappa_random ))\n",
    "\n",
    "# classification report\n",
    "print(m.classification_report( y_test, y_hat_random ))\n",
    "\n",
    "#Confusion Matrix \n",
    "mt.plot_confusion_matrix( y_test, y_hat_random, normalize=False , figsize=(12,12) )\n"
   ]
  },
  {
   "cell_type": "markdown",
   "id": "e0c58483",
   "metadata": {},
   "source": [
    "### 8.1 Neural Network -MLP"
   ]
  },
  {
   "cell_type": "code",
   "execution_count": 336,
   "id": "a03f1546",
   "metadata": {
    "ExecuteTime": {
     "end_time": "2021-04-28T14:29:55.320877Z",
     "start_time": "2021-04-28T14:29:55.034090Z"
    }
   },
   "outputs": [],
   "source": [
    "ohe = pp.OneHotEncoder()\n",
    "y_train_nn = ohe.fit_transform(y_train.values.reshape(-1,1)).toarray()"
   ]
  },
  {
   "cell_type": "code",
   "execution_count": 341,
   "id": "0f439281",
   "metadata": {
    "ExecuteTime": {
     "end_time": "2021-04-28T14:41:13.135793Z",
     "start_time": "2021-04-28T14:37:53.136046Z"
    },
    "scrolled": true
   },
   "outputs": [
    {
     "name": "stdout",
     "output_type": "stream",
     "text": [
      "Epoch 1/50\n",
      "5165/5165 [==============================] - 4s 766us/step - loss: 8.4694 - accuracy: 0.7920\n",
      "Epoch 2/50\n",
      "5165/5165 [==============================] - 4s 769us/step - loss: 1.4238 - accuracy: 0.8192\n",
      "Epoch 3/50\n",
      "5165/5165 [==============================] - 4s 770us/step - loss: 0.6450 - accuracy: 0.8539\n",
      "Epoch 4/50\n",
      "5165/5165 [==============================] - 4s 788us/step - loss: 0.5046 - accuracy: 0.8745\n",
      "Epoch 5/50\n",
      "5165/5165 [==============================] - 4s 851us/step - loss: 0.4978 - accuracy: 0.8731\n",
      "Epoch 6/50\n",
      "5165/5165 [==============================] - 4s 798us/step - loss: 0.5006 - accuracy: 0.8720\n",
      "Epoch 7/50\n",
      "5165/5165 [==============================] - 4s 784us/step - loss: 0.4931 - accuracy: 0.8747\n",
      "Epoch 8/50\n",
      "5165/5165 [==============================] - 4s 782us/step - loss: 0.4970 - accuracy: 0.8724\n",
      "Epoch 9/50\n",
      "5165/5165 [==============================] - 4s 768us/step - loss: 0.4964 - accuracy: 0.8727\n",
      "Epoch 10/50\n",
      "5165/5165 [==============================] - 4s 790us/step - loss: 0.4934 - accuracy: 0.8738\n",
      "Epoch 11/50\n",
      "5165/5165 [==============================] - 4s 817us/step - loss: 0.4975 - accuracy: 0.8725\n",
      "Epoch 12/50\n",
      "5165/5165 [==============================] - 4s 795us/step - loss: 0.4950 - accuracy: 0.8730\n",
      "Epoch 13/50\n",
      "5165/5165 [==============================] - 4s 822us/step - loss: 0.4937 - accuracy: 0.8734\n",
      "Epoch 14/50\n",
      "5165/5165 [==============================] - 4s 821us/step - loss: 0.4883 - accuracy: 0.8748\n",
      "Epoch 15/50\n",
      "5165/5165 [==============================] - 4s 788us/step - loss: 0.4884 - accuracy: 0.8751\n",
      "Epoch 16/50\n",
      "5165/5165 [==============================] - 4s 765us/step - loss: 0.4933 - accuracy: 0.8737\n",
      "Epoch 17/50\n",
      "5165/5165 [==============================] - 4s 758us/step - loss: 0.4927 - accuracy: 0.8725\n",
      "Epoch 18/50\n",
      "5165/5165 [==============================] - 4s 764us/step - loss: 0.4855 - accuracy: 0.8757\n",
      "Epoch 19/50\n",
      "5165/5165 [==============================] - 4s 766us/step - loss: 0.4950 - accuracy: 0.8721\n",
      "Epoch 20/50\n",
      "5165/5165 [==============================] - 4s 765us/step - loss: 0.4885 - accuracy: 0.8737\n",
      "Epoch 21/50\n",
      "5165/5165 [==============================] - 4s 760us/step - loss: 0.4870 - accuracy: 0.8748\n",
      "Epoch 22/50\n",
      "5165/5165 [==============================] - 4s 760us/step - loss: 0.4929 - accuracy: 0.8731\n",
      "Epoch 23/50\n",
      "5165/5165 [==============================] - 4s 758us/step - loss: 0.4864 - accuracy: 0.8749\n",
      "Epoch 24/50\n",
      "5165/5165 [==============================] - 4s 761us/step - loss: 0.4910 - accuracy: 0.8736\n",
      "Epoch 25/50\n",
      "5165/5165 [==============================] - 4s 764us/step - loss: 0.4917 - accuracy: 0.8733\n",
      "Epoch 26/50\n",
      "5165/5165 [==============================] - 4s 762us/step - loss: 0.4891 - accuracy: 0.8744\n",
      "Epoch 27/50\n",
      "5165/5165 [==============================] - 4s 760us/step - loss: 0.4914 - accuracy: 0.8734\n",
      "Epoch 28/50\n",
      "5165/5165 [==============================] - 4s 765us/step - loss: 0.4868 - accuracy: 0.8750\n",
      "Epoch 29/50\n",
      "5165/5165 [==============================] - 4s 765us/step - loss: 0.4909 - accuracy: 0.8732\n",
      "Epoch 30/50\n",
      "5165/5165 [==============================] - 4s 762us/step - loss: 0.4922 - accuracy: 0.8729\n",
      "Epoch 31/50\n",
      "5165/5165 [==============================] - 4s 763us/step - loss: 0.4906 - accuracy: 0.8733\n",
      "Epoch 32/50\n",
      "5165/5165 [==============================] - 4s 763us/step - loss: 0.4910 - accuracy: 0.8731\n",
      "Epoch 33/50\n",
      "5165/5165 [==============================] - 4s 763us/step - loss: 0.4922 - accuracy: 0.8730\n",
      "Epoch 34/50\n",
      "5165/5165 [==============================] - 4s 765us/step - loss: 0.4921 - accuracy: 0.8730\n",
      "Epoch 35/50\n",
      "5165/5165 [==============================] - 4s 760us/step - loss: 0.4886 - accuracy: 0.8742\n",
      "Epoch 36/50\n",
      "5165/5165 [==============================] - 4s 762us/step - loss: 0.4931 - accuracy: 0.8728\n",
      "Epoch 37/50\n",
      "5165/5165 [==============================] - 4s 764us/step - loss: 0.4894 - accuracy: 0.8739\n",
      "Epoch 38/50\n",
      "5165/5165 [==============================] - 4s 763us/step - loss: 0.4892 - accuracy: 0.8737\n",
      "Epoch 39/50\n",
      "5165/5165 [==============================] - 4s 762us/step - loss: 0.4917 - accuracy: 0.8731\n",
      "Epoch 40/50\n",
      "5165/5165 [==============================] - 4s 761us/step - loss: 0.4936 - accuracy: 0.8728\n",
      "Epoch 41/50\n",
      "5165/5165 [==============================] - 4s 764us/step - loss: 0.4876 - accuracy: 0.8745\n",
      "Epoch 42/50\n",
      "5165/5165 [==============================] - 4s 762us/step - loss: 0.4977 - accuracy: 0.8713\n",
      "Epoch 43/50\n",
      "5165/5165 [==============================] - 4s 762us/step - loss: 0.4914 - accuracy: 0.8737\n",
      "Epoch 44/50\n",
      "5165/5165 [==============================] - 4s 764us/step - loss: 0.4876 - accuracy: 0.8748\n",
      "Epoch 45/50\n",
      "5165/5165 [==============================] - 4s 763us/step - loss: 0.4906 - accuracy: 0.8739\n",
      "Epoch 46/50\n",
      "5165/5165 [==============================] - 4s 760us/step - loss: 0.4923 - accuracy: 0.8730\n",
      "Epoch 47/50\n",
      "5165/5165 [==============================] - 4s 762us/step - loss: 0.4885 - accuracy: 0.8743\n",
      "Epoch 48/50\n",
      "5165/5165 [==============================] - 4s 762us/step - loss: 0.4917 - accuracy: 0.8734\n",
      "Epoch 49/50\n",
      "5165/5165 [==============================] - 4s 765us/step - loss: 0.4868 - accuracy: 0.8753\n",
      "Epoch 50/50\n",
      "5165/5165 [==============================] - 4s 767us/step - loss: 0.4917 - accuracy: 0.8733\n"
     ]
    },
    {
     "data": {
      "text/plain": [
       "<tensorflow.python.keras.callbacks.History at 0x7fa8222993d0>"
      ]
     },
     "execution_count": 341,
     "metadata": {},
     "output_type": "execute_result"
    }
   ],
   "source": [
    "#model definition\n",
    "model = ml.Sequential()\n",
    "model.add( l.Dense( 256, input_dim= x_train.shape[1], activation='relu' ) )\n",
    "model.add( l.Dense( 12, activation='softmax' ) )\n",
    "\n",
    "#model compile\n",
    "model.compile(loss='categorical_crossentropy', optimizer='adam', metrics=['accuracy'] )\n",
    "\n",
    "#train model\n",
    "model.fit( x_train, y_train_nn, epochs=50 )"
   ]
  },
  {
   "cell_type": "markdown",
   "id": "b375a70f",
   "metadata": {},
   "source": [
    "### 8.1.2 NN Performance"
   ]
  },
  {
   "cell_type": "code",
   "execution_count": 338,
   "id": "d9b9525b",
   "metadata": {
    "ExecuteTime": {
     "end_time": "2021-04-28T14:36:08.688362Z",
     "start_time": "2021-04-28T14:36:07.945118Z"
    }
   },
   "outputs": [],
   "source": [
    "#prediction\n",
    "pred_nn = model.predict( x_test )\n",
    "\n",
    "#invert prediction\n",
    "y_hat_nn = ohe.inverse_transform( pred_nn )\n",
    "\n",
    "#prediction prepare\n",
    "y_test_nn = y_test.to_numpy()\n",
    "y_hat_nn = y_hat_nn.reshape( 1 , -1)[0] "
   ]
  },
  {
   "cell_type": "code",
   "execution_count": 339,
   "id": "3b8799ac",
   "metadata": {
    "ExecuteTime": {
     "end_time": "2021-04-28T14:36:10.845926Z",
     "start_time": "2021-04-28T14:36:08.691539Z"
    },
    "scrolled": false
   },
   "outputs": [
    {
     "name": "stdout",
     "output_type": "stream",
     "text": [
      "Accuracy :0.8755294174592803\n",
      "Balanced accuracy : 0.16666666666666666\n",
      "kappa score : 0.7694497945406258\n"
     ]
    },
    {
     "name": "stderr",
     "output_type": "stream",
     "text": [
      "/home/tulio/.pyenv/versions/3.8.0/envs/projetosportfolio/lib/python3.8/site-packages/sklearn/metrics/_classification.py:1245: UndefinedMetricWarning: Precision and F-score are ill-defined and being set to 0.0 in labels with no predicted samples. Use `zero_division` parameter to control this behavior.\n",
      "  _warn_prf(average, modifier, msg_start, len(result))\n",
      "/home/tulio/.pyenv/versions/3.8.0/envs/projetosportfolio/lib/python3.8/site-packages/sklearn/metrics/_classification.py:1245: UndefinedMetricWarning: Precision and F-score are ill-defined and being set to 0.0 in labels with no predicted samples. Use `zero_division` parameter to control this behavior.\n",
      "  _warn_prf(average, modifier, msg_start, len(result))\n",
      "/home/tulio/.pyenv/versions/3.8.0/envs/projetosportfolio/lib/python3.8/site-packages/sklearn/metrics/_classification.py:1245: UndefinedMetricWarning: Precision and F-score are ill-defined and being set to 0.0 in labels with no predicted samples. Use `zero_division` parameter to control this behavior.\n",
      "  _warn_prf(average, modifier, msg_start, len(result))\n"
     ]
    },
    {
     "name": "stdout",
     "output_type": "stream",
     "text": [
      "              precision    recall  f1-score   support\n",
      "\n",
      "          AU       0.00      0.00      0.00       101\n",
      "          CA       0.00      0.00      0.00       265\n",
      "          DE       0.00      0.00      0.00       234\n",
      "          ES       0.00      0.00      0.00       385\n",
      "          FR       0.00      0.00      0.00       971\n",
      "          GB       0.00      0.00      0.00       457\n",
      "          IT       0.00      0.00      0.00       553\n",
      "         NDF       1.00      1.00      1.00     23927\n",
      "          NL       0.00      0.00      0.00       143\n",
      "          PT       0.00      0.00      0.00        54\n",
      "          US       0.70      1.00      0.83     12249\n",
      "       other       0.00      0.00      0.00      1980\n",
      "\n",
      "    accuracy                           0.88     41319\n",
      "   macro avg       0.14      0.17      0.15     41319\n",
      "weighted avg       0.79      0.88      0.82     41319\n",
      "\n"
     ]
    },
    {
     "data": {
      "text/plain": [
       "<AxesSubplot:title={'center':'Confusion Matrix'}, xlabel='Predicted label', ylabel='True label'>"
      ]
     },
     "execution_count": 339,
     "metadata": {},
     "output_type": "execute_result"
    },
    {
     "data": {
      "image/png": "[encoded data removed]",
      "text/plain": [
       "<Figure size 864x864 with 2 Axes>"
      ]
     },
     "metadata": {
      "needs_background": "light"
     },
     "output_type": "display_data"
    }
   ],
   "source": [
    "#Accuracy\n",
    "acc_nn = m.accuracy_score( y_test_nn, y_hat_nn )\n",
    "print('Accuracy :{}'.format(acc_nn))\n",
    "\n",
    "# Balanced accuracy\n",
    "balanced_accuracy_nn = m.balanced_accuracy_score(y_test_nn, y_hat_nn)\n",
    "print('Balanced accuracy : {}'.format( balanced_accuracy_nn ))\n",
    "\n",
    "\n",
    "# Kappa Metrics\n",
    "kappa_nn = m.cohen_kappa_score(y_test_nn, y_hat_nn)\n",
    "print('kappa score : {}'.format( kappa_nn ))\n",
    "\n",
    "# classification report\n",
    "print(m.classification_report( y_test_nn, y_hat_nn ))\n",
    "\n",
    "#Confusion Matrix \n",
    "mt.plot_confusion_matrix( y_test_nn, y_hat_nn, normalize=False , figsize=(12,12) )\n"
   ]
  },
  {
   "cell_type": "markdown",
   "id": "64eb78fb",
   "metadata": {},
   "source": [
    "### 8.1.3 NN Performance - Cross Validation"
   ]
  },
  {
   "cell_type": "code",
   "execution_count": null,
   "id": "606e00d4",
   "metadata": {
    "ExecuteTime": {
     "start_time": "2021-04-28T14:38:04.423Z"
    },
    "code_folding": []
   },
   "outputs": [
    {
     "name": "stdout",
     "output_type": "stream",
     "text": [
      "Fold Number : 1/5\n",
      "Fold Number : 2/5\n",
      "Fold Number : 3/5\n",
      "Fold Number : 4/5\n",
      "Fold Number : 5/5\n"
     ]
    }
   ],
   "source": [
    "# Generate k-fold\n",
    "num_folds = 5 \n",
    "kfold = ms.StratifiedKFold(n_splits=num_folds, shuffle=True ,random_state=32)\n",
    "kfold.split( x_train, y_train )\n",
    "\n",
    "\n",
    "balanced_acc_list = [] \n",
    "kappa_acc_list    = []\n",
    "\n",
    "i = 1\n",
    "for train_ix, val_ix in kfold.split(x_train,y_train):\n",
    "    print('Fold Number : {}/{}'.format( i , num_folds ))\n",
    "    # get fold\n",
    "    x_train_fold  = x_train.iloc[train_ix]\n",
    "    y_train_fold  = y_train.iloc[train_ix]\n",
    "    \n",
    "    x_val_fold    = x_train.iloc[val_ix]\n",
    "    y_val_fold    = y_train.iloc[val_ix]\n",
    "    \n",
    "    # Target Definition\n",
    "    \n",
    "    ohe = pp.OneHotEncoder()\n",
    "    y_train_fold_nn = ohe.fit_transform( y_train_fold.values.reshape( -1,1 ) ).toarray()\n",
    "\n",
    "    \n",
    "    # Model definition\n",
    "    model = ml.Sequential()\n",
    "    model.add( l.Dense( 256, input_dim=x_train.shape[1], activation='relu' ) )\n",
    "    model.add( l.Dense( 12,  activation='softmax') )\n",
    "    \n",
    "    # Compile Model\n",
    "    model.compile( loss='categorical_crossentropy' , optimizer='adam', metrics=['accuracy'])    \n",
    "    \n",
    "    \n",
    "    # Trainig model \n",
    "    model.fit( x_train_fold, y_train_fold_nn, epochs=100, batch_size=32,verbose=0 )\n",
    "    \n",
    "    \n",
    "    # Prediction\n",
    "    pred_nn  = model.predict(x_val_fold)\n",
    "    y_hat_nn = ohe.inverse_transform(pred_nn)\n",
    "    \n",
    "    \n",
    "    #prepare data\n",
    "    y_test_nn  = y_val_fold.to_numpy()\n",
    "    y_hat_nn  = y_hat_nn.reshape( 1 , -1 )[0]\n",
    "    \n",
    "    # Metrics\n",
    "    ## Balanced Accuracy\n",
    "    balanced_acc_nn   =  m.balanced_accuracy_score( y_test_nn, y_hat_nn)\n",
    "    balanced_acc_list.append(balanced_acc_nn) \n",
    "    ## Kappa Metrics\n",
    "    kappa_acc_nn    =  m.cohen_kappa_score( y_test_nn, y_hat_nn)\n",
    "    kappa_acc_list.append( kappa_acc_nn )\n",
    "    \n",
    "    \n",
    "    i+=1"
   ]
  },
  {
   "cell_type": "code",
   "execution_count": null,
   "id": "558c58bd",
   "metadata": {
    "ExecuteTime": {
     "start_time": "2021-04-28T14:38:05.035Z"
    }
   },
   "outputs": [],
   "source": [
    "print('Avg Balanced accuracy: {}  +/- {}'.format(np.round( np.mean( balanced_acc_list ),3),\n",
    "                                                 np.round(np.std  ( balanced_acc_list ),4)))\n",
    "print('Avg Kappa:             {}  +/- {}'.format( np.round ( np.mean ( kappa_acc_list ),3 ),\n",
    "                                                  np.round ( np.std  ( kappa_acc_list ),3 ) ))"
   ]
  }
 ],
 "metadata": {
  "kernelspec": {
   "display_name": "Python 3",
   "language": "python",
   "name": "python3"
  },
  "language_info": {
   "codemirror_mode": {
    "name": "ipython",
    "version": 3
   },
   "file_extension": ".py",
   "mimetype": "text/x-python",
   "name": "python",
   "nbconvert_exporter": "python",
   "pygments_lexer": "ipython3",
   "version": "3.8.0"
  }
 },
 "nbformat": 4,
 "nbformat_minor": 5
}
