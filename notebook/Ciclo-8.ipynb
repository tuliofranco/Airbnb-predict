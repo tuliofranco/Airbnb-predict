{
 "cells": [
  {
   "cell_type": "markdown",
   "id": "21fa6a28",
   "metadata": {},
   "source": [
    "# <font color='blue'> Ciclo-1 end to end </font>"
   ]
  },
  {
   "cell_type": "markdown",
   "id": "32d80aab",
   "metadata": {},
   "source": [
    "## 1.0 Data Informations"
   ]
  },
  {
   "cell_type": "markdown",
   "id": "74942135",
   "metadata": {},
   "source": [
    "### 1.1 IMPORTS"
   ]
  },
  {
   "cell_type": "code",
   "execution_count": 154,
   "id": "d4263eb4",
   "metadata": {
    "ExecuteTime": {
     "end_time": "2021-05-18T00:49:38.352102Z",
     "start_time": "2021-05-18T00:49:38.168906Z"
    }
   },
   "outputs": [],
   "source": [
    "import random\n",
    "\n",
    "\n",
    "import numpy            as np\n",
    "import pandas           as pd\n",
    "import matplotlib       as plt\n",
    "import seaborn          as sns \n",
    "import pickle           as pkl\n",
    "\n",
    "\n",
    "\n",
    "\n",
    "from IPython.display       import Image\n",
    "from IPython.core.display  import HTML\n",
    "\n",
    "\n",
    "from category_encoders import              TargetEncoder\n",
    "from      imblearn     import              combine                  as     c\n",
    "from      imblearn     import              over_sampling            as     oversamp\n",
    "from      imblearn     import              under_sampling           as     us\n",
    "from      scipy        import              stats                    as     ss\n",
    "from      scikitplot   import              metrics                  as     mt\n",
    "from      sklearn      import              metrics                  as     m\n",
    "from      sklearn      import              preprocessing            as     pp\n",
    "from      keras        import              layers                   as     l\n",
    "from      keras        import              models                   as     ml\n",
    "from      sklearn      import              model_selection          as     ms\n",
    "\n",
    "\n",
    "from      pandas_profiling    import       ProfileReport"
   ]
  },
  {
   "cell_type": "markdown",
   "id": "b68939fe",
   "metadata": {
    "heading_collapsed": true
   },
   "source": [
    "### 1.2 Helper functions"
   ]
  },
  {
   "cell_type": "code",
   "execution_count": 51,
   "id": "a2cfa5cf",
   "metadata": {
    "ExecuteTime": {
     "end_time": "2021-05-17T23:11:13.398312Z",
     "start_time": "2021-05-17T23:11:13.392177Z"
    },
    "hidden": true
   },
   "outputs": [],
   "source": [
    "def cramer_v( x, y ):\n",
    "    cm  = pd.crosstab(x,y).values\n",
    "    n  = cm.sum()\n",
    "    r,k = cm.shape\n",
    "    \n",
    "    chi2      = ss.chi2_contingency(cm)[0]\n",
    "    chi2corr  = max( 0, chi2 -  (k-1)*(r-1)/(n-1) )\n",
    "    \n",
    "    kcorr   =  k  - (k-1)**2/(n-1) \n",
    "    rcorr   =  r  - (r-1)**2/(n-1)\n",
    "    \n",
    "    return np.sqrt( ( chi2corr/n) / (min( kcorr-1 , rcorr-1 ) ) )"
   ]
  },
  {
   "cell_type": "code",
   "execution_count": 52,
   "id": "85b4457c",
   "metadata": {
    "ExecuteTime": {
     "end_time": "2021-05-17T23:11:13.721265Z",
     "start_time": "2021-05-17T23:11:13.716390Z"
    },
    "hidden": true
   },
   "outputs": [],
   "source": [
    "# general functions\n",
    "import warnings\n",
    "warnings.filterwarnings('ignore', category=DeprecationWarning) \n",
    "warnings.filterwarnings('ignore', category=FutureWarning) \n",
    "warnings.filterwarnings('ignore', category=UserWarning) \n",
    "warnings.filterwarnings('ignore')"
   ]
  },
  {
   "cell_type": "code",
   "execution_count": 53,
   "id": "f9a59302",
   "metadata": {
    "ExecuteTime": {
     "end_time": "2021-05-17T23:11:14.236193Z",
     "start_time": "2021-05-17T23:11:14.214093Z"
    },
    "hidden": true
   },
   "outputs": [
    {
     "name": "stdout",
     "output_type": "stream",
     "text": [
      "Populating the interactive namespace from numpy and matplotlib\n"
     ]
    },
    {
     "data": {
      "text/html": [
       "<style>.container { width:100% !important; }</style>"
      ],
      "text/plain": [
       "<IPython.core.display.HTML object>"
      ]
     },
     "metadata": {},
     "output_type": "display_data"
    }
   ],
   "source": [
    "def jupyter_settings():\n",
    "    %matplotlib inline\n",
    "    %pylab inline\n",
    "    %config InlineBackend.figure_format = 'retina'\n",
    "\n",
    "    plt.style.use('ggplot')\n",
    "    plt.rcParams['figure.figsize'] = [25, 12]\n",
    "    plt.rcParams['font.size'] = 24\n",
    "\n",
    "    display(HTML('<style>.container { width:100% !important; }</style>'))\n",
    "    pd.options.display.max_columns = None\n",
    "    pd.options.display.max_rows = None\n",
    "    pd.options.display.float_format = '{:,.4f}'.format\n",
    "    pd.set_option('display.expand_frame_repr', False)\n",
    "    pd.set_option('display.max_columns', None)\n",
    "    pd.set_option('display.max_rows', None)\n",
    "\n",
    "    sns.set()\n",
    "\n",
    "jupyter_settings()"
   ]
  },
  {
   "cell_type": "markdown",
   "id": "512f788b",
   "metadata": {
    "heading_collapsed": true
   },
   "source": [
    "### 1.3 Loading data"
   ]
  },
  {
   "cell_type": "code",
   "execution_count": 3,
   "id": "766a5caa",
   "metadata": {
    "ExecuteTime": {
     "end_time": "2021-05-17T23:04:13.156731Z",
     "start_time": "2021-05-17T23:04:12.531876Z"
    },
    "hidden": true
   },
   "outputs": [],
   "source": [
    "# Users data\n",
    "data_raw    = pd.read_csv('../dataset/training_users.csv', low_memory=True)"
   ]
  },
  {
   "cell_type": "code",
   "execution_count": 4,
   "id": "4b17bf8d",
   "metadata": {
    "ExecuteTime": {
     "end_time": "2021-05-17T23:04:20.820953Z",
     "start_time": "2021-05-17T23:04:13.158471Z"
    },
    "hidden": true
   },
   "outputs": [],
   "source": [
    "# Sessions data\n",
    "df_sessions = pd.read_csv('../dataset/sessions.csv',low_memory=True)"
   ]
  },
  {
   "cell_type": "markdown",
   "id": "c569a19a",
   "metadata": {
    "heading_collapsed": true
   },
   "source": [
    "## 2.0 Data Description "
   ]
  },
  {
   "cell_type": "markdown",
   "id": "e4b0b995",
   "metadata": {
    "hidden": true
   },
   "source": [
    "### 2.1 Data Dimentions"
   ]
  },
  {
   "cell_type": "code",
   "execution_count": 5,
   "id": "498ac781",
   "metadata": {
    "ExecuteTime": {
     "end_time": "2021-05-17T23:04:20.846761Z",
     "start_time": "2021-05-17T23:04:20.822216Z"
    },
    "hidden": true
   },
   "outputs": [],
   "source": [
    "#=================== Data Users ===================#\n",
    "df1 = data_raw.copy()"
   ]
  },
  {
   "cell_type": "code",
   "execution_count": 6,
   "id": "05a01b4f",
   "metadata": {
    "ExecuteTime": {
     "end_time": "2021-05-17T23:04:21.279589Z",
     "start_time": "2021-05-17T23:04:20.848789Z"
    },
    "hidden": true
   },
   "outputs": [
    {
     "name": "stdout",
     "output_type": "stream",
     "text": [
      "Number of rows: 213451\n",
      "Number of columns: 16\n"
     ]
    }
   ],
   "source": [
    "print( 'Number of rows: {}'.format( df1.shape[0] ) )\n",
    "print( 'Number of columns: {}'.format( df1.shape[1] ) )"
   ]
  },
  {
   "cell_type": "code",
   "execution_count": 7,
   "id": "78a62f27",
   "metadata": {
    "ExecuteTime": {
     "end_time": "2021-05-17T23:04:21.772285Z",
     "start_time": "2021-05-17T23:04:21.283279Z"
    },
    "hidden": true
   },
   "outputs": [],
   "source": [
    "    #=================== Data Sessions ===================#\n",
    "dfs_1 = df_sessions.copy()"
   ]
  },
  {
   "cell_type": "code",
   "execution_count": 8,
   "id": "ad688375",
   "metadata": {
    "ExecuteTime": {
     "end_time": "2021-05-17T23:04:21.782279Z",
     "start_time": "2021-05-17T23:04:21.776727Z"
    },
    "hidden": true
   },
   "outputs": [
    {
     "name": "stdout",
     "output_type": "stream",
     "text": [
      "Number of rows: 10567737\n",
      "Number of columns: 6\n"
     ]
    }
   ],
   "source": [
    "print( 'Number of rows: {}'.format( dfs_1.shape[0] ) )\n",
    "print( 'Number of columns: {}'.format( dfs_1.shape[1] ) )"
   ]
  },
  {
   "cell_type": "markdown",
   "id": "ef55bfa1",
   "metadata": {
    "hidden": true
   },
   "source": [
    "### 2.2 Data Type"
   ]
  },
  {
   "cell_type": "code",
   "execution_count": 9,
   "id": "4931c789",
   "metadata": {
    "ExecuteTime": {
     "end_time": "2021-05-17T23:04:21.896811Z",
     "start_time": "2021-05-17T23:04:21.784428Z"
    },
    "hidden": true
   },
   "outputs": [
    {
     "data": {
      "text/plain": [
       "id                          object\n",
       "date_account_created        object\n",
       "timestamp_first_active       int64\n",
       "date_first_booking          object\n",
       "gender                      object\n",
       "age                        float64\n",
       "signup_method               object\n",
       "signup_flow                  int64\n",
       "language                    object\n",
       "affiliate_channel           object\n",
       "affiliate_provider          object\n",
       "first_affiliate_tracked     object\n",
       "signup_app                  object\n",
       "first_device_type           object\n",
       "first_browser               object\n",
       "country_destination         object\n",
       "dtype: object"
      ]
     },
     "execution_count": 9,
     "metadata": {},
     "output_type": "execute_result"
    }
   ],
   "source": [
    "# ================ Data Users================= # \n",
    "df1.dtypes"
   ]
  },
  {
   "cell_type": "code",
   "execution_count": 10,
   "id": "168b5ce1",
   "metadata": {
    "ExecuteTime": {
     "end_time": "2021-05-17T23:04:21.972775Z",
     "start_time": "2021-05-17T23:04:21.898463Z"
    },
    "hidden": true
   },
   "outputs": [
    {
     "data": {
      "text/plain": [
       "user_id           object\n",
       "action            object\n",
       "action_type       object\n",
       "action_detail     object\n",
       "device_type       object\n",
       "secs_elapsed     float64\n",
       "dtype: object"
      ]
     },
     "execution_count": 10,
     "metadata": {},
     "output_type": "execute_result"
    }
   ],
   "source": [
    "# ================ Data Sessions ================= #\n",
    "dfs_1.dtypes"
   ]
  },
  {
   "cell_type": "markdown",
   "id": "7cfd3aa9",
   "metadata": {
    "hidden": true
   },
   "source": [
    "### 2.3 NA Check"
   ]
  },
  {
   "cell_type": "code",
   "execution_count": 11,
   "id": "59c8a2b2",
   "metadata": {
    "ExecuteTime": {
     "end_time": "2021-05-17T23:04:22.265360Z",
     "start_time": "2021-05-17T23:04:21.975574Z"
    },
    "hidden": true
   },
   "outputs": [
    {
     "data": {
      "text/plain": [
       "id                              0\n",
       "date_account_created            0\n",
       "timestamp_first_active          0\n",
       "date_first_booking         124543\n",
       "gender                          0\n",
       "age                         87990\n",
       "signup_method                   0\n",
       "signup_flow                     0\n",
       "language                        0\n",
       "affiliate_channel               0\n",
       "affiliate_provider              0\n",
       "first_affiliate_tracked      6065\n",
       "signup_app                      0\n",
       "first_device_type               0\n",
       "first_browser                   0\n",
       "country_destination             0\n",
       "dtype: int64"
      ]
     },
     "execution_count": 11,
     "metadata": {},
     "output_type": "execute_result"
    }
   ],
   "source": [
    "        # ================Data Users================= #\n",
    "df1.isna().sum()"
   ]
  },
  {
   "cell_type": "code",
   "execution_count": 12,
   "id": "df983188",
   "metadata": {
    "ExecuteTime": {
     "end_time": "2021-05-17T23:04:24.859215Z",
     "start_time": "2021-05-17T23:04:22.266835Z"
    },
    "hidden": true
   },
   "outputs": [
    {
     "data": {
      "text/plain": [
       "user_id            34496\n",
       "action             79626\n",
       "action_type      1126204\n",
       "action_detail    1126204\n",
       "device_type            0\n",
       "secs_elapsed      136031\n",
       "dtype: int64"
      ]
     },
     "execution_count": 12,
     "metadata": {},
     "output_type": "execute_result"
    }
   ],
   "source": [
    "# ================Data Sessions ================= #\n",
    "dfs_1.isna().sum()"
   ]
  },
  {
   "cell_type": "code",
   "execution_count": 13,
   "id": "7c1db8a4",
   "metadata": {
    "ExecuteTime": {
     "end_time": "2021-05-17T23:04:24.882008Z",
     "start_time": "2021-05-17T23:04:24.860939Z"
    },
    "hidden": true
   },
   "outputs": [
    {
     "data": {
      "text/html": [
       "<div>\n",
       "<style scoped>\n",
       "    .dataframe tbody tr th:only-of-type {\n",
       "        vertical-align: middle;\n",
       "    }\n",
       "\n",
       "    .dataframe tbody tr th {\n",
       "        vertical-align: top;\n",
       "    }\n",
       "\n",
       "    .dataframe thead th {\n",
       "        text-align: right;\n",
       "    }\n",
       "</style>\n",
       "<table border=\"1\" class=\"dataframe\">\n",
       "  <thead>\n",
       "    <tr style=\"text-align: right;\">\n",
       "      <th></th>\n",
       "      <th>id</th>\n",
       "      <th>date_account_created</th>\n",
       "      <th>timestamp_first_active</th>\n",
       "      <th>date_first_booking</th>\n",
       "      <th>gender</th>\n",
       "      <th>age</th>\n",
       "      <th>signup_method</th>\n",
       "      <th>signup_flow</th>\n",
       "      <th>language</th>\n",
       "      <th>affiliate_channel</th>\n",
       "      <th>affiliate_provider</th>\n",
       "      <th>first_affiliate_tracked</th>\n",
       "      <th>signup_app</th>\n",
       "      <th>first_device_type</th>\n",
       "      <th>first_browser</th>\n",
       "      <th>country_destination</th>\n",
       "    </tr>\n",
       "  </thead>\n",
       "  <tbody>\n",
       "    <tr>\n",
       "      <th>0</th>\n",
       "      <td>gxn3p5htnn</td>\n",
       "      <td>2010-06-28</td>\n",
       "      <td>20090319043255</td>\n",
       "      <td>NaN</td>\n",
       "      <td>-unknown-</td>\n",
       "      <td>NaN</td>\n",
       "      <td>facebook</td>\n",
       "      <td>0</td>\n",
       "      <td>en</td>\n",
       "      <td>direct</td>\n",
       "      <td>direct</td>\n",
       "      <td>untracked</td>\n",
       "      <td>Web</td>\n",
       "      <td>Mac Desktop</td>\n",
       "      <td>Chrome</td>\n",
       "      <td>NDF</td>\n",
       "    </tr>\n",
       "    <tr>\n",
       "      <th>1</th>\n",
       "      <td>820tgsjxq7</td>\n",
       "      <td>2011-05-25</td>\n",
       "      <td>20090523174809</td>\n",
       "      <td>NaN</td>\n",
       "      <td>MALE</td>\n",
       "      <td>38.0</td>\n",
       "      <td>facebook</td>\n",
       "      <td>0</td>\n",
       "      <td>en</td>\n",
       "      <td>seo</td>\n",
       "      <td>google</td>\n",
       "      <td>untracked</td>\n",
       "      <td>Web</td>\n",
       "      <td>Mac Desktop</td>\n",
       "      <td>Chrome</td>\n",
       "      <td>NDF</td>\n",
       "    </tr>\n",
       "    <tr>\n",
       "      <th>2</th>\n",
       "      <td>4ft3gnwmtx</td>\n",
       "      <td>2010-09-28</td>\n",
       "      <td>20090609231247</td>\n",
       "      <td>2010-08-02</td>\n",
       "      <td>FEMALE</td>\n",
       "      <td>56.0</td>\n",
       "      <td>basic</td>\n",
       "      <td>3</td>\n",
       "      <td>en</td>\n",
       "      <td>direct</td>\n",
       "      <td>direct</td>\n",
       "      <td>untracked</td>\n",
       "      <td>Web</td>\n",
       "      <td>Windows Desktop</td>\n",
       "      <td>IE</td>\n",
       "      <td>US</td>\n",
       "    </tr>\n",
       "    <tr>\n",
       "      <th>3</th>\n",
       "      <td>bjjt8pjhuk</td>\n",
       "      <td>2011-12-05</td>\n",
       "      <td>20091031060129</td>\n",
       "      <td>2012-09-08</td>\n",
       "      <td>FEMALE</td>\n",
       "      <td>42.0</td>\n",
       "      <td>facebook</td>\n",
       "      <td>0</td>\n",
       "      <td>en</td>\n",
       "      <td>direct</td>\n",
       "      <td>direct</td>\n",
       "      <td>untracked</td>\n",
       "      <td>Web</td>\n",
       "      <td>Mac Desktop</td>\n",
       "      <td>Firefox</td>\n",
       "      <td>other</td>\n",
       "    </tr>\n",
       "    <tr>\n",
       "      <th>4</th>\n",
       "      <td>87mebub9p4</td>\n",
       "      <td>2010-09-14</td>\n",
       "      <td>20091208061105</td>\n",
       "      <td>2010-02-18</td>\n",
       "      <td>-unknown-</td>\n",
       "      <td>41.0</td>\n",
       "      <td>basic</td>\n",
       "      <td>0</td>\n",
       "      <td>en</td>\n",
       "      <td>direct</td>\n",
       "      <td>direct</td>\n",
       "      <td>untracked</td>\n",
       "      <td>Web</td>\n",
       "      <td>Mac Desktop</td>\n",
       "      <td>Chrome</td>\n",
       "      <td>US</td>\n",
       "    </tr>\n",
       "  </tbody>\n",
       "</table>\n",
       "</div>"
      ],
      "text/plain": [
       "           id date_account_created  timestamp_first_active date_first_booking  \\\n",
       "0  gxn3p5htnn           2010-06-28          20090319043255                NaN   \n",
       "1  820tgsjxq7           2011-05-25          20090523174809                NaN   \n",
       "2  4ft3gnwmtx           2010-09-28          20090609231247         2010-08-02   \n",
       "3  bjjt8pjhuk           2011-12-05          20091031060129         2012-09-08   \n",
       "4  87mebub9p4           2010-09-14          20091208061105         2010-02-18   \n",
       "\n",
       "      gender   age signup_method  signup_flow language affiliate_channel  \\\n",
       "0  -unknown-   NaN      facebook            0       en            direct   \n",
       "1       MALE  38.0      facebook            0       en               seo   \n",
       "2     FEMALE  56.0         basic            3       en            direct   \n",
       "3     FEMALE  42.0      facebook            0       en            direct   \n",
       "4  -unknown-  41.0         basic            0       en            direct   \n",
       "\n",
       "  affiliate_provider first_affiliate_tracked signup_app first_device_type  \\\n",
       "0             direct               untracked        Web       Mac Desktop   \n",
       "1             google               untracked        Web       Mac Desktop   \n",
       "2             direct               untracked        Web   Windows Desktop   \n",
       "3             direct               untracked        Web       Mac Desktop   \n",
       "4             direct               untracked        Web       Mac Desktop   \n",
       "\n",
       "  first_browser country_destination  \n",
       "0        Chrome                 NDF  \n",
       "1        Chrome                 NDF  \n",
       "2            IE                  US  \n",
       "3       Firefox               other  \n",
       "4        Chrome                  US  "
      ]
     },
     "execution_count": 13,
     "metadata": {},
     "output_type": "execute_result"
    }
   ],
   "source": [
    "df1.head()"
   ]
  },
  {
   "cell_type": "code",
   "execution_count": 14,
   "id": "78f36692",
   "metadata": {
    "ExecuteTime": {
     "end_time": "2021-05-17T23:04:30.829643Z",
     "start_time": "2021-05-17T23:04:24.884883Z"
    },
    "hidden": true
   },
   "outputs": [],
   "source": [
    "# Fill NA\n",
    "\n",
    "##==================================      Users       ==================================##\n",
    "# remove missing value completly\n",
    "#df1 = df1.dropna()\n",
    "\n",
    "# date_first_booking\n",
    "date_first_booking_max = pd.to_datetime( df1['date_first_booking'] ).max().strftime( '%y-%m-%d' )\n",
    "df1['date_first_booking'] = df1['date_first_booking'].fillna( date_first_booking_max )\n",
    "# age\n",
    "avg_age = df1['age'].mean().astype(int)\n",
    "df1['age'] = df1['age'].fillna(avg_age)\n",
    "\n",
    "# Tratando a Age \n",
    "df1 = df1[(df1['age']<120.0) & (df1['age']>15.0)]\n",
    "\n",
    "# first_affiliate_tracked\n",
    "df1 = df1[~df1['first_affiliate_tracked'].isna()]\n",
    "\n",
    "##==================================      Sessions       ==================================##\n",
    "# user_id\n",
    "dfs_1 = dfs_1[~dfs_1['user_id'].isna()]\n",
    "# action\n",
    "dfs_1 = dfs_1[~dfs_1['action'].isna()]\n",
    "# action_type\n",
    "dfs_1 = dfs_1[~dfs_1['action_type'].isna()]\n",
    "# action_detail\n",
    "dfs_1 = dfs_1[~dfs_1['action_detail'].isna()]\n",
    "\n",
    "# secs_elapsed\n",
    "dfs_1 = dfs_1[~dfs_1['secs_elapsed'].isna()]\n",
    "# Tratando a secs_elapsed\n",
    "dfs_1 = dfs_1[dfs_1['secs_elapsed']>0]"
   ]
  },
  {
   "cell_type": "code",
   "execution_count": 79,
   "id": "0df4feec",
   "metadata": {
    "ExecuteTime": {
     "end_time": "2021-05-17T23:43:24.413865Z",
     "start_time": "2021-05-17T23:43:24.316033Z"
    },
    "hidden": true
   },
   "outputs": [
    {
     "data": {
      "text/plain": [
       "id                        0.0000\n",
       "date_account_created      0.0000\n",
       "timestamp_first_active    0.0000\n",
       "date_first_booking        0.0000\n",
       "gender                    0.0000\n",
       "age                       0.0000\n",
       "signup_method             0.0000\n",
       "signup_flow               0.0000\n",
       "language                  0.0000\n",
       "affiliate_channel         0.0000\n",
       "affiliate_provider        0.0000\n",
       "first_affiliate_tracked   0.0000\n",
       "signup_app                0.0000\n",
       "first_device_type         0.0000\n",
       "first_browser             0.0000\n",
       "country_destination       0.0000\n",
       "dtype: float64"
      ]
     },
     "execution_count": 79,
     "metadata": {},
     "output_type": "execute_result"
    }
   ],
   "source": [
    "df1.isna().sum() / len( df1 )"
   ]
  },
  {
   "cell_type": "code",
   "execution_count": 80,
   "id": "76e0d0ba",
   "metadata": {
    "ExecuteTime": {
     "end_time": "2021-05-17T23:43:55.553385Z",
     "start_time": "2021-05-17T23:43:53.881037Z"
    },
    "hidden": true
   },
   "outputs": [
    {
     "data": {
      "text/plain": [
       "user_id         0.0000\n",
       "action          0.0000\n",
       "action_type     0.0000\n",
       "action_detail   0.0000\n",
       "device_type     0.0000\n",
       "secs_elapsed    0.0000\n",
       "dtype: float64"
      ]
     },
     "execution_count": 80,
     "metadata": {},
     "output_type": "execute_result"
    }
   ],
   "source": [
    "##==================================    Training     ==================================##\n",
    "dfs_1.isna().sum()/len(dfs_1)"
   ]
  },
  {
   "cell_type": "markdown",
   "id": "822ec918",
   "metadata": {
    "hidden": true
   },
   "source": [
    "### 2.4 Change data types"
   ]
  },
  {
   "cell_type": "code",
   "execution_count": 81,
   "id": "473cf75f",
   "metadata": {
    "ExecuteTime": {
     "end_time": "2021-05-17T23:44:19.160949Z",
     "start_time": "2021-05-17T23:44:19.156711Z"
    },
    "hidden": true
   },
   "outputs": [
    {
     "data": {
      "text/plain": [
       "id                                 object\n",
       "date_account_created       datetime64[ns]\n",
       "timestamp_first_active     datetime64[ns]\n",
       "date_first_booking         datetime64[ns]\n",
       "gender                             object\n",
       "age                                 int64\n",
       "signup_method                      object\n",
       "signup_flow                         int64\n",
       "language                           object\n",
       "affiliate_channel                  object\n",
       "affiliate_provider                 object\n",
       "first_affiliate_tracked            object\n",
       "signup_app                         object\n",
       "first_device_type                  object\n",
       "first_browser                      object\n",
       "country_destination                object\n",
       "dtype: object"
      ]
     },
     "execution_count": 81,
     "metadata": {},
     "output_type": "execute_result"
    }
   ],
   "source": [
    "df1.dtypes "
   ]
  },
  {
   "cell_type": "code",
   "execution_count": 18,
   "id": "7755ac59",
   "metadata": {
    "ExecuteTime": {
     "end_time": "2021-05-17T23:04:34.355667Z",
     "start_time": "2021-05-17T23:04:33.410820Z"
    },
    "hidden": true
   },
   "outputs": [],
   "source": [
    "# date_account_created\n",
    "df1['date_account_created'] = pd.to_datetime( df1['date_account_created'] )\n",
    "\n",
    "# timestamp_first_active\n",
    "df1['timestamp_first_active'] = pd.to_datetime( df1['timestamp_first_active'], format='%Y%m%d%H%M%S' )\n",
    "\n",
    "# date_first_booking\n",
    "df1['date_first_booking'] = pd.to_datetime( df1['date_first_booking'] )\n",
    "\n",
    "# age\n",
    "df1['age'] = df1['age'].astype( int )"
   ]
  },
  {
   "cell_type": "markdown",
   "id": "b04dbb81",
   "metadata": {
    "hidden": true
   },
   "source": [
    "### 2.5 Check balanced data"
   ]
  },
  {
   "cell_type": "code",
   "execution_count": 83,
   "id": "b93cef95",
   "metadata": {
    "ExecuteTime": {
     "end_time": "2021-05-17T23:45:42.610951Z",
     "start_time": "2021-05-17T23:45:42.587096Z"
    },
    "hidden": true
   },
   "outputs": [
    {
     "data": {
      "text/plain": [
       "NDF      119810\n",
       "US        60800\n",
       "other      9935\n",
       "FR         4881\n",
       "IT         2776\n",
       "GB         2285\n",
       "ES         2203\n",
       "CA         1385\n",
       "DE         1033\n",
       "NL          746\n",
       "AU          526\n",
       "PT          213\n",
       "Name: country_destination, dtype: int64"
      ]
     },
     "execution_count": 83,
     "metadata": {},
     "output_type": "execute_result"
    }
   ],
   "source": [
    "#df1['country_destination'].value_counts( normalize=True,ascending=True )\n",
    "df1['country_destination'].value_counts()"
   ]
  },
  {
   "cell_type": "markdown",
   "id": "4519a6df",
   "metadata": {
    "hidden": true
   },
   "source": [
    "### 2.6 Descriptive Analysis"
   ]
  },
  {
   "cell_type": "code",
   "execution_count": 85,
   "id": "76adaa75",
   "metadata": {
    "ExecuteTime": {
     "end_time": "2021-05-17T23:47:03.981369Z",
     "start_time": "2021-05-17T23:47:03.640151Z"
    },
    "hidden": true
   },
   "outputs": [],
   "source": [
    "# Users\n",
    "num_attributes = df1.select_dtypes( include=['int64', 'float64'] )\n",
    "cat_attributes = df1.select_dtypes( exclude=['int64', 'float64', 'datetime64[ns]'] )\n",
    "time_attributes = df1.select_dtypes( include=['datetime64[ns]'] )\n",
    "\n",
    "# Sessions\n",
    "num_attributes_sessions = dfs_1.select_dtypes( include=['int64', 'float64'] )\n",
    "cat_attributes_sessions = dfs_1.select_dtypes( exclude=['int64', 'float64', 'datetime64[ns]'] )\n",
    "time_attributes_sessions = dfs_1.select_dtypes( include=['datetime64[ns]'] )"
   ]
  },
  {
   "cell_type": "markdown",
   "id": "4ae8adac",
   "metadata": {
    "hidden": true
   },
   "source": [
    "#### 2.6.1 Numerical - Users"
   ]
  },
  {
   "cell_type": "code",
   "execution_count": 21,
   "id": "a7ce3850",
   "metadata": {
    "ExecuteTime": {
     "end_time": "2021-05-17T23:04:35.014483Z",
     "start_time": "2021-05-17T23:04:34.968168Z"
    },
    "hidden": true,
    "scrolled": true
   },
   "outputs": [
    {
     "data": {
      "text/html": [
       "<div>\n",
       "<style scoped>\n",
       "    .dataframe tbody tr th:only-of-type {\n",
       "        vertical-align: middle;\n",
       "    }\n",
       "\n",
       "    .dataframe tbody tr th {\n",
       "        vertical-align: top;\n",
       "    }\n",
       "\n",
       "    .dataframe thead th {\n",
       "        text-align: right;\n",
       "    }\n",
       "</style>\n",
       "<table border=\"1\" class=\"dataframe\">\n",
       "  <thead>\n",
       "    <tr style=\"text-align: right;\">\n",
       "      <th></th>\n",
       "      <th>Atributos</th>\n",
       "      <th>Min</th>\n",
       "      <th>Max</th>\n",
       "      <th>Range</th>\n",
       "      <th>Mean</th>\n",
       "      <th>Median</th>\n",
       "      <th>Std</th>\n",
       "      <th>Skew</th>\n",
       "      <th>Kurtosis</th>\n",
       "    </tr>\n",
       "  </thead>\n",
       "  <tbody>\n",
       "    <tr>\n",
       "      <th>0</th>\n",
       "      <td>age</td>\n",
       "      <td>16.0</td>\n",
       "      <td>115.0</td>\n",
       "      <td>99.0</td>\n",
       "      <td>42.117424</td>\n",
       "      <td>49.0</td>\n",
       "      <td>12.156468</td>\n",
       "      <td>1.001974</td>\n",
       "      <td>4.626117</td>\n",
       "    </tr>\n",
       "    <tr>\n",
       "      <th>1</th>\n",
       "      <td>signup_flow</td>\n",
       "      <td>0.0</td>\n",
       "      <td>25.0</td>\n",
       "      <td>25.0</td>\n",
       "      <td>3.156946</td>\n",
       "      <td>0.0</td>\n",
       "      <td>7.550665</td>\n",
       "      <td>2.283784</td>\n",
       "      <td>3.551616</td>\n",
       "    </tr>\n",
       "  </tbody>\n",
       "</table>\n",
       "</div>"
      ],
      "text/plain": [
       "     Atributos   Min    Max  Range       Mean  Median        Std      Skew  \\\n",
       "0          age  16.0  115.0   99.0  42.117424    49.0  12.156468  1.001974   \n",
       "1  signup_flow   0.0   25.0   25.0   3.156946     0.0   7.550665  2.283784   \n",
       "\n",
       "   Kurtosis  \n",
       "0  4.626117  \n",
       "1  3.551616  "
      ]
     },
     "execution_count": 21,
     "metadata": {},
     "output_type": "execute_result"
    }
   ],
   "source": [
    "# Central tendency- Mean, Median\n",
    "ct1   =   pd.DataFrame( num_attributes.apply( np.mean  ) ).T\n",
    "ct2   =   pd.DataFrame( num_attributes.apply( np.median  ) ).T\n",
    "\n",
    "# Dispersion- Std, min, max, range, skew, kurtosis.\n",
    "d1    =   pd.DataFrame( num_attributes.apply( np.std ) ).T\n",
    "d2    =   pd.DataFrame( num_attributes.apply( lambda x: x.min( ) ) ).T\n",
    "d3    =   pd.DataFrame( num_attributes.apply( lambda x: x.max( ) ) ).T\n",
    "d4    =   pd.DataFrame(num_attributes.apply(lambda x: x.max() - x.min() ) ).T\n",
    "d5    =   pd.DataFrame(num_attributes.apply(lambda x: x.skew() ) ).T\n",
    "d6    =   pd.DataFrame(num_attributes.apply(lambda x: x.kurtosis() ) ).T\n",
    "\n",
    "# Concatenar\n",
    "users_num = pd.concat( [d2,d3,d4,ct1,ct2,d1,d5,d6] ).T.reset_index()\n",
    "users_num.columns = ['Atributos','Min','Max','Range','Mean','Median','Std','Skew','Kurtosis']\n",
    "users_num"
   ]
  },
  {
   "cell_type": "markdown",
   "id": "b0eea62e",
   "metadata": {
    "hidden": true
   },
   "source": [
    "#### 2.6.2 Numerical - Sessions"
   ]
  },
  {
   "cell_type": "code",
   "execution_count": 22,
   "id": "a860d9bd",
   "metadata": {
    "ExecuteTime": {
     "end_time": "2021-05-17T23:04:35.575009Z",
     "start_time": "2021-05-17T23:04:35.020135Z"
    },
    "hidden": true
   },
   "outputs": [
    {
     "data": {
      "text/html": [
       "<div>\n",
       "<style scoped>\n",
       "    .dataframe tbody tr th:only-of-type {\n",
       "        vertical-align: middle;\n",
       "    }\n",
       "\n",
       "    .dataframe tbody tr th {\n",
       "        vertical-align: top;\n",
       "    }\n",
       "\n",
       "    .dataframe thead th {\n",
       "        text-align: right;\n",
       "    }\n",
       "</style>\n",
       "<table border=\"1\" class=\"dataframe\">\n",
       "  <thead>\n",
       "    <tr style=\"text-align: right;\">\n",
       "      <th></th>\n",
       "      <th>Atributos</th>\n",
       "      <th>Min</th>\n",
       "      <th>Max</th>\n",
       "      <th>Range</th>\n",
       "      <th>Mean</th>\n",
       "      <th>Median</th>\n",
       "      <th>Std</th>\n",
       "      <th>Skew</th>\n",
       "      <th>Kurtosis</th>\n",
       "    </tr>\n",
       "  </thead>\n",
       "  <tbody>\n",
       "    <tr>\n",
       "      <th>0</th>\n",
       "      <td>secs_elapsed</td>\n",
       "      <td>1.0</td>\n",
       "      <td>1799977.0</td>\n",
       "      <td>1799976.0</td>\n",
       "      <td>20159.474341</td>\n",
       "      <td>1409.0</td>\n",
       "      <td>89265.854534</td>\n",
       "      <td>11.08481</td>\n",
       "      <td>153.3537</td>\n",
       "    </tr>\n",
       "  </tbody>\n",
       "</table>\n",
       "</div>"
      ],
      "text/plain": [
       "      Atributos  Min        Max      Range          Mean  Median  \\\n",
       "0  secs_elapsed  1.0  1799977.0  1799976.0  20159.474341  1409.0   \n",
       "\n",
       "            Std      Skew  Kurtosis  \n",
       "0  89265.854534  11.08481  153.3537  "
      ]
     },
     "execution_count": 22,
     "metadata": {},
     "output_type": "execute_result"
    }
   ],
   "source": [
    "# Central tendency- Mean, Median\n",
    "cts1    =     pd.DataFrame( num_s_attributes.apply( np.mean ) ).T\n",
    "cts2    =     pd.DataFrame( num_s_attributes.apply( np.median ) ).T\n",
    "\n",
    "# Dispersion- Std, min, max, range, skew, kurtosis.\n",
    "ds1     =   pd.DataFrame( num_s_attributes.apply( np.std ) ).T\n",
    "ds2     =   pd.DataFrame( num_s_attributes.apply(lambda x: x.min() ) ).T\n",
    "ds3     =   pd.DataFrame( num_s_attributes.apply( lambda x: x.max() ) ).T\n",
    "ds4     =   pd.DataFrame( num_s_attributes.apply( lambda x: x.max() - x.min() ) ).T\n",
    "ds5     =   pd.DataFrame( num_s_attributes.apply( lambda x: x.skew() ) ).T\n",
    "ds6     =   pd.DataFrame( num_s_attributes.apply( lambda x: x.kurtosis() ) ).T\n",
    "\n",
    "# Concatenar\n",
    "sessions_num = pd.concat( [ds2,ds3,ds4,cts1,cts2,ds1,ds5,ds6]).T.reset_index()\n",
    "sessions_num.columns = ['Atributos','Min','Max','Range','Mean','Median','Std','Skew','Kurtosis']\n",
    "sessions_num"
   ]
  },
  {
   "cell_type": "markdown",
   "id": "f65e3562",
   "metadata": {
    "hidden": true
   },
   "source": [
    "#### 2.6.3 Categorical-Users"
   ]
  },
  {
   "cell_type": "code",
   "execution_count": 23,
   "id": "5ba179be",
   "metadata": {
    "ExecuteTime": {
     "end_time": "2021-05-17T23:04:35.907454Z",
     "start_time": "2021-05-17T23:04:35.577479Z"
    },
    "hidden": true
   },
   "outputs": [
    {
     "data": {
      "text/html": [
       "<div>\n",
       "<style scoped>\n",
       "    .dataframe tbody tr th:only-of-type {\n",
       "        vertical-align: middle;\n",
       "    }\n",
       "\n",
       "    .dataframe tbody tr th {\n",
       "        vertical-align: top;\n",
       "    }\n",
       "\n",
       "    .dataframe thead th {\n",
       "        text-align: right;\n",
       "    }\n",
       "</style>\n",
       "<table border=\"1\" class=\"dataframe\">\n",
       "  <thead>\n",
       "    <tr style=\"text-align: right;\">\n",
       "      <th></th>\n",
       "      <th>gender</th>\n",
       "      <th>signup_method</th>\n",
       "      <th>language</th>\n",
       "      <th>affiliate_channel</th>\n",
       "      <th>affiliate_provider</th>\n",
       "      <th>first_affiliate_tracked</th>\n",
       "      <th>signup_app</th>\n",
       "      <th>first_device_type</th>\n",
       "      <th>first_browser</th>\n",
       "      <th>country_destination</th>\n",
       "    </tr>\n",
       "  </thead>\n",
       "  <tbody>\n",
       "    <tr>\n",
       "      <th>count</th>\n",
       "      <td>206593</td>\n",
       "      <td>206593</td>\n",
       "      <td>206593</td>\n",
       "      <td>206593</td>\n",
       "      <td>206593</td>\n",
       "      <td>206593</td>\n",
       "      <td>206593</td>\n",
       "      <td>206593</td>\n",
       "      <td>206593</td>\n",
       "      <td>206593</td>\n",
       "    </tr>\n",
       "    <tr>\n",
       "      <th>unique</th>\n",
       "      <td>4</td>\n",
       "      <td>3</td>\n",
       "      <td>25</td>\n",
       "      <td>8</td>\n",
       "      <td>18</td>\n",
       "      <td>7</td>\n",
       "      <td>4</td>\n",
       "      <td>9</td>\n",
       "      <td>52</td>\n",
       "      <td>12</td>\n",
       "    </tr>\n",
       "    <tr>\n",
       "      <th>top</th>\n",
       "      <td>-unknown-</td>\n",
       "      <td>basic</td>\n",
       "      <td>en</td>\n",
       "      <td>direct</td>\n",
       "      <td>direct</td>\n",
       "      <td>untracked</td>\n",
       "      <td>Web</td>\n",
       "      <td>Mac Desktop</td>\n",
       "      <td>Chrome</td>\n",
       "      <td>NDF</td>\n",
       "    </tr>\n",
       "    <tr>\n",
       "      <th>freq</th>\n",
       "      <td>91706</td>\n",
       "      <td>147635</td>\n",
       "      <td>199636</td>\n",
       "      <td>133678</td>\n",
       "      <td>133438</td>\n",
       "      <td>108838</td>\n",
       "      <td>177591</td>\n",
       "      <td>89255</td>\n",
       "      <td>63620</td>\n",
       "      <td>119810</td>\n",
       "    </tr>\n",
       "  </tbody>\n",
       "</table>\n",
       "</div>"
      ],
      "text/plain": [
       "           gender signup_method language affiliate_channel affiliate_provider  \\\n",
       "count      206593        206593   206593            206593             206593   \n",
       "unique          4             3       25                 8                 18   \n",
       "top     -unknown-         basic       en            direct             direct   \n",
       "freq        91706        147635   199636            133678             133438   \n",
       "\n",
       "       first_affiliate_tracked signup_app first_device_type first_browser  \\\n",
       "count                   206593     206593            206593        206593   \n",
       "unique                       7          4                 9            52   \n",
       "top                  untracked        Web       Mac Desktop        Chrome   \n",
       "freq                    108838     177591             89255         63620   \n",
       "\n",
       "       country_destination  \n",
       "count               206593  \n",
       "unique                  12  \n",
       "top                    NDF  \n",
       "freq                119810  "
      ]
     },
     "execution_count": 23,
     "metadata": {},
     "output_type": "execute_result"
    }
   ],
   "source": [
    "cat_attributes.drop('id',axis=1).describe()"
   ]
  },
  {
   "cell_type": "markdown",
   "id": "5e25cd3e",
   "metadata": {
    "hidden": true
   },
   "source": [
    "#### 2.6.4 Categorical-Sessions"
   ]
  },
  {
   "cell_type": "code",
   "execution_count": 24,
   "id": "cf7a9546",
   "metadata": {
    "ExecuteTime": {
     "end_time": "2021-05-17T23:04:42.323292Z",
     "start_time": "2021-05-17T23:04:35.909102Z"
    },
    "hidden": true
   },
   "outputs": [
    {
     "data": {
      "text/html": [
       "<div>\n",
       "<style scoped>\n",
       "    .dataframe tbody tr th:only-of-type {\n",
       "        vertical-align: middle;\n",
       "    }\n",
       "\n",
       "    .dataframe tbody tr th {\n",
       "        vertical-align: top;\n",
       "    }\n",
       "\n",
       "    .dataframe thead th {\n",
       "        text-align: right;\n",
       "    }\n",
       "</style>\n",
       "<table border=\"1\" class=\"dataframe\">\n",
       "  <thead>\n",
       "    <tr style=\"text-align: right;\">\n",
       "      <th></th>\n",
       "      <th>action</th>\n",
       "      <th>action_type</th>\n",
       "      <th>action_detail</th>\n",
       "      <th>device_type</th>\n",
       "    </tr>\n",
       "  </thead>\n",
       "  <tbody>\n",
       "    <tr>\n",
       "      <th>count</th>\n",
       "      <td>9123594</td>\n",
       "      <td>9123594</td>\n",
       "      <td>9123594</td>\n",
       "      <td>9123594</td>\n",
       "    </tr>\n",
       "    <tr>\n",
       "      <th>unique</th>\n",
       "      <td>347</td>\n",
       "      <td>10</td>\n",
       "      <td>155</td>\n",
       "      <td>14</td>\n",
       "    </tr>\n",
       "    <tr>\n",
       "      <th>top</th>\n",
       "      <td>show</td>\n",
       "      <td>view</td>\n",
       "      <td>view_search_results</td>\n",
       "      <td>Mac Desktop</td>\n",
       "    </tr>\n",
       "    <tr>\n",
       "      <th>freq</th>\n",
       "      <td>2161240</td>\n",
       "      <td>3518629</td>\n",
       "      <td>1754981</td>\n",
       "      <td>2989495</td>\n",
       "    </tr>\n",
       "  </tbody>\n",
       "</table>\n",
       "</div>"
      ],
      "text/plain": [
       "         action action_type        action_detail  device_type\n",
       "count   9123594     9123594              9123594      9123594\n",
       "unique      347          10                  155           14\n",
       "top        show        view  view_search_results  Mac Desktop\n",
       "freq    2161240     3518629              1754981      2989495"
      ]
     },
     "execution_count": 24,
     "metadata": {},
     "output_type": "execute_result"
    }
   ],
   "source": [
    "cat_s_attributes.drop('user_id',axis=1).describe()"
   ]
  },
  {
   "cell_type": "markdown",
   "id": "cac9be99",
   "metadata": {
    "hidden": true
   },
   "source": [
    "### 2.6.5. Correlation Matrix - Sessions"
   ]
  },
  {
   "cell_type": "code",
   "execution_count": 91,
   "id": "93a7fc48",
   "metadata": {
    "ExecuteTime": {
     "end_time": "2021-05-17T23:58:39.650248Z",
     "start_time": "2021-05-17T23:58:15.245400Z"
    },
    "hidden": true
   },
   "outputs": [],
   "source": [
    "cat_attributes_list = cat_s_attributes.drop( 'user_id',axis=1).columns.tolist()\n",
    "\n",
    "# Lista de attributos para o Cramer's V correlation\n",
    "corr_dict = {}\n",
    "for i in range (len( cat_attributes_list ) ):\n",
    "    corr_list = []\n",
    "    for j in range(len( cat_attributes_list ) ):\n",
    "        ref  =  cat_attributes_list[i]\n",
    "        feat =  cat_attributes_list[j]\n",
    "        \n",
    "        # Correlation\n",
    "        corr = cramer_v( cat_s_attributes[ref], cat_s_attributes[feat])\n",
    "        \n",
    "        # Append da lista \n",
    "        corr_list.append( corr )\n",
    "    \n",
    "    # Append a correlation list for each ref attributes\n",
    "    corr_dict[ ref ] = corr_list   \n",
    "    "
   ]
  },
  {
   "cell_type": "code",
   "execution_count": 92,
   "id": "8da6cc50",
   "metadata": {
    "ExecuteTime": {
     "end_time": "2021-05-17T23:58:40.061975Z",
     "start_time": "2021-05-17T23:58:39.651669Z"
    },
    "hidden": true
   },
   "outputs": [
    {
     "data": {
      "text/plain": [
       "<AxesSubplot:>"
      ]
     },
     "execution_count": 92,
     "metadata": {},
     "output_type": "execute_result"
    },
    {
     "data": {
      "image/png": "[encoded data removed]",
      "text/plain": [
       "<Figure size 1800x864 with 2 Axes>"
      ]
     },
     "metadata": {
      "image/png": {
       "height": 690,
       "width": 1279
      }
     },
     "output_type": "display_data"
    }
   ],
   "source": [
    "d = pd.DataFrame( corr_dict)\n",
    "d = d.set_index( d.columns )\n",
    "sns.heatmap( d ,annot=True )"
   ]
  },
  {
   "cell_type": "markdown",
   "id": "2bd7931e",
   "metadata": {
    "heading_collapsed": true
   },
   "source": [
    "## 3.0 Feature Engineering "
   ]
  },
  {
   "cell_type": "code",
   "execution_count": 93,
   "id": "594ab891",
   "metadata": {
    "ExecuteTime": {
     "end_time": "2021-05-17T23:59:04.708852Z",
     "start_time": "2021-05-17T23:59:04.695463Z"
    },
    "hidden": true
   },
   "outputs": [
    {
     "data": {
      "text/plain": [
       "(206593, 16)"
      ]
     },
     "execution_count": 93,
     "metadata": {},
     "output_type": "execute_result"
    }
   ],
   "source": [
    "df2 = df1.copy()\n",
    "df2.shape"
   ]
  },
  {
   "cell_type": "code",
   "execution_count": 94,
   "id": "ddef7759",
   "metadata": {
    "ExecuteTime": {
     "end_time": "2021-05-17T23:59:14.464966Z",
     "start_time": "2021-05-17T23:59:14.445602Z"
    },
    "hidden": true
   },
   "outputs": [
    {
     "data": {
      "text/plain": [
       "id                                 object\n",
       "date_account_created       datetime64[ns]\n",
       "timestamp_first_active     datetime64[ns]\n",
       "date_first_booking         datetime64[ns]\n",
       "gender                             object\n",
       "age                                 int64\n",
       "signup_method                      object\n",
       "signup_flow                         int64\n",
       "language                           object\n",
       "affiliate_channel                  object\n",
       "affiliate_provider                 object\n",
       "first_affiliate_tracked            object\n",
       "signup_app                         object\n",
       "first_device_type                  object\n",
       "first_browser                      object\n",
       "country_destination                object\n",
       "dtype: object"
      ]
     },
     "execution_count": 94,
     "metadata": {},
     "output_type": "execute_result"
    }
   ],
   "source": [
    "df2.dtypes"
   ]
  },
  {
   "cell_type": "markdown",
   "id": "ab96ba7c",
   "metadata": {
    "heading_collapsed": true
   },
   "source": [
    "## 3.1 Create New Features"
   ]
  },
  {
   "cell_type": "code",
   "execution_count": 95,
   "id": "0b5e6bb1",
   "metadata": {
    "ExecuteTime": {
     "end_time": "2021-05-18T00:00:30.794185Z",
     "start_time": "2021-05-18T00:00:24.535822Z"
    },
    "hidden": true
   },
   "outputs": [],
   "source": [
    "# Days from first active up to first booking\n",
    "df2['first_active'] = pd.to_datetime( df2['timestamp_first_active'].dt.strftime( '%Y-%m-%d' ) )\n",
    "df2['days_from_first_active_until_booking'] = (df2['date_first_booking'] - df2['first_active']).apply(lambda x: x.days)\n",
    "# Days from first active up to account created \n",
    "df2['days_from_first_active_until_account_created'] = (df2['date_account_created'] - df2['first_active']).apply(lambda x: x.days)\n",
    "# Days from account created up to first booking \n",
    "df2['days_from_account_created_until_first_booking'] = (df2['date_first_booking'] - df2['date_account_created'] ).apply(lambda x: x.days)\n",
    "\n",
    "#======================== First active ========================#\n",
    "# year first active\n",
    "df2['year_first_active'] = df2['first_active'].dt.year\n",
    "\n",
    "# month first active\n",
    "df2['month_first_active'] = df2['first_active'].dt.month\n",
    "\n",
    "# day first active\n",
    "df2['day_first_active'] = df2['first_active'].dt.day\n",
    "\n",
    "# day of week first active\n",
    "df2['dayofweek_first_active'] = df2['first_active'].dt.dayofweek\n",
    "\n",
    "# week of year first active\n",
    "df2['weekodyear_first_active'] = df2['first_active'].dt.weekofyear\n",
    "\n",
    "#======================== First booking ========================#\n",
    "\n",
    "# year first booking \n",
    "df2['year_first_booking'] = df2['date_first_booking'].dt.year\n",
    "\n",
    "# month first booking\n",
    "df2['month_first_booking'] = df2['date_first_booking'].dt.month\n",
    "\n",
    "# day first booking\n",
    "df2['day_first_booking'] = df2['date_first_booking'].dt.day\n",
    "\n",
    "# day of week first active\n",
    "df2['dayofweek_first_booking'] = df2['date_first_booking'].dt.dayofweek\n",
    "\n",
    "# week of year first booking\n",
    "df2['weekofyear_first_booking'] = df2['date_first_booking'].dt.weekofyear\n",
    "\n",
    "#======================== First Account Created ========================#\n",
    "\n",
    "# year First Account Created\n",
    "df2['year_first_created_account'] = df2['date_account_created'].dt.year\n",
    "\n",
    "# month First Account Created\n",
    "df2['month_first_created_account'] = df2['date_account_created'].dt.month\n",
    "\n",
    "# day First Account Created\n",
    "df2['day_first_created_account'] = df2['date_account_created'].dt.day\n",
    "\n",
    "# day of week First Account Created\n",
    "df2['dayofweek_first_created_account'] = df2['date_account_created'].dt.dayofweek\n",
    "\n",
    "# week of year First Account Created\n",
    "df2['weekofyear_first_created_account'] = df2['date_account_created'].dt.weekofyear\n",
    "\n"
   ]
  },
  {
   "cell_type": "code",
   "execution_count": 96,
   "id": "a990b874",
   "metadata": {
    "ExecuteTime": {
     "end_time": "2021-05-18T00:00:54.230016Z",
     "start_time": "2021-05-18T00:00:54.226081Z"
    },
    "hidden": true
   },
   "outputs": [
    {
     "data": {
      "text/plain": [
       "(206593, 35)"
      ]
     },
     "execution_count": 96,
     "metadata": {},
     "output_type": "execute_result"
    }
   ],
   "source": [
    "df2.shape"
   ]
  },
  {
   "cell_type": "code",
   "execution_count": 98,
   "id": "6599516a",
   "metadata": {
    "ExecuteTime": {
     "end_time": "2021-05-18T00:02:14.100137Z",
     "start_time": "2021-05-18T00:02:14.065351Z"
    },
    "hidden": true
   },
   "outputs": [
    {
     "data": {
      "text/html": [
       "<div>\n",
       "<style scoped>\n",
       "    .dataframe tbody tr th:only-of-type {\n",
       "        vertical-align: middle;\n",
       "    }\n",
       "\n",
       "    .dataframe tbody tr th {\n",
       "        vertical-align: top;\n",
       "    }\n",
       "\n",
       "    .dataframe thead th {\n",
       "        text-align: right;\n",
       "    }\n",
       "</style>\n",
       "<table border=\"1\" class=\"dataframe\">\n",
       "  <thead>\n",
       "    <tr style=\"text-align: right;\">\n",
       "      <th></th>\n",
       "      <th>id</th>\n",
       "      <th>date_account_created</th>\n",
       "      <th>day_first_created_account</th>\n",
       "      <th>day_first_booking</th>\n",
       "    </tr>\n",
       "  </thead>\n",
       "  <tbody>\n",
       "    <tr>\n",
       "      <th>134799</th>\n",
       "      <td>xbizbfqdhj</td>\n",
       "      <td>2013-12-23</td>\n",
       "      <td>23</td>\n",
       "      <td>15</td>\n",
       "    </tr>\n",
       "    <tr>\n",
       "      <th>120330</th>\n",
       "      <td>jgsgd6t98a</td>\n",
       "      <td>2013-10-29</td>\n",
       "      <td>29</td>\n",
       "      <td>15</td>\n",
       "    </tr>\n",
       "    <tr>\n",
       "      <th>150058</th>\n",
       "      <td>x02zrqtjyo</td>\n",
       "      <td>2014-02-06</td>\n",
       "      <td>6</td>\n",
       "      <td>15</td>\n",
       "    </tr>\n",
       "    <tr>\n",
       "      <th>99097</th>\n",
       "      <td>jxn4e6yvy9</td>\n",
       "      <td>2013-08-13</td>\n",
       "      <td>13</td>\n",
       "      <td>14</td>\n",
       "    </tr>\n",
       "    <tr>\n",
       "      <th>100521</th>\n",
       "      <td>5z6939xk96</td>\n",
       "      <td>2013-08-19</td>\n",
       "      <td>19</td>\n",
       "      <td>16</td>\n",
       "    </tr>\n",
       "    <tr>\n",
       "      <th>197015</th>\n",
       "      <td>745le5l7cb</td>\n",
       "      <td>2014-05-30</td>\n",
       "      <td>30</td>\n",
       "      <td>20</td>\n",
       "    </tr>\n",
       "    <tr>\n",
       "      <th>72415</th>\n",
       "      <td>qzd5pf99og</td>\n",
       "      <td>2013-04-22</td>\n",
       "      <td>22</td>\n",
       "      <td>28</td>\n",
       "    </tr>\n",
       "    <tr>\n",
       "      <th>77225</th>\n",
       "      <td>gtlv5bjdit</td>\n",
       "      <td>2013-05-15</td>\n",
       "      <td>15</td>\n",
       "      <td>15</td>\n",
       "    </tr>\n",
       "    <tr>\n",
       "      <th>168998</th>\n",
       "      <td>kdgpjzohjb</td>\n",
       "      <td>2014-03-28</td>\n",
       "      <td>28</td>\n",
       "      <td>4</td>\n",
       "    </tr>\n",
       "    <tr>\n",
       "      <th>80168</th>\n",
       "      <td>j1em2q0sge</td>\n",
       "      <td>2013-05-29</td>\n",
       "      <td>29</td>\n",
       "      <td>15</td>\n",
       "    </tr>\n",
       "  </tbody>\n",
       "</table>\n",
       "</div>"
      ],
      "text/plain": [
       "                id date_account_created  day_first_created_account  day_first_booking\n",
       "134799  xbizbfqdhj           2013-12-23                         23                 15\n",
       "120330  jgsgd6t98a           2013-10-29                         29                 15\n",
       "150058  x02zrqtjyo           2014-02-06                          6                 15\n",
       "99097   jxn4e6yvy9           2013-08-13                         13                 14\n",
       "100521  5z6939xk96           2013-08-19                         19                 16\n",
       "197015  745le5l7cb           2014-05-30                         30                 20\n",
       "72415   qzd5pf99og           2013-04-22                         22                 28\n",
       "77225   gtlv5bjdit           2013-05-15                         15                 15\n",
       "168998  kdgpjzohjb           2014-03-28                         28                  4\n",
       "80168   j1em2q0sge           2013-05-29                         29                 15"
      ]
     },
     "execution_count": 98,
     "metadata": {},
     "output_type": "execute_result"
    }
   ],
   "source": [
    "df2[['id', 'date_account_created', 'day_first_created_account', 'day_first_booking']].sample(10)"
   ]
  },
  {
   "cell_type": "markdown",
   "id": "e13f74cd",
   "metadata": {
    "heading_collapsed": true
   },
   "source": [
    "## 4.0 Data Filtering"
   ]
  },
  {
   "cell_type": "code",
   "execution_count": 99,
   "id": "65bd559e",
   "metadata": {
    "ExecuteTime": {
     "end_time": "2021-05-18T00:05:20.751898Z",
     "start_time": "2021-05-18T00:05:20.747752Z"
    },
    "hidden": true
   },
   "outputs": [
    {
     "data": {
      "text/plain": [
       "-2.132808519406074"
      ]
     },
     "execution_count": 99,
     "metadata": {},
     "output_type": "execute_result"
    }
   ],
   "source": [
    "a = [2100, 3500, 4000, 8000, 10000, 16000]\n",
    "b = [19, 28, 29, 30, 31, 32]\n",
    "\n",
    "( 19 - np.mean( b ) ) / np.std( b )"
   ]
  },
  {
   "cell_type": "code",
   "execution_count": 100,
   "id": "794701c3",
   "metadata": {
    "ExecuteTime": {
     "end_time": "2021-05-18T00:05:33.266475Z",
     "start_time": "2021-05-18T00:05:33.255402Z"
    },
    "hidden": true
   },
   "outputs": [
    {
     "data": {
      "text/plain": [
       "28.166666666666668"
      ]
     },
     "execution_count": 100,
     "metadata": {},
     "output_type": "execute_result"
    }
   ],
   "source": [
    "np.mean( b )"
   ]
  },
  {
   "cell_type": "code",
   "execution_count": 101,
   "id": "ae15f694",
   "metadata": {
    "ExecuteTime": {
     "end_time": "2021-05-18T00:05:42.125886Z",
     "start_time": "2021-05-18T00:05:42.122242Z"
    },
    "hidden": true
   },
   "outputs": [
    {
     "data": {
      "text/plain": [
       "4.297932319409209"
      ]
     },
     "execution_count": 101,
     "metadata": {},
     "output_type": "execute_result"
    }
   ],
   "source": [
    "np.std( b ) "
   ]
  },
  {
   "cell_type": "code",
   "execution_count": 102,
   "id": "bec9bb65",
   "metadata": {
    "ExecuteTime": {
     "end_time": "2021-05-18T00:05:52.099602Z",
     "start_time": "2021-05-18T00:05:52.082896Z"
    },
    "hidden": true
   },
   "outputs": [
    {
     "data": {
      "text/plain": [
       "(206593, 35)"
      ]
     },
     "execution_count": 102,
     "metadata": {},
     "output_type": "execute_result"
    }
   ],
   "source": [
    "df3 = df2.copy()\n",
    "df3.shape"
   ]
  },
  {
   "cell_type": "markdown",
   "id": "0682ffa6",
   "metadata": {
    "heading_collapsed": true,
    "hidden": true
   },
   "source": [
    "### 4.1 Filtering rows"
   ]
  },
  {
   "cell_type": "code",
   "execution_count": 103,
   "id": "89874e26",
   "metadata": {
    "ExecuteTime": {
     "end_time": "2021-05-18T00:06:24.476232Z",
     "start_time": "2021-05-18T00:06:24.433159Z"
    },
    "hidden": true
   },
   "outputs": [],
   "source": [
    "# Filtering rows:\n",
    "# age - greater than 15 and lower than 120 - There are few people over 12O year old   \n",
    "df3 = df3[( df3['age'] > 15 ) & ( df3['age'] < 120 )]\n",
    "\n",
    "# secs_elapsed - there is no possible 0 secs elapsed on website\n",
    "#df3 = df3[df3['secs_elapsed'] > 0]"
   ]
  },
  {
   "cell_type": "markdown",
   "id": "63f3c1e5",
   "metadata": {
    "heading_collapsed": true,
    "hidden": true
   },
   "source": [
    "### 4.2 Columns selection"
   ]
  },
  {
   "cell_type": "code",
   "execution_count": 104,
   "id": "474c8f95",
   "metadata": {
    "ExecuteTime": {
     "end_time": "2021-05-18T00:06:42.888068Z",
     "start_time": "2021-05-18T00:06:42.882350Z"
    },
    "hidden": true
   },
   "outputs": [],
   "source": [
    "cols = ['date_account_created', 'date_account_created', 'date_first_booking', 'timestamp_first_active', \n",
    "        'first_active'] # original datetime"
   ]
  },
  {
   "cell_type": "markdown",
   "id": "c5db4cb1",
   "metadata": {
    "heading_collapsed": true
   },
   "source": [
    "## 5.0 Balanced dataset"
   ]
  },
  {
   "cell_type": "code",
   "execution_count": 105,
   "id": "6110a172",
   "metadata": {
    "ExecuteTime": {
     "end_time": "2021-05-18T00:06:56.189199Z",
     "start_time": "2021-05-18T00:06:56.164068Z"
    },
    "hidden": true
   },
   "outputs": [
    {
     "data": {
      "text/plain": [
       "(206593, 31)"
      ]
     },
     "execution_count": 105,
     "metadata": {},
     "output_type": "execute_result"
    }
   ],
   "source": [
    "df4 = df3.drop( cols, axis=1 )\n",
    "df4.shape"
   ]
  },
  {
   "cell_type": "code",
   "execution_count": 106,
   "id": "9c08ad0f",
   "metadata": {
    "ExecuteTime": {
     "end_time": "2021-05-18T00:07:14.546799Z",
     "start_time": "2021-05-18T00:07:13.704387Z"
    },
    "hidden": true
   },
   "outputs": [
    {
     "data": {
      "text/plain": [
       "(206593, 150)"
      ]
     },
     "execution_count": 106,
     "metadata": {},
     "output_type": "execute_result"
    }
   ],
   "source": [
    "# Encoder Categorical Variables\n",
    "ohe = pp.OneHotEncoder()\n",
    "\n",
    "# Numerical\n",
    "col_num = df4.select_dtypes( include=['int64', 'float64'] ).columns.tolist()\n",
    "\n",
    "# Categorical\n",
    "col_cat = df4.select_dtypes( exclude=['int64', 'float64', 'datetime64[ns]'] ).drop( ['id', 'country_destination'], axis=1 ).columns.tolist()\n",
    "\n",
    "# encoding\n",
    "df4_dummy = pd.DataFrame( ohe.fit_transform( df4[ col_cat] ).toarray(), index=df4.index )\n",
    "\n",
    "# join numerical and categorical\n",
    "df42 = pd.concat( [df4[col_num], df4_dummy], axis=1 )\n",
    "df42.shape"
   ]
  },
  {
   "cell_type": "markdown",
   "id": "c2c2e9a4",
   "metadata": {
    "heading_collapsed": true,
    "hidden": true
   },
   "source": [
    "### 5.1 Random Undersampling"
   ]
  },
  {
   "cell_type": "code",
   "execution_count": 107,
   "id": "ae3ddbba",
   "metadata": {
    "ExecuteTime": {
     "end_time": "2021-05-18T00:07:45.908984Z",
     "start_time": "2021-05-18T00:07:45.033685Z"
    },
    "hidden": true
   },
   "outputs": [],
   "source": [
    "# ratio_balanced\n",
    "ratio_balanced = {'NDF': 10000 }\n",
    "# define sampler\n",
    "undersampling = us.RandomUnderSampler( sampling_strategy=ratio_balanced, random_state=32 )\n",
    "\n",
    "# apply sampler\n",
    "X_under, y_under = undersampling.fit_resample( df42, df4['country_destination'] )\n"
   ]
  },
  {
   "cell_type": "code",
   "execution_count": 108,
   "id": "7110d45d",
   "metadata": {
    "ExecuteTime": {
     "end_time": "2021-05-18T00:08:02.483771Z",
     "start_time": "2021-05-18T00:08:02.459920Z"
    },
    "hidden": true
   },
   "outputs": [
    {
     "data": {
      "text/plain": [
       "NDF      119810\n",
       "US        60800\n",
       "other      9935\n",
       "FR         4881\n",
       "IT         2776\n",
       "GB         2285\n",
       "ES         2203\n",
       "CA         1385\n",
       "DE         1033\n",
       "NL          746\n",
       "AU          526\n",
       "PT          213\n",
       "Name: country_destination, dtype: int64"
      ]
     },
     "execution_count": 108,
     "metadata": {},
     "output_type": "execute_result"
    }
   ],
   "source": [
    "df4['country_destination'].value_counts()"
   ]
  },
  {
   "cell_type": "code",
   "execution_count": 109,
   "id": "076d1fcb",
   "metadata": {
    "ExecuteTime": {
     "end_time": "2021-05-18T00:08:11.671826Z",
     "start_time": "2021-05-18T00:08:11.658721Z"
    },
    "hidden": true
   },
   "outputs": [
    {
     "data": {
      "text/plain": [
       "US       60800\n",
       "NDF      10000\n",
       "other     9935\n",
       "FR        4881\n",
       "IT        2776\n",
       "GB        2285\n",
       "ES        2203\n",
       "CA        1385\n",
       "DE        1033\n",
       "NL         746\n",
       "AU         526\n",
       "PT         213\n",
       "Name: country_destination, dtype: int64"
      ]
     },
     "execution_count": 109,
     "metadata": {},
     "output_type": "execute_result"
    }
   ],
   "source": [
    "y_under.value_counts()"
   ]
  },
  {
   "cell_type": "markdown",
   "id": "74261cc2",
   "metadata": {
    "heading_collapsed": true,
    "hidden": true
   },
   "source": [
    "### 5.2 Random Oversampling"
   ]
  },
  {
   "cell_type": "code",
   "execution_count": 118,
   "id": "971a6d11",
   "metadata": {
    "ExecuteTime": {
     "end_time": "2021-05-18T00:11:58.650717Z",
     "start_time": "2021-05-18T00:11:56.537277Z"
    },
    "hidden": true
   },
   "outputs": [],
   "source": [
    "# Ratio Balanced\n",
    "ratio_balanced = {'IT':40000,'GB':40000,'ES':40000,'CA':40000,'DE':40000,'NL':40000,'AU':40000,'PT':40000,'other':40000,'FR':40000}\n",
    "\n",
    "# Definir o sampler\n",
    "oversamplig = oversamp.RandomOverSampler(sampling_strategy=ratio_balanced,random_state=32)\n",
    "\n",
    "# Aplicar o sampler\n",
    "X_over,y_over = oversamplig.fit_resample(df4,df4['country_destination'] )\n"
   ]
  },
  {
   "cell_type": "code",
   "execution_count": 119,
   "id": "35058158",
   "metadata": {
    "ExecuteTime": {
     "end_time": "2021-05-18T00:11:58.677114Z",
     "start_time": "2021-05-18T00:11:58.652547Z"
    },
    "hidden": true
   },
   "outputs": [
    {
     "data": {
      "text/plain": [
       "NDF      119810\n",
       "US        60800\n",
       "other      9935\n",
       "FR         4881\n",
       "IT         2776\n",
       "GB         2285\n",
       "ES         2203\n",
       "CA         1385\n",
       "DE         1033\n",
       "NL          746\n",
       "AU          526\n",
       "PT          213\n",
       "Name: country_destination, dtype: int64"
      ]
     },
     "execution_count": 119,
     "metadata": {},
     "output_type": "execute_result"
    }
   ],
   "source": [
    "df4['country_destination'].value_counts() "
   ]
  },
  {
   "cell_type": "code",
   "execution_count": 120,
   "id": "0969e082",
   "metadata": {
    "ExecuteTime": {
     "end_time": "2021-05-18T00:11:58.933130Z",
     "start_time": "2021-05-18T00:11:58.679611Z"
    },
    "hidden": true
   },
   "outputs": [
    {
     "data": {
      "text/plain": [
       "NDF      119810\n",
       "US        60800\n",
       "NL        40000\n",
       "ES        40000\n",
       "FR        40000\n",
       "other     40000\n",
       "IT        40000\n",
       "PT        40000\n",
       "AU        40000\n",
       "CA        40000\n",
       "DE        40000\n",
       "GB        40000\n",
       "Name: country_destination, dtype: int64"
      ]
     },
     "execution_count": 120,
     "metadata": {},
     "output_type": "execute_result"
    }
   ],
   "source": [
    "y_over.value_counts() "
   ]
  },
  {
   "cell_type": "markdown",
   "id": "76034956",
   "metadata": {
    "heading_collapsed": true,
    "hidden": true
   },
   "source": [
    "### 5.3 SMOTE + TomekLink"
   ]
  },
  {
   "cell_type": "code",
   "execution_count": 121,
   "id": "259edbb0",
   "metadata": {
    "ExecuteTime": {
     "end_time": "2021-05-18T00:12:05.037985Z",
     "start_time": "2021-05-18T00:12:05.032308Z"
    },
    "hidden": true
   },
   "outputs": [],
   "source": [
    "#df4['country_destination'].value_counts().to_dict()\n",
    "ratio_balanced = {'other': int(3.019627579265224*9935),\n",
    "                   'FR': int(6.146281499692686*4881),\n",
    "                   'IT': int(10.446685878962535*2776),\n",
    "                   'GB': int(12.691466083150985*2285),\n",
    "                   'ES': int(12.70994098955969*2203),\n",
    "                   'CA': int(20.216606498194945*1385),\n",
    "                   'DE': int(26.137463697967085*1033),\n",
    "                   'NL': int(33.51206434316354*746),\n",
    "                   'AU': int(45.627376425855516*526),\n",
    "                   'PT': int(103.28638497652582*213)}"
   ]
  },
  {
   "cell_type": "code",
   "execution_count": 122,
   "id": "ef0a2d05",
   "metadata": {
    "ExecuteTime": {
     "end_time": "2021-05-18T00:12:06.233056Z",
     "start_time": "2021-05-18T00:12:06.229564Z"
    },
    "hidden": true
   },
   "outputs": [
    {
     "data": {
      "text/plain": [
       "{'other': 30000,\n",
       " 'FR': 30000,\n",
       " 'IT': 28999,\n",
       " 'GB': 29000,\n",
       " 'ES': 28000,\n",
       " 'CA': 28000,\n",
       " 'DE': 27000,\n",
       " 'NL': 25000,\n",
       " 'AU': 24000,\n",
       " 'PT': 22000}"
      ]
     },
     "execution_count": 122,
     "metadata": {},
     "output_type": "execute_result"
    }
   ],
   "source": [
    "# Ratio Balanced\n",
    "ratio_balanced"
   ]
  },
  {
   "cell_type": "code",
   "execution_count": 123,
   "id": "a8d25046",
   "metadata": {
    "ExecuteTime": {
     "end_time": "2021-05-18T00:12:10.986236Z",
     "start_time": "2021-05-18T00:12:10.746682Z"
    },
    "hidden": true
   },
   "outputs": [],
   "source": [
    "# Definir o sampler\n",
    "#smt           = c.SMOTETomek(sampling_strategy=ratio_balanced,random_state=32,n_jobs=-1)\n",
    "\n",
    "\n",
    "# Aplicar o sampler\n",
    "#x_smt,y_smt   = smt.fit_resample(df42,df4['country_destination'])\n",
    "with open(\"../y_smt_pickle\",\"rb\") as f:\n",
    "    y_smt = pkl.load(f)\n",
    "\n",
    "\n",
    "with open(\"../large_files/x_smt_pickle.pkl\",\"rb\") as f:\n",
    "    X_smt = pkl.load(f)\n"
   ]
  },
  {
   "cell_type": "code",
   "execution_count": 125,
   "id": "9b61da44",
   "metadata": {
    "ExecuteTime": {
     "end_time": "2021-05-18T00:12:16.720814Z",
     "start_time": "2021-05-18T00:12:16.668816Z"
    },
    "hidden": true
   },
   "outputs": [
    {
     "data": {
      "text/plain": [
       "NDF      119810\n",
       "US        59266\n",
       "FR        29601\n",
       "other     29070\n",
       "GB        28818\n",
       "IT        28790\n",
       "CA        27914\n",
       "ES        27840\n",
       "DE        26934\n",
       "NL        24974\n",
       "AU        23985\n",
       "PT        21999\n",
       "Name: country_destination, dtype: int64"
      ]
     },
     "execution_count": 125,
     "metadata": {},
     "output_type": "execute_result"
    }
   ],
   "source": [
    "y_smt.value_counts()"
   ]
  },
  {
   "cell_type": "code",
   "execution_count": 127,
   "id": "105b03c6",
   "metadata": {
    "ExecuteTime": {
     "end_time": "2021-05-18T00:12:46.560856Z",
     "start_time": "2021-05-18T00:12:46.112575Z"
    },
    "hidden": true
   },
   "outputs": [],
   "source": [
    "# numerical data\n",
    "df43 = X_smt[ col_num ]\n",
    "\n",
    "# categorical data\n",
    "df44 = X_smt.drop( col_num, axis=1 )\n",
    "df45 = pd.DataFrame( ohe.inverse_transform( df44 ), columns=col_cat, index=df44.index )\n",
    "\n",
    "# join numerical categorical\n",
    "df46 = pd.concat( [df43, df45], axis=1 )\n",
    "df46['country_destination'] = y_smt"
   ]
  },
  {
   "cell_type": "markdown",
   "id": "2384b1ed",
   "metadata": {},
   "source": [
    "## 6.0. Exploratory Data Analysis ( EDA )"
   ]
  },
  {
   "cell_type": "markdown",
   "id": "d0d574e7",
   "metadata": {
    "heading_collapsed": true
   },
   "source": [
    "### 6.1. Hypothesys Validation ( Unbalanced Dataset )"
   ]
  },
  {
   "cell_type": "code",
   "execution_count": 128,
   "id": "aa6edca1",
   "metadata": {
    "ExecuteTime": {
     "end_time": "2021-05-18T00:27:56.103854Z",
     "start_time": "2021-05-18T00:27:56.087993Z"
    },
    "hidden": true
   },
   "outputs": [],
   "source": [
    "df51 = df4.copy()"
   ]
  },
  {
   "cell_type": "markdown",
   "id": "98af79a4",
   "metadata": {
    "hidden": true
   },
   "source": [
    "**H01.** Em todos os destinos, os usuários levam 15 dias, em média, para fazer a primeira reserva no Airbnb, desde sua primeira ativacao."
   ]
  },
  {
   "cell_type": "markdown",
   "id": "004647d6",
   "metadata": {
    "ExecuteTime": {
     "end_time": "2021-05-17T23:28:02.871831Z",
     "start_time": "2021-05-17T23:28:02.867102Z"
    },
    "hidden": true
   },
   "source": [
    "**Verdadeiro**. Em todos os destinos, os usuários até 6 dias para reservar o primeiro Airbnb"
   ]
  },
  {
   "cell_type": "code",
   "execution_count": 129,
   "id": "72ba17d1",
   "metadata": {
    "ExecuteTime": {
     "end_time": "2021-05-18T00:28:00.345339Z",
     "start_time": "2021-05-18T00:27:59.804332Z"
    },
    "hidden": true
   },
   "outputs": [
    {
     "data": {
      "text/plain": [
       "<AxesSubplot:xlabel='country_destination', ylabel='days_from_first_active_until_booking'>"
      ]
     },
     "execution_count": 129,
     "metadata": {},
     "output_type": "execute_result"
    },
    {
     "data": {
      "image/png": "[encoded data removed]",
      "text/plain": [
       "<Figure size 1440x864 with 2 Axes>"
      ]
     },
     "metadata": {
      "image/png": {
       "height": 486,
       "width": 1184
      }
     },
     "output_type": "display_data"
    }
   ],
   "source": [
    "plt.figure( figsize=(20, 12))\n",
    "plt.subplot( 3, 1, 1 )\n",
    "aux01 = df51[['days_from_first_active_until_booking', 'country_destination']].groupby( 'country_destination' ).median().reset_index()\n",
    "sns.barplot( x='country_destination', y='days_from_first_active_until_booking', \n",
    "             data=aux01.sort_values( 'days_from_first_active_until_booking' ) )\n",
    "\n",
    "# remove outlier\n",
    "plt.subplot( 3, 1, 2 )\n",
    "aux02 = df51[df51['country_destination'] != 'NDF']\n",
    "aux02 = aux02[['days_from_first_active_until_booking', 'country_destination']].groupby( 'country_destination' ).median().reset_index()\n",
    "sns.barplot( x='country_destination', y='days_from_first_active_until_booking', \n",
    "             data=aux02.sort_values( 'days_from_first_active_until_booking' ) )"
   ]
  },
  {
   "cell_type": "markdown",
   "id": "91e1483f",
   "metadata": {
    "hidden": true
   },
   "source": [
    "**H02.** Em todos os destinos, os usuários levam 3 dias, em média, para fazer o cadastro no site."
   ]
  },
  {
   "cell_type": "markdown",
   "id": "267ae3a4",
   "metadata": {
    "hidden": true
   },
   "source": [
    "**Verdadeira.** Em todos os destinos, os usuários levam até 2 dias para finalizar o cadastro"
   ]
  },
  {
   "cell_type": "code",
   "execution_count": 130,
   "id": "5d3466f7",
   "metadata": {
    "ExecuteTime": {
     "end_time": "2021-05-18T00:28:01.356634Z",
     "start_time": "2021-05-18T00:28:00.977628Z"
    },
    "hidden": true
   },
   "outputs": [
    {
     "data": {
      "text/plain": [
       "<AxesSubplot:xlabel='country_destination', ylabel='days_from_first_active_until_account_created'>"
      ]
     },
     "execution_count": 130,
     "metadata": {},
     "output_type": "execute_result"
    },
    {
     "data": {
      "image/png": "[encoded data removed]",
      "text/plain": [
       "<Figure size 1440x864 with 1 Axes>"
      ]
     },
     "metadata": {
      "image/png": {
       "height": 702,
       "width": 1174
      }
     },
     "output_type": "display_data"
    }
   ],
   "source": [
    "plt.figure( figsize=(20, 12))\n",
    "aux01 = df51[['days_from_first_active_until_account_created', 'country_destination']].groupby( 'country_destination' ).mean().reset_index()\n",
    "sns.barplot( x='country_destination', y='days_from_first_active_until_account_created', \n",
    "             data=aux01.sort_values( 'days_from_first_active_until_account_created' ) )"
   ]
  },
  {
   "cell_type": "markdown",
   "id": "8757b105",
   "metadata": {
    "hidden": true
   },
   "source": [
    " **H03.** O volume de reservas anual feitas durante o verão aumentaram 20% para destinos dentro dos USA."
   ]
  },
  {
   "cell_type": "markdown",
   "id": "70403027",
   "metadata": {
    "hidden": true
   },
   "source": [
    "**False.** O Volume de reservas aumenta durante o verão entre os anos de 2010 até 2013."
   ]
  },
  {
   "cell_type": "code",
   "execution_count": 131,
   "id": "2355dcaa",
   "metadata": {
    "ExecuteTime": {
     "end_time": "2021-05-18T00:28:03.200746Z",
     "start_time": "2021-05-18T00:28:02.877663Z"
    },
    "hidden": true
   },
   "outputs": [
    {
     "data": {
      "text/plain": [
       "<AxesSubplot:xlabel='year_first_booking', ylabel='delta'>"
      ]
     },
     "execution_count": 131,
     "metadata": {},
     "output_type": "execute_result"
    },
    {
     "data": {
      "image/png": "[encoded data removed]",
      "text/plain": [
       "<Figure size 1440x864 with 1 Axes>"
      ]
     },
     "metadata": {
      "image/png": {
       "height": 702,
       "width": 1186
      }
     },
     "output_type": "display_data"
    }
   ],
   "source": [
    "aux01 = df51[['year_first_booking', 'month_first_booking', 'country_destination']].\\\n",
    "                groupby( ['year_first_booking', 'month_first_booking', 'country_destination'] ). \\\n",
    "                size().reset_index().rename( columns={0:'count'})\n",
    "\n",
    "# select only summer\n",
    "aux01 = aux01[( aux01['month_first_booking'].isin( [6, 7, 8, 9] ) ) & (aux01['country_destination'] == 'US')]\n",
    "\n",
    "aux02 = aux01[['year_first_booking', 'count']].groupby( 'year_first_booking' ).sum().reset_index()\n",
    "\n",
    "aux02['delta'] = 100*aux02['count'].pct_change().fillna( 0 )\n",
    "\n",
    "plt.figure( figsize=(20,12))\n",
    "sns.barplot( x='year_first_booking', y='delta', data=aux02)"
   ]
  },
  {
   "cell_type": "markdown",
   "id": "d7632208",
   "metadata": {
    "heading_collapsed": true
   },
   "source": [
    "### 6.2. Variables Impact ( Balanced Dataset )"
   ]
  },
  {
   "cell_type": "code",
   "execution_count": 132,
   "id": "cdf829cd",
   "metadata": {
    "ExecuteTime": {
     "end_time": "2021-05-18T00:28:11.222491Z",
     "start_time": "2021-05-18T00:28:11.199219Z"
    },
    "hidden": true
   },
   "outputs": [],
   "source": [
    "df52 = df4.copy() "
   ]
  },
  {
   "cell_type": "markdown",
   "id": "bdacd926",
   "metadata": {
    "heading_collapsed": true
   },
   "source": [
    "### 6.2.1. Univariate Analysis"
   ]
  },
  {
   "cell_type": "code",
   "execution_count": 133,
   "id": "d1afc54d",
   "metadata": {
    "ExecuteTime": {
     "end_time": "2021-05-18T00:31:28.090436Z",
     "start_time": "2021-05-18T00:29:33.068296Z"
    },
    "hidden": true
   },
   "outputs": [
    {
     "data": {
      "application/vnd.jupyter.widget-view+json": {
       "model_id": "7fa1c7891d2c42be9b830b2d0b0dd78c",
       "version_major": 2,
       "version_minor": 0
      },
      "text/plain": [
       "Summarize dataset:   0%|          | 0/45 [00:00<?, ?it/s]"
      ]
     },
     "metadata": {},
     "output_type": "display_data"
    },
    {
     "data": {
      "application/vnd.jupyter.widget-view+json": {
       "model_id": "53393aad4e03432aac5e72589149ba9f",
       "version_major": 2,
       "version_minor": 0
      },
      "text/plain": [
       "Generate report structure:   0%|          | 0/1 [00:00<?, ?it/s]"
      ]
     },
     "metadata": {},
     "output_type": "display_data"
    },
    {
     "data": {
      "application/vnd.jupyter.widget-view+json": {
       "model_id": "1716b5aa4c214cdca509e79801453518",
       "version_major": 2,
       "version_minor": 0
      },
      "text/plain": [
       "Render HTML:   0%|          | 0/1 [00:00<?, ?it/s]"
      ]
     },
     "metadata": {},
     "output_type": "display_data"
    },
    {
     "data": {
      "application/vnd.jupyter.widget-view+json": {
       "model_id": "98503db7b9db441e8c796d75fd7fb29f",
       "version_major": 2,
       "version_minor": 0
      },
      "text/plain": [
       "Export report to file:   0%|          | 0/1 [00:00<?, ?it/s]"
      ]
     },
     "metadata": {},
     "output_type": "display_data"
    }
   ],
   "source": [
    "profile = ProfileReport( df52, title='Airbnb Booking' )\n",
    "#profile.to_notebook_iframe()\n",
    "profile.to_file( output_file='airbnb_booking_statistics_after_cleaning.html' )"
   ]
  },
  {
   "cell_type": "code",
   "execution_count": 134,
   "id": "b8ff829c",
   "metadata": {
    "ExecuteTime": {
     "end_time": "2021-05-18T00:31:28.107382Z",
     "start_time": "2021-05-18T00:31:28.097783Z"
    },
    "hidden": true
   },
   "outputs": [],
   "source": [
    "# ===================== High Correlation  ===================== \n",
    "# days_from_first_active_until_booking x days_from_account_created_until_first_booking\n",
    "# Remove: days_from_first_active_until_booking\n",
    "\n",
    "# year_first_active x year_account_created\n",
    "# Remove: year_first_active\n",
    "\n",
    "# month_first_active x month_account_created\n",
    "# Remove: month_first_active\n",
    "\n",
    "# day_first_active x day_account_created\n",
    "# Remove: day_first_active\n",
    "\n",
    "# day_of_week_first_active x day_of_week_account_created\n",
    "# Remove: day_of_week_first_active\n",
    "\n",
    "# week_of_year_first_active x week_of_year_account_created\n",
    "# Remove: week_of_year_first_active\n",
    "\n",
    "# month_first_booking x week_of_year_first_booking\n",
    "# Remove: month_first_booking\n",
    "\n",
    "# month_account_created x week_of_year_account_created\n",
    "# Remove: month_account_created\n",
    "\n",
    "# year_first_booking x year_account_created\n",
    "# Remove: year_first_booking\n",
    "\n",
    "# week_of_year_first_booking x week_of_year_account_created\n",
    "# Remove: week_of_year_first_booking\n",
    "\n",
    "# affiliate_channel x affiliate_provider\n",
    "# Remove: affiliate_provider\n",
    "\n",
    "# first_device_type x first_browser\n",
    "# Remove: first_browser\n",
    "\n",
    "#first_device_type x sigup_app\n",
    "#Remove: first_device_type"
   ]
  },
  {
   "cell_type": "markdown",
   "id": "b8ef46fb",
   "metadata": {},
   "source": [
    "### 6.2.2. Bivariate Analysis"
   ]
  },
  {
   "cell_type": "markdown",
   "id": "8d2096e1",
   "metadata": {
    "heading_collapsed": true
   },
   "source": [
    "### 6.2.3. Multivariate Analysis"
   ]
  },
  {
   "cell_type": "code",
   "execution_count": 142,
   "id": "9ecc4377",
   "metadata": {
    "ExecuteTime": {
     "end_time": "2021-05-18T00:35:51.667570Z",
     "start_time": "2021-05-18T00:35:51.665204Z"
    },
    "hidden": true
   },
   "outputs": [],
   "source": [
    "cols = ['days_from_first_active_until_booking',  'year_first_active',  'month_first_active', 'day_first_active',\n",
    "        'dayofweek_first_active', 'weekodyear_first_active', 'month_first_booking', 'month_first_created_account',\n",
    "        'year_first_booking', 'weekofyear_first_booking', 'affiliate_provider',\n",
    "        'first_browser', 'first_device_type', 'language'] # high correlation"
   ]
  },
  {
   "cell_type": "markdown",
   "id": "aab991a6",
   "metadata": {},
   "source": [
    "## 7.0 Data Preparation "
   ]
  },
  {
   "cell_type": "code",
   "execution_count": 143,
   "id": "99376def",
   "metadata": {
    "ExecuteTime": {
     "end_time": "2021-05-18T00:35:52.624815Z",
     "start_time": "2021-05-18T00:35:52.499674Z"
    }
   },
   "outputs": [
    {
     "data": {
      "text/plain": [
       "(449001, 16)"
      ]
     },
     "execution_count": 143,
     "metadata": {},
     "output_type": "execute_result"
    }
   ],
   "source": [
    "df6 = df46.drop( cols, axis=1 )\n",
    "df6.shape"
   ]
  },
  {
   "cell_type": "code",
   "execution_count": 145,
   "id": "48cc16dd",
   "metadata": {
    "ExecuteTime": {
     "end_time": "2021-05-18T00:36:27.222254Z",
     "start_time": "2021-05-18T00:36:27.217918Z"
    }
   },
   "outputs": [
    {
     "data": {
      "text/plain": [
       "age                                               int64\n",
       "signup_flow                                       int64\n",
       "days_from_first_active_until_account_created      int64\n",
       "days_from_account_created_until_first_booking     int64\n",
       "day_first_booking                                 int64\n",
       "dayofweek_first_booking                           int64\n",
       "year_first_created_account                        int64\n",
       "day_first_created_account                         int64\n",
       "dayofweek_first_created_account                   int64\n",
       "weekofyear_first_created_account                  int64\n",
       "gender                                           object\n",
       "signup_method                                    object\n",
       "affiliate_channel                                object\n",
       "first_affiliate_tracked                          object\n",
       "signup_app                                       object\n",
       "country_destination                              object\n",
       "dtype: object"
      ]
     },
     "execution_count": 145,
     "metadata": {},
     "output_type": "execute_result"
    }
   ],
   "source": [
    "df6.dtypes"
   ]
  },
  {
   "cell_type": "markdown",
   "id": "b3a7c556",
   "metadata": {},
   "source": [
    "### 7.1 Rescaling"
   ]
  },
  {
   "cell_type": "code",
   "execution_count": 146,
   "id": "b5d3c2b6",
   "metadata": {
    "ExecuteTime": {
     "end_time": "2021-05-18T00:37:06.774855Z",
     "start_time": "2021-05-18T00:37:06.772458Z"
    }
   },
   "outputs": [],
   "source": [
    "ss = pp.StandardScaler()\n",
    "\n",
    "rs = pp.RobustScaler()\n",
    "\n",
    "mms = pp.MinMaxScaler()\n"
   ]
  },
  {
   "cell_type": "code",
   "execution_count": 148,
   "id": "b853e053",
   "metadata": {
    "ExecuteTime": {
     "end_time": "2021-05-18T00:37:58.919805Z",
     "start_time": "2021-05-18T00:37:58.858605Z"
    }
   },
   "outputs": [],
   "source": [
    "# age - Standardization\n",
    "df6['age'] = ss.fit_transform( df6[['age']].values )\n",
    "\n",
    "# signup_flow - Robust Scaler\n",
    "df6['signup_flow'] = rs.fit_transform( df6[['signup_flow']].values )\n",
    "\n",
    "# days_from_first_active_until_account_created - Robust Scaler\n",
    "df6['days_from_first_active_until_account_created'] = rs.fit_transform( df6[['days_from_first_active_until_account_created']].values )\n",
    "\n",
    "# days_from_account_created_until_first_booking - Robust Scaler\n",
    "df6['days_from_account_created_until_first_booking'] = rs.fit_transform( df6[['days_from_account_created_until_first_booking']].values )\n",
    "\n",
    "# year_account_created - MinMax Scaler\n",
    "df6['year_first_created_account'] = mms.fit_transform( df6[['year_first_created_account']].values )"
   ]
  },
  {
   "cell_type": "markdown",
   "id": "ebd53203",
   "metadata": {},
   "source": [
    "### 7.2. Encoding"
   ]
  },
  {
   "cell_type": "code",
   "execution_count": 155,
   "id": "5ee1b410",
   "metadata": {
    "ExecuteTime": {
     "end_time": "2021-05-18T00:49:55.172218Z",
     "start_time": "2021-05-18T00:49:55.165558Z"
    }
   },
   "outputs": [],
   "source": [
    "te = TargetEncoder()"
   ]
  },
  {
   "cell_type": "code",
   "execution_count": 156,
   "id": "3a9c7252",
   "metadata": {
    "ExecuteTime": {
     "end_time": "2021-05-18T00:49:57.546603Z",
     "start_time": "2021-05-18T00:49:56.979600Z"
    }
   },
   "outputs": [],
   "source": [
    "# gender - One Hot Encoder\n",
    "df6 = pd.get_dummies( df6, prefix=['gender'], columns=['gender'] )\n",
    "\n",
    "# signup_method - One Hot Encoder\n",
    "df6 = pd.get_dummies( df6, prefix=['signup_method'], columns=['signup_method'] )\n",
    "\n",
    "# signup_app - One Hot Encoder\n",
    "df6 = pd.get_dummies( df6, prefix=['signup_app'], columns=['signup_app'] )\n",
    "\n",
    "# affiliate_channel - Target Encoder\n",
    "c = {'NDF':0, 'US':1, 'other':2, 'CA':3, 'FR':4, 'IT':5, 'ES':6, 'GB':7, 'NL':8, 'DE':9, 'AU':10, 'PT':11}\n",
    "df6['affiliate_channel'] = te.fit_transform( df6[['affiliate_channel']].values, df6['country_destination'].map( c ) )\n",
    "\n",
    "# first_affiliate_tracked - Target Encoder\n",
    "df6['first_affiliate_tracked'] = te.fit_transform( df6[['first_affiliate_tracked']].values, df6['country_destination'].map( c ) )"
   ]
  },
  {
   "cell_type": "markdown",
   "id": "d8dac746",
   "metadata": {},
   "source": [
    "### 7.3. Transformation"
   ]
  },
  {
   "cell_type": "code",
   "execution_count": 157,
   "id": "3c609469",
   "metadata": {
    "ExecuteTime": {
     "end_time": "2021-05-18T00:50:03.508289Z",
     "start_time": "2021-05-18T00:49:59.730053Z"
    }
   },
   "outputs": [],
   "source": [
    "# week_of_year_account_created\n",
    "df6['week_of_year_account_created_sin'] = df6['weekofyear_first_created_account'].apply( lambda x: np.sin( x * (2*np.pi/52 ) ) )\n",
    "df6['week_of_year_account_created_cos'] = df6['weekofyear_first_created_account'].apply( lambda x: np.cos( x * (2*np.pi/52 ) ) )\n",
    "\n",
    "# day_of_week_first_booking\n",
    "df6['day_of_week_first_booking_sin'] = df6['dayofweek_first_booking'].apply( lambda x: np.sin( x * (2*np.pi/7 ) ) )\n",
    "df6['day_of_week_first_booking_cos'] = df6['dayofweek_first_booking'].apply( lambda x: np.cos( x * (2*np.pi/7 ) ) )\n",
    "\n",
    "# day_account_created\n",
    "df6['day_account_created_sin'] = df6['day_first_created_account'].apply( lambda x: np.sin( x * (2*np.pi/31 ) ) )\n",
    "df6['day_account_created_cos'] = df6['day_first_created_account'].apply( lambda x: np.cos( x * (2*np.pi/31 ) ) )\n",
    "\n",
    "# day_of_week_account_created\n",
    "df6['day_of_week_account_created_sin'] = df6['dayofweek_first_created_account'].apply( lambda x: np.sin( x * (2*np.pi/7 ) ) )\n",
    "df6['day_of_week_account_created_cos'] = df6['dayofweek_first_created_account'].apply( lambda x: np.cos( x * (2*np.pi/7 ) ) )"
   ]
  },
  {
   "cell_type": "markdown",
   "id": "d4726c82",
   "metadata": {},
   "source": [
    "## 8.0 Feature Selection"
   ]
  },
  {
   "cell_type": "code",
   "execution_count": 158,
   "id": "96f041e3",
   "metadata": {
    "ExecuteTime": {
     "end_time": "2021-05-18T00:50:37.118247Z",
     "start_time": "2021-05-18T00:50:37.093842Z"
    }
   },
   "outputs": [],
   "source": [
    "df6 = df5.copy()"
   ]
  },
  {
   "cell_type": "code",
   "execution_count": 159,
   "id": "47b76144",
   "metadata": {
    "ExecuteTime": {
     "end_time": "2021-05-18T00:50:39.827005Z",
     "start_time": "2021-05-18T00:50:39.807275Z"
    }
   },
   "outputs": [],
   "source": [
    "X = df6.drop( 'country_destination', axis=1 )\n",
    "y = df6['country_destination'].copy()"
   ]
  },
  {
   "cell_type": "code",
   "execution_count": 160,
   "id": "90e3b2b6",
   "metadata": {
    "ExecuteTime": {
     "end_time": "2021-05-18T00:50:42.541055Z",
     "start_time": "2021-05-18T00:50:42.353779Z"
    }
   },
   "outputs": [],
   "source": [
    "# split dataset into training and test\n",
    "X_train, X_test,y_train, y_test =  ms.train_test_split( X , y, test_size=0.2, random_state=32 )"
   ]
  },
  {
   "cell_type": "markdown",
   "id": "b8e0a658",
   "metadata": {},
   "source": [
    "## 9.0 Machine Learning Model"
   ]
  },
  {
   "cell_type": "code",
   "execution_count": 161,
   "id": "fab78d9c",
   "metadata": {
    "ExecuteTime": {
     "end_time": "2021-05-18T00:51:29.899974Z",
     "start_time": "2021-05-18T00:51:29.871653Z"
    }
   },
   "outputs": [],
   "source": [
    "x_train = X_train.drop('id', axis=1)\n",
    "x_test = X_test.drop('id', axis=1)"
   ]
  },
  {
   "cell_type": "markdown",
   "id": "c6a8ffb7",
   "metadata": {},
   "source": [
    "### 9.1 Baseline Model"
   ]
  },
  {
   "cell_type": "code",
   "execution_count": 162,
   "id": "a4d3d748",
   "metadata": {
    "ExecuteTime": {
     "end_time": "2021-05-18T00:51:30.882459Z",
     "start_time": "2021-05-18T00:51:30.823561Z"
    }
   },
   "outputs": [],
   "source": [
    "country_destination_list = df1['country_destination'].drop_duplicates().sort_values().tolist()\n",
    "k_num = y_test.shape[0]\n",
    "country_destination_weights = df1['country_destination'].value_counts(normalize=True).sort_index().tolist()\n",
    "#Model\n",
    "y_hat_random = random.choices( population=country_destination_list,\n",
    "                              weights = country_destination_weights,\n",
    "                              k=k_num)"
   ]
  },
  {
   "cell_type": "code",
   "execution_count": 163,
   "id": "184caad0",
   "metadata": {
    "ExecuteTime": {
     "end_time": "2021-05-18T00:51:33.421923Z",
     "start_time": "2021-05-18T00:51:31.476027Z"
    }
   },
   "outputs": [
    {
     "name": "stdout",
     "output_type": "stream",
     "text": [
      "Accuracy :0.4285437692102907\n",
      "Balanced accuracy : 0.0842520362393585\n",
      "kappa score : 0.0022892975296769924\n",
      "              precision    recall  f1-score   support\n",
      "\n",
      "          AU       0.02      0.02      0.02       101\n",
      "          CA       0.01      0.01      0.01       265\n",
      "          DE       0.02      0.02      0.02       234\n",
      "          ES       0.01      0.01      0.01       385\n",
      "          FR       0.01      0.01      0.01       971\n",
      "          GB       0.01      0.01      0.01       457\n",
      "          IT       0.01      0.01      0.01       553\n",
      "         NDF       0.58      0.59      0.58     23927\n",
      "          NL       0.01      0.01      0.01       143\n",
      "          PT       0.00      0.00      0.00        54\n",
      "          US       0.30      0.29      0.30     12249\n",
      "       other       0.04      0.04      0.04      1980\n",
      "\n",
      "    accuracy                           0.43     41319\n",
      "   macro avg       0.08      0.08      0.08     41319\n",
      "weighted avg       0.43      0.43      0.43     41319\n",
      "\n"
     ]
    },
    {
     "data": {
      "text/plain": [
       "<AxesSubplot:title={'center':'Confusion Matrix'}, xlabel='Predicted label', ylabel='True label'>"
      ]
     },
     "execution_count": 163,
     "metadata": {},
     "output_type": "execute_result"
    },
    {
     "data": {
      "image/png": "[encoded data removed]",
      "text/plain": [
       "<Figure size 864x864 with 2 Axes>"
      ]
     },
     "metadata": {
      "image/png": {
       "height": 676,
       "width": 718
      }
     },
     "output_type": "display_data"
    }
   ],
   "source": [
    "acc_random = m.accuracy_score( y_test, y_hat_random )\n",
    "print('Accuracy :{}'.format(acc_random ) )\n",
    "\n",
    "# Balanced accuracy\n",
    "balanced_accuracy_random = m.balanced_accuracy_score(y_test, y_hat_random)\n",
    "print('Balanced accuracy : {}'.format( balanced_accuracy_random ))\n",
    "\n",
    "\n",
    "# Kappa Metrics\n",
    "kappa_random = m.cohen_kappa_score(y_test, y_hat_random)\n",
    "print('kappa score : {}'.format( kappa_random ))\n",
    "\n",
    "# classification report\n",
    "print(m.classification_report( y_test, y_hat_random ))\n",
    "\n",
    "#Confusion Matrix \n",
    "mt.plot_confusion_matrix( y_test, y_hat_random, normalize=False , figsize=(12,12) )\n"
   ]
  },
  {
   "cell_type": "markdown",
   "id": "e0c58483",
   "metadata": {},
   "source": [
    "### 9.1 Neural Network - MLP"
   ]
  },
  {
   "cell_type": "code",
   "execution_count": 164,
   "id": "a03f1546",
   "metadata": {
    "ExecuteTime": {
     "end_time": "2021-05-18T00:51:33.470449Z",
     "start_time": "2021-05-18T00:51:33.423453Z"
    }
   },
   "outputs": [],
   "source": [
    "ohe = pp.OneHotEncoder()\n",
    "y_train_nn = ohe.fit_transform(y_train.values.reshape(-1,1)).toarray()"
   ]
  },
  {
   "cell_type": "code",
   "execution_count": 165,
   "id": "0f439281",
   "metadata": {
    "ExecuteTime": {
     "end_time": "2021-05-18T00:58:02.502348Z",
     "start_time": "2021-05-18T00:51:33.473992Z"
    },
    "scrolled": true
   },
   "outputs": [
    {
     "name": "stdout",
     "output_type": "stream",
     "text": [
      "Epoch 1/50\n",
      "5165/5165 [==============================] - 61s 813us/step - loss: 10.1847 - accuracy: 0.7895\n",
      "Epoch 2/50\n",
      "5165/5165 [==============================] - 4s 684us/step - loss: 1.4256 - accuracy: 0.8184\n",
      "Epoch 3/50\n",
      "5165/5165 [==============================] - 4s 721us/step - loss: 0.6396 - accuracy: 0.8536\n",
      "Epoch 4/50\n",
      "5165/5165 [==============================] - 4s 751us/step - loss: 0.4999 - accuracy: 0.8742\n",
      "Epoch 5/50\n",
      "5165/5165 [==============================] - 4s 725us/step - loss: 0.4918 - accuracy: 0.8746\n",
      "Epoch 6/50\n",
      "5165/5165 [==============================] - 4s 744us/step - loss: 0.4953 - accuracy: 0.8738\n",
      "Epoch 7/50\n",
      "5165/5165 [==============================] - 4s 750us/step - loss: 0.4923 - accuracy: 0.8745\n",
      "Epoch 8/50\n",
      "5165/5165 [==============================] - 4s 750us/step - loss: 0.4917 - accuracy: 0.8749\n",
      "Epoch 9/50\n",
      "5165/5165 [==============================] - 4s 749us/step - loss: 0.4959 - accuracy: 0.8730\n",
      "Epoch 10/50\n",
      "5165/5165 [==============================] - 4s 748us/step - loss: 0.4909 - accuracy: 0.8738\n",
      "Epoch 11/50\n",
      "5165/5165 [==============================] - 4s 806us/step - loss: 0.4925 - accuracy: 0.8740\n",
      "Epoch 12/50\n",
      "5165/5165 [==============================] - 4s 867us/step - loss: 0.4917 - accuracy: 0.8744\n",
      "Epoch 13/50\n",
      "5165/5165 [==============================] - 4s 868us/step - loss: 0.4964 - accuracy: 0.8724\n",
      "Epoch 14/50\n",
      "5165/5165 [==============================] - 4s 832us/step - loss: 0.4957 - accuracy: 0.8728\n",
      "Epoch 15/50\n",
      "5165/5165 [==============================] - 4s 794us/step - loss: 0.4960 - accuracy: 0.8729\n",
      "Epoch 16/50\n",
      "5165/5165 [==============================] - 4s 843us/step - loss: 0.4887 - accuracy: 0.8740\n",
      "Epoch 17/50\n",
      "5165/5165 [==============================] - 4s 848us/step - loss: 0.4908 - accuracy: 0.8738\n",
      "Epoch 18/50\n",
      "5165/5165 [==============================] - 4s 759us/step - loss: 0.4914 - accuracy: 0.8728\n",
      "Epoch 19/50\n",
      "5165/5165 [==============================] - 4s 761us/step - loss: 0.4885 - accuracy: 0.8741\n",
      "Epoch 20/50\n",
      "5165/5165 [==============================] - 4s 798us/step - loss: 0.4905 - accuracy: 0.8737\n",
      "Epoch 21/50\n",
      "5165/5165 [==============================] - 4s 782us/step - loss: 0.4881 - accuracy: 0.8746\n",
      "Epoch 22/50\n",
      "5165/5165 [==============================] - 4s 723us/step - loss: 0.4929 - accuracy: 0.8728\n",
      "Epoch 23/50\n",
      "5165/5165 [==============================] - 4s 733us/step - loss: 0.4884 - accuracy: 0.8741\n",
      "Epoch 24/50\n",
      "5165/5165 [==============================] - 4s 736us/step - loss: 0.4890 - accuracy: 0.8741\n",
      "Epoch 25/50\n",
      "5165/5165 [==============================] - 4s 720us/step - loss: 0.4902 - accuracy: 0.8741\n",
      "Epoch 26/50\n",
      "5165/5165 [==============================] - 4s 740us/step - loss: 0.4888 - accuracy: 0.8740\n",
      "Epoch 27/50\n",
      "5165/5165 [==============================] - 4s 789us/step - loss: 0.4873 - accuracy: 0.8749\n",
      "Epoch 28/50\n",
      "5165/5165 [==============================] - 4s 783us/step - loss: 0.4880 - accuracy: 0.8740\n",
      "Epoch 29/50\n",
      "5165/5165 [==============================] - 4s 826us/step - loss: 0.4929 - accuracy: 0.8731\n",
      "Epoch 30/50\n",
      "5165/5165 [==============================] - 5s 873us/step - loss: 0.4847 - accuracy: 0.8751\n",
      "Epoch 31/50\n",
      "5165/5165 [==============================] - 4s 845us/step - loss: 0.4893 - accuracy: 0.8744\n",
      "Epoch 32/50\n",
      "5165/5165 [==============================] - 4s 803us/step - loss: 0.4886 - accuracy: 0.8741\n",
      "Epoch 33/50\n",
      "5165/5165 [==============================] - 4s 809us/step - loss: 0.4883 - accuracy: 0.8742\n",
      "Epoch 34/50\n",
      "5165/5165 [==============================] - 4s 807us/step - loss: 0.4929 - accuracy: 0.8728\n",
      "Epoch 35/50\n",
      "5165/5165 [==============================] - 4s 809us/step - loss: 0.4880 - accuracy: 0.8745\n",
      "Epoch 36/50\n",
      "5165/5165 [==============================] - 4s 816us/step - loss: 0.4929 - accuracy: 0.8727\n",
      "Epoch 37/50\n",
      "5165/5165 [==============================] - 4s 810us/step - loss: 0.4897 - accuracy: 0.8737\n",
      "Epoch 38/50\n",
      "5165/5165 [==============================] - 4s 819us/step - loss: 0.4907 - accuracy: 0.8736\n",
      "Epoch 39/50\n",
      "5165/5165 [==============================] - 4s 810us/step - loss: 0.4925 - accuracy: 0.8735\n",
      "Epoch 40/50\n",
      "5165/5165 [==============================] - 4s 811us/step - loss: 0.4900 - accuracy: 0.8739\n",
      "Epoch 41/50\n",
      "5165/5165 [==============================] - 4s 814us/step - loss: 0.4849 - accuracy: 0.8757\n",
      "Epoch 42/50\n",
      "5165/5165 [==============================] - 4s 809us/step - loss: 0.4849 - accuracy: 0.8754\n",
      "Epoch 43/50\n",
      "5165/5165 [==============================] - 4s 809us/step - loss: 0.4904 - accuracy: 0.8741\n",
      "Epoch 44/50\n",
      "5165/5165 [==============================] - 4s 812us/step - loss: 0.4903 - accuracy: 0.8738\n",
      "Epoch 45/50\n",
      "5165/5165 [==============================] - 4s 816us/step - loss: 0.4888 - accuracy: 0.8746\n",
      "Epoch 46/50\n",
      "5165/5165 [==============================] - 4s 813us/step - loss: 0.4939 - accuracy: 0.8728\n",
      "Epoch 47/50\n",
      "5165/5165 [==============================] - 4s 815us/step - loss: 0.4914 - accuracy: 0.8736\n",
      "Epoch 48/50\n",
      "5165/5165 [==============================] - 4s 815us/step - loss: 0.4866 - accuracy: 0.8746\n",
      "Epoch 49/50\n",
      "5165/5165 [==============================] - 4s 813us/step - loss: 0.4912 - accuracy: 0.8737\n",
      "Epoch 50/50\n",
      "5165/5165 [==============================] - 4s 813us/step - loss: 0.4935 - accuracy: 0.8730\n"
     ]
    },
    {
     "data": {
      "text/plain": [
       "<tensorflow.python.keras.callbacks.History at 0x7f7eaa8dd460>"
      ]
     },
     "execution_count": 165,
     "metadata": {},
     "output_type": "execute_result"
    }
   ],
   "source": [
    "#model definition\n",
    "model = ml.Sequential()\n",
    "model.add( l.Dense( 256, input_dim= x_train.shape[1], activation='relu' ) )\n",
    "model.add( l.Dense( 12, activation='softmax' ) )\n",
    "\n",
    "#model compile\n",
    "model.compile(loss='categorical_crossentropy', optimizer='adam', metrics=['accuracy'] )\n",
    "\n",
    "#train model\n",
    "model.fit( x_train, y_train_nn, epochs=50 )"
   ]
  },
  {
   "cell_type": "markdown",
   "id": "b375a70f",
   "metadata": {},
   "source": [
    "### 9.1.2 NN Performance"
   ]
  },
  {
   "cell_type": "code",
   "execution_count": 166,
   "id": "d9b9525b",
   "metadata": {
    "ExecuteTime": {
     "end_time": "2021-05-18T00:58:19.679571Z",
     "start_time": "2021-05-18T00:58:03.322663Z"
    }
   },
   "outputs": [],
   "source": [
    "#prediction\n",
    "pred_nn = model.predict( x_test )\n",
    "\n",
    "#invert prediction\n",
    "y_hat_nn = ohe.inverse_transform( pred_nn )\n",
    "\n",
    "#prediction prepare\n",
    "y_test_nn = y_test.to_numpy()\n",
    "y_hat_nn = y_hat_nn.reshape( 1 , -1)[0] "
   ]
  },
  {
   "cell_type": "code",
   "execution_count": 167,
   "id": "3b8799ac",
   "metadata": {
    "ExecuteTime": {
     "end_time": "2021-05-18T00:58:27.238471Z",
     "start_time": "2021-05-18T00:58:19.713465Z"
    },
    "scrolled": false
   },
   "outputs": [
    {
     "name": "stdout",
     "output_type": "stream",
     "text": [
      "Accuracy :0.8755294174592803\n",
      "Balanced accuracy : 0.16666666666666666\n",
      "kappa score : 0.7694497945406258\n",
      "              precision    recall  f1-score   support\n",
      "\n",
      "          AU       0.00      0.00      0.00       101\n",
      "          CA       0.00      0.00      0.00       265\n",
      "          DE       0.00      0.00      0.00       234\n",
      "          ES       0.00      0.00      0.00       385\n",
      "          FR       0.00      0.00      0.00       971\n",
      "          GB       0.00      0.00      0.00       457\n",
      "          IT       0.00      0.00      0.00       553\n",
      "         NDF       1.00      1.00      1.00     23927\n",
      "          NL       0.00      0.00      0.00       143\n",
      "          PT       0.00      0.00      0.00        54\n",
      "          US       0.70      1.00      0.83     12249\n",
      "       other       0.00      0.00      0.00      1980\n",
      "\n",
      "    accuracy                           0.88     41319\n",
      "   macro avg       0.14      0.17      0.15     41319\n",
      "weighted avg       0.79      0.88      0.82     41319\n",
      "\n"
     ]
    },
    {
     "data": {
      "text/plain": [
       "<AxesSubplot:title={'center':'Confusion Matrix'}, xlabel='Predicted label', ylabel='True label'>"
      ]
     },
     "execution_count": 167,
     "metadata": {},
     "output_type": "execute_result"
    },
    {
     "data": {
      "image/png": "[encoded data removed]",
      "text/plain": [
       "<Figure size 864x864 with 2 Axes>"
      ]
     },
     "metadata": {
      "image/png": {
       "height": 672,
       "width": 718
      }
     },
     "output_type": "display_data"
    }
   ],
   "source": [
    "#Accuracy\n",
    "acc_nn = m.accuracy_score( y_test_nn, y_hat_nn )\n",
    "print('Accuracy :{}'.format(acc_nn))\n",
    "\n",
    "# Balanced accuracy\n",
    "balanced_accuracy_nn = m.balanced_accuracy_score(y_test_nn, y_hat_nn)\n",
    "print('Balanced accuracy : {}'.format( balanced_accuracy_nn ))\n",
    "\n",
    "\n",
    "# Kappa Metrics\n",
    "kappa_nn = m.cohen_kappa_score(y_test_nn, y_hat_nn)\n",
    "print('kappa score : {}'.format( kappa_nn ))\n",
    "\n",
    "# classification report\n",
    "print(m.classification_report( y_test_nn, y_hat_nn ))\n",
    "\n",
    "#Confusion Matrix \n",
    "mt.plot_confusion_matrix( y_test_nn, y_hat_nn, normalize=False , figsize=(12,12) )\n"
   ]
  },
  {
   "cell_type": "markdown",
   "id": "64eb78fb",
   "metadata": {},
   "source": [
    "### 9.1.3 NN Performance - Cross Validation"
   ]
  },
  {
   "cell_type": "code",
   "execution_count": 168,
   "id": "606e00d4",
   "metadata": {
    "ExecuteTime": {
     "end_time": "2021-05-18T01:22:53.329789Z",
     "start_time": "2021-05-18T00:58:27.243771Z"
    },
    "code_folding": []
   },
   "outputs": [
    {
     "name": "stdout",
     "output_type": "stream",
     "text": [
      "Fold Number : 1/5\n",
      "Fold Number : 2/5\n",
      "Fold Number : 3/5\n",
      "Fold Number : 4/5\n",
      "Fold Number : 5/5\n"
     ]
    }
   ],
   "source": [
    "# Generate k-fold\n",
    "num_folds = 5 \n",
    "kfold = ms.StratifiedKFold(n_splits=num_folds, shuffle=True ,random_state=32)\n",
    "kfold.split( x_train, y_train )\n",
    "\n",
    "\n",
    "balanced_acc_list = [] \n",
    "kappa_acc_list    = []\n",
    "\n",
    "i = 1\n",
    "for train_ix, val_ix in kfold.split(x_train,y_train):\n",
    "    print('Fold Number : {}/{}'.format( i , num_folds ))\n",
    "    # get fold\n",
    "    x_train_fold  = x_train.iloc[train_ix]\n",
    "    y_train_fold  = y_train.iloc[train_ix]\n",
    "    \n",
    "    x_val_fold    = x_train.iloc[val_ix]\n",
    "    y_val_fold    = y_train.iloc[val_ix]\n",
    "    \n",
    "    # Target Definition\n",
    "    \n",
    "    ohe = pp.OneHotEncoder()\n",
    "    y_train_fold_nn = ohe.fit_transform( y_train_fold.values.reshape( -1,1 ) ).toarray()\n",
    "\n",
    "    \n",
    "    # Model definition\n",
    "    model = ml.Sequential()\n",
    "    model.add( l.Dense( 256, input_dim=x_train.shape[1], activation='relu' ) )\n",
    "    model.add( l.Dense( 12,  activation='softmax') )\n",
    "    \n",
    "    # Compile Model\n",
    "    model.compile( loss='categorical_crossentropy' , optimizer='adam', metrics=['accuracy'])    \n",
    "    \n",
    "    \n",
    "    # Trainig model \n",
    "    model.fit( x_train_fold, y_train_fold_nn, epochs=100, batch_size=32,verbose=0 )\n",
    "    \n",
    "    \n",
    "    # Prediction\n",
    "    pred_nn  = model.predict(x_val_fold)\n",
    "    y_hat_nn = ohe.inverse_transform(pred_nn)\n",
    "    \n",
    "    \n",
    "    #prepare data\n",
    "    y_test_nn  = y_val_fold.to_numpy()\n",
    "    y_hat_nn  = y_hat_nn.reshape( 1 , -1 )[0]\n",
    "    \n",
    "    # Metrics\n",
    "    ## Balanced Accuracy\n",
    "    balanced_acc_nn   =  m.balanced_accuracy_score( y_test_nn, y_hat_nn)\n",
    "    balanced_acc_list.append(balanced_acc_nn) \n",
    "    ## Kappa Metrics\n",
    "    kappa_acc_nn    =  m.cohen_kappa_score( y_test_nn, y_hat_nn)\n",
    "    kappa_acc_list.append( kappa_acc_nn )\n",
    "    \n",
    "    \n",
    "    i+=1"
   ]
  },
  {
   "cell_type": "code",
   "execution_count": 169,
   "id": "558c58bd",
   "metadata": {
    "ExecuteTime": {
     "end_time": "2021-05-18T01:22:53.637544Z",
     "start_time": "2021-05-18T01:22:53.379329Z"
    }
   },
   "outputs": [
    {
     "name": "stdout",
     "output_type": "stream",
     "text": [
      "Avg Balanced accuracy: 0.167  +/- 0.0\n",
      "Avg Kappa:             0.767  +/- 0.0\n"
     ]
    }
   ],
   "source": [
    "print('Avg Balanced accuracy: {}  +/- {}'.format(np.round( np.mean( balanced_acc_list ),3),\n",
    "                                                 np.round(np.std  ( balanced_acc_list ),4)))\n",
    "print('Avg Kappa:             {}  +/- {}'.format( np.round ( np.mean ( kappa_acc_list ),3 ),\n",
    "                                                  np.round ( np.std  ( kappa_acc_list ),3 ) ))"
   ]
  }
 ],
 "metadata": {
  "kernelspec": {
   "display_name": "Python 3",
   "language": "python",
   "name": "python3"
  },
  "language_info": {
   "codemirror_mode": {
    "name": "ipython",
    "version": 3
   },
   "file_extension": ".py",
   "mimetype": "text/x-python",
   "name": "python",
   "nbconvert_exporter": "python",
   "pygments_lexer": "ipython3",
   "version": "3.8.0"
  }
 },
 "nbformat": 4,
 "nbformat_minor": 5
}
