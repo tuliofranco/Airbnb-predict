{
 "cells": [
  {
   "cell_type": "markdown",
   "id": "21fa6a28",
   "metadata": {},
   "source": [
    "# <font color='blue'> Ciclo-1 end to end </font>"
   ]
  },
  {
   "cell_type": "markdown",
   "id": "32d80aab",
   "metadata": {},
   "source": [
    "## 1.0 Data Informations"
   ]
  },
  {
   "cell_type": "markdown",
   "id": "74942135",
   "metadata": {},
   "source": [
    "### 1.1 IMPORTS"
   ]
  },
  {
   "cell_type": "code",
   "execution_count": 22,
   "id": "d4263eb4",
   "metadata": {
    "ExecuteTime": {
     "end_time": "2021-04-13T18:14:00.224824Z",
     "start_time": "2021-04-13T18:14:00.221739Z"
    }
   },
   "outputs": [],
   "source": [
    "import random\n",
    "\n",
    "\n",
    "\n",
    "import pandas           as pd\n",
    "import matplotlib       as plt\n",
    "\n",
    "\n",
    "\n",
    "\n",
    "from      scikitplot   import              metrics                  as     mt\n",
    "from      sklearn      import              metrics                  as     m\n",
    "from      sklearn      import              preprocessing            as     pp\n",
    "from      keras        import              layers                   as     l\n",
    "from      keras        import              models                   as     ml\n",
    "from      sklearn      import              model_selection          as     ms"
   ]
  },
  {
   "cell_type": "markdown",
   "id": "b68939fe",
   "metadata": {},
   "source": [
    "### 1.2 Helper functions"
   ]
  },
  {
   "cell_type": "markdown",
   "id": "512f788b",
   "metadata": {
    "heading_collapsed": true
   },
   "source": [
    "### 1.3 Loading data"
   ]
  },
  {
   "cell_type": "code",
   "execution_count": 2,
   "id": "766a5caa",
   "metadata": {
    "ExecuteTime": {
     "end_time": "2021-04-13T18:00:43.113017Z",
     "start_time": "2021-04-13T18:00:42.731604Z"
    },
    "hidden": true
   },
   "outputs": [],
   "source": [
    "data_raw    = pd.read_csv('dataset/training_users.csv', low_memory=True)"
   ]
  },
  {
   "cell_type": "markdown",
   "id": "c569a19a",
   "metadata": {
    "heading_collapsed": true
   },
   "source": [
    "## 2.0 Data Description "
   ]
  },
  {
   "cell_type": "code",
   "execution_count": 3,
   "id": "498ac781",
   "metadata": {
    "ExecuteTime": {
     "end_time": "2021-04-13T18:00:43.136722Z",
     "start_time": "2021-04-13T18:00:43.116128Z"
    },
    "hidden": true
   },
   "outputs": [],
   "source": [
    "df1 = data_raw.copy()"
   ]
  },
  {
   "cell_type": "code",
   "execution_count": 4,
   "id": "05a01b4f",
   "metadata": {
    "ExecuteTime": {
     "end_time": "2021-04-13T18:00:43.246727Z",
     "start_time": "2021-04-13T18:00:43.137946Z"
    },
    "hidden": true
   },
   "outputs": [
    {
     "name": "stdout",
     "output_type": "stream",
     "text": [
      "Number of rows: 213451\n",
      "Number of columns: 16\n"
     ]
    }
   ],
   "source": [
    "print( 'Number of rows: {}'.format( df1.shape[0] ) )\n",
    "print( 'Number of columns: {}'.format( df1.shape[1] ) )"
   ]
  },
  {
   "cell_type": "markdown",
   "id": "ef55bfa1",
   "metadata": {
    "hidden": true
   },
   "source": [
    "### 2.1 Data Type"
   ]
  },
  {
   "cell_type": "code",
   "execution_count": 5,
   "id": "4931c789",
   "metadata": {
    "ExecuteTime": {
     "end_time": "2021-04-13T18:00:43.361248Z",
     "start_time": "2021-04-13T18:00:43.253396Z"
    },
    "hidden": true
   },
   "outputs": [
    {
     "data": {
      "text/plain": [
       "id                          object\n",
       "date_account_created        object\n",
       "timestamp_first_active       int64\n",
       "date_first_booking          object\n",
       "gender                      object\n",
       "age                        float64\n",
       "signup_method               object\n",
       "signup_flow                  int64\n",
       "language                    object\n",
       "affiliate_channel           object\n",
       "affiliate_provider          object\n",
       "first_affiliate_tracked     object\n",
       "signup_app                  object\n",
       "first_device_type           object\n",
       "first_browser               object\n",
       "country_destination         object\n",
       "dtype: object"
      ]
     },
     "execution_count": 5,
     "metadata": {},
     "output_type": "execute_result"
    }
   ],
   "source": [
    "df1.dtypes"
   ]
  },
  {
   "cell_type": "markdown",
   "id": "7cfd3aa9",
   "metadata": {
    "hidden": true
   },
   "source": [
    "### 2.2 NA Check"
   ]
  },
  {
   "cell_type": "code",
   "execution_count": 6,
   "id": "59c8a2b2",
   "metadata": {
    "ExecuteTime": {
     "end_time": "2021-04-13T18:00:43.615379Z",
     "start_time": "2021-04-13T18:00:43.366058Z"
    },
    "hidden": true
   },
   "outputs": [
    {
     "data": {
      "text/plain": [
       "id                              0\n",
       "date_account_created            0\n",
       "timestamp_first_active          0\n",
       "date_first_booking         124543\n",
       "gender                          0\n",
       "age                         87990\n",
       "signup_method                   0\n",
       "signup_flow                     0\n",
       "language                        0\n",
       "affiliate_channel               0\n",
       "affiliate_provider              0\n",
       "first_affiliate_tracked      6065\n",
       "signup_app                      0\n",
       "first_device_type               0\n",
       "first_browser                   0\n",
       "country_destination             0\n",
       "dtype: int64"
      ]
     },
     "execution_count": 6,
     "metadata": {},
     "output_type": "execute_result"
    }
   ],
   "source": [
    "df1.isna().sum()"
   ]
  },
  {
   "cell_type": "code",
   "execution_count": 7,
   "id": "78f36692",
   "metadata": {
    "ExecuteTime": {
     "end_time": "2021-04-13T18:00:43.762448Z",
     "start_time": "2021-04-13T18:00:43.616855Z"
    },
    "hidden": true
   },
   "outputs": [],
   "source": [
    "df1 = df1.dropna()"
   ]
  },
  {
   "cell_type": "markdown",
   "id": "822ec918",
   "metadata": {
    "hidden": true
   },
   "source": [
    "### 2.3 Change data types"
   ]
  },
  {
   "cell_type": "code",
   "execution_count": 8,
   "id": "7755ac59",
   "metadata": {
    "ExecuteTime": {
     "end_time": "2021-04-13T18:00:44.059512Z",
     "start_time": "2021-04-13T18:00:43.764139Z"
    },
    "hidden": true
   },
   "outputs": [],
   "source": [
    "#date_account_created\n",
    "df1['date_account_created'] = pd.to_datetime( df1['date_account_created'] )\n",
    "\n",
    "#timestamp_first_active\n",
    "df1['timestamp_first_active'] = pd.to_datetime( df1['timestamp_first_active'] )\n",
    "\n",
    "#date_first_booking\n",
    "df1['date_first_booking'] = pd.to_datetime( df1['date_first_booking'] )\n",
    "\n",
    "#age\n",
    "df1['age'] = df1['age'].astype( int )"
   ]
  },
  {
   "cell_type": "markdown",
   "id": "b04dbb81",
   "metadata": {
    "heading_collapsed": true,
    "hidden": true
   },
   "source": [
    "### 2.4 Check balanced data"
   ]
  },
  {
   "cell_type": "code",
   "execution_count": 9,
   "id": "98fdac03",
   "metadata": {
    "ExecuteTime": {
     "end_time": "2021-04-13T18:00:44.131614Z",
     "start_time": "2021-04-13T18:00:44.060792Z"
    },
    "hidden": true
   },
   "outputs": [
    {
     "data": {
      "text/plain": [
       "US       0.708864\n",
       "other    0.110854\n",
       "FR       0.054085\n",
       "IT       0.029763\n",
       "GB       0.025935\n",
       "ES       0.024864\n",
       "CA       0.015696\n",
       "DE       0.012454\n",
       "NL       0.008801\n",
       "AU       0.006366\n",
       "PT       0.002318\n",
       "Name: country_destination, dtype: float64"
      ]
     },
     "execution_count": 9,
     "metadata": {},
     "output_type": "execute_result"
    }
   ],
   "source": [
    "df1['country_destination'].value_counts( normalize=True )"
   ]
  },
  {
   "cell_type": "markdown",
   "id": "2bd7931e",
   "metadata": {
    "heading_collapsed": true
   },
   "source": [
    "## 3.0 Data filtering"
   ]
  },
  {
   "cell_type": "code",
   "execution_count": 10,
   "id": "594ab891",
   "metadata": {
    "ExecuteTime": {
     "end_time": "2021-04-13T18:00:44.247344Z",
     "start_time": "2021-04-13T18:00:44.133582Z"
    },
    "hidden": true
   },
   "outputs": [],
   "source": [
    "df2 = df1.copy()"
   ]
  },
  {
   "cell_type": "markdown",
   "id": "0682ffa6",
   "metadata": {
    "heading_collapsed": true,
    "hidden": true
   },
   "source": [
    "### 3.1 Filtering rows"
   ]
  },
  {
   "cell_type": "markdown",
   "id": "63f3c1e5",
   "metadata": {
    "hidden": true
   },
   "source": [
    "### 3.2 Columns selection"
   ]
  },
  {
   "cell_type": "markdown",
   "id": "387c60c0",
   "metadata": {
    "heading_collapsed": true
   },
   "source": [
    "## 4.0 Data Preparation "
   ]
  },
  {
   "cell_type": "code",
   "execution_count": 11,
   "id": "99376def",
   "metadata": {
    "ExecuteTime": {
     "end_time": "2021-04-13T18:00:44.379790Z",
     "start_time": "2021-04-13T18:00:44.251898Z"
    },
    "hidden": true
   },
   "outputs": [],
   "source": [
    "df3 = df2.copy()"
   ]
  },
  {
   "cell_type": "code",
   "execution_count": 12,
   "id": "4d47f231",
   "metadata": {
    "ExecuteTime": {
     "end_time": "2021-04-13T18:00:44.621922Z",
     "start_time": "2021-04-13T18:00:44.384308Z"
    },
    "hidden": true
   },
   "outputs": [],
   "source": [
    "#dummy variable\n",
    "df3_dummy =   pd.get_dummies( df3.drop ( ['id','country_destination'] , axis=1 ) ) \n",
    "\n",
    "#join id and country destination\n",
    "df3 = pd.concat( [df3 [['id','country_destination']] ,df3_dummy], axis=1 )"
   ]
  },
  {
   "cell_type": "markdown",
   "id": "d4726c82",
   "metadata": {
    "heading_collapsed": true
   },
   "source": [
    "## 5.0 Feature Selection"
   ]
  },
  {
   "cell_type": "code",
   "execution_count": 13,
   "id": "96f041e3",
   "metadata": {
    "ExecuteTime": {
     "end_time": "2021-04-13T18:00:44.646637Z",
     "start_time": "2021-04-13T18:00:44.623919Z"
    },
    "hidden": true
   },
   "outputs": [],
   "source": [
    "cols_drop = ['date_account_created','timestamp_first_active','date_first_booking']\n",
    "df4 = df3.drop( cols_drop, axis=1 )"
   ]
  },
  {
   "cell_type": "code",
   "execution_count": 14,
   "id": "47b76144",
   "metadata": {
    "ExecuteTime": {
     "end_time": "2021-04-13T18:00:44.767789Z",
     "start_time": "2021-04-13T18:00:44.648363Z"
    },
    "hidden": true
   },
   "outputs": [],
   "source": [
    "X = df4.drop( 'country_destination', axis=1 )\n",
    "y = df4['country_destination'].copy()"
   ]
  },
  {
   "cell_type": "code",
   "execution_count": 15,
   "id": "90e3b2b6",
   "metadata": {
    "ExecuteTime": {
     "end_time": "2021-04-13T18:00:44.951566Z",
     "start_time": "2021-04-13T18:00:44.771985Z"
    },
    "hidden": true
   },
   "outputs": [],
   "source": [
    "# split dataset into training and test\n",
    "X_train, X_test,y_train, y_test =  ms.train_test_split( X , y, test_size=0.2, random_state=32 )"
   ]
  },
  {
   "cell_type": "markdown",
   "id": "b8e0a658",
   "metadata": {},
   "source": [
    "## 6.0 Machine Learning Model"
   ]
  },
  {
   "cell_type": "code",
   "execution_count": 16,
   "id": "fab78d9c",
   "metadata": {
    "ExecuteTime": {
     "end_time": "2021-04-13T18:00:45.024294Z",
     "start_time": "2021-04-13T18:00:44.955649Z"
    }
   },
   "outputs": [],
   "source": [
    "x_train = X_train.drop('id', axis=1)\n",
    "x_test = X_test.drop('id', axis=1)"
   ]
  },
  {
   "cell_type": "markdown",
   "id": "c6a8ffb7",
   "metadata": {},
   "source": [
    "### 6.1 Baseline Model"
   ]
  },
  {
   "cell_type": "code",
   "execution_count": 46,
   "id": "a4d3d748",
   "metadata": {
    "ExecuteTime": {
     "end_time": "2021-04-13T19:07:45.586085Z",
     "start_time": "2021-04-13T19:07:45.547752Z"
    }
   },
   "outputs": [
    {
     "data": {
      "text/plain": [
       "13635"
      ]
     },
     "execution_count": 46,
     "metadata": {},
     "output_type": "execute_result"
    }
   ],
   "source": [
    "country_destination_list = df1['country_destination'].drop_duplicates().sort_values().tolist()\n",
    "k_num = y_test.shape[0]\n",
    "country_destination_weights = df1['country_destination'].value_counts(normalize=True).sort_index().tolist()\n",
    "#Model\n",
    "y_hat_random = random.choices( population=country_destination_list,\n",
    "                              weights = country_destination_weights,\n",
    "                              k=k_num)\n",
    "len(y_hat_random)"
   ]
  },
  {
   "cell_type": "code",
   "execution_count": 47,
   "id": "184caad0",
   "metadata": {
    "ExecuteTime": {
     "end_time": "2021-04-13T19:07:47.077889Z",
     "start_time": "2021-04-13T19:07:46.099829Z"
    }
   },
   "outputs": [
    {
     "name": "stdout",
     "output_type": "stream",
     "text": [
      "Accuracy :0.5212321232123213\n",
      "Balanced accuracy : 0.09103415160073416\n",
      "kappa score : 0.004296159552310219\n",
      "              precision    recall  f1-score   support\n",
      "\n",
      "          AU       0.00      0.00      0.00       101\n",
      "          CA       0.00      0.00      0.00       214\n",
      "          DE       0.03      0.04      0.03       170\n",
      "          ES       0.02      0.02      0.02       345\n",
      "          FR       0.05      0.05      0.05       710\n",
      "          GB       0.02      0.02      0.02       344\n",
      "          IT       0.05      0.04      0.04       423\n",
      "          NL       0.00      0.00      0.00       128\n",
      "          PT       0.00      0.00      0.00        36\n",
      "          US       0.71      0.71      0.71      9624\n",
      "       other       0.13      0.13      0.13      1540\n",
      "\n",
      "    accuracy                           0.52     13635\n",
      "   macro avg       0.09      0.09      0.09     13635\n",
      "weighted avg       0.52      0.52      0.52     13635\n",
      "\n"
     ]
    },
    {
     "data": {
      "text/plain": [
       "<AxesSubplot:title={'center':'Confusion Matrix'}, xlabel='Predicted label', ylabel='True label'>"
      ]
     },
     "execution_count": 47,
     "metadata": {},
     "output_type": "execute_result"
    },
    {
     "data": {
      "image/png": "[encoded data removed]",
      "text/plain": [
       "<Figure size 864x864 with 2 Axes>"
      ]
     },
     "metadata": {
      "needs_background": "light"
     },
     "output_type": "display_data"
    }
   ],
   "source": [
    "acc_random = m.accuracy_score( y_test_nn, y_hat_random )\n",
    "print('Accuracy :{}'.format(acc_random ) )\n",
    "\n",
    "# Balanced accuracy\n",
    "balanced_accuracy_random = m.balanced_accuracy_score(y_test_nn, y_hat_random)\n",
    "print('Balanced accuracy : {}'.format( balanced_accuracy_random ))\n",
    "\n",
    "\n",
    "# Kappa Metrics\n",
    "kappa_random = m.cohen_kappa_score(y_test_nn, y_hat_random)\n",
    "print('kappa score : {}'.format( kappa_random ))\n",
    "\n",
    "# classification report\n",
    "print(m.classification_report( y_test_nn, y_hat_random ))\n",
    "\n",
    "#Confusion Matrix \n",
    "mt.plot_confusion_matrix( y_test_nn, y_hat_random, normalize=False , figsize=(12,12) )\n"
   ]
  },
  {
   "cell_type": "markdown",
   "id": "e0c58483",
   "metadata": {
    "heading_collapsed": true
   },
   "source": [
    "### 6.1 Neural Network -MLP"
   ]
  },
  {
   "cell_type": "code",
   "execution_count": 17,
   "id": "a03f1546",
   "metadata": {
    "ExecuteTime": {
     "end_time": "2021-04-13T18:00:45.177170Z",
     "start_time": "2021-04-13T18:00:45.031973Z"
    },
    "hidden": true
   },
   "outputs": [],
   "source": [
    "ohe = pp.OneHotEncoder()\n",
    "y_train_nn = ohe.fit_transform(y_train.values.reshape(-1,1)).toarray()"
   ]
  },
  {
   "cell_type": "code",
   "execution_count": 18,
   "id": "0f439281",
   "metadata": {
    "ExecuteTime": {
     "end_time": "2021-04-13T18:02:43.644518Z",
     "start_time": "2021-04-13T18:00:45.178846Z"
    },
    "hidden": true,
    "scrolled": true
   },
   "outputs": [
    {
     "name": "stdout",
     "output_type": "stream",
     "text": [
      "Epoch 1/100\n",
      "1705/1705 [==============================] - 2s 693us/step - loss: 1.7024 - accuracy: 0.6730\n",
      "Epoch 2/100\n",
      "1705/1705 [==============================] - 1s 694us/step - loss: 1.3111 - accuracy: 0.7076\n",
      "Epoch 3/100\n",
      "1705/1705 [==============================] - 1s 685us/step - loss: 1.2595 - accuracy: 0.7088\n",
      "Epoch 4/100\n",
      "1705/1705 [==============================] - 1s 760us/step - loss: 1.2250 - accuracy: 0.7085\n",
      "Epoch 5/100\n",
      "1705/1705 [==============================] - 1s 800us/step - loss: 1.2023 - accuracy: 0.7119\n",
      "Epoch 6/100\n",
      "1705/1705 [==============================] - 1s 625us/step - loss: 1.1865 - accuracy: 0.7106\n",
      "Epoch 7/100\n",
      "1705/1705 [==============================] - 1s 644us/step - loss: 1.1640 - accuracy: 0.7102\n",
      "Epoch 8/100\n",
      "1705/1705 [==============================] - 1s 620us/step - loss: 1.1574 - accuracy: 0.7087\n",
      "Epoch 9/100\n",
      "1705/1705 [==============================] - 1s 579us/step - loss: 1.1614 - accuracy: 0.7040\n",
      "Epoch 10/100\n",
      "1705/1705 [==============================] - 1s 609us/step - loss: 1.1341 - accuracy: 0.7104\n",
      "Epoch 11/100\n",
      "1705/1705 [==============================] - 1s 598us/step - loss: 1.1414 - accuracy: 0.7057\n",
      "Epoch 12/100\n",
      "1705/1705 [==============================] - 1s 608us/step - loss: 1.1363 - accuracy: 0.7082\n",
      "Epoch 13/100\n",
      "1705/1705 [==============================] - 1s 596us/step - loss: 1.1247 - accuracy: 0.7105\n",
      "Epoch 14/100\n",
      "1705/1705 [==============================] - 1s 605us/step - loss: 1.1378 - accuracy: 0.7069\n",
      "Epoch 15/100\n",
      "1705/1705 [==============================] - 1s 602us/step - loss: 1.1280 - accuracy: 0.7096\n",
      "Epoch 16/100\n",
      "1705/1705 [==============================] - 1s 601us/step - loss: 1.1283 - accuracy: 0.7103\n",
      "Epoch 17/100\n",
      "1705/1705 [==============================] - 1s 600us/step - loss: 1.1293 - accuracy: 0.7092\n",
      "Epoch 18/100\n",
      "1705/1705 [==============================] - 1s 589us/step - loss: 1.1353 - accuracy: 0.7066\n",
      "Epoch 19/100\n",
      "1705/1705 [==============================] - 1s 591us/step - loss: 1.1210 - accuracy: 0.7107\n",
      "Epoch 20/100\n",
      "1705/1705 [==============================] - 1s 600us/step - loss: 1.1266 - accuracy: 0.7095\n",
      "Epoch 21/100\n",
      "1705/1705 [==============================] - 1s 600us/step - loss: 1.1267 - accuracy: 0.7101\n",
      "Epoch 22/100\n",
      "1705/1705 [==============================] - 1s 582us/step - loss: 1.1145 - accuracy: 0.7124\n",
      "Epoch 23/100\n",
      "1705/1705 [==============================] - 1s 604us/step - loss: 1.1157 - accuracy: 0.7114\n",
      "Epoch 24/100\n",
      "1705/1705 [==============================] - 1s 592us/step - loss: 1.1278 - accuracy: 0.7075\n",
      "Epoch 25/100\n",
      "1705/1705 [==============================] - 1s 605us/step - loss: 1.1166 - accuracy: 0.7109\n",
      "Epoch 26/100\n",
      "1705/1705 [==============================] - 1s 605us/step - loss: 1.1270 - accuracy: 0.7078\n",
      "Epoch 27/100\n",
      "1705/1705 [==============================] - 1s 603us/step - loss: 1.1116 - accuracy: 0.7136\n",
      "Epoch 28/100\n",
      "1705/1705 [==============================] - 1s 603us/step - loss: 1.1253 - accuracy: 0.7073\n",
      "Epoch 29/100\n",
      "1705/1705 [==============================] - 1s 605us/step - loss: 1.1154 - accuracy: 0.7123\n",
      "Epoch 30/100\n",
      "1705/1705 [==============================] - 1s 605us/step - loss: 1.1211 - accuracy: 0.7107\n",
      "Epoch 31/100\n",
      "1705/1705 [==============================] - 1s 606us/step - loss: 1.1262 - accuracy: 0.7075\n",
      "Epoch 32/100\n",
      "1705/1705 [==============================] - 1s 600us/step - loss: 1.1113 - accuracy: 0.7114\n",
      "Epoch 33/100\n",
      "1705/1705 [==============================] - 1s 585us/step - loss: 1.1150 - accuracy: 0.7105\n",
      "Epoch 34/100\n",
      "1705/1705 [==============================] - 1s 598us/step - loss: 1.1141 - accuracy: 0.7113\n",
      "Epoch 35/100\n",
      "1705/1705 [==============================] - 1s 605us/step - loss: 1.1094 - accuracy: 0.7132\n",
      "Epoch 36/100\n",
      "1705/1705 [==============================] - 1s 597us/step - loss: 1.1163 - accuracy: 0.7099\n",
      "Epoch 37/100\n",
      "1705/1705 [==============================] - 1s 592us/step - loss: 1.1092 - accuracy: 0.7110\n",
      "Epoch 38/100\n",
      "1705/1705 [==============================] - 1s 607us/step - loss: 1.1098 - accuracy: 0.7113\n",
      "Epoch 39/100\n",
      "1705/1705 [==============================] - 1s 607us/step - loss: 1.1137 - accuracy: 0.7121\n",
      "Epoch 40/100\n",
      "1705/1705 [==============================] - 1s 606us/step - loss: 1.1067 - accuracy: 0.7126\n",
      "Epoch 41/100\n",
      "1705/1705 [==============================] - 1s 606us/step - loss: 1.1127 - accuracy: 0.7103\n",
      "Epoch 42/100\n",
      "1705/1705 [==============================] - 1s 606us/step - loss: 1.1047 - accuracy: 0.7122\n",
      "Epoch 43/100\n",
      "1705/1705 [==============================] - 1s 608us/step - loss: 1.1127 - accuracy: 0.7109\n",
      "Epoch 44/100\n",
      "1705/1705 [==============================] - 1s 607us/step - loss: 1.1038 - accuracy: 0.7120\n",
      "Epoch 45/100\n",
      "1705/1705 [==============================] - 1s 605us/step - loss: 1.1158 - accuracy: 0.7091\n",
      "Epoch 46/100\n",
      "1705/1705 [==============================] - 1s 580us/step - loss: 1.1075 - accuracy: 0.7115\n",
      "Epoch 47/100\n",
      "1705/1705 [==============================] - 1s 605us/step - loss: 1.1149 - accuracy: 0.7087\n",
      "Epoch 48/100\n",
      "1705/1705 [==============================] - 1s 597us/step - loss: 1.1096 - accuracy: 0.7105\n",
      "Epoch 49/100\n",
      "1705/1705 [==============================] - 1s 610us/step - loss: 1.1105 - accuracy: 0.7086\n",
      "Epoch 50/100\n",
      "1705/1705 [==============================] - 1s 608us/step - loss: 1.1120 - accuracy: 0.7092\n",
      "Epoch 51/100\n",
      "1705/1705 [==============================] - 1s 588us/step - loss: 1.1158 - accuracy: 0.7083\n",
      "Epoch 52/100\n",
      "1705/1705 [==============================] - 1s 630us/step - loss: 1.1055 - accuracy: 0.7113\n",
      "Epoch 53/100\n",
      "1705/1705 [==============================] - 1s 614us/step - loss: 1.1010 - accuracy: 0.7123\n",
      "Epoch 54/100\n",
      "1705/1705 [==============================] - 1s 722us/step - loss: 1.1170 - accuracy: 0.7067\n",
      "Epoch 55/100\n",
      "1705/1705 [==============================] - 1s 805us/step - loss: 1.1107 - accuracy: 0.7087\n",
      "Epoch 56/100\n",
      "1705/1705 [==============================] - 1s 806us/step - loss: 1.0955 - accuracy: 0.7138\n",
      "Epoch 57/100\n",
      "1705/1705 [==============================] - 1s 850us/step - loss: 1.1035 - accuracy: 0.7119\n",
      "Epoch 58/100\n",
      "1705/1705 [==============================] - 2s 881us/step - loss: 1.1093 - accuracy: 0.7089\n",
      "Epoch 59/100\n",
      "1705/1705 [==============================] - 1s 730us/step - loss: 1.1111 - accuracy: 0.7085\n",
      "Epoch 60/100\n",
      "1705/1705 [==============================] - 1s 868us/step - loss: 1.1154 - accuracy: 0.7085\n",
      "Epoch 61/100\n",
      "1705/1705 [==============================] - 1s 730us/step - loss: 1.1065 - accuracy: 0.7111\n",
      "Epoch 62/100\n",
      "1705/1705 [==============================] - 1s 780us/step - loss: 1.1018 - accuracy: 0.7123\n",
      "Epoch 63/100\n",
      "1705/1705 [==============================] - 1s 806us/step - loss: 1.1032 - accuracy: 0.7115\n",
      "Epoch 64/100\n",
      "1705/1705 [==============================] - 1s 865us/step - loss: 1.1015 - accuracy: 0.7103\n",
      "Epoch 65/100\n",
      "1705/1705 [==============================] - 1s 865us/step - loss: 1.1072 - accuracy: 0.70950s - loss: 1.1075 - accuracy\n",
      "Epoch 66/100\n",
      "1705/1705 [==============================] - 1s 846us/step - loss: 1.1143 - accuracy: 0.7080\n",
      "Epoch 67/100\n",
      "1705/1705 [==============================] - 1s 666us/step - loss: 1.0951 - accuracy: 0.7146\n",
      "Epoch 68/100\n",
      "1705/1705 [==============================] - 1s 737us/step - loss: 1.1021 - accuracy: 0.7120\n",
      "Epoch 69/100\n",
      "1705/1705 [==============================] - 1s 825us/step - loss: 1.1071 - accuracy: 0.7096\n",
      "Epoch 70/100\n",
      "1705/1705 [==============================] - 1s 868us/step - loss: 1.1086 - accuracy: 0.7091\n",
      "Epoch 71/100\n",
      "1705/1705 [==============================] - 1s 759us/step - loss: 1.1042 - accuracy: 0.7101\n",
      "Epoch 72/100\n",
      "1705/1705 [==============================] - 1s 738us/step - loss: 1.1028 - accuracy: 0.7113\n",
      "Epoch 73/100\n",
      "1705/1705 [==============================] - 2s 884us/step - loss: 1.1051 - accuracy: 0.7114\n",
      "Epoch 74/100\n",
      "1705/1705 [==============================] - 1s 815us/step - loss: 1.1124 - accuracy: 0.7080\n",
      "Epoch 75/100\n",
      "1705/1705 [==============================] - 2s 1ms/step - loss: 1.0884 - accuracy: 0.7148\n",
      "Epoch 76/100\n",
      "1705/1705 [==============================] - 2s 906us/step - loss: 1.1017 - accuracy: 0.7098\n",
      "Epoch 77/100\n",
      "1705/1705 [==============================] - 1s 769us/step - loss: 1.1149 - accuracy: 0.7072\n",
      "Epoch 78/100\n"
     ]
    },
    {
     "name": "stdout",
     "output_type": "stream",
     "text": [
      "1705/1705 [==============================] - 1s 776us/step - loss: 1.1025 - accuracy: 0.7103\n",
      "Epoch 79/100\n",
      "1705/1705 [==============================] - 1s 776us/step - loss: 1.1030 - accuracy: 0.7100\n",
      "Epoch 80/100\n",
      "1705/1705 [==============================] - 1s 755us/step - loss: 1.1042 - accuracy: 0.7103\n",
      "Epoch 81/100\n",
      "1705/1705 [==============================] - 1s 805us/step - loss: 1.0973 - accuracy: 0.7127\n",
      "Epoch 82/100\n",
      "1705/1705 [==============================] - 1s 809us/step - loss: 1.1011 - accuracy: 0.7120\n",
      "Epoch 83/100\n",
      "1705/1705 [==============================] - 1s 758us/step - loss: 1.0997 - accuracy: 0.7112\n",
      "Epoch 84/100\n",
      "1705/1705 [==============================] - 1s 732us/step - loss: 1.1084 - accuracy: 0.7082\n",
      "Epoch 85/100\n",
      "1705/1705 [==============================] - 1s 769us/step - loss: 1.0939 - accuracy: 0.7129\n",
      "Epoch 86/100\n",
      "1705/1705 [==============================] - 1s 732us/step - loss: 1.0945 - accuracy: 0.7134\n",
      "Epoch 87/100\n",
      "1705/1705 [==============================] - 1s 720us/step - loss: 1.0925 - accuracy: 0.7133\n",
      "Epoch 88/100\n",
      "1705/1705 [==============================] - 1s 755us/step - loss: 1.0956 - accuracy: 0.7121\n",
      "Epoch 89/100\n",
      "1705/1705 [==============================] - 1s 744us/step - loss: 1.0931 - accuracy: 0.7131\n",
      "Epoch 90/100\n",
      "1705/1705 [==============================] - 1s 681us/step - loss: 1.0983 - accuracy: 0.7120\n",
      "Epoch 91/100\n",
      "1705/1705 [==============================] - 1s 732us/step - loss: 1.0975 - accuracy: 0.7120\n",
      "Epoch 92/100\n",
      "1705/1705 [==============================] - 1s 750us/step - loss: 1.0913 - accuracy: 0.7138\n",
      "Epoch 93/100\n",
      "1705/1705 [==============================] - 1s 656us/step - loss: 1.1061 - accuracy: 0.7099\n",
      "Epoch 94/100\n",
      "1705/1705 [==============================] - 1s 710us/step - loss: 1.0992 - accuracy: 0.7110\n",
      "Epoch 95/100\n",
      "1705/1705 [==============================] - 1s 733us/step - loss: 1.1005 - accuracy: 0.7103\n",
      "Epoch 96/100\n",
      "1705/1705 [==============================] - 1s 647us/step - loss: 1.1023 - accuracy: 0.7101\n",
      "Epoch 97/100\n",
      "1705/1705 [==============================] - 1s 645us/step - loss: 1.0838 - accuracy: 0.7163\n",
      "Epoch 98/100\n",
      "1705/1705 [==============================] - 1s 675us/step - loss: 1.1038 - accuracy: 0.7111\n",
      "Epoch 99/100\n",
      "1705/1705 [==============================] - 1s 734us/step - loss: 1.0907 - accuracy: 0.7133\n",
      "Epoch 100/100\n",
      "1705/1705 [==============================] - 1s 813us/step - loss: 1.0973 - accuracy: 0.7125\n"
     ]
    },
    {
     "data": {
      "text/plain": [
       "<tensorflow.python.keras.callbacks.History at 0x7fe9b2d06b20>"
      ]
     },
     "execution_count": 18,
     "metadata": {},
     "output_type": "execute_result"
    }
   ],
   "source": [
    "#model definition\n",
    "model = ml.Sequential()\n",
    "model.add( l.Dense( 128, input_dim= x_train.shape[1], activation='relu' ) )\n",
    "model.add( l.Dense( 11, activation='softmax' ) )\n",
    "\n",
    "#model compile\n",
    "model.compile(loss='categorical_crossentropy', optimizer='adam', metrics=['accuracy'] )\n",
    "\n",
    "#train model\n",
    "model.fit( x_train, y_train_nn, epochs=100 )"
   ]
  },
  {
   "cell_type": "markdown",
   "id": "b375a70f",
   "metadata": {},
   "source": [
    "## 7.0 MM Performance"
   ]
  },
  {
   "cell_type": "code",
   "execution_count": 19,
   "id": "d9b9525b",
   "metadata": {
    "ExecuteTime": {
     "end_time": "2021-04-13T18:02:43.945201Z",
     "start_time": "2021-04-13T18:02:43.645661Z"
    }
   },
   "outputs": [],
   "source": [
    "#prediction\n",
    "pred_nn = model.predict( x_test )\n",
    "\n",
    "#invert prediction\n",
    "y_hat_nn = ohe.inverse_transform( pred_nn )\n",
    "\n",
    "#prediction prepare\n",
    "y_test_nn = y_test.to_numpy()\n",
    "y_hat_nn = y_hat_nn.reshape( 1 , -1)[0] "
   ]
  },
  {
   "cell_type": "code",
   "execution_count": 20,
   "id": "3b8799ac",
   "metadata": {
    "ExecuteTime": {
     "end_time": "2021-04-13T18:02:45.173678Z",
     "start_time": "2021-04-13T18:02:43.946338Z"
    }
   },
   "outputs": [
    {
     "name": "stdout",
     "output_type": "stream",
     "text": [
      "Accuracy :0.7044371103777044\n",
      "Balanced accuracy : 0.09197567891377427\n",
      "kappa score : 0.0037431079179897075\n"
     ]
    },
    {
     "name": "stderr",
     "output_type": "stream",
     "text": [
      "/home/tulio/.pyenv/versions/3.8.0/envs/projetosportfolio/lib/python3.8/site-packages/sklearn/metrics/_classification.py:1245: UndefinedMetricWarning: Precision and F-score are ill-defined and being set to 0.0 in labels with no predicted samples. Use `zero_division` parameter to control this behavior.\n",
      "  _warn_prf(average, modifier, msg_start, len(result))\n",
      "/home/tulio/.pyenv/versions/3.8.0/envs/projetosportfolio/lib/python3.8/site-packages/sklearn/metrics/_classification.py:1245: UndefinedMetricWarning: Precision and F-score are ill-defined and being set to 0.0 in labels with no predicted samples. Use `zero_division` parameter to control this behavior.\n",
      "  _warn_prf(average, modifier, msg_start, len(result))\n",
      "/home/tulio/.pyenv/versions/3.8.0/envs/projetosportfolio/lib/python3.8/site-packages/sklearn/metrics/_classification.py:1245: UndefinedMetricWarning: Precision and F-score are ill-defined and being set to 0.0 in labels with no predicted samples. Use `zero_division` parameter to control this behavior.\n",
      "  _warn_prf(average, modifier, msg_start, len(result))\n"
     ]
    },
    {
     "name": "stdout",
     "output_type": "stream",
     "text": [
      "              precision    recall  f1-score   support\n",
      "\n",
      "          AU       0.00      0.00      0.00       101\n",
      "          CA       0.00      0.00      0.00       214\n",
      "          DE       0.17      0.01      0.01       170\n",
      "          ES       0.00      0.00      0.00       345\n",
      "          FR       0.25      0.00      0.00       710\n",
      "          GB       0.00      0.00      0.00       344\n",
      "          IT       0.11      0.00      0.00       423\n",
      "          NL       0.00      0.00      0.00       128\n",
      "          PT       0.00      0.00      0.00        36\n",
      "          US       0.71      1.00      0.83      9624\n",
      "       other       0.28      0.01      0.01      1540\n",
      "\n",
      "    accuracy                           0.70     13635\n",
      "   macro avg       0.14      0.09      0.08     13635\n",
      "weighted avg       0.55      0.70      0.59     13635\n",
      "\n"
     ]
    },
    {
     "data": {
      "text/plain": [
       "<AxesSubplot:title={'center':'Confusion Matrix'}, xlabel='Predicted label', ylabel='True label'>"
      ]
     },
     "execution_count": 20,
     "metadata": {},
     "output_type": "execute_result"
    },
    {
     "data": {
      "image/png": "[encoded data removed]",
      "text/plain": [
       "<Figure size 864x864 with 2 Axes>"
      ]
     },
     "metadata": {
      "needs_background": "light"
     },
     "output_type": "display_data"
    }
   ],
   "source": [
    "#Accuracy\n",
    "acc_nn = m.accuracy_score( y_test_nn, y_hat_nn )\n",
    "print('Accuracy :{}'.format(acc_nn))\n",
    "\n",
    "# Balanced accuracy\n",
    "balanced_accuracy_nn = m.balanced_accuracy_score(y_test_nn, y_hat_nn)\n",
    "print('Balanced accuracy : {}'.format( balanced_accuracy_nn ))\n",
    "\n",
    "\n",
    "# Kappa Metrics\n",
    "kappa_nn = m.cohen_kappa_score(y_test_nn, y_hat_nn)\n",
    "print('kappa score : {}'.format( kappa_nn ))\n",
    "\n",
    "# classification report\n",
    "print(m.classification_report( y_test_nn, y_hat_nn ))\n",
    "\n",
    "#Confusion Matrix \n",
    "mt.plot_confusion_matrix( y_test_nn, y_hat_nn, normalize=False , figsize=(12,12) )\n"
   ]
  }
 ],
 "metadata": {
  "kernelspec": {
   "display_name": "Python 3",
   "language": "python",
   "name": "python3"
  },
  "language_info": {
   "codemirror_mode": {
    "name": "ipython",
    "version": 3
   },
   "file_extension": ".py",
   "mimetype": "text/x-python",
   "name": "python",
   "nbconvert_exporter": "python",
   "pygments_lexer": "ipython3",
   "version": "3.8.0"
  }
 },
 "nbformat": 4,
 "nbformat_minor": 5
}
