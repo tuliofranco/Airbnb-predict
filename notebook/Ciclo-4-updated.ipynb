{
 "cells": [
  {
   "cell_type": "markdown",
   "id": "21fa6a28",
   "metadata": {},
   "source": [
    "# <font color='blue'> Ciclo-1 end to end </font>"
   ]
  },
  {
   "cell_type": "markdown",
   "id": "32d80aab",
   "metadata": {},
   "source": [
    "## 1.0 Data Informations"
   ]
  },
  {
   "cell_type": "markdown",
   "id": "74942135",
   "metadata": {
    "heading_collapsed": true
   },
   "source": [
    "### 1.1 IMPORTS"
   ]
  },
  {
   "cell_type": "code",
   "execution_count": 1,
   "id": "d4263eb4",
   "metadata": {
    "ExecuteTime": {
     "end_time": "2021-04-15T14:09:43.033555Z",
     "start_time": "2021-04-15T14:09:40.470662Z"
    },
    "hidden": true
   },
   "outputs": [],
   "source": [
    "import random\n",
    "\n",
    "\n",
    "import numpy            as np\n",
    "import pandas           as pd\n",
    "import matplotlib       as plt\n",
    "import seaborn          as sns \n",
    "\n",
    "\n",
    "\n",
    "from      scikitplot   import              metrics                  as     mt\n",
    "from      sklearn      import              metrics                  as     m\n",
    "from      sklearn      import              preprocessing            as     pp\n",
    "from      keras        import              layers                   as     l\n",
    "from      keras        import              models                   as     ml\n",
    "from      sklearn      import              model_selection          as     ms"
   ]
  },
  {
   "cell_type": "markdown",
   "id": "b68939fe",
   "metadata": {
    "heading_collapsed": true
   },
   "source": [
    "### 1.2 Helper functions"
   ]
  },
  {
   "cell_type": "markdown",
   "id": "512f788b",
   "metadata": {
    "heading_collapsed": true
   },
   "source": [
    "### 1.3 Loading data"
   ]
  },
  {
   "cell_type": "code",
   "execution_count": 2,
   "id": "766a5caa",
   "metadata": {
    "ExecuteTime": {
     "end_time": "2021-04-15T14:09:43.545601Z",
     "start_time": "2021-04-15T14:09:43.036402Z"
    },
    "hidden": true
   },
   "outputs": [],
   "source": [
    "# Training data\n",
    "data_raw    = pd.read_csv('dataset/training_users.csv', low_memory=True)"
   ]
  },
  {
   "cell_type": "code",
   "execution_count": 3,
   "id": "4b17bf8d",
   "metadata": {
    "ExecuteTime": {
     "end_time": "2021-04-15T14:09:51.811132Z",
     "start_time": "2021-04-15T14:09:43.549308Z"
    },
    "hidden": true
   },
   "outputs": [],
   "source": [
    "# Sessions data\n",
    "df_sessions = pd.read_csv('dataset/sessions.csv',low_memory=True)"
   ]
  },
  {
   "cell_type": "markdown",
   "id": "c569a19a",
   "metadata": {},
   "source": [
    "## 2.0 Data Description "
   ]
  },
  {
   "cell_type": "markdown",
   "id": "e4b0b995",
   "metadata": {
    "heading_collapsed": true
   },
   "source": [
    "### 2.1 Data Dimentions"
   ]
  },
  {
   "cell_type": "markdown",
   "id": "52d29ee8",
   "metadata": {
    "heading_collapsed": true,
    "hidden": true
   },
   "source": [
    "#### 2.1.1 Data Training "
   ]
  },
  {
   "cell_type": "code",
   "execution_count": 4,
   "id": "498ac781",
   "metadata": {
    "ExecuteTime": {
     "end_time": "2021-04-15T14:09:51.838894Z",
     "start_time": "2021-04-15T14:09:51.812785Z"
    },
    "hidden": true
   },
   "outputs": [],
   "source": [
    "df1 = data_raw.copy()"
   ]
  },
  {
   "cell_type": "code",
   "execution_count": 5,
   "id": "05a01b4f",
   "metadata": {
    "ExecuteTime": {
     "end_time": "2021-04-15T14:09:51.976983Z",
     "start_time": "2021-04-15T14:09:51.841968Z"
    },
    "hidden": true
   },
   "outputs": [
    {
     "name": "stdout",
     "output_type": "stream",
     "text": [
      "Number of rows: 213451\n",
      "Number of columns: 16\n"
     ]
    }
   ],
   "source": [
    "print( 'Number of rows: {}'.format( df1.shape[0] ) )\n",
    "print( 'Number of columns: {}'.format( df1.shape[1] ) )"
   ]
  },
  {
   "cell_type": "markdown",
   "id": "d7338b89",
   "metadata": {
    "heading_collapsed": true,
    "hidden": true
   },
   "source": [
    "#### 2.1.2 Data Sessions"
   ]
  },
  {
   "cell_type": "code",
   "execution_count": 6,
   "id": "78a62f27",
   "metadata": {
    "ExecuteTime": {
     "end_time": "2021-04-15T14:09:52.462896Z",
     "start_time": "2021-04-15T14:09:51.979003Z"
    },
    "hidden": true
   },
   "outputs": [],
   "source": [
    "dfs_1 = df_sessions.copy()"
   ]
  },
  {
   "cell_type": "code",
   "execution_count": 7,
   "id": "ad688375",
   "metadata": {
    "ExecuteTime": {
     "end_time": "2021-04-15T14:09:52.469278Z",
     "start_time": "2021-04-15T14:09:52.465154Z"
    },
    "hidden": true
   },
   "outputs": [
    {
     "name": "stdout",
     "output_type": "stream",
     "text": [
      "Number of rows: 10567737\n",
      "Number of columns: 6\n"
     ]
    }
   ],
   "source": [
    "print( 'Number of rows: {}'.format( dfs_1.shape[0] ) )\n",
    "print( 'Number of columns: {}'.format( dfs_1.shape[1] ) )"
   ]
  },
  {
   "cell_type": "markdown",
   "id": "ef55bfa1",
   "metadata": {
    "heading_collapsed": true
   },
   "source": [
    "### 2.2 Data Type"
   ]
  },
  {
   "cell_type": "code",
   "execution_count": 8,
   "id": "4931c789",
   "metadata": {
    "ExecuteTime": {
     "end_time": "2021-04-15T14:09:52.623643Z",
     "start_time": "2021-04-15T14:09:52.471408Z"
    },
    "hidden": true
   },
   "outputs": [
    {
     "data": {
      "text/plain": [
       "id                          object\n",
       "date_account_created        object\n",
       "timestamp_first_active       int64\n",
       "date_first_booking          object\n",
       "gender                      object\n",
       "age                        float64\n",
       "signup_method               object\n",
       "signup_flow                  int64\n",
       "language                    object\n",
       "affiliate_channel           object\n",
       "affiliate_provider          object\n",
       "first_affiliate_tracked     object\n",
       "signup_app                  object\n",
       "first_device_type           object\n",
       "first_browser               object\n",
       "country_destination         object\n",
       "dtype: object"
      ]
     },
     "execution_count": 8,
     "metadata": {},
     "output_type": "execute_result"
    }
   ],
   "source": [
    "# ================Dtypes Data Training================= # \n",
    "df1.dtypes"
   ]
  },
  {
   "cell_type": "code",
   "execution_count": 9,
   "id": "168b5ce1",
   "metadata": {
    "ExecuteTime": {
     "end_time": "2021-04-15T14:09:52.753796Z",
     "start_time": "2021-04-15T14:09:52.625313Z"
    },
    "hidden": true
   },
   "outputs": [
    {
     "data": {
      "text/plain": [
       "user_id           object\n",
       "action            object\n",
       "action_type       object\n",
       "action_detail     object\n",
       "device_type       object\n",
       "secs_elapsed     float64\n",
       "dtype: object"
      ]
     },
     "execution_count": 9,
     "metadata": {},
     "output_type": "execute_result"
    }
   ],
   "source": [
    "# ================Dtypes Data Sessions================= #\n",
    "dfs_1.dtypes"
   ]
  },
  {
   "cell_type": "markdown",
   "id": "7cfd3aa9",
   "metadata": {
    "heading_collapsed": true
   },
   "source": [
    "### 2.3 NA Check"
   ]
  },
  {
   "cell_type": "code",
   "execution_count": 10,
   "id": "59c8a2b2",
   "metadata": {
    "ExecuteTime": {
     "end_time": "2021-04-15T14:09:53.021090Z",
     "start_time": "2021-04-15T14:09:52.755930Z"
    },
    "hidden": true
   },
   "outputs": [
    {
     "data": {
      "text/plain": [
       "id                              0\n",
       "date_account_created            0\n",
       "timestamp_first_active          0\n",
       "date_first_booking         124543\n",
       "gender                          0\n",
       "age                         87990\n",
       "signup_method                   0\n",
       "signup_flow                     0\n",
       "language                        0\n",
       "affiliate_channel               0\n",
       "affiliate_provider              0\n",
       "first_affiliate_tracked      6065\n",
       "signup_app                      0\n",
       "first_device_type               0\n",
       "first_browser                   0\n",
       "country_destination             0\n",
       "dtype: int64"
      ]
     },
     "execution_count": 10,
     "metadata": {},
     "output_type": "execute_result"
    }
   ],
   "source": [
    "# ================Data Sessions================= #\n",
    "df1.isna().sum()"
   ]
  },
  {
   "cell_type": "code",
   "execution_count": 11,
   "id": "df983188",
   "metadata": {
    "ExecuteTime": {
     "end_time": "2021-04-15T14:09:55.573883Z",
     "start_time": "2021-04-15T14:09:53.023232Z"
    },
    "hidden": true
   },
   "outputs": [
    {
     "data": {
      "text/plain": [
       "user_id            34496\n",
       "action             79626\n",
       "action_type      1126204\n",
       "action_detail    1126204\n",
       "device_type            0\n",
       "secs_elapsed      136031\n",
       "dtype: int64"
      ]
     },
     "execution_count": 11,
     "metadata": {},
     "output_type": "execute_result"
    }
   ],
   "source": [
    "# ================Data Sessions================= #\n",
    "dfs_1.isna().sum()"
   ]
  },
  {
   "cell_type": "code",
   "execution_count": 12,
   "id": "78f36692",
   "metadata": {
    "ExecuteTime": {
     "end_time": "2021-04-15T14:10:01.227014Z",
     "start_time": "2021-04-15T14:09:55.575703Z"
    },
    "hidden": true
   },
   "outputs": [],
   "source": [
    "# Fill NA\n",
    "\n",
    "##==================================      Users       ==================================##\n",
    "# date_first_booking\n",
    "date_first_booking_max = pd.to_datetime(df1['date_first_booking']).max().strftime( '%Y-%m-%d' )\n",
    "df1['date_first_booking'] = df1['date_first_booking'].fillna(date_first_booking_max)\n",
    "# age\n",
    "avg_age = df1['age'].mean().astype(int)\n",
    "df1['age'] = df1['age'].fillna(avg_age)\n",
    "# first_affiliate_tracked\n",
    "df1 = df1[~df1['first_affiliate_tracked'].isna()]\n",
    "\n",
    "##==================================      Sessions       ==================================##\n",
    "# user_id\n",
    "dfs_1 = dfs_1[~dfs_1['user_id'].isna()]\n",
    "# action\n",
    "dfs_1 = dfs_1[~dfs_1['action'].isna()]\n",
    "# action_type\n",
    "dfs_1 = dfs_1[~dfs_1['action_type'].isna()]\n",
    "# action_detail\n",
    "dfs_1 = dfs_1[~dfs_1['action_detail'].isna()]\n",
    "# secs_elapsed\n",
    "dfs_1 = dfs_1[~dfs_1['secs_elapsed'].isna()]"
   ]
  },
  {
   "cell_type": "code",
   "execution_count": 13,
   "id": "76e0d0ba",
   "metadata": {
    "ExecuteTime": {
     "end_time": "2021-04-15T14:10:01.371243Z",
     "start_time": "2021-04-15T14:10:01.229612Z"
    },
    "hidden": true
   },
   "outputs": [
    {
     "data": {
      "text/plain": [
       "id                         0\n",
       "date_account_created       0\n",
       "timestamp_first_active     0\n",
       "date_first_booking         0\n",
       "gender                     0\n",
       "age                        0\n",
       "signup_method              0\n",
       "signup_flow                0\n",
       "language                   0\n",
       "affiliate_channel          0\n",
       "affiliate_provider         0\n",
       "first_affiliate_tracked    0\n",
       "signup_app                 0\n",
       "first_device_type          0\n",
       "first_browser              0\n",
       "country_destination        0\n",
       "dtype: int64"
      ]
     },
     "execution_count": 13,
     "metadata": {},
     "output_type": "execute_result"
    }
   ],
   "source": [
    "##==================================      Users       ==================================##\n",
    "df1.isna().sum()"
   ]
  },
  {
   "cell_type": "code",
   "execution_count": 14,
   "id": "7ef32702",
   "metadata": {
    "ExecuteTime": {
     "end_time": "2021-04-15T14:10:03.747893Z",
     "start_time": "2021-04-15T14:10:01.373426Z"
    },
    "hidden": true
   },
   "outputs": [
    {
     "data": {
      "text/plain": [
       "user_id          0.0\n",
       "action           0.0\n",
       "action_type      0.0\n",
       "action_detail    0.0\n",
       "device_type      0.0\n",
       "secs_elapsed     0.0\n",
       "dtype: float64"
      ]
     },
     "execution_count": 14,
     "metadata": {},
     "output_type": "execute_result"
    }
   ],
   "source": [
    "##==================================      Sessions       ==================================##\n",
    "dfs_1.isna().sum()/len(dfs_1)"
   ]
  },
  {
   "cell_type": "markdown",
   "id": "822ec918",
   "metadata": {
    "heading_collapsed": true
   },
   "source": [
    "### 2.4 Change data types"
   ]
  },
  {
   "cell_type": "code",
   "execution_count": 15,
   "id": "7755ac59",
   "metadata": {
    "ExecuteTime": {
     "end_time": "2021-04-15T14:10:03.887858Z",
     "start_time": "2021-04-15T14:10:03.749802Z"
    },
    "hidden": true
   },
   "outputs": [],
   "source": [
    "#date_account_created\n",
    "df1['date_account_created'] = pd.to_datetime( df1['date_account_created'] )\n",
    "\n",
    "#timestamp_first_active\n",
    "df1['timestamp_first_active'] = pd.to_datetime( df1['timestamp_first_active'] )\n",
    "\n",
    "#date_first_booking\n",
    "df1['date_first_booking'] = pd.to_datetime( df1['date_first_booking'] )\n",
    "\n",
    "#age\n",
    "df1['age'] = df1['age'].astype( int )"
   ]
  },
  {
   "cell_type": "markdown",
   "id": "b04dbb81",
   "metadata": {
    "heading_collapsed": true
   },
   "source": [
    "### 2.5 Check balanced data"
   ]
  },
  {
   "cell_type": "code",
   "execution_count": 16,
   "id": "98fdac03",
   "metadata": {
    "ExecuteTime": {
     "end_time": "2021-04-15T14:10:03.929320Z",
     "start_time": "2021-04-15T14:10:03.889893Z"
    },
    "hidden": true
   },
   "outputs": [
    {
     "data": {
      "text/plain": [
       "NDF      0.579673\n",
       "US       0.294461\n",
       "other    0.048128\n",
       "FR       0.023623\n",
       "IT       0.013458\n",
       "GB       0.011066\n",
       "ES       0.010671\n",
       "CA       0.006707\n",
       "DE       0.005020\n",
       "NL       0.003621\n",
       "AU       0.002541\n",
       "PT       0.001032\n",
       "Name: country_destination, dtype: float64"
      ]
     },
     "execution_count": 16,
     "metadata": {},
     "output_type": "execute_result"
    }
   ],
   "source": [
    "df1['country_destination'].value_counts( normalize=True )"
   ]
  },
  {
   "cell_type": "markdown",
   "id": "2bd7931e",
   "metadata": {
    "heading_collapsed": true
   },
   "source": [
    "## 3.0 Data filtering"
   ]
  },
  {
   "cell_type": "code",
   "execution_count": 17,
   "id": "594ab891",
   "metadata": {
    "ExecuteTime": {
     "end_time": "2021-04-15T14:10:04.061273Z",
     "start_time": "2021-04-15T14:10:03.933599Z"
    },
    "hidden": true
   },
   "outputs": [],
   "source": [
    "df2 = df1.copy()"
   ]
  },
  {
   "cell_type": "markdown",
   "id": "0682ffa6",
   "metadata": {
    "heading_collapsed": true,
    "hidden": true
   },
   "source": [
    "### 3.1 Filtering rows"
   ]
  },
  {
   "cell_type": "markdown",
   "id": "63f3c1e5",
   "metadata": {
    "heading_collapsed": true,
    "hidden": true
   },
   "source": [
    "### 3.2 Columns selection"
   ]
  },
  {
   "cell_type": "markdown",
   "id": "387c60c0",
   "metadata": {
    "heading_collapsed": true
   },
   "source": [
    "## 4.0 Data Preparation "
   ]
  },
  {
   "cell_type": "code",
   "execution_count": 18,
   "id": "99376def",
   "metadata": {
    "ExecuteTime": {
     "end_time": "2021-04-15T14:10:04.209625Z",
     "start_time": "2021-04-15T14:10:04.063213Z"
    },
    "hidden": true
   },
   "outputs": [],
   "source": [
    "df3 = df2.copy()"
   ]
  },
  {
   "cell_type": "code",
   "execution_count": 19,
   "id": "4d47f231",
   "metadata": {
    "ExecuteTime": {
     "end_time": "2021-04-15T14:10:04.600377Z",
     "start_time": "2021-04-15T14:10:04.211536Z"
    },
    "hidden": true
   },
   "outputs": [],
   "source": [
    "#dummy variable\n",
    "df3_dummy =   pd.get_dummies( df3.drop ( ['id','country_destination'] , axis=1 ) ) \n",
    "\n",
    "#join id and country destination\n",
    "df3 = pd.concat( [df3 [['id','country_destination']] ,df3_dummy], axis=1 )"
   ]
  },
  {
   "cell_type": "markdown",
   "id": "d4726c82",
   "metadata": {
    "heading_collapsed": true
   },
   "source": [
    "## 5.0 Feature Selection"
   ]
  },
  {
   "cell_type": "code",
   "execution_count": 20,
   "id": "96f041e3",
   "metadata": {
    "ExecuteTime": {
     "end_time": "2021-04-15T14:10:04.635657Z",
     "start_time": "2021-04-15T14:10:04.602003Z"
    },
    "hidden": true
   },
   "outputs": [],
   "source": [
    "cols_drop = ['date_account_created','timestamp_first_active','date_first_booking']\n",
    "df4 = df3.drop( cols_drop, axis=1 )"
   ]
  },
  {
   "cell_type": "code",
   "execution_count": 21,
   "id": "47b76144",
   "metadata": {
    "ExecuteTime": {
     "end_time": "2021-04-15T14:10:04.747861Z",
     "start_time": "2021-04-15T14:10:04.637244Z"
    },
    "hidden": true
   },
   "outputs": [],
   "source": [
    "X = df4.drop( 'country_destination', axis=1 )\n",
    "y = df4['country_destination'].copy()"
   ]
  },
  {
   "cell_type": "code",
   "execution_count": 22,
   "id": "90e3b2b6",
   "metadata": {
    "ExecuteTime": {
     "end_time": "2021-04-15T14:10:05.071253Z",
     "start_time": "2021-04-15T14:10:04.749467Z"
    },
    "hidden": true
   },
   "outputs": [],
   "source": [
    "# split dataset into training and test\n",
    "X_train, X_test,y_train, y_test =  ms.train_test_split( X , y, test_size=0.2, random_state=32 )"
   ]
  },
  {
   "cell_type": "markdown",
   "id": "b8e0a658",
   "metadata": {},
   "source": [
    "## 6.0 Machine Learning Model"
   ]
  },
  {
   "cell_type": "code",
   "execution_count": 23,
   "id": "fab78d9c",
   "metadata": {
    "ExecuteTime": {
     "end_time": "2021-04-15T14:10:05.090082Z",
     "start_time": "2021-04-15T14:10:05.072753Z"
    }
   },
   "outputs": [],
   "source": [
    "x_train = X_train.drop('id', axis=1)\n",
    "x_test = X_test.drop('id', axis=1)"
   ]
  },
  {
   "cell_type": "markdown",
   "id": "c6a8ffb7",
   "metadata": {
    "heading_collapsed": true
   },
   "source": [
    "### 6.1 Baseline Model"
   ]
  },
  {
   "cell_type": "code",
   "execution_count": 24,
   "id": "a4d3d748",
   "metadata": {
    "ExecuteTime": {
     "end_time": "2021-04-15T14:10:05.254445Z",
     "start_time": "2021-04-15T14:10:05.091978Z"
    },
    "hidden": true
   },
   "outputs": [
    {
     "data": {
      "text/plain": [
       "41478"
      ]
     },
     "execution_count": 24,
     "metadata": {},
     "output_type": "execute_result"
    }
   ],
   "source": [
    "country_destination_list = df1['country_destination'].drop_duplicates().sort_values().tolist()\n",
    "k_num = y_test.shape[0]\n",
    "country_destination_weights = df1['country_destination'].value_counts(normalize=True).sort_index().tolist()\n",
    "#Model\n",
    "y_hat_random = random.choices( population=country_destination_list,\n",
    "                              weights = country_destination_weights,\n",
    "                              k=k_num)\n",
    "len(y_hat_random)"
   ]
  },
  {
   "cell_type": "code",
   "execution_count": 25,
   "id": "184caad0",
   "metadata": {
    "ExecuteTime": {
     "end_time": "2021-04-15T14:10:08.024706Z",
     "start_time": "2021-04-15T14:10:05.256267Z"
    },
    "hidden": true
   },
   "outputs": [
    {
     "name": "stdout",
     "output_type": "stream",
     "text": [
      "Accuracy :0.42309175948695693\n",
      "Balanced accuracy : 0.08260972901803255\n",
      "kappa score : -0.007159527835014945\n",
      "              precision    recall  f1-score   support\n",
      "\n",
      "          AU       0.00      0.00      0.00       111\n",
      "          CA       0.01      0.01      0.01       281\n",
      "          DE       0.00      0.00      0.00       215\n",
      "          ES       0.02      0.02      0.02       428\n",
      "          FR       0.02      0.02      0.02      1021\n",
      "          GB       0.01      0.01      0.01       426\n",
      "          IT       0.02      0.02      0.02       570\n",
      "         NDF       0.57      0.58      0.58     23996\n",
      "          NL       0.01      0.01      0.01       146\n",
      "          PT       0.00      0.00      0.00        48\n",
      "          US       0.29      0.29      0.29     12280\n",
      "       other       0.05      0.05      0.05      1956\n",
      "\n",
      "    accuracy                           0.42     41478\n",
      "   macro avg       0.08      0.08      0.08     41478\n",
      "weighted avg       0.42      0.42      0.42     41478\n",
      "\n"
     ]
    },
    {
     "data": {
      "text/plain": [
       "<AxesSubplot:title={'center':'Confusion Matrix'}, xlabel='Predicted label', ylabel='True label'>"
      ]
     },
     "execution_count": 25,
     "metadata": {},
     "output_type": "execute_result"
    },
    {
     "data": {
      "image/png": "[encoded data removed]",
      "text/plain": [
       "<Figure size 864x864 with 2 Axes>"
      ]
     },
     "metadata": {
      "needs_background": "light"
     },
     "output_type": "display_data"
    }
   ],
   "source": [
    "acc_random = m.accuracy_score( y_test, y_hat_random )\n",
    "print('Accuracy :{}'.format(acc_random ) )\n",
    "\n",
    "# Balanced accuracy\n",
    "balanced_accuracy_random = m.balanced_accuracy_score(y_test, y_hat_random)\n",
    "print('Balanced accuracy : {}'.format( balanced_accuracy_random ))\n",
    "\n",
    "\n",
    "# Kappa Metrics\n",
    "kappa_random = m.cohen_kappa_score(y_test, y_hat_random)\n",
    "print('kappa score : {}'.format( kappa_random ))\n",
    "\n",
    "# classification report\n",
    "print(m.classification_report( y_test, y_hat_random ))\n",
    "\n",
    "#Confusion Matrix \n",
    "mt.plot_confusion_matrix( y_test, y_hat_random, normalize=False , figsize=(12,12) )\n"
   ]
  },
  {
   "cell_type": "markdown",
   "id": "e0c58483",
   "metadata": {},
   "source": [
    "### 6.1 Neural Network -MLP"
   ]
  },
  {
   "cell_type": "code",
   "execution_count": 26,
   "id": "a03f1546",
   "metadata": {
    "ExecuteTime": {
     "end_time": "2021-04-15T14:10:08.085026Z",
     "start_time": "2021-04-15T14:10:08.026892Z"
    }
   },
   "outputs": [],
   "source": [
    "ohe = pp.OneHotEncoder()\n",
    "y_train_nn = ohe.fit_transform(y_train.values.reshape(-1,1)).toarray()"
   ]
  },
  {
   "cell_type": "code",
   "execution_count": 27,
   "id": "0f439281",
   "metadata": {
    "ExecuteTime": {
     "end_time": "2021-04-15T14:16:04.581251Z",
     "start_time": "2021-04-15T14:10:08.087317Z"
    },
    "scrolled": true
   },
   "outputs": [
    {
     "name": "stdout",
     "output_type": "stream",
     "text": [
      "Epoch 1/100\n",
      "5185/5185 [==============================] - 5s 956us/step - loss: 1.2883 - accuracy: 0.5718\n",
      "Epoch 2/100\n",
      "5185/5185 [==============================] - 5s 918us/step - loss: 1.1360 - accuracy: 0.6121\n",
      "Epoch 3/100\n",
      "5185/5185 [==============================] - 5s 920us/step - loss: 1.0994 - accuracy: 0.6179\n",
      "Epoch 4/100\n",
      "5185/5185 [==============================] - 5s 937us/step - loss: 1.0916 - accuracy: 0.6190\n",
      "Epoch 5/100\n",
      "5185/5185 [==============================] - 5s 942us/step - loss: 1.0847 - accuracy: 0.6223\n",
      "Epoch 6/100\n",
      "5185/5185 [==============================] - 5s 929us/step - loss: 1.0861 - accuracy: 0.6225\n",
      "Epoch 7/100\n",
      "5185/5185 [==============================] - 5s 929us/step - loss: 1.0857 - accuracy: 0.6208\n",
      "Epoch 8/100\n",
      "5185/5185 [==============================] - 5s 923us/step - loss: 1.0807 - accuracy: 0.6239\n",
      "Epoch 9/100\n",
      "5185/5185 [==============================] - 5s 928us/step - loss: 1.0825 - accuracy: 0.6198\n",
      "Epoch 10/100\n",
      "5185/5185 [==============================] - 5s 1ms/step - loss: 1.0819 - accuracy: 0.6245\n",
      "Epoch 11/100\n",
      "5185/5185 [==============================] - 4s 841us/step - loss: 1.0844 - accuracy: 0.6213\n",
      "Epoch 12/100\n",
      "5185/5185 [==============================] - 4s 843us/step - loss: 1.0829 - accuracy: 0.6228\n",
      "Epoch 13/100\n",
      "5185/5185 [==============================] - 4s 842us/step - loss: 1.0849 - accuracy: 0.6208\n",
      "Epoch 14/100\n",
      "5185/5185 [==============================] - 4s 844us/step - loss: 1.0777 - accuracy: 0.6235\n",
      "Epoch 15/100\n",
      "5185/5185 [==============================] - 4s 842us/step - loss: 1.0857 - accuracy: 0.6198\n",
      "Epoch 16/100\n",
      "5185/5185 [==============================] - 4s 792us/step - loss: 1.0829 - accuracy: 0.6217\n",
      "Epoch 17/100\n",
      "5185/5185 [==============================] - 3s 633us/step - loss: 1.0775 - accuracy: 0.6266\n",
      "Epoch 18/100\n",
      "5185/5185 [==============================] - 3s 638us/step - loss: 1.0758 - accuracy: 0.6248\n",
      "Epoch 19/100\n",
      "5185/5185 [==============================] - 3s 637us/step - loss: 1.0763 - accuracy: 0.6245\n",
      "Epoch 20/100\n",
      "5185/5185 [==============================] - 3s 639us/step - loss: 1.0853 - accuracy: 0.6207\n",
      "Epoch 21/100\n",
      "5185/5185 [==============================] - 3s 639us/step - loss: 1.0783 - accuracy: 0.6234\n",
      "Epoch 22/100\n",
      "5185/5185 [==============================] - 3s 636us/step - loss: 1.0758 - accuracy: 0.6243\n",
      "Epoch 23/100\n",
      "5185/5185 [==============================] - 3s 642us/step - loss: 1.0761 - accuracy: 0.6237\n",
      "Epoch 24/100\n",
      "5185/5185 [==============================] - 3s 637us/step - loss: 1.0735 - accuracy: 0.6262\n",
      "Epoch 25/100\n",
      "5185/5185 [==============================] - 3s 642us/step - loss: 1.0777 - accuracy: 0.6232\n",
      "Epoch 26/100\n",
      "5185/5185 [==============================] - 3s 636us/step - loss: 1.0728 - accuracy: 0.6252\n",
      "Epoch 27/100\n",
      "5185/5185 [==============================] - 3s 638us/step - loss: 1.0793 - accuracy: 0.6218\n",
      "Epoch 28/100\n",
      "5185/5185 [==============================] - 3s 653us/step - loss: 1.0733 - accuracy: 0.6248\n",
      "Epoch 29/100\n",
      "5185/5185 [==============================] - 3s 638us/step - loss: 1.0753 - accuracy: 0.6252\n",
      "Epoch 30/100\n",
      "5185/5185 [==============================] - 3s 637us/step - loss: 1.0771 - accuracy: 0.6216\n",
      "Epoch 31/100\n",
      "5185/5185 [==============================] - 3s 636us/step - loss: 1.0756 - accuracy: 0.6256\n",
      "Epoch 32/100\n",
      "5185/5185 [==============================] - 3s 636us/step - loss: 1.0774 - accuracy: 0.6252\n",
      "Epoch 33/100\n",
      "5185/5185 [==============================] - 3s 640us/step - loss: 1.0699 - accuracy: 0.6259\n",
      "Epoch 34/100\n",
      "5185/5185 [==============================] - 3s 637us/step - loss: 1.0725 - accuracy: 0.6258\n",
      "Epoch 35/100\n",
      "5185/5185 [==============================] - 3s 637us/step - loss: 1.0724 - accuracy: 0.6253\n",
      "Epoch 36/100\n",
      "5185/5185 [==============================] - 3s 635us/step - loss: 1.0700 - accuracy: 0.6271\n",
      "Epoch 37/100\n",
      "5185/5185 [==============================] - 3s 647us/step - loss: 1.0711 - accuracy: 0.6258\n",
      "Epoch 38/100\n",
      "5185/5185 [==============================] - 4s 690us/step - loss: 1.0736 - accuracy: 0.6263\n",
      "Epoch 39/100\n",
      "5185/5185 [==============================] - 3s 638us/step - loss: 1.0670 - accuracy: 0.6267\n",
      "Epoch 40/100\n",
      "5185/5185 [==============================] - 3s 637us/step - loss: 1.0695 - accuracy: 0.6257\n",
      "Epoch 41/100\n",
      "5185/5185 [==============================] - 3s 638us/step - loss: 1.0719 - accuracy: 0.6244\n",
      "Epoch 42/100\n",
      "5185/5185 [==============================] - 3s 636us/step - loss: 1.0756 - accuracy: 0.6240\n",
      "Epoch 43/100\n",
      "5185/5185 [==============================] - 3s 638us/step - loss: 1.0701 - accuracy: 0.6264\n",
      "Epoch 44/100\n",
      "5185/5185 [==============================] - 3s 644us/step - loss: 1.0730 - accuracy: 0.6237\n",
      "Epoch 45/100\n",
      "5185/5185 [==============================] - 3s 649us/step - loss: 1.0691 - accuracy: 0.6255\n",
      "Epoch 46/100\n",
      "5185/5185 [==============================] - 3s 644us/step - loss: 1.0690 - accuracy: 0.6267\n",
      "Epoch 47/100\n",
      "5185/5185 [==============================] - 3s 643us/step - loss: 1.0754 - accuracy: 0.6262\n",
      "Epoch 48/100\n",
      "5185/5185 [==============================] - 3s 648us/step - loss: 1.0682 - accuracy: 0.6270\n",
      "Epoch 49/100\n",
      "5185/5185 [==============================] - 3s 646us/step - loss: 1.0720 - accuracy: 0.6267\n",
      "Epoch 50/100\n",
      "5185/5185 [==============================] - 3s 653us/step - loss: 1.0701 - accuracy: 0.6271\n",
      "Epoch 51/100\n",
      "5185/5185 [==============================] - 3s 647us/step - loss: 1.0703 - accuracy: 0.6257\n",
      "Epoch 52/100\n",
      "5185/5185 [==============================] - 3s 645us/step - loss: 1.0692 - accuracy: 0.6267\n",
      "Epoch 53/100\n",
      "5185/5185 [==============================] - 3s 641us/step - loss: 1.0662 - accuracy: 0.6262\n",
      "Epoch 54/100\n",
      "5185/5185 [==============================] - 3s 645us/step - loss: 1.0714 - accuracy: 0.6247\n",
      "Epoch 55/100\n",
      "5185/5185 [==============================] - 3s 644us/step - loss: 1.0682 - accuracy: 0.6274\n",
      "Epoch 56/100\n",
      "5185/5185 [==============================] - 3s 649us/step - loss: 1.0645 - accuracy: 0.6286\n",
      "Epoch 57/100\n",
      "5185/5185 [==============================] - 3s 644us/step - loss: 1.0667 - accuracy: 0.6278\n",
      "Epoch 58/100\n",
      "5185/5185 [==============================] - 3s 644us/step - loss: 1.0673 - accuracy: 0.6262\n",
      "Epoch 59/100\n",
      "5185/5185 [==============================] - 3s 645us/step - loss: 1.0671 - accuracy: 0.6263\n",
      "Epoch 60/100\n",
      "5185/5185 [==============================] - 3s 645us/step - loss: 1.0682 - accuracy: 0.6285\n",
      "Epoch 61/100\n",
      "5185/5185 [==============================] - 3s 646us/step - loss: 1.0655 - accuracy: 0.6278\n",
      "Epoch 62/100\n",
      "5185/5185 [==============================] - 3s 645us/step - loss: 1.0676 - accuracy: 0.6280\n",
      "Epoch 63/100\n",
      "5185/5185 [==============================] - 3s 645us/step - loss: 1.0677 - accuracy: 0.6267\n",
      "Epoch 64/100\n",
      "5185/5185 [==============================] - 3s 650us/step - loss: 1.0670 - accuracy: 0.6269\n",
      "Epoch 65/100\n",
      "5185/5185 [==============================] - 3s 644us/step - loss: 1.0677 - accuracy: 0.6251\n",
      "Epoch 66/100\n",
      "5185/5185 [==============================] - 3s 646us/step - loss: 1.0679 - accuracy: 0.6272\n",
      "Epoch 67/100\n",
      "5185/5185 [==============================] - 3s 643us/step - loss: 1.0640 - accuracy: 0.6292\n",
      "Epoch 68/100\n",
      "5185/5185 [==============================] - 3s 644us/step - loss: 1.0750 - accuracy: 0.6249\n",
      "Epoch 69/100\n",
      "5185/5185 [==============================] - 3s 644us/step - loss: 1.0682 - accuracy: 0.6261\n",
      "Epoch 70/100\n",
      "5185/5185 [==============================] - 3s 644us/step - loss: 1.0685 - accuracy: 0.6269\n",
      "Epoch 71/100\n",
      "5185/5185 [==============================] - 3s 642us/step - loss: 1.0691 - accuracy: 0.6278\n",
      "Epoch 72/100\n",
      "5185/5185 [==============================] - 3s 643us/step - loss: 1.0670 - accuracy: 0.6264\n",
      "Epoch 73/100\n",
      "5185/5185 [==============================] - 3s 652us/step - loss: 1.0677 - accuracy: 0.6260\n",
      "Epoch 74/100\n",
      "5185/5185 [==============================] - 3s 649us/step - loss: 1.0636 - accuracy: 0.6274\n",
      "Epoch 75/100\n",
      "5185/5185 [==============================] - 3s 646us/step - loss: 1.0677 - accuracy: 0.6278\n",
      "Epoch 76/100\n",
      "5185/5185 [==============================] - 3s 651us/step - loss: 1.0602 - accuracy: 0.6287\n",
      "Epoch 77/100\n",
      "5185/5185 [==============================] - 3s 643us/step - loss: 1.0628 - accuracy: 0.6274\n",
      "Epoch 78/100\n"
     ]
    },
    {
     "name": "stdout",
     "output_type": "stream",
     "text": [
      "5185/5185 [==============================] - 3s 649us/step - loss: 1.0607 - accuracy: 0.6307\n",
      "Epoch 79/100\n",
      "5185/5185 [==============================] - 3s 648us/step - loss: 1.0666 - accuracy: 0.6267\n",
      "Epoch 80/100\n",
      "5185/5185 [==============================] - 3s 652us/step - loss: 1.0670 - accuracy: 0.6248\n",
      "Epoch 81/100\n",
      "5185/5185 [==============================] - 3s 641us/step - loss: 1.0689 - accuracy: 0.6260\n",
      "Epoch 82/100\n",
      "5185/5185 [==============================] - 3s 649us/step - loss: 1.0662 - accuracy: 0.6271\n",
      "Epoch 83/100\n",
      "5185/5185 [==============================] - 3s 653us/step - loss: 1.0659 - accuracy: 0.6277\n",
      "Epoch 84/100\n",
      "5185/5185 [==============================] - 3s 646us/step - loss: 1.0648 - accuracy: 0.6279\n",
      "Epoch 85/100\n",
      "5185/5185 [==============================] - 3s 643us/step - loss: 1.0608 - accuracy: 0.6290\n",
      "Epoch 86/100\n",
      "5185/5185 [==============================] - 3s 644us/step - loss: 1.0671 - accuracy: 0.6266\n",
      "Epoch 87/100\n",
      "5185/5185 [==============================] - 3s 645us/step - loss: 1.0652 - accuracy: 0.6271\n",
      "Epoch 88/100\n",
      "5185/5185 [==============================] - 3s 643us/step - loss: 1.0653 - accuracy: 0.6275\n",
      "Epoch 89/100\n",
      "5185/5185 [==============================] - 3s 640us/step - loss: 1.0667 - accuracy: 0.6252\n",
      "Epoch 90/100\n",
      "5185/5185 [==============================] - 3s 643us/step - loss: 1.0617 - accuracy: 0.6292\n",
      "Epoch 91/100\n",
      "5185/5185 [==============================] - 3s 646us/step - loss: 1.0642 - accuracy: 0.6257\n",
      "Epoch 92/100\n",
      "5185/5185 [==============================] - 3s 643us/step - loss: 1.0645 - accuracy: 0.6254\n",
      "Epoch 93/100\n",
      "5185/5185 [==============================] - 3s 642us/step - loss: 1.0707 - accuracy: 0.6247\n",
      "Epoch 94/100\n",
      "5185/5185 [==============================] - 3s 643us/step - loss: 1.0686 - accuracy: 0.6263\n",
      "Epoch 95/100\n",
      "5185/5185 [==============================] - 3s 642us/step - loss: 1.0616 - accuracy: 0.6290\n",
      "Epoch 96/100\n",
      "5185/5185 [==============================] - 3s 645us/step - loss: 1.0636 - accuracy: 0.6277\n",
      "Epoch 97/100\n",
      "5185/5185 [==============================] - 3s 645us/step - loss: 1.0611 - accuracy: 0.6300\n",
      "Epoch 98/100\n",
      "5185/5185 [==============================] - 3s 646us/step - loss: 1.0657 - accuracy: 0.6257\n",
      "Epoch 99/100\n",
      "5185/5185 [==============================] - 4s 682us/step - loss: 1.0670 - accuracy: 0.6257\n",
      "Epoch 100/100\n",
      "5185/5185 [==============================] - 4s 702us/step - loss: 1.0645 - accuracy: 0.6272\n"
     ]
    },
    {
     "data": {
      "text/plain": [
       "<tensorflow.python.keras.callbacks.History at 0x7f5e5428d4f0>"
      ]
     },
     "execution_count": 27,
     "metadata": {},
     "output_type": "execute_result"
    }
   ],
   "source": [
    "#model definition\n",
    "model = ml.Sequential()\n",
    "model.add( l.Dense( 256, input_dim= x_train.shape[1], activation='relu' ) )\n",
    "model.add( l.Dense( 12, activation='softmax' ) )\n",
    "\n",
    "#model compile\n",
    "model.compile(loss='categorical_crossentropy', optimizer='adam', metrics=['accuracy'] )\n",
    "\n",
    "#train model\n",
    "model.fit( x_train, y_train_nn, epochs=100 )"
   ]
  },
  {
   "cell_type": "markdown",
   "id": "b375a70f",
   "metadata": {},
   "source": [
    "### 6.1.2 NN Performance"
   ]
  },
  {
   "cell_type": "code",
   "execution_count": 28,
   "id": "d9b9525b",
   "metadata": {
    "ExecuteTime": {
     "end_time": "2021-04-15T14:16:05.097908Z",
     "start_time": "2021-04-15T14:16:04.582397Z"
    }
   },
   "outputs": [],
   "source": [
    "#prediction\n",
    "pred_nn = model.predict( x_test )\n",
    "\n",
    "#invert prediction\n",
    "y_hat_nn = ohe.inverse_transform( pred_nn )\n",
    "\n",
    "#prediction prepare\n",
    "y_test_nn = y_test.to_numpy()\n",
    "y_hat_nn = y_hat_nn.reshape( 1 , -1)[0] "
   ]
  },
  {
   "cell_type": "code",
   "execution_count": 29,
   "id": "3b8799ac",
   "metadata": {
    "ExecuteTime": {
     "end_time": "2021-04-15T14:16:07.138499Z",
     "start_time": "2021-04-15T14:16:05.099167Z"
    },
    "scrolled": false
   },
   "outputs": [
    {
     "name": "stdout",
     "output_type": "stream",
     "text": [
      "Accuracy :0.6244997347991706\n",
      "Balanced accuracy : 0.10521971431713673\n",
      "kappa score : 0.2233278479842985\n"
     ]
    },
    {
     "name": "stderr",
     "output_type": "stream",
     "text": [
      "/home/tulio/.pyenv/versions/3.8.0/envs/projetosportfolio/lib/python3.8/site-packages/sklearn/metrics/_classification.py:1245: UndefinedMetricWarning: Precision and F-score are ill-defined and being set to 0.0 in labels with no predicted samples. Use `zero_division` parameter to control this behavior.\n",
      "  _warn_prf(average, modifier, msg_start, len(result))\n",
      "/home/tulio/.pyenv/versions/3.8.0/envs/projetosportfolio/lib/python3.8/site-packages/sklearn/metrics/_classification.py:1245: UndefinedMetricWarning: Precision and F-score are ill-defined and being set to 0.0 in labels with no predicted samples. Use `zero_division` parameter to control this behavior.\n",
      "  _warn_prf(average, modifier, msg_start, len(result))\n",
      "/home/tulio/.pyenv/versions/3.8.0/envs/projetosportfolio/lib/python3.8/site-packages/sklearn/metrics/_classification.py:1245: UndefinedMetricWarning: Precision and F-score are ill-defined and being set to 0.0 in labels with no predicted samples. Use `zero_division` parameter to control this behavior.\n",
      "  _warn_prf(average, modifier, msg_start, len(result))\n"
     ]
    },
    {
     "name": "stdout",
     "output_type": "stream",
     "text": [
      "              precision    recall  f1-score   support\n",
      "\n",
      "          AU       0.00      0.00      0.00       111\n",
      "          CA       0.00      0.00      0.00       281\n",
      "          DE       0.00      0.00      0.00       215\n",
      "          ES       0.00      0.00      0.00       428\n",
      "          FR       0.00      0.00      0.00      1021\n",
      "          GB       0.00      0.00      0.00       426\n",
      "          IT       0.00      0.00      0.00       570\n",
      "         NDF       0.66      0.89      0.76     23996\n",
      "          NL       0.00      0.00      0.00       146\n",
      "          PT       0.00      0.00      0.00        48\n",
      "          US       0.51      0.37      0.43     12280\n",
      "       other       0.08      0.00      0.00      1956\n",
      "\n",
      "    accuracy                           0.62     41478\n",
      "   macro avg       0.10      0.11      0.10     41478\n",
      "weighted avg       0.53      0.62      0.56     41478\n",
      "\n"
     ]
    },
    {
     "data": {
      "text/plain": [
       "<AxesSubplot:title={'center':'Confusion Matrix'}, xlabel='Predicted label', ylabel='True label'>"
      ]
     },
     "execution_count": 29,
     "metadata": {},
     "output_type": "execute_result"
    },
    {
     "data": {
      "image/png": "[encoded data removed]",
      "text/plain": [
       "<Figure size 864x864 with 2 Axes>"
      ]
     },
     "metadata": {
      "needs_background": "light"
     },
     "output_type": "display_data"
    }
   ],
   "source": [
    "#Accuracy\n",
    "acc_nn = m.accuracy_score( y_test_nn, y_hat_nn )\n",
    "print('Accuracy :{}'.format(acc_nn))\n",
    "\n",
    "# Balanced accuracy\n",
    "balanced_accuracy_nn = m.balanced_accuracy_score(y_test_nn, y_hat_nn)\n",
    "print('Balanced accuracy : {}'.format( balanced_accuracy_nn ))\n",
    "\n",
    "\n",
    "# Kappa Metrics\n",
    "kappa_nn = m.cohen_kappa_score(y_test_nn, y_hat_nn)\n",
    "print('kappa score : {}'.format( kappa_nn ))\n",
    "\n",
    "# classification report\n",
    "print(m.classification_report( y_test_nn, y_hat_nn ))\n",
    "\n",
    "#Confusion Matrix \n",
    "mt.plot_confusion_matrix( y_test_nn, y_hat_nn, normalize=False , figsize=(12,12) )\n"
   ]
  },
  {
   "cell_type": "markdown",
   "id": "64eb78fb",
   "metadata": {},
   "source": [
    "### 6.1.3 NN Performance - Cross Validation"
   ]
  },
  {
   "cell_type": "code",
   "execution_count": 30,
   "id": "606e00d4",
   "metadata": {
    "ExecuteTime": {
     "end_time": "2021-04-15T14:35:09.579074Z",
     "start_time": "2021-04-15T14:16:07.140397Z"
    },
    "code_folding": []
   },
   "outputs": [
    {
     "name": "stdout",
     "output_type": "stream",
     "text": [
      "Fold Number : 1/5\n",
      "Fold Number : 2/5\n",
      "Fold Number : 3/5\n",
      "Fold Number : 4/5\n",
      "Fold Number : 5/5\n"
     ]
    }
   ],
   "source": [
    "# Generate k-fold\n",
    "num_folds = 5 \n",
    "kfold = ms.StratifiedKFold(n_splits=num_folds, shuffle=True ,random_state=32)\n",
    "kfold.split( x_train, y_train )\n",
    "\n",
    "\n",
    "balanced_acc_list = [] \n",
    "kappa_acc_list    = []\n",
    "\n",
    "i = 1\n",
    "for train_ix, val_ix in kfold.split(x_train,y_train):\n",
    "    print('Fold Number : {}/{}'.format( i , num_folds ))\n",
    "    # get fold\n",
    "    x_train_fold  = x_train.iloc[train_ix]\n",
    "    y_train_fold  = y_train.iloc[train_ix]\n",
    "    \n",
    "    x_val_fold    = x_train.iloc[val_ix]\n",
    "    y_val_fold    = y_train.iloc[val_ix]\n",
    "    \n",
    "    # Target Definition\n",
    "    \n",
    "    ohe = pp.OneHotEncoder()\n",
    "    y_train_fold_nn = ohe.fit_transform( y_train_fold.values.reshape( -1,1 ) ).toarray()\n",
    "\n",
    "    \n",
    "    # Model definition\n",
    "    model = ml.Sequential()\n",
    "    model.add( l.Dense( 256, input_dim=x_train.shape[1], activation='relu' ) )\n",
    "    model.add( l.Dense( 12,  activation='softmax') )\n",
    "    \n",
    "    # Compile Model\n",
    "    model.compile( loss='categorical_crossentropy' , optimizer='adam', metrics=['accuracy'])    \n",
    "    \n",
    "    \n",
    "    # Trainig model \n",
    "    model.fit( x_train_fold, y_train_fold_nn, epochs=100, batch_size=32,verbose=0 )\n",
    "    \n",
    "    \n",
    "    # Prediction\n",
    "    pred_nn  = model.predict(x_val_fold)\n",
    "    y_hat_nn = ohe.inverse_transform(pred_nn)\n",
    "    \n",
    "    \n",
    "    #prepare data\n",
    "    y_test_nn  = y_val_fold.to_numpy()\n",
    "    y_hat_nn  = y_hat_nn.reshape( 1 , -1 )[0]\n",
    "    \n",
    "    # Metrics\n",
    "    ## Balanced Accuracy\n",
    "    balanced_acc_nn   =  m.balanced_accuracy_score( y_test_nn, y_hat_nn)\n",
    "    balanced_acc_list.append(balanced_acc_nn) \n",
    "    ## Kappa Metrics\n",
    "    kappa_acc_nn    =  m.cohen_kappa_score( y_test_nn, y_hat_nn)\n",
    "    kappa_acc_list.append( kappa_acc_nn )\n",
    "    \n",
    "    \n",
    "    i+=1"
   ]
  },
  {
   "cell_type": "code",
   "execution_count": 31,
   "id": "558c58bd",
   "metadata": {
    "ExecuteTime": {
     "end_time": "2021-04-15T14:35:09.584922Z",
     "start_time": "2021-04-15T14:35:09.580468Z"
    }
   },
   "outputs": [
    {
     "name": "stdout",
     "output_type": "stream",
     "text": [
      "Avg Balanced accuracy: 0.106  +/- 0.0008\n",
      "Avg Kappa:             0.226  +/- 0.007\n"
     ]
    }
   ],
   "source": [
    "print('Avg Balanced accuracy: {}  +/- {}'.format(np.round( np.mean( balanced_acc_list ),3),\n",
    "                                                 np.round(np.std  ( balanced_acc_list ),4)))\n",
    "print('Avg Kappa:             {}  +/- {}'.format( np.round ( np.mean ( kappa_acc_list ),3 ),\n",
    "                                                  np.round ( np.std  ( kappa_acc_list ),3 ) ))"
   ]
  }
 ],
 "metadata": {
  "kernelspec": {
   "display_name": "Python 3",
   "language": "python",
   "name": "python3"
  },
  "language_info": {
   "codemirror_mode": {
    "name": "ipython",
    "version": 3
   },
   "file_extension": ".py",
   "mimetype": "text/x-python",
   "name": "python",
   "nbconvert_exporter": "python",
   "pygments_lexer": "ipython3",
   "version": "3.8.0"
  }
 },
 "nbformat": 4,
 "nbformat_minor": 5
}
